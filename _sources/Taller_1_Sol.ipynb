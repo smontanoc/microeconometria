{
 "cells": [
  {
   "cell_type": "markdown",
   "id": "b86bbe2b",
   "metadata": {},
   "source": [
    "# Taller 1\n",
    "\n",
    "El propósito de este taller es prácticar los conceptos básicos de probabilídad y estadística vistos en clase. Los estudiantes pueden trabajar en grupos pero deben entregar sus respuestas de manera individual. Se sugiere resolver y entregar los problemas a mano.\n",
    "\n",
    "El taller se debe entregar el **Lunes 18 de Agosto** antes de la media noche. Deben enviarlo a los correos del equipo pedagógico con el siguiente asunto: \"Taller 1 Microeconometría\". Recuerden incluir su número de estudiante en el correo. "
   ]
  },
  {
   "cell_type": "markdown",
   "id": "5df01950",
   "metadata": {},
   "source": [
    "## Pregunta 1\n",
    "\n",
    "Verifique si la función dada por \n",
    "\n",
    "$$f(x) = \\frac{x + 2}{25}$$\n",
    "\n",
    "cumple las propiedades de una distribución de probabilidad para la variable discreta $X$, que toma valores en $\\{1, 2, 3, 4, 5\\}$."
   ]
  },
  {
   "cell_type": "markdown",
   "id": "fa02c163-187e-4534-a3fd-10c359c4335c",
   "metadata": {},
   "source": [
    "## Solución \n",
    "\n",
    "Evaluamos la función $f(x)$ para cada uno de los valores que toma la variable $X$. De esta manera, $f(1) = \\frac{3}{25}$, $f(2) = \\frac{4}{25}$, $f(3) = \\frac{5}{25}$, $f(4) = \\frac{6}{25}$, y $f(5) = \\frac{7}{25}$. Sumamos luego cada uno esto valores y determinamos que $f(1) + f(2) + f(3) + f(4) + f(5) = 1$.\n",
    "\n",
    "Dado que $\\forall x, f(x) \\geq 0$ y $\\sum_{x \\in X} f(x) = 1$, entonces podemos concluri que la función $f(x)$ es una distribución de probabilidad para la variable $X$ que toma valores $x \\in \\{1,2,3,4,5\\}$."
   ]
  },
  {
   "cell_type": "markdown",
   "id": "b996d5b9",
   "metadata": {},
   "source": [
    "## Pregunta 2\n",
    "\n",
    "Suponga que la variable discreta $X$ tiene la siguiente función de distribución\n",
    "\n",
    "\\begin{equation*}\n",
    "f(x) =\n",
    "    \\left\\{\\begin{array}{lr}\n",
    "    \\frac{1}{n}, & \\text{ para } x \\in \\{1, ..., n\\} \\\\\n",
    "    0, & \\text{en cualquier otro caso}\n",
    "    \\end{array}\\right.\n",
    "\\end{equation*}\n",
    "\n",
    "Calcule $F(x), E(X), E(X^2),$ y $V(X)$ "
   ]
  },
  {
   "cell_type": "markdown",
   "id": "cc0a01b2-1965-40cb-9054-29040f16379e",
   "metadata": {},
   "source": [
    "## Solución\n",
    "\n",
    "Sea $k \\in \\{1, ..., n\\}$, entonces\n",
    "\n",
    "\\begin{equation*}\n",
    "F(x) =\n",
    "    \\left\\{\\begin{array}{lr}\n",
    "    0, & x < 1 \\\\\n",
    "    \\frac{k}{n}, & k \\leq x < k + 1 \\\\\n",
    "    1, & x > n\n",
    "    \\end{array}\\right.\n",
    "\\end{equation*}\n",
    "\n",
    "$$E(X) = \\frac{n + 1}{2}$$\n",
    "\n",
    "$$E(X^2) = \\sum_{x=1}^m x^2 \\cdot \\frac{1}{n} = \\frac{1}{n} \\sum_{x=1}^n x^2 = \\frac{1}{n} \\cdot \\frac{n(n+1)(2n+1)}{6} = \\frac{(n+1)(2n+1)}{6}$$\n",
    "\n",
    "$$V(X) = E(X^2) - E(X)^2 = \\frac{(n+1)(2n+1)}{6} - \\left(\\frac{n+1}{2}\\right)^2 = \\frac{(n+1)\\left[2(2n+1) - 3(n+1)\\right]}{12}$$\n",
    "\n",
    "De manera más resumida:\n",
    "\n",
    "$$V(X) = \\frac{(n+1)(n-1)}{12} = \\frac{n^2 - 1}{12}$$"
   ]
  },
  {
   "cell_type": "markdown",
   "id": "d1cb84dc",
   "metadata": {},
   "source": [
    "## Pregunta 3\n",
    "\n",
    "La función de densidad de probabilidad de la variable aleatoria $X$ está dada por: \n",
    "\n",
    "\\begin{equation*}\n",
    "f(x) =\n",
    "    \\left\\{\\begin{array}{lr}\n",
    "    c x^2, & \\text{ para } 0 < x < 1 \\\\\n",
    "    0, & \\text{para otros casos}\n",
    "    \\end{array}\\right.\n",
    "\\end{equation*}\n",
    "\n",
    "Encuentre el valor la constante $c$. Calcule $P(X < \\frac{1}{4}), E(X), \\text{ y } V(X)$"
   ]
  },
  {
   "cell_type": "markdown",
   "id": "01137da5-f2ee-49dc-a89f-c87a1836e0b9",
   "metadata": {},
   "source": [
    "## Solución \n",
    "\n",
    "Sabemos que:\n",
    "\n",
    "$$1 = \\int_{-\\infty}^{\\infty} f(x)\\,dx = \\int_0^1 cx^2 \\, dx = \\left. \\frac{c x^3}{3} \\right|_0^1 = \\frac{c}{3}$$\n",
    "\n",
    "Entonces $c = 3$\n",
    "\n",
    "Calculemos ahora $P(X < \\tfrac{1}{4}), E(X), \\text{ y } V(X)$ :\n",
    "\n",
    "$$ P(X < \\tfrac{1}{4}) = \\int_{-\\infty}^{1/4} f(x)\\,dx = \\int_0^{1/4} 3x^2 \\, dx = \\left. x^3 \\right|_0^{1/4} = \\frac{1}{64}$$\n",
    "\n",
    "$$E[X] = \\int_{-\\infty}^{\\infty} x f(x)\\,dx = \\int_0^1 3x^3 \\, dx = \\left. \\frac{3x^4}{4} \\right|_0^1 = \\frac{3}{4}$$\n",
    "\n",
    "$$E[X^2] = \\int_{-\\infty}^{\\infty} x^2 f(x)\\,dx = \\int_0^1 3x^4 \\, dx = \\left. \\frac{3x^5}{5} \\right|_0^1 = \\frac{3}{5}$$\n",
    "\n",
    "$$V(X) = E[X^2] - (E[X])^2 = \\frac{3}{5} - \\left(\\frac{3}{4}\\right)^2 = \\frac{3}{80}$$"
   ]
  },
  {
   "cell_type": "markdown",
   "id": "9e24b451",
   "metadata": {},
   "source": [
    "## Pregunta 4\n",
    "\n",
    "La distribución conjunta de las variables $X$ y $Y$ está dada por\n",
    "\n",
    "| $(X \\backslash Y)$ | -1    | 0     | 1     |\n",
    "|----------------------|-------|-------|-------|\n",
    "| **0**                | 0     | 1/6   | 1/12  |\n",
    "| **1**                | 1/4   | 0     | 1/2   |\n",
    "\n",
    "Calcule $Cov(X, Y)$. ¿Son $X$ y $Y$ independientes?"
   ]
  },
  {
   "cell_type": "markdown",
   "id": "1b53f161-6ddd-45f2-bd56-cd1c2c315f75",
   "metadata": {},
   "source": [
    "## Solución \n",
    "\n",
    "$$E[X] = \\sum_{x} x \\, P(X = x)\n",
    "= (-1)\\cdot \\tfrac{1}{4} + 0 \\cdot \\tfrac{1}{6} + 1\\cdot\\left(\\tfrac{1}{12}+\\tfrac{1}{2}\\right)\n",
    "= -\\tfrac{1}{4} + \\tfrac{7}{12}\n",
    "= \\tfrac{1}{3}$$\n",
    "\n",
    "$$\n",
    "E[Y] = \\sum_{y} y \\, P(Y = y)\n",
    "= 0 \\cdot \\left(0+\\tfrac{1}{6}+\\tfrac{1}{12}\\right) \n",
    "+ 1\\cdot\\left(\\tfrac{1}{4}+0+\\tfrac{1}{2}\\right)\n",
    "= \\tfrac{3}{4}\n",
    "$$\n",
    "\n",
    "$$\n",
    "E[XY] = \\sum_{x,y} x y \\, P(X = x, Y = y)\n",
    "= (-1)(1)\\tfrac{1}{4} + (1)(1)\\tfrac{1}{2}\n",
    "= -\\tfrac{1}{4} + \\tfrac{1}{2}\n",
    "= \\tfrac{1}{4}\n",
    "$$\n",
    "\n",
    "$$\n",
    "\\text{Cov}(X,Y) = E[XY] - E[X]E[Y]\n",
    "= \\tfrac{1}{4} - \\tfrac{1}{3}\\cdot \\tfrac{3}{4}\n",
    "= \\tfrac{1}{4} - \\tfrac{1}{4}\n",
    "= 0\n",
    "$$\n",
    "\n",
    "Veamos que $X$ y $Y$ no son independientes. Por definición, si $X$ y $Y$ son independientes entonces $P(X = x, Y = y) = P(X = x) \\cdot P(Y = y)$. Sin embargo, note que $P(X = 0, Y = 0) = \\frac{1}{6}$ pero $P(X = 0) \\cdot P(Y = 0) = \\frac{1}{6} \\cdot \\frac{1}{4} = \\frac{1}{24}$. Luego, no son independientes."
   ]
  },
  {
   "cell_type": "markdown",
   "id": "2b1c3640",
   "metadata": {},
   "source": [
    "## Pregunta 5\n",
    "\n",
    "Una urna cotiene 20 bolas rojas y 30 bolas verdes. Seleccionamos 10 bolas aleatoriamente sin remplazo.\n",
    "\n",
    "¿Cuál es la probabilídad de que 4 de las bolas seleccionadas sean rojas?\n",
    "\n",
    "Dado que hay al menos 3 rojas entre las seleccionadas, ¿cuál es la probabilídad de que 4 sean rojas?"
   ]
  },
  {
   "cell_type": "markdown",
   "id": "81748a4d-1e72-4ae4-8643-bf2f94b4e1e3",
   "metadata": {},
   "source": [
    "## Solución \n",
    "\n",
    "Sea $X$ el número de bolas rojas en 10 extracciones sin reemplazo de una urna con 20 rojas y 30 verdes. Entonces \n",
    "\n",
    "$$P(X = 4) = \\frac{{20 \\choose 4} \\cdot {30 \\choose 10 - 4}}{{50 \\choose 10}}$$\n",
    "\n",
    "Ahora, note que \n",
    "\n",
    "$$P(X = 4 | X \\geq 3) =  \\frac{P(X = 4, X \\geq 3)}{P(X \\geq 3)} = \\frac{P(X = 4)}{1 - P(X \\leq 2)}$$\n",
    "\n",
    "Luego,\n",
    "\n",
    "$$P(X = 4 | X \\geq 3) = \\frac{P(X = 4)}{1 - P(X = 0) - P(X = 1) - P(X = 2)}$$\n",
    "\n",
    "$$P(X = 4 | X \\geq 3) = \\frac{{20 \\choose 4} \\cdot {30 \\choose 10 - 4}}{{50 \\choose 10} -  {30 \\choose 10} - {20 \\choose 1} \\cdot {30 \\choose 9} - {20 \\choose 2} \\cdot {30 \\choose 8}}$$"
   ]
  },
  {
   "cell_type": "markdown",
   "id": "d8543b27",
   "metadata": {},
   "source": [
    "## Pregunta 6\n",
    "\n",
    "Usted compra un bombilla eléctrica con una garantía de vida útil $T$ que satisface \n",
    "\n",
    "$$P(T \\geq t) = e^{-\\frac{t}{5}}, \\text{ para todo } t \\geq 0$$\n",
    "\n",
    "Así, la probabilidad de que el producto dure más de 2 años es $P(T \\geq 2) = e^{-\\frac{2}{5}} = 0.6703$. Usted usa la bombilla sin problema alguno por más de 5 años, ¿cuál es la probabilídad de que la bombilla deje de funcionar en el sexto año?\n",
    "\n",
    "(*Sugerencia:* use la definición de probabilidad condicional)"
   ]
  },
  {
   "cell_type": "markdown",
   "id": "04581000-42b3-4ac8-bfaf-90438b3fb656",
   "metadata": {},
   "source": [
    "## Solución\n",
    "\n",
    "Estamos interesados en calcular $P(5 \\leq T \\leq 6 | T \\geq 5)$\n",
    "\n",
    "Note que $P(5 \\leq T \\leq 6) = P(T \\geq 5) - P(T \\geq 6)$. Entonces,\n",
    "\n",
    "$$P(5 \\leq T \\leq 6 | T \\geq 5) = \\frac{e^{-\\frac{5}{5}} - e^{-\\frac{6}{5}}}{e^{-\\frac{5}{5}}}$$"
   ]
  },
  {
   "cell_type": "markdown",
   "id": "fc86c251",
   "metadata": {},
   "source": [
    "## Pregunta 7\n",
    "\n",
    "El estadístico $s^2 = \\sum_{i = 1}^{n} \\frac{(X_i - \\bar X)^2}{n}$ es un estimador de $V(X) = \\sigma^2$. \n",
    "\n",
    "Encuentre el sesgo de $s^2$. (Recuerde que usando los supuestos necesarios se puede demostrar que $E(\\bar X) = \\mu$.)\n",
    "\n",
    "Encuentre el error cuadrático medio ($ECM$) de $s^2$, donde $ECM = E \\left(\\hat\\theta - E(\\hat\\theta)\\right)^2$."
   ]
  },
  {
   "cell_type": "markdown",
   "id": "3b4206f6",
   "metadata": {},
   "source": [
    "## Solución\n",
    "\n",
    "Note que:\n",
    "\n",
    "$$s^2 = \\sum_{i = 1}^{n} \\frac{(X_i - \\bar X)^2}{n} = \\frac{1}{n} \\left(\\sum_i X_i^2 - n \\overline X^2\\right)$$\n",
    "\n",
    "$$E(\\overline X^2) = E(\\overline X)^2 + V(\\overline X) = \\mu^2 + \\frac{\\sigma^2}{n}$$\n",
    "\n",
    "$$E(s^2) = \\frac{1}{n} \\left(\\sum_i E(X_i^2) - n E(\\overline X^2) \\right) = \\frac{1}{n} \\left( n(\\mu^2 + \\sigma^2) - n\\left(\\mu^2 + \\frac{\\sigma^2}{n} \\right) \\right) = \\frac{n-1}{n} \\sigma^2$$\n",
    "\n",
    "De esta manera, el sesgo del estimador $s^2$ está dado por: \n",
    "\n",
    "$$\\texttt{bias}(s^2) = E(s^2) - \\sigma^2 = - \\frac{\\sigma^2}{n}$$\n",
    "\n",
    "Ahora, note que:\n",
    "\n",
    "$$s^2 = \\frac{n-1}{n} \\sum_{i = 1}^n \\frac{(X - \\bar{X_n})^2}{n-1} = \\frac{n-1}{n} S_n^2$$\n",
    "\n",
    "$$V(s^2) = \\left(\\frac{n-1}{n}\\right)^2 V(S_n^2)$$\n",
    "\n",
    "Ya que $\\frac{n-1}{\\sigma^2} S^2_n \\sim \\chi^2_{n-1}$ sabemos que $V\\left(\\frac{n-1}{\\sigma^2} S^2_n\\right) = 2(n-1)$. Lo anterior implica que $V(S^2_n) = \\frac{2\\sigma^4}{n-1}$.\n",
    "\n",
    "Así,\n",
    "\n",
    "$$V(s^2) = \\left(\\frac{n-1}{n}\\right)^2 \\frac{2\\sigma^4}{n-1} = \\frac{2(n-1)\\sigma^4}{n^2}$$\n",
    "\n",
    "Ahora, recuerde que para todo estimador $\\hat\\theta_n$, $ECM = \\texttt{bias}^2(\\hat\\theta_n) + V_\\theta(\\hat\\theta_n)$.\n",
    "\n",
    "$$ECM = \\frac{\\sigma^4}{n^2} + \\frac{2(n-1)\\sigma^4}{n^2} = \\frac{\\sigma^4 (2n-1)}{n^2}$$"
   ]
  },
  {
   "cell_type": "markdown",
   "id": "438c2b88",
   "metadata": {},
   "source": [
    "## Pregunta 8\n",
    "\n",
    "Suponga una muestra aleatoria de una población normal con valores $[18, 22, 22, 19, 20, 17, 19, 20, 23, 18]$ y varianza $\\sigma^2 = 6.25$. Construya un intervalo de confianza del 95% para la media de la población $\\mu$."
   ]
  },
  {
   "cell_type": "markdown",
   "id": "7470f061",
   "metadata": {},
   "source": [
    "## Solución\n",
    "\n",
    "A partir de estos datos se tiene que $\\overline X = 19.8$ y $\\text{ee}(\\overline X) = \\sqrt{\\sigma^2/n} \\approx 0.79$. Note además que con $\\alpha = 0.05$, $|z_{0.025}| \\approx 1.96$. \n",
    "\n",
    "Recuerde además que:\n",
    "\n",
    "$$IC_\\mu = \\left(\\overline X_n - z_{\\alpha/2} \\cdot \\sigma/\\sqrt n \\hspace{5pt} , \\hspace{5pt} \\overline X_n + z_{\\alpha/2} \\cdot \\sigma/\\sqrt n \\right)$$\n",
    "\n",
    "Con esta información podemos determinar que con una confianza del 95%, el parámetro $\\mu$ está en el siguiente intervalo:\n",
    "\n",
    "$$IC_\\mu = \\left(19.8 - 1.96 * 0.79 \\hspace{5pt} , \\hspace{5pt}  19.8 + 1.96 * 0.79\\right) = (18.25 \\hspace{2pt} , \\hspace{2pt} 21.35)$$"
   ]
  },
  {
   "cell_type": "markdown",
   "id": "cbbe6695",
   "metadata": {},
   "source": [
    "## Pregunta 9\n",
    "\n",
    "Imagínese que usted es dueño de una compañía que quiere abrir una filial en Bogotá. Usted como empresario sólo la abriría si el gasto promedio en Bogotá es mayor al gasto per cápita en Colombia. De acuerdo con nuevas estimaciones el gasto promedio de los hogares en Colombia es 90 dólares. Usted como investigador toma una muestra aleatoria de 49 hogares y estima que el gasto promedio es 84,5 dólares. Adicionalmente, usted sabe que la varianza poblacional del gasto en Bogotá es 14,5 dólares.\n",
    "\n",
    "- Explique por qué el teorema del límite central es útil en este caso.\n",
    "- Realice una prueba de hipótesis en el que evalúe si usted debe o no abrir la filial.\n",
    "- Suponganlo que se desconoce $\\sigma^2$, pero usted estima $S^2 = 15$. Evalúe la hipótesis nuevamente."
   ]
  },
  {
   "cell_type": "markdown",
   "id": "acc18545",
   "metadata": {},
   "source": [
    "## Solución\n",
    "\n",
    "- El teorema del límite central señala que una variable aleatoria normalizada converge una variable con distribución normal estandar (i.e., con media 0 y varianza 1) cuando aumenta el tamaño muestral $n$. Así, utilizando este teorema podemos determinar la distribución de nuestro estadístico de prueba para hacer inferencia sobre un parámetro desconocido.\n",
    "\n",
    "- Queremos probar la siguiente hipótesis:  \n",
    "\n",
    "   $H_0: \\mu = 90$  \n",
    "   $H_1: \\mu > 90$\n",
    "\n",
    "Con un nivel significancia de $\\alpha = 0.05$, el valor crítico es $z_{0.95} \\approx 1.645$. De esta manera rechazamos $H_0$ si nuestro estadístico de prueba $Z > 1.645$ (i.e, esta es nuestra región de rechazo).\n",
    "\n",
    "Usando los datos del ejercicio, el valor de nuestro estadístico es\n",
    "\n",
    "$$\n",
    "Z = \\frac{\\bar{X} - \\mu}{\\sigma / \\sqrt{n}}\n",
    "= \\frac{84.5 - 90}{\\sqrt{14.5/49}}\n",
    "= -10.11\n",
    "$$\n",
    "\n",
    "Ya que $-10.11 < 1.645$, concluimos que no existe evidencia suficiente para rechazar $H_0$\n",
    "\n",
    "- Si $\\sigma^2$ es desconocido, podemos usar el estadístico de prueba $T = \\frac{\\overline X - \\mu}{S/\\sqrt{n}} \\sim t_{n-1}$. \n",
    "\n",
    "Con un nivel significancia de $\\alpha = 0.05$, el valor crítico es $t_{0.95, 48} \\approx 1.68$.\n",
    "\n",
    "Usando los datos del ejercicio, el valor de nuestro estadístico es\n",
    "\n",
    "$$\n",
    "T = \\frac{\\bar{X} - \\mu}{S/\\sqrt{n}}\n",
    "= \\frac{84.5 - 90}{\\sqrt{15/49}}\n",
    "= -9.94\n",
    "$$\n",
    "\n",
    "Ya que $-9.94 < 1.68$, concluimos que no existe evidencia suficiente para rechazar $H_0$"
   ]
  },
  {
   "cell_type": "markdown",
   "id": "b5965139",
   "metadata": {},
   "source": [
    "## Pregunta 10\n",
    "\n",
    "Un economista está interesado en explorar si las muejeres y los hombres tienen diferentes comportamientos de manejo. Para ello usa la velocidad máxima alcanzada por un individuo el último año. El economista se pregunta si el promedio de la velocidad máxima es diferentre para mujeres y hombres, y quiere usar los resultados de una encuesta a $n= 34$ hombres y $m= 29$ mujeres. A continuación se presentan las estadísticas descriptivas de la encuesta:\n",
    "\n",
    "\n",
    "| Hombres ($X$)  | Mujeres ($Y$)  |\n",
    "|------------------|------------------|\n",
    "| $n = 34$         | $m = 29$         |\n",
    "| $\\bar X = 105.5$ | $\\bar Y = 90.9$ |\n",
    "| $S_X = 20.1$     | $S_Y = 12.2$     |\n",
    "\n",
    "A continuación se presenta un diagrama de puntos que representa las observaciones de la muestra:\n",
    "\n",
    "<img src=\"images/data_ps1.png\" align=\"center\" alt=\"drawing\" width=\"400\"/>\n",
    "\n",
    "¿Hay suficiente evidencia para concluir que la media entre hombres y mujeres son diferentes?\n",
    "\n",
    "Para contestar esta pregunta asuma un nivel de significancia $\\alpha= 0.05$. Suponga inicialmente que $\\sigma^2_X = \\sigma^2_Y = \\sigma^2$. ¿Cómo cambia su conclusión si asume que $\\sigma^2_X \\neq \\sigma^2_Y$?"
   ]
  },
  {
   "cell_type": "markdown",
   "id": "5aee7f8a",
   "metadata": {},
   "source": [
    "## Solución\n",
    "\n",
    "Queremos probar la siguiente hipotesis:\n",
    "\n",
    "$$H_0: \\mu_X - \\mu_Y = 0$$\n",
    "$$H_1: \\mu_X - \\mu_Y \\neq 0$$\n",
    "\n",
    "- Si asumumos que $\\sigma_X^2 = \\sigma_Y^2 = \\sigma^2$, el estadístico de prueba que podemos usar es: \n",
    "\n",
    "$$T = \\frac{\\overline X - \\overline Y}{S_p \\sqrt{\\frac{1}{n} + \\frac{1}{m}}}, \\hspace{5pt} \\text{ donde } S_p = \\sqrt{\\frac{(n-1) S_X^2 + (m-1) S_Y^2}{n + m - 2}}$$\n",
    "\n",
    "Sabemos que $T \\sim t_{n+m-2}$. Con un nivel de significancia $\\alpha = 0.05$, el valor crítico que define nuestra región de rechazo es $t_{61 \\hspace{1pt},\\hspace{1pt} 0.025} \\approx -1.9996$. \n",
    "\n",
    "De esta manera, si $T < -1.9996$ ó $T > 1.9996$, entonces no rechazamos $H_0$.\n",
    "\n",
    "Note que:\n",
    "\n",
    "$$S_p = \\sqrt{\\frac{(33) (20.1)^2 + (28) (12.2)^2}{61}} = \\sqrt{286.88} = 16.93$$\n",
    "\n",
    "$$T = \\frac{105.5 - 90.9}{16.93 \\sqrt{\\frac{1}{34} + \\frac{1}{29}}} = 3.4116$$\n",
    "\n",
    "Ya que $T = 3.4116 > t_{61 \\hspace{1pt},\\hspace{1pt} 0.975} = 1.9996$, entonces rechazamos $H_0$.\n",
    "\n",
    "- Si asumimos que $\\sigma_X^2 \\neq \\sigma_Y^2$, entonces podemos usar el siguiente estadístico:\n",
    "\n",
    "$$T = \\frac{\\overline X - \\overline Y}{\\sqrt{\\frac{S_X^2}{n} + \\frac{S_Y^2}{m}}} \\sim t_{\\nu}, \\hspace{5pt} \\text{ donde } \\nu = \\frac{\\left( \\frac{S_X^2}{n} + \\frac{S_Y^2}{m} \\right)^2}{\\frac{(S_X^2/n)^2}{n-1} + \\frac{(S_Y^2/m)^2}{m-1}}$$\n",
    "\n",
    "Observe que:\n",
    "\n",
    "$$T = \\frac{105.5 - 90.9}{\\sqrt{\\frac{20.1^2}{34} + \\frac{12.2^2}{29}}} \\approx 3.54$$\n",
    "\n",
    "$$\\nu = \\frac{\\left( \\frac{20.1^2}{34} + \\frac{12.2^2}{29} \\right)^2}{\\frac{(20.1^2/34)^2}{33} + \\frac{(12.2^2/29)^2}{28}} \\approx 55.47$$\n",
    "\n",
    "El valor crítico que define nuestra región de rechazo es $t_{55, 0.025} \\approx -2.004$.\n",
    "\n",
    "Ya que $T = 3.54 > t_{55, 0.975} = 2.004$, entonces rechazamos $H_0$."
   ]
  }
 ],
 "metadata": {
  "kernelspec": {
   "display_name": "R",
   "language": "R",
   "name": "ir"
  },
  "language_info": {
   "codemirror_mode": "r",
   "file_extension": ".r",
   "mimetype": "text/x-r-source",
   "name": "R",
   "pygments_lexer": "r",
   "version": "4.3.2"
  }
 },
 "nbformat": 4,
 "nbformat_minor": 5
}
