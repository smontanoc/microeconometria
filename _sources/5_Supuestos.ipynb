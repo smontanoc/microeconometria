{
 "cells": [
  {
   "cell_type": "markdown",
   "id": "23279633",
   "metadata": {
    "slideshow": {
     "slide_type": "slide"
    }
   },
   "source": [
    "# Evaluación de Supuestos\n",
    "\n",
    "Debido al **Teorema de Gauss-Markov**, queremos que los supuestos del modelo se cumplan.  \n",
    "\n",
    "En las siguientes clases consideraremos las implicaciones de la **violación de supuestos**:\n",
    "\n",
    "- ¿Cómo identificamos si se está violando un supuesto?  \n",
    "- ¿Qué debemos hacer cuando no se cumple alguno de los supuestos?  \n",
    "- ¿Cómo solucionamos el problema?  "
   ]
  },
  {
   "cell_type": "markdown",
   "id": "ecfb114a-736e-4313-a055-9e7540156bda",
   "metadata": {
    "slideshow": {
     "slide_type": "slide"
    }
   },
   "source": [
    "## Multicolinealidad\n",
    "\n",
    "Si se presenta una fuerte correlación entre dos o más variables de la matrix $X$, es posible que se viole el supuesto de **no multicolinealidad**. \n",
    "\n",
    "Suponga que queremos estimar el modelo: \n",
    "\n",
    "$$y_i = \\beta_0 + \\beta_1 x_{1i} + \\beta_2 x_{2i} + \\varepsilon_i$$\n",
    "\n",
    "Si $x_2$ se puede escribir como una **combinación lineal** de la variable $x_1$, entonces la multicolinealidad es **perfecta** y el modelo **no es estimable**. Ejemplo:\n",
    "\n",
    "$$x_{2i} = c_1 + c_2 x_{1i}, \\hspace{5pt}\\text{con}\\hspace{5pt} c_1, c_2 \\in \\mathbb{R}$$\n",
    "\n",
    "Si existe una **correlación fuerte** (pero no perfecta) entre $x_1$ y $x_2$, la multicolinealidad es **imperfecta**. En este caso, el modelo es **estimable**, pero la precisión de nuestros estimadores se ve comprometida. Esto afecta los intervalos de confianza y las pruebas de hipótesis (o significancia estadística). "
   ]
  },
  {
   "cell_type": "markdown",
   "id": "bf21f463-8fc0-4644-a779-e4b19b69cadb",
   "metadata": {
    "slideshow": {
     "slide_type": "slide"
    }
   },
   "source": [
    "## ¿Cómo identificar multicolinealidad?\n",
    "\n",
    "En nuestro modelo con 2 variables independientes, se puede mostrar que \n",
    "\n",
    "$$V(\\hat\\beta_1) = \\frac{\\sigma^2}{\\sum_{i = 1}^n x^2_{1i} (1 - \\rho_{1, 2})}$$\n",
    "\n",
    "donde $\\rho_{1, 2}$ es el coeficiente de correlación entre $x_1$ y $x_2$. \n",
    "\n",
    "Observe que si la correlación entre ambas variables es cercana a 1, $V(\\hat\\beta_1)$ es muy grande y, por lo tanto, es difícil rechazar la hipotesis nula $H_0: \\beta_1 = 0$.\n",
    "\n",
    "Podemos sospechar que existe multicolinealidad cuando tenemos **pruebas individuales no significativas**, pero el estadístico $F$ y coeficiente de determinacion $R^2$ son muy grandes. \n",
    "\n",
    "También podemos calcular $|\\rho_{1, 2}|$ y determinar si este valor es cercano a 1.\n",
    "\n",
    "**Solución**: excluir una de las variables!"
   ]
  },
  {
   "cell_type": "code",
   "execution_count": 1,
   "id": "4093f9e6-ab80-4741-b1da-6a81f1117e51",
   "metadata": {
    "slideshow": {
     "slide_type": "slide"
    }
   },
   "outputs": [
    {
     "data": {
      "text/plain": [
       "\n",
       "Call:\n",
       "lm(formula = w ~ s)\n",
       "\n",
       "Residuals:\n",
       "    Min      1Q  Median      3Q     Max \n",
       "-0.4350 -0.1113  0.0150  0.1163  0.3100 \n",
       "\n",
       "Coefficients:\n",
       "            Estimate Std. Error t value Pr(>|t|)    \n",
       "(Intercept)  0.41500    0.16490   2.517    0.036 *  \n",
       "s            0.45500    0.04972   9.152 1.64e-05 ***\n",
       "---\n",
       "Signif. codes:  0 '***' 0.001 '**' 0.01 '*' 0.05 '.' 0.1 ' ' 1\n",
       "\n",
       "Residual standard error: 0.2223 on 8 degrees of freedom\n",
       "Multiple R-squared:  0.9128,\tAdjusted R-squared:  0.9019 \n",
       "F-statistic: 83.75 on 1 and 8 DF,  p-value: 1.639e-05\n"
      ]
     },
     "metadata": {},
     "output_type": "display_data"
    }
   ],
   "source": [
    "w <- c(0.8, 1, 1.4, 1.2, 1.8, 2, 1.8, 2.1, 2.7, 3.0) #Salarios\n",
    "s <- c(1, 1, 2, 2, 3, 3, 4, 4, 5, 5) #educacion\n",
    "f <- c(1, 0, 1, 0, 1, 0, 1, 0, 1, 0) #mujer=1, hombre=0\n",
    "s_mp <- 1 + 2*s\n",
    "s_imp <- c(1, 1, 2, 1, 3, 3, 4, 4, 5, 5)\n",
    "\n",
    "summary(lm(w ~ s))"
   ]
  },
  {
   "cell_type": "code",
   "execution_count": 2,
   "id": "8ebd3073-07a6-4f83-b841-48a5583c0c0c",
   "metadata": {
    "slideshow": {
     "slide_type": "slide"
    }
   },
   "outputs": [
    {
     "name": "stdout",
     "output_type": "stream",
     "text": [
      "[1] \"Correlacion entre s y s_mp = 1\"\n"
     ]
    },
    {
     "data": {
      "text/plain": [
       "\n",
       "Call:\n",
       "lm(formula = w ~ s + s_mp)\n",
       "\n",
       "Residuals:\n",
       "    Min      1Q  Median      3Q     Max \n",
       "-0.4350 -0.1113  0.0150  0.1163  0.3100 \n",
       "\n",
       "Coefficients: (1 not defined because of singularities)\n",
       "            Estimate Std. Error t value Pr(>|t|)    \n",
       "(Intercept)  0.41500    0.16490   2.517    0.036 *  \n",
       "s            0.45500    0.04972   9.152 1.64e-05 ***\n",
       "s_mp              NA         NA      NA       NA    \n",
       "---\n",
       "Signif. codes:  0 '***' 0.001 '**' 0.01 '*' 0.05 '.' 0.1 ' ' 1\n",
       "\n",
       "Residual standard error: 0.2223 on 8 degrees of freedom\n",
       "Multiple R-squared:  0.9128,\tAdjusted R-squared:  0.9019 \n",
       "F-statistic: 83.75 on 1 and 8 DF,  p-value: 1.639e-05\n"
      ]
     },
     "metadata": {},
     "output_type": "display_data"
    }
   ],
   "source": [
    "rho <- cor(s, s_mp); print(paste0('Correlacion entre s y s_mp = ', rho))\n",
    "summary(lm(w ~ s + s_mp))"
   ]
  },
  {
   "cell_type": "code",
   "execution_count": 3,
   "id": "d61892dd-a7f1-4404-8102-33d5a4a637bd",
   "metadata": {
    "slideshow": {
     "slide_type": "slide"
    }
   },
   "outputs": [
    {
     "name": "stdout",
     "output_type": "stream",
     "text": [
      "[1] \"Correlacion entre s y s_imp = 0.981265558383595\"\n"
     ]
    },
    {
     "data": {
      "text/plain": [
       "\n",
       "Call:\n",
       "lm(formula = w ~ s + s_imp)\n",
       "\n",
       "Residuals:\n",
       "     Min       1Q   Median       3Q      Max \n",
       "-0.44235 -0.07456  0.00765  0.08868  0.31000 \n",
       "\n",
       "Coefficients:\n",
       "            Estimate Std. Error t value Pr(>|t|)  \n",
       "(Intercept)   0.4518     0.1833   2.465   0.0432 *\n",
       "s             0.3006     0.2694   1.116   0.3013  \n",
       "s_imp         0.1471     0.2518   0.584   0.5775  \n",
       "---\n",
       "Signif. codes:  0 '***' 0.001 '**' 0.01 '*' 0.05 '.' 0.1 ' ' 1\n",
       "\n",
       "Residual standard error: 0.2321 on 7 degrees of freedom\n",
       "Multiple R-squared:  0.9169,\tAdjusted R-squared:  0.8931 \n",
       "F-statistic:  38.6 on 2 and 7 DF,  p-value: 0.0001657\n"
      ]
     },
     "metadata": {},
     "output_type": "display_data"
    }
   ],
   "source": [
    "rho <- cor(s, s_imp); print(paste0('Correlacion entre s y s_imp = ', rho))\n",
    "summary(lm(w ~ s + s_imp))"
   ]
  },
  {
   "cell_type": "markdown",
   "id": "2dea0989",
   "metadata": {
    "slideshow": {
     "slide_type": "slide"
    }
   },
   "source": [
    "## No-normalidad de Errores\n",
    "\n",
    "Nuestro modelo asume que los errores se distribuyen normales, es decir\n",
    "\n",
    "$$\n",
    "\\varepsilon \\sim N(0, \\sigma^2 I)\n",
    "$$\n",
    "\n",
    "- Debido al **Teorema del Límite Central** es un supuesto muy razonable.  \n",
    "- No tiene implicaciones graves.  \n",
    "- No es necesario en la demostración de **Gauss-Markov**.\n",
    "- Sin embargo, es útil para determinar la distribución de los **estadísticos** usados en las pruebas de significancia."
   ]
  },
  {
   "cell_type": "markdown",
   "id": "97d70b0e-694f-4fae-ba28-a6a1dcfa9530",
   "metadata": {
    "slideshow": {
     "slide_type": "slide"
    }
   },
   "source": [
    "Para evaluar si el supuesto se cumple o no se puede hacer un procedimiento muy sencillo.\n",
    "\n",
    "- Computamos los residuales y los graficamos.\n",
    "- Generalmente, estos residuales van a tener una distribución muy parecida a la normal.\n",
    "- Debido a que incluimos una constante en nuestra regresión, los residuales casi siempre tienen media cero. \n",
    "\n",
    "Adicionalmente, se puede hacer un test para evaluar la normalidad de la variable.\n",
    "\n",
    "Este supuesto se cumplir a a medida que aumentemos el tamaño de muestra."
   ]
  },
  {
   "cell_type": "code",
   "execution_count": 4,
   "id": "34568ac5-2834-445b-962d-126b297f3457",
   "metadata": {
    "slideshow": {
     "slide_type": "slide"
    }
   },
   "outputs": [
    {
     "ename": "ERROR",
     "evalue": "Error in eval(mf, parent.frame()): object 'wage1' not found\n",
     "output_type": "error",
     "traceback": [
      "Error in eval(mf, parent.frame()): object 'wage1' not found\nTraceback:\n",
      "1. eval(mf, parent.frame())",
      "2. eval(mf, parent.frame())",
      "3. stats::model.frame(formula = log(wage) ~ educ + exper + expersq + \n .     female, data = wage1, drop.unused.levels = TRUE)",
      "4. model.frame.default(formula = log(wage) ~ educ + exper + expersq + \n .     female, data = wage1, drop.unused.levels = TRUE)",
      "5. is.data.frame(data)",
      "6. .handleSimpleError(function (cnd) \n . {\n .     watcher$capture_plot_and_output()\n .     cnd <- sanitize_call(cnd)\n .     watcher$push(cnd)\n .     switch(on_error, continue = invokeRestart(\"eval_continue\"), \n .         stop = invokeRestart(\"eval_stop\"), error = NULL)\n . }, \"object 'wage1' not found\", base::quote(eval(mf, parent.frame())))"
     ]
    }
   ],
   "source": [
    "model <- lm(log(wage) ~ educ + exper + expersq + female, data = wage1)\n",
    "e <- model$residuals\n",
    "\n",
    "par(mfrow=c(1,2))\n",
    "hist(e, xlab = \"Residuals\", probability = T, ylim = c(0, 1)) #Histograma de esiduales\n",
    "lines(density(e, na.rm=T), lwd = 2, col = \"red\") # Densidad estimada de los residuales\n",
    "curve(dnorm(x, mean = mean(e, na.rm=T), sd = sd(e, na.rm=T)), lty = 2, lwd = 2, add = TRUE, col = \"blue\") #Distribucion normal\n",
    "qqnorm(rstandard(model), col=\"red\", pch=20) ##Q-Q plot\n",
    "abline(a=0, b=1, col=\"blue\", lty=2, lwd=2)"
   ]
  },
  {
   "cell_type": "markdown",
   "id": "e2e1abf2-b8b5-4847-9639-d8c67b9aef48",
   "metadata": {
    "slideshow": {
     "slide_type": "slide"
    }
   },
   "source": [
    "## Pruebas de Normalidad\n",
    "\n",
    "Algunas pruebas estadísticas nos permiten evaluar si una variable se distribuye normal o no. En general, bajo la hipotesis nula se asume que la variable se distribuye normal, es decir:\n",
    "\n",
    "$$H_0: X \\sim N(\\mu_X, \\sigma_X^2)$$\n",
    "$$H_1: X \\text{ no se distribuye normal }$$\n",
    "\n",
    "Ejemplo de pruebas:\n",
    "\n",
    "1. Shapiro-Wilk (recomendada): Prueba paramétrica que compara la densidad estimada y la densidad teorica\n",
    "2. Kolmogorov-Smirnov: Compara la distribución acumulada de los datos y la distribución teorica\n",
    "3. Jarque-Bera\n",
    "4. Anderson-Darling"
   ]
  },
  {
   "cell_type": "code",
   "execution_count": null,
   "id": "5d23a815-239b-403c-a2c0-d58f092f06f4",
   "metadata": {
    "slideshow": {
     "slide_type": "slide"
    }
   },
   "outputs": [],
   "source": [
    "shapiro.test(e)\n",
    "ks.test(e, \"pnorm\", mean = mean(e), sd = sd(e))"
   ]
  },
  {
   "cell_type": "markdown",
   "id": "8992d3cc-54f7-480d-bb2f-8f6e9892f3b9",
   "metadata": {
    "slideshow": {
     "slide_type": "slide"
    }
   },
   "source": [
    "## Heteroscedasticidad \n",
    "\n",
    "Uno de los supuestos de nuestro modelo es que la varianza de los errores es constante. Es decir,\n",
    "\n",
    "$$V(\\varepsilon_i) = \\sigma^2$$\n",
    "\n",
    "En un modelo **heteroscedastico**, \n",
    "\n",
    "$$V(\\varepsilon_i) = \\sigma_{i}^2 \\hspace{5pt}\\text{donde}\\hspace{5pt} \\sigma_{i}^2 \\neq \\sigma_{j}^2 \\hspace{5pt}\\text{para algún}\\hspace{5pt} i \\neq j$$\n",
    "\n",
    "En la práctica es común que nuestros errores no tengan varianza constante."
   ]
  },
  {
   "cell_type": "code",
   "execution_count": 5,
   "id": "98ade487-e0d9-44c1-bc60-5b93acd1f82b",
   "metadata": {
    "slideshow": {
     "slide_type": "slide"
    }
   },
   "outputs": [
    {
     "name": "stderr",
     "output_type": "stream",
     "text": [
      "Installing package into 'C:/Users/smontano/AppData/Local/R/win-library/4.3'\n",
      "(as 'lib' is unspecified)\n",
      "\n"
     ]
    },
    {
     "name": "stdout",
     "output_type": "stream",
     "text": [
      "\n",
      "  There is a binary version available but the source version is later:\n",
      "       binary source needs_compilation\n",
      "scales  1.3.0  1.4.0             FALSE\n",
      "\n"
     ]
    },
    {
     "name": "stderr",
     "output_type": "stream",
     "text": [
      "installing the source package 'scales'\n",
      "\n",
      "\n"
     ]
    },
    {
     "data": {
      "image/png": "[encoded data removed]",
      "text/plain": [
       "plot without title"
      ]
     },
     "metadata": {
      "image/png": {
       "height": 420,
       "width": 420
      }
     },
     "output_type": "display_data"
    }
   ],
   "source": [
    "install.packages(\"scales\"); library(scales)\n",
    "set.seed(080925)\n",
    "x <- abs(rnorm(1000, 0, 3))\n",
    "e <- rnorm(1000, 0, 1)*x\n",
    "plot(x, e, ylim = c(-20, 20), xlim = c(0, 10), xlab = \"Variable x\", ylab = expression(paste(\"Errores (\", epsilon, \")\")), cex = 1.5, pch = 19, col = alpha(\"red\", 0.5), frame = F)"
   ]
  },
  {
   "cell_type": "code",
   "execution_count": 6,
   "id": "742bb93c-9267-4f2c-b013-5f399a8576b0",
   "metadata": {
    "slideshow": {
     "slide_type": "slide"
    }
   },
   "outputs": [
    {
     "data": {
      "image/png": "[encoded data removed]",
      "text/plain": [
       "plot without title"
      ]
     },
     "metadata": {
      "image/png": {
       "height": 420,
       "width": 420
      }
     },
     "output_type": "display_data"
    }
   ],
   "source": [
    "x <- rnorm(1000, 0, 3)\n",
    "e <- rnorm(1000, 0, 1)*x\n",
    "plot(x, e, ylim = c(-20, 20), xlim = c(-10, 10), xlab = \"Variable x\", ylab = expression(paste(\"Errores (\", epsilon, \")\")), cex = 1.5, pch = 19, col = alpha(\"blue\", 0.5), frame = F)"
   ]
  },
  {
   "cell_type": "code",
   "execution_count": 7,
   "id": "1b1ccdf0-3fdd-4c11-be0f-9b5bb63a72cc",
   "metadata": {
    "slideshow": {
     "slide_type": "slide"
    }
   },
   "outputs": [
    {
     "data": {
      "image/png": "[encoded data removed]",
      "text/plain": [
       "plot without title"
      ]
     },
     "metadata": {
      "image/png": {
       "height": 420,
       "width": 420
      }
     },
     "output_type": "display_data"
    }
   ],
   "source": [
    "e <- c(rnorm(500, 0, 1), rnorm(500, 0, 5)) \n",
    "f <- c(rep(1, 500), rep(0, 500))\n",
    "\n",
    "markers <- c(19, 17)\n",
    "colors <- c(\"#66BD63\", \"#FDAE61\")\n",
    "plot(x, e, ylim = c(-20, 20), xlim = c(0, 10), xlab = \"Variable x\", ylab = expression(paste(\"Errores (\", epsilon, \")\")), cex = 1.5, pch = markers[factor(f)], col = alpha(colors[factor(f)], 0.5), frame = F)"
   ]
  },
  {
   "cell_type": "markdown",
   "id": "536e5d61-9505-4f62-a419-d1cabd64c605",
   "metadata": {
    "slideshow": {
     "slide_type": "slide"
    }
   },
   "source": [
    "## ¿Por qué nos interesa la heteroscedasticidad?\n",
    "\n",
    "Recordemos que en regresión simple encontramos que: \n",
    "\n",
    "\\begin{align*}\n",
    "    \\hat\\beta_1 & = \\frac{\\widehat{Cov(x, y)}}{\\widehat{V(x)}} = \\frac{\\sum_i (X_i - \\overline X)(Y_i - \\overline Y)}{\\sum_i (X_i - \\overline X)^2}\\\\\n",
    "    & = \\beta_1 + \\frac{\\sum_i (X_i - \\overline X) \\cdot \\varepsilon_i}{\\sum_i (X_i - \\overline X)^2} \\\\     \n",
    "\\end{align*}\n",
    "\n",
    "Si asumimos que $E(\\varepsilon_i | X) = 0$, podemos concluir que $E(\\hat\\beta_1) = \\beta_1$. Es decir, **nuestros estimadores seguirán siendo insesgados** a pesar de que la varianza de los errores no es constante.\n",
    "\n",
    "Si asumimos que $Cov(\\varepsilon_i, \\varepsilon_j) = 0$, podemos mostrar que: \n",
    "\n",
    "$$ee(\\hat\\beta_1) = \\sqrt{V(\\hat\\beta_1)} = \\sqrt{\\frac{\\sigma_i^2}{\\sum_i (X_i - \\overline X)^2}}$$\n",
    "\n",
    "La **heteroscedasticidad** afecta los errores estándar de nuestros estimadores."
   ]
  },
  {
   "cell_type": "markdown",
   "id": "e35209f4-ae13-42ce-965a-63ebb76db610",
   "metadata": {
    "slideshow": {
     "slide_type": "slide"
    }
   },
   "source": [
    "**En presencia de heteroscedasticidad**, asumir que la varianza de los errores es constantes implica que nuestros **errores estandar** están **sesgados**.\n",
    "\n",
    "Por lo tanto,\n",
    "\n",
    "- los intervalos de confianza son incorrectos, y\n",
    "- las pruebas de significancia ($t$ y $F$) no son validas\n",
    "\n",
    "**Solución**:\n",
    "\n",
    "1. **Probar** que hay presencia de heteroscedasticidad\n",
    "\n",
    "Prueba de Goldfeld-Quandt\n",
    "\n",
    "Prueba de Breusch-Pagan\n",
    "\n",
    "Prueba de White\n",
    "   \n",
    "2. **Corrección** de los estimadores de la varianza\n",
    "\n",
    "Evitar error de especificación\n",
    "\n",
    "Mínimos Cuadrados Ponderados\n",
    "\n",
    "Erorres estándar robustos"
   ]
  },
  {
   "cell_type": "markdown",
   "id": "adf6408d-7772-46a0-8b4a-4e5531ad8052",
   "metadata": {
    "slideshow": {
     "slide_type": "slide"
    }
   },
   "source": [
    "## Prueba de Goldfeld-Quandt\n",
    "\n",
    "Para determinar si existe heteroscedasticidad, podemos usar los **residuales** $e_i = y_i - \\hat y_i$ como un **estimador de los errores poblaciones** $\\varepsilon_i$\n",
    "\n",
    "Recuerde que un estimador de la varianza del modelo (i.e., $\\sigma^2$) es \n",
    "\n",
    "$$\\widehat\\sigma^2 = \\frac{SSE}{n-k} = \\frac{\\sum_{i=1}^n e_i^2}{n-k}$$\n",
    "\n",
    "Observe que podemos dividir la población en dos grupos de tamaño $n_1$ y $n_2$ y evaluar si:\n",
    "\n",
    "$H_0: \\sigma_1^2 = \\sigma_2^2$\n",
    "$H_1: \\sigma_1^2 \\neq \\sigma_2^2$\n",
    "\n",
    "Para ello usaremos el estadístico de prueba\n",
    "\n",
    "$$F_{stat} = \\frac{SSE_2/(n_2 - k)}{SSE_1/(n_1 - k)} \\sim F_{n_2-k \\hspace{2pt},\\hspace{2pt} n_1-k}$$\n",
    "\n",
    "**Esta prueba es muy dependiente de la forma funcional de la heteroscedasticidad**, veamos por qué!"
   ]
  },
  {
   "cell_type": "markdown",
   "id": "fce3e23c-6c02-49f0-b545-3b674997894e",
   "metadata": {
    "slideshow": {
     "slide_type": "slide"
    }
   },
   "source": [
    "## Prueba de Breusch-Pagan\n",
    "\n",
    "Una segunda prueba que podemos realizar es la prueba de **Breusch-Pagan**.  \n",
    "Asumimos que existe una relación lineal:\n",
    "\n",
    "$$\n",
    "\\sigma_i^2 = \\sigma^2 f(\\alpha_0 + \\alpha_1 X)\n",
    "$$\n",
    "\n",
    "Hacemos una prueba de hipótesis de la forma:\n",
    "\n",
    "$$\n",
    "H_0 : \\alpha_1 = 0 \\;\\;\\; \\Rightarrow \\;\\; \\text{Homoscedasticidad } = \\sigma^2 f(\\alpha_0)\n",
    "$$\n",
    "\n",
    "$$\n",
    "H_1 : \\alpha_1 \\neq 0 \\;\\;\\; \\Rightarrow \\;\\; \\text{Heteroscedasticidad } = \\sigma^2 f(\\alpha_0 + \\alpha_1 X)\n",
    "$$\n",
    "\n",
    "En esta prueba vamos a evaluar la relación estadística entre:\n",
    "\n",
    "$$\n",
    "e_i^2 \\quad \\text{y ciertas variables explicativas } X\n",
    "$$"
   ]
  },
  {
   "cell_type": "markdown",
   "id": "7b9db349-ab29-4fb9-85d5-e8317ab7e315",
   "metadata": {
    "slideshow": {
     "slide_type": "slide"
    }
   },
   "source": [
    "## Procedimiento: Prueba de Breusch-Pagan\n",
    "\n",
    "1. **Correr la regresión original**:\n",
    "\n",
    "$$\n",
    "Y = X\\beta + \\varepsilon\n",
    "$$\n",
    "\n",
    "2. **Obtener**:\n",
    "\n",
    "$$\n",
    "\\hat{\\sigma}^2 = \\frac{\\sum e_i^2}{n-k}\n",
    "$$\n",
    "\n",
    "3. **Calcular** y **Estimar**:\n",
    "\n",
    "$$\n",
    "p_i = \\frac{e_i^2}{\\hat{\\sigma}^2}\n",
    "$$\n",
    "\n",
    "$$\n",
    "p_i = X\\alpha + u\n",
    "$$\n",
    "\n",
    "5. **Calcular el estadístico de prueba**:\n",
    "\n",
    "$$\n",
    "\\Theta = \\frac{1}{2}SSR \\sim \\chi^2_m\n",
    "$$\n",
    "\n",
    "donde $m$ es el número de variables incluidas en la matriz $X$"
   ]
  },
  {
   "cell_type": "markdown",
   "id": "ed9fb098-cc19-4292-97db-bc627b108212",
   "metadata": {
    "slideshow": {
     "slide_type": "slide"
    }
   },
   "source": [
    "## Prueba de White\n",
    "\n",
    "Una segunda prueba muy parecida es la **prueba de White**. Esta prueba **no asume** que hay una relación lineal entre la varianza del error y las variables en $X$.\n",
    "\n",
    "1. **Correr la regresión original**: $Y = X\\beta + \\varepsilon$\n",
    "\n",
    "2. **Calcular los residuales al cuadrado**: $e_i^2$\n",
    "\n",
    "3. **Correr la regresión auxiliar**:\n",
    "\n",
    "$$e_i^2 = \\alpha_0 + \\alpha_1 X_1 + \\alpha_2 X_2 + \\alpha_3 X_1^2 + \\alpha_4 X_2^2 + \\alpha_5 X_1 X_2 + \\dots$$\n",
    "\n",
    "(incluir todos los cuadrados y las interacciones de las variables explicativas).\n",
    "\n",
    "4. **Calcular el estadístico de prueba**:\n",
    "\n",
    "$$nR^2 \\sim \\chi^2_p$$\n",
    "\n",
    "donde $p$ es el número total de regresores (sin la constante) en la regresión auxiliar."
   ]
  },
  {
   "cell_type": "markdown",
   "id": "a9b498d7-1c35-4ced-b585-dfa1c289aa48",
   "metadata": {
    "slideshow": {
     "slide_type": "slide"
    }
   },
   "source": [
    "## Heteroscedasticidad y Error de Especificación\n",
    "\n",
    "**Error de especificación con variables independientes** \n",
    "\n",
    "Considere la siguiente función de regresión:\n",
    "\n",
    "$$y_i = \\beta_0 + \\beta_1 x_i + \\beta_2 x_i^2 + \\varepsilon_i$$\n",
    "\n",
    "donde $E(\\varepsilon_i | X) = 0$ y $V(\\varepsilon_i | X) = \\sigma^2$\n",
    "\n",
    "Suponga que omitimos $x^2$ y estimamos el siguiente modelo:\n",
    "\n",
    "$$y_i = \\gamma_0 + \\gamma_1 x_i + u_i$$\n",
    "\n",
    "$$u_i = \\varepsilon_i + \\beta_2 x_i^2$$\n",
    "\n",
    "Oberve que en este caso \n",
    "\n",
    "$$V(u_i) = \\sigma^2 + V(\\beta_2 x_i^2)$$\n",
    "\n",
    "Ya que la varianza de $u_i$ depende de $x_i$, el error de especificación genera heteroscedasticidad."
   ]
  },
  {
   "cell_type": "markdown",
   "id": "61ea6d90-3548-4fa7-ba69-7e37f5938bc1",
   "metadata": {
    "slideshow": {
     "slide_type": "slide"
    }
   },
   "source": [
    "**Error de especificación de la variable dependientes** \n",
    "\n",
    "Considere ahora la regresión \n",
    "\n",
    "$$\\log(y_i) = \\beta_0 + \\beta_1 x_i + \\varepsilon_i$$\n",
    "\n",
    "donde $E(\\varepsilon_i | X) = E(\\varepsilon_i)$ y $\\varepsilon_i \\sim N(0, \\sigma^2)$. De esta manera,\n",
    "\n",
    "$$\\log(y_i) \\sim N(\\beta_0 + \\beta_1 x_i, \\sigma^2)$$\n",
    "\n",
    "Suponga que estimamos el modelo \n",
    "\n",
    "$$y_i = \\gamma_0 + \\gamma_1 x_i + u_i$$\n",
    "\n",
    "Observe que la varianza de $u_i$ está dada por \n",
    "\n",
    "$$V(u_i) = (e^{\\sigma^2} - 1) e^{2(\\beta_0 + \\beta_1 x_i)+ \\sigma^2}$$\n",
    "\n",
    "Ya que la varianza de $u_i$ depende de $x_i$, el error de especificación genera heteroscedasticidad."
   ]
  },
  {
   "cell_type": "markdown",
   "id": "893c424c-da48-4921-9472-4df8d920db7f",
   "metadata": {
    "slideshow": {
     "slide_type": "slide"
    }
   },
   "source": [
    "**¿Es posible solucionar la heteroscedasticidad por error de especificación?**\n",
    "\n",
    "Errores en la especificación pueden generar heteroscedasticidad (además de otros problemas). Sin embargo, usualmente **desconocemos** la especificación correcta.\n",
    "\n",
    "Por esta razón necesitamos una manera formal de tratar la heteroscedasticidad."
   ]
  },
  {
   "cell_type": "markdown",
   "id": "f2b76020-5c42-47b9-9a94-5874c69500a1",
   "metadata": {
    "slideshow": {
     "slide_type": "slide"
    }
   },
   "source": [
    "## Mínimos Cuadrados Ponderados\n",
    "\n",
    "El método de mínimos cuadrados ponderados presenta una solución al problema de heteroscedasticidad.\n",
    "\n",
    "Considere el siguiente modelo:\n",
    "\n",
    "$$\n",
    "y_i = \\beta_0 + \\beta_1 x_i + u_i, \\qquad \\varepsilon_i \\sim N(0, \\sigma_i^2)\n",
    "$$\n",
    "\n",
    "Transformamos este modelo diviendo cada observación por su desviación estándar $\\sigma_i$:\n",
    "\n",
    "$$\n",
    "\\frac{y_i}{\\sigma_i} = \\beta_0 \\frac{1}{\\sigma_i} + \\beta_1 \\frac{x_i}{\\sigma_i} + \\frac{\\varepsilon_i}{\\sigma_i}\n",
    "$$\n",
    "\n",
    "Note que el error del modelo transformado es homoscedastico:\n",
    "\n",
    "$$\n",
    "V\\left(\\frac{\\varepsilon_i}{\\sigma_i} \\Big| x_i\\right)\n",
    "= \\frac{1}{\\sigma^2_i} V(\\varepsilon_i | x_i)\n",
    "= \\frac{1}{\\sigma^2_i} \\sigma^2_i = 1\n",
    "$$\n",
    "\n",
    "Más aún,\n",
    "\n",
    "$$\\frac{\\varepsilon_i}{\\sigma_i} \\sim N(0, 1)$$"
   ]
  },
  {
   "cell_type": "markdown",
   "id": "03a72db8",
   "metadata": {
    "slideshow": {
     "slide_type": "slide"
    }
   },
   "source": [
    "Si aplicamos el método de mínimos cuadrados (MCO) para estimar el modelo transformado, los estimadores de $\\beta_k$ serán insesgados y eficientes. Sin embargo, no conocemos $\\sigma_i$.\n",
    "\n",
    "Suponga ahora que: \n",
    "\n",
    "$$V(\\varepsilon_i \\mid x_i) = \\sigma^2 h(x_i)$$\n",
    "\n",
    "Este supuesto es más débil. Observe además que si conocemos $h(x_i)$, entonces podemos usar MCO para estimar el siguiente modelo transformado: \n",
    "\n",
    "$$\n",
    "\\frac{y_i}{\\sqrt{h(x_i)}} = \\beta_0 \\frac{1}{\\sqrt{h(x_i)}} + \\beta_1 \\frac{x_i}{\\sqrt{h(x_i)}} + \\frac{\\varepsilon_i}{\\sqrt{h(x_i)}}\n",
    "$$\n",
    "\n",
    "Nuevamente nuestro modelo transformado es homoscedastico."
   ]
  },
  {
   "cell_type": "markdown",
   "id": "2150c499-4419-4a04-b642-71a4aed9be31",
   "metadata": {
    "slideshow": {
     "slide_type": "slide"
    }
   },
   "source": [
    "## Minimos Cuadrados Factibles\n",
    "\n",
    "Mínimos cuadrados ponderados es un caso particular de **mínimos cuadrados generalizados**. \n",
    "\n",
    "Bajo ciertas condiciones, podemos transformar nuestro modelo de regresión usando el estimador $\\widehat{\\sigma^2} = \\frac{\\sum_{i=1}^n e_i^2}{n-k}$. Es decir, en lugar de transformar el modelo dividiendo $\\sigma_i$, dividimos por $\\widehat{\\sigma^2}$.\n",
    "\n",
    "A este método se le conoce como **mínimos cuadrados factibles**."
   ]
  },
  {
   "cell_type": "markdown",
   "id": "483196ec",
   "metadata": {
    "slideshow": {
     "slide_type": "slide"
    }
   },
   "source": [
    "## Errores Estándar Robustos\n",
    "\n",
    "Para el modelo de **regresión simple**, podemos reescribir nuestro estimador de MCO de la siguiente manera:\n",
    "\n",
    "$$\n",
    "\\hat\\beta_1 = \\beta_1 + \\frac{\\sum_i (x_i - \\bar{x}) \\varepsilon_i}{\\sum_i (x_i - \\bar{x})^2}\n",
    "$$\n",
    "\n",
    "Suponga que nuestro modelo es heteroscedastico, es decir:\n",
    "\n",
    "$$\n",
    "V(\\varepsilon_i \\mid x_i) = \\sigma_i^2\n",
    "$$\n",
    "\n",
    "De esta manera,\n",
    "\n",
    "$$\n",
    "V(\\hat\\beta_1 \\mid x_i)\n",
    "= \\frac{\\sum_i (x_i - \\bar{x})^2 \\sigma_i^2}{\\sum_i (x_i - \\bar{x})^2}\n",
    "$$"
   ]
  },
  {
   "cell_type": "markdown",
   "id": "497182fd",
   "metadata": {
    "slideshow": {
     "slide_type": "slide"
    }
   },
   "source": [
    "Hal White propuso el siguiente estimador para la varianza de $\\hat\\beta_1$:\n",
    "\n",
    "$$\n",
    "V(\\hat\\beta_1)\n",
    "= \\frac{\\sum_i (x_i - \\bar{x})^2 e_i^2}{\\sum_i (x_i - \\bar{x})^2}\n",
    "$$\n",
    "\n",
    "donde $e_i = y_i - \\hat y_i$\n",
    "\n",
    "Para el modelo de **regresión múltiple**\n",
    "\n",
    "$$\n",
    "y_i = \\beta_0 + \\beta_1 x_{1i} + \\cdots + \\beta_k x_{ki} + \\varepsilon_i\n",
    "$$\n",
    "\n",
    "el estimador de varianza (robusto a heteroscedasticidad) para $\\hat\\beta_j$ está dado por:\n",
    "\n",
    "$$\n",
    "V(\\hat\\beta_j)\n",
    "= \\frac{\\sum_i r_{ij}^2 e_i^2}{\\sum_i (x_{ji} - \\bar{x_j})^2}\n",
    "$$\n",
    "\n",
    "donde $r_{ij}$ es el residual para la observación $i$ luego de estimar $x_j$ en función de las demás variables independientes."
   ]
  },
  {
   "cell_type": "markdown",
   "id": "f9b725dc",
   "metadata": {
    "slideshow": {
     "slide_type": "slide"
    }
   },
   "source": [
    "Recuerde que para nuestro modelo en forma matricial $Y = X\\beta + \\varepsilon$, podemos mostrar que la matriz de varianza-covarianza es:\n",
    "\n",
    "\\begin{align*}\n",
    "V(\\hat{\\beta}|X ) &= E \\big[(\\hat{\\beta} - E[\\hat{\\beta}])(\\hat{\\beta} - E[\\hat{\\beta}])' \\,|\\, X \\big] \\\\\n",
    "&= (X'X)^{-1}X' E[\\varepsilon\\varepsilon'|X] X (X'X)^{-1} \\\\\n",
    "\\end{align*}\n",
    "\n",
    "El estimador propuesto por Hal White para $X' E[\\varepsilon\\varepsilon'|X] X$ está dado por:\n",
    "\n",
    "$$S_R = \\sum_{i} e_i^2 \\, x_i x_i'$$\n",
    "\n",
    "De esta manera, el estimador de White para la matriz de varianza-covarianza toma la siguiente forma:\n",
    "\n",
    "$$\n",
    "\\widehat{V}(\\hat{\\beta}) = (X'X)^{-1} S_R (X'X)^{-1}$$\n",
    "\n",
    "A estos errores se les conoce como **errores de White** o **robustos**, y corrigen (son robustos) cualquier forma de heteroscedasticidad."
   ]
  },
  {
   "cell_type": "markdown",
   "id": "1dd06aaa",
   "metadata": {
    "slideshow": {
     "slide_type": "slide"
    }
   },
   "source": [
    "## Sesgo por Error de Especificación\n",
    "\n",
    "Consideremos ahora la función de regresión:\n",
    "\n",
    "$$\n",
    "y_i = \\beta_0 + \\beta_1 x_{1i} + \\beta_2 x_{2i} + \\varepsilon_i \\qquad (1)\n",
    "$$\n",
    "\n",
    "donde $E(\\varepsilon_i | x_{1i}, x_{2i}) = 0$. \n",
    "\n",
    "Suponga que usted está interasado en estimar el efecto causal de $x_{1i}$ en $y_i$. Es decir, su parámetro de interés es $\\beta_1$.\n",
    "\n",
    "Sin embargo, usted omite la variable $x_{2i}$ y estima\n",
    "\n",
    "$$\n",
    "y_i = \\beta_0 + \\beta_1 x_{1i} + u_i \\qquad u_i = \\beta_2 x_{2i} + \\varepsilon_i \\qquad (2)\n",
    "$$\n",
    "\n",
    "Debido a este error de especificación, el estimador de MCO de $\\beta_1$ no es un estimador insesgado. Veamos:"
   ]
  },
  {
   "cell_type": "markdown",
   "id": "319a494d",
   "metadata": {
    "slideshow": {
     "slide_type": "slide"
    }
   },
   "source": [
    "Recuerde que:\n",
    "\n",
    "\\begin{align*}\n",
    "\\hat \\beta_1 &= \\frac{\\widehat{Cov}(x_{1i}, y_i)}{\\widehat{V(x_{1i})}} \\\\\n",
    "              &= \\frac{\\widehat{Cov}(x_{1i}, \\beta_0 + \\beta_1 x_{1i} + \\beta_2 x_{2i} + \\varepsilon_i)}{\\widehat{V(x_{1i})}} \\\\\n",
    "              &= \\beta_1 + \\beta_2 \\frac{\\widehat{Cov}(x_{1i}, x_{2i})}{\\widehat{V(x_{1i})}} + \\frac{\\widehat{Cov}(x_{1i}, \\varepsilon_i)}{\\widehat{V(x_{1i})}} \\\\\n",
    "              &= \\beta_1 + \\beta_2 \\frac{\\widehat{Cov}(x_{1i}, x_{2i})}{\\widehat{V(x_{1i})}} \\\\              \n",
    "\\end{align*}\n",
    "\n",
    "Este resultado nos permite ver que: \n",
    "\n",
    "- si $\\widehat{Cov}(x_{1i}, x_{2i}) = 0$, entonces $E(\\hat\\beta_1) = \\beta_1$\n",
    "\n",
    "- Sin embargo, si $\\widehat{Cov}(x_{1i}, x_{2i}) \\neq 0$, entonces $E(\\hat\\beta_1) \\neq \\beta_1$\n",
    "\n",
    "En qué casos $\\widehat{Cov}(x_{1i}, x_{2i}) = 0$?"
   ]
  },
  {
   "cell_type": "markdown",
   "id": "a2eb361b",
   "metadata": {
    "slideshow": {
     "slide_type": "slide"
    }
   },
   "source": [
    "## Error de Medición: Variable Dependiente\n",
    "\n",
    "Suponga que usted está interesado en estudiar la relación entre una variable dependiente $y_i$ y una variable $x_i$. Para ello usted quiere usar el siguiente modelo:\n",
    "\n",
    "$$y_i = \\beta_0 + \\beta_1 x_i + \\varepsilon_i$$\n",
    "\n",
    "Sin embargo, usted observa $y_i$ con un **error (de medición)** $\\nu$. Es decir, usted observa $y_i^* = y_i + \\nu$. Usualmente, asumimos que $\\nu \\sim N(0, \\sigma^2_\\nu)$. De esta manera, usted se ve ''obligado'' a estimar:\n",
    "\n",
    "$$y_i^* = \\beta_0 + \\beta_1 x_i + u_i \\qquad \\text{ donde } u_i = \\varepsilon_i + \\nu$$\n",
    "\n",
    "**¿Qué propiedades tienen los estimadores de MCO en este caso?**"
   ]
  },
  {
   "cell_type": "markdown",
   "id": "bebc866f-1b07-4be8-82d1-aaa24e92eab5",
   "metadata": {
    "slideshow": {
     "slide_type": "slide"
    }
   },
   "source": [
    "Supongamos que la variable $x_i$ es exogena. Es decir, $E(\\varepsilon_i | x_i) = 0$.\n",
    "\n",
    "Así,\n",
    "\n",
    "\\begin{align*}\n",
    "\\hat \\beta_1 &= \\frac{\\widehat{Cov}(x_{i}, y^*_i)}{\\widehat{V(x_{i})}} \\\\\n",
    " &= \\frac{\\widehat{Cov}(x_{i}, \\beta_0 + \\beta_1 x_{i} + u_i)}{\\widehat{V(x_{i})}} \\\\\n",
    " &= \\beta_1 + \\frac{\\widehat{Cov}(x_{i}, \\varepsilon_i)}{\\widehat{V(x_{i})}} + \\frac{\\widehat{Cov}(x_{i}, \\nu)}{\\widehat{V(x_{i})}} \\\\ \n",
    " &= \\beta_1 + \\frac{\\widehat{Cov}(x_{i}, \\nu)}{\\widehat{V(x_{i})}} \\\\  \n",
    "\\end{align*}\n",
    "\n",
    "Observe que el error de medición puede sesgar los estimadores de MCO si existe una correlación entre el error de medición y las variables independientes, es decir si $\\widehat{Cov}(x_{i}, \\nu) \\neq 0$.\n",
    "\n",
    "Observe además que $V(u_i) = V(\\varepsilon_i + \\nu) = \\sigma^2 + \\sigma_\\nu^2 > \\sigma^2$. Luego, en presencia de error de medición, nuestros errores estandar serán mayores."
   ]
  },
  {
   "cell_type": "markdown",
   "id": "5aa4d219-4536-453d-a1ce-47080ec88d82",
   "metadata": {
    "slideshow": {
     "slide_type": "slide"
    }
   },
   "source": [
    "## Error de Medición: Variable Independiente\n",
    "\n",
    "Suponga ahora que usted tiene error de medición en la variable dependiente $x_i$. Es decir, usted observa $y_i$ y $x_i^* = x_i + \\nu$, con $\\nu \\sim N(0, \\sigma_nu)$. \n",
    "\n",
    "La función de regresión poblaciones es:\n",
    "\n",
    "$$y_i = \\beta_0 + \\beta_1 x_i + \\varepsilon_i$$\n",
    "\n",
    "Sin embargo, usted estima:\n",
    "\n",
    "$$y_i = \\beta_0 + \\beta_1 x^*_i + u_i \\qquad \\text{ donde } u_i = \\varepsilon_i -  \\beta_1 \\nu $$\n",
    "\n",
    "Si asumimos que $Cov(x^*_i, \\nu) = 0$, entonces MCO produce estimadores insesgados. Sin embargo, la $V(u_i) = \\sigma^2 + \\beta_1^2 \\sigma_\\nu^2$."
   ]
  },
  {
   "cell_type": "markdown",
   "id": "853c736b-4047-4b00-9574-3fc60fc8d97e",
   "metadata": {
    "slideshow": {
     "slide_type": "slide"
    }
   },
   "source": [
    "Debido a que este es el caso menos problemático, estamos más interesados en saber qué ocurre cuando asumimos que $Cov(x_i, \\nu) = 0$\n",
    "\n",
    "Si este el caso, entonces $Cov(x_i^*, \\nu) \\neq 0$. Esto es asi porque $Cov(x_i, \\nu) = Cov(x_i^*, \\nu) - \\sigma^2_\\nu = 0$. Luego, $Cov(x_i^*, \\nu) = \\sigma^2_\\nu > 0$.\n",
    "\n",
    "Usando las propiedades de los estimadores, podemos mostrar que \n",
    "\n",
    "\\begin{align*}\n",
    "E(\\hat \\beta_1) &= \\beta_1 + \\frac{Cov(x_i^*, \\varepsilon_i -  \\beta_1 \\nu )}{V(x_i^*)} \\\\\n",
    "&= \\beta_1 - \\frac{\\beta_1 \\sigma^2_\\nu}{\\sigma^2_x + \\sigma^2_\\nu} \\\\\n",
    "&= \\beta_1 \\left(1 - \\frac{\\sigma^2_\\nu}{\\sigma^2_x + \\sigma^2_\\nu}\\right) \\\\\n",
    "&= \\beta_1 \\left(\\frac{\\sigma^2_x}{\\sigma^2_x + \\sigma^2_\\nu}\\right) \\\\\n",
    "\\end{align*}\n",
    "\n",
    "A este sesgo se le conoce como **sesgo de atenuación**."
   ]
  }
 ],
 "metadata": {
  "celltoolbar": "Slideshow",
  "kernelspec": {
   "display_name": "R",
   "language": "R",
   "name": "ir"
  },
  "language_info": {
   "codemirror_mode": "r",
   "file_extension": ".r",
   "mimetype": "text/x-r-source",
   "name": "R",
   "pygments_lexer": "r",
   "version": "4.3.2"
  }
 },
 "nbformat": 4,
 "nbformat_minor": 5
}
