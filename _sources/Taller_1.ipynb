{
 "cells": [
  {
   "cell_type": "markdown",
   "id": "b86bbe2b",
   "metadata": {},
   "source": [
    "# Taller 1\n",
    "\n",
    "El propósito de este taller es prácticar los conceptos básicos de probabilídad y estadística vistos en clase.\n",
    "\n",
    "El taller se debe entregar el **Sábado 16 de Agosto** antes del inicio de la clase complementaria. Los estudiantes pueden trabajar en grupos pero deben entregar sus respuestas de manera individual. Se sugiere resolver y entregar los problemas a mano. "
   ]
  },
  {
   "cell_type": "markdown",
   "id": "5df01950",
   "metadata": {},
   "source": [
    "## Pregunta 1\n",
    "\n",
    "Verifique si la función dada por \n",
    "\n",
    "$$f(x) = \\frac{x + 2}{n}$$\n",
    "\n",
    "cumple las propiedades de una distribución de probabilidad para la variable discreta $X$, que toma valores en $\\{1, 2, 3, 4, 5\\}$."
   ]
  },
  {
   "cell_type": "markdown",
   "id": "b996d5b9",
   "metadata": {},
   "source": [
    "## Pregunta 2\n",
    "\n",
    "Suponga que la variable discreta $X$ tiene la siguiente función de distribución\n",
    "\n",
    "\\begin{equation*}\n",
    "f(x) =\n",
    "    \\left\\{\\begin{array}{lr}\n",
    "    \\frac{1}{n}, & \\text{ para } x \\in \\{1, ..., n\\} \\\\\n",
    "    0, & \\text{en cualquier otro caso}\n",
    "    \\end{array}\\right.\n",
    "\\end{equation*}\n",
    "\n",
    "Calcule $F(x), E(X), E(X^2),$ y $V(X)$ "
   ]
  },
  {
   "cell_type": "markdown",
   "id": "d1cb84dc",
   "metadata": {},
   "source": [
    "## Pregunta 3\n",
    "\n",
    "La función de densidad de probabilidad de la variable aleatoria $X$ está dada por: \n",
    "\n",
    "\\begin{equation*}\n",
    "f(x) =\n",
    "    \\left\\{\\begin{array}{lr}\n",
    "    c x^2, & \\text{ para } 0 < x < 1 \\\\\n",
    "    0, & \\text{para otros casos}\n",
    "    \\end{array}\\right.\n",
    "\\end{equation*}\n",
    "\n",
    "Encuentre el valor la constante $c$. Calcule $P(X < \\frac{1}{4}), E(X), \\text{ y } V(X)$"
   ]
  },
  {
   "cell_type": "markdown",
   "id": "9e24b451",
   "metadata": {},
   "source": [
    "## Pregunta 4\n",
    "\n",
    "La distribución conjunta de las variables $X$ y $Y$ está dada por\n",
    "\n",
    "| $(X \\backslash Y)$ | -1    | 0     | 1     |\n",
    "|----------------------|-------|-------|-------|\n",
    "| **0**                | 0     | 1/6   | 1/12  |\n",
    "| **1**                | 1/4   | 0     | 1/2   |\n",
    "\n",
    "Calcule $Cov(X, Y)$. ¿Son $X$ y $Y$ independientes?"
   ]
  },
  {
   "cell_type": "markdown",
   "id": "2b1c3640",
   "metadata": {},
   "source": [
    "## Pregunta 5\n",
    "\n",
    "Una urna cotiene 20 bolas rojas y 30 bolas verdes. Seleccionamos 10 bolas aleatoriamente sin remplazo.\n",
    "\n",
    "¿Cuál es la probabilídad de que 4 de las bolas seleccionadas sean rojas?\n",
    "\n",
    "Dado que hay al menos 3 rojas entre las seleccionadas, ¿cuál es la probabilídad de que 4 sean rojas?"
   ]
  },
  {
   "cell_type": "markdown",
   "id": "d8543b27",
   "metadata": {},
   "source": [
    "## Pregunta 6\n",
    "\n",
    "Usted compra un bombilla eléctrica con una garantía de vida útil $T$ que satisface \n",
    "\n",
    "$$P(T \\geq t) = e^{-\\frac{t}{5}}, \\text{ para todo } t \\geq 0$$\n",
    "\n",
    "Así, la probabilidad de que el producto dure más de 2 años es $P(T \\geq 2) = e^{-\\frac{2}{5}} = 0.6703$. Usted usa la bombilla sin problema alguno por más de 5 años, ¿cuál es la probabilídad de que la bombilla deje de funcionar en el sexto año?\n",
    "\n",
    "(*Sugerencia:* use la definición de probabilidad condicional)"
   ]
  },
  {
   "cell_type": "markdown",
   "id": "fc86c251",
   "metadata": {},
   "source": [
    "## Pregunta 7\n",
    "\n",
    "El estadístico $s^2 = \\sum_{i = 1}^{n} \\frac{(X_i - \\bar X)^2}{n}$ es un estimador de $V(X) = \\sigma^2$. \n",
    "\n",
    "Encuentre el sesgo de $s^2$. (Recuerde que usando los supuestos necesarios se puede demostrar que $E(\\bar X) = \\mu$.)\n",
    "\n",
    "Encuentre el error cuadrático medio ($ECM$) de $s^2$, donde $ECM = E \\left(\\hat\\theta - E(\\hat\\theta)\\right)^2$."
   ]
  },
  {
   "cell_type": "markdown",
   "id": "438c2b88",
   "metadata": {},
   "source": [
    "## Pregunta 8\n",
    "\n",
    "Suponga una muestra aleatoria de una población normal con valores $[18, 22, 22, 19, 20, 17, 19, 20, 23, 18]$ y varianza $\\sigma^2 = 6.25$. Construya un intervalo de confianza del 95% para la media de la población $\\mu$."
   ]
  },
  {
   "cell_type": "markdown",
   "id": "cbbe6695",
   "metadata": {},
   "source": [
    "## Pregunta 9\n",
    "\n",
    "Imagínese que usted es dueño de una compañía que quiere abrir una filial en Bogotá. Usted como empresario sólo la abriría si el gasto promedio en Bogotá es mayor al gasto per cápita en Colombia. De acuerdo con nuevas estimaciones el gasto promedio de los hogares en Colombia es 90 dólares. Usted como investigador toma una muestra aleatoria de 49 hogares y estima que el gasto promedio es 84,5 dólares. Adicionalmente, usted sabe que la varianza poblacional del gasto en Bogotá es 14,5 dólares.\n",
    "\n",
    "- Explique por qué el teorema del límite central es útil en este caso.\n",
    "- Realice una prueba de hipótesis en el que evalúe si usted debe o no abrir la filial.\n",
    "- Suponganlo que se desconoce $\\sigma^2$, pero usted estima $S^2 = 15$. Evalúe la hipótesis nuevamente."
   ]
  },
  {
   "cell_type": "markdown",
   "id": "b5965139",
   "metadata": {},
   "source": [
    "## Pregunta 10\n",
    "\n",
    "Un economista está interesado en explorar si las muejeres y los hombres tienen diferentes comportamientos de manejo. Para ello usa la velocidad máxima alcanzada por un individuo el último año. El economista se pregunta si el promedio de la velocidad máxima es diferentre para mujeres y hombres, y quiere usar los resultados de una encuesta a $n= 34$ hombres y $m= 29$ mujeres. A continuación se presentan las estadísticas descriptivas de la encuesta:\n",
    "\n",
    "\n",
    "| Hombres ($X$)  | Mujeres ($Y$)  |\n",
    "|------------------|------------------|\n",
    "| $n = 34$         | $m = 29$         |\n",
    "| $\\bar X = 105.5$ | $\\bar Y = 90.9$ |\n",
    "| $S_X = 20.1$     | $S_Y = 12.2$     |\n",
    "\n",
    "A continuación se presenta un diagrama de puntos que representa las observaciones de la muestra:\n",
    "\n",
    "<img src=\"images/data_ps1.png\" align=\"center\" alt=\"drawing\" width=\"400\"/>\n",
    "\n",
    "¿Hay suficiente evidencia para concluir que la media entre hombres y mujeres son diferentes?\n",
    "\n",
    "Para contestar esta pregunta asuma un nivel de significancia $\\alpha= 0.05$. Suponga inicialmente que $\\sigma^2_X = \\sigma^2_Y = \\sigma^2$. ¿Cómo cambia su conclusión si asume que $\\sigma^2_X \\neq \\sigma^2_Y$?"
   ]
  }
 ],
 "metadata": {
  "kernelspec": {
   "display_name": "R",
   "language": "R",
   "name": "ir"
  },
  "language_info": {
   "codemirror_mode": "r",
   "file_extension": ".r",
   "mimetype": "text/x-r-source",
   "name": "R",
   "pygments_lexer": "r",
   "version": "4.3.2"
  }
 },
 "nbformat": 4,
 "nbformat_minor": 5
}
