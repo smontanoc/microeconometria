{
 "cells": [
  {
   "cell_type": "markdown",
   "id": "ad440b25",
   "metadata": {
    "slideshow": {
     "slide_type": "slide"
    }
   },
   "source": [
    "# Fundamentos de Estadística\n",
    "\n",
    "El objetivo fundamental de la estadística es proveer conclusiones respecto a una **población** determinada a partir de **muestras**"
   ]
  },
  {
   "cell_type": "markdown",
   "id": "170c467f",
   "metadata": {
    "slideshow": {
     "slide_type": "slide"
    }
   },
   "source": [
    "## Estimación Puntual\n",
    "\n",
    "Una estimación puntual es el \"mejor pronóstico\" sobre algún valor de interés. La cantidad de interés puede ser el parámetro de un modelo, una distribución acumulada $F$, una distribución de probabilidad $f$, una función de regression $r(x)$, o la predicción del valor futuro de una variable $Y$.\n",
    "\n",
    "Por convención, $\\theta$ representa un parámetro fijo desconocido y $\\hat\\theta_n$ representa su estimación puntual. Es importante notar que $\\hat\\theta_n$ depende de los datos y por lo tanto es una variable aleatoria.\n",
    "\n",
    "Observe que una estimación puntual se obtiene a partir de una función $T(X_1, ..., X_n)$, conocida como  **estimador** o **estadístico**. Dicha función depende de los valores de una muestra aleatoria $\\{X_1, ..., X_n\\}$ para calcular el valor puntual:\n",
    "\n",
    "$$\\hat\\theta_n = T(X_1, ..., X_n)$$"
   ]
  },
  {
   "cell_type": "markdown",
   "id": "1d18f5cc",
   "metadata": {
    "slideshow": {
     "slide_type": "slide"
    }
   },
   "source": [
    "## Momentos Muestrales\n",
    "\n",
    "Sea $X_1, ..., X_n$ una muestra aleatoria de tamaño $n$, entonces definimos la **media muestral** como:\n",
    "\n",
    "$$\\bar{X_n} = \\frac{1}{n} \\sum_{i = 1}^n X_i$$\n",
    "\n",
    "La **varianza muestral** está definida por:\n",
    "\n",
    "$$S_n^2 = \\frac{1}{n-1} \\sum_{i = 1}^n (X - \\bar{X_n})^2$$\n",
    "\n",
    "<div class=\"alert alert-block alert-info\">\n",
    "<b>TEOREMA:</b>\n",
    "<p>\n",
    "    \n",
    "Si $X_1, ..., X_n$ son iid, entonces\n",
    "\n",
    "$$E(\\bar{X_n}) = \\mu, \\hspace{10pt} V(\\bar{X_n}) = \\frac{\\sigma^2}{n}, \\hspace{5pt} \\text{y} \\hspace{5pt} E(S_n^2) = \\sigma^2$$\n",
    "\n",
    "donde $E(X_i) = \\mu$ y $V(X_i) = \\sigma^2$ para todo $i = 1, ..., n$.\n",
    "</div>"
   ]
  },
  {
   "cell_type": "markdown",
   "id": "8c8bf28e",
   "metadata": {
    "slideshow": {
     "slide_type": "slide"
    }
   },
   "source": [
    "## Propiedades de los Estimadores\n",
    "\n",
    "Decimos que un estimador es **insesgado** si \n",
    "\n",
    "$$E(\\hat\\theta_n) = \\theta$$\n",
    "\n",
    "Podemoslos definir también el sesgo de un estimador como \n",
    "\n",
    "$$\\texttt{bias}(\\hat\\theta_n) = E(\\hat\\theta_n) - \\theta$$\n",
    "\n",
    "Un requisito razonable para un estimador es que converga al valor del parámetro de interés si aumentamos el tamaño muestral."
   ]
  },
  {
   "cell_type": "markdown",
   "id": "9d8f4eb1-f845-4288-827b-0cf3e2c038dc",
   "metadata": {
    "slideshow": {
     "slide_type": "slide"
    }
   },
   "source": [
    "La distribución de $\\hat\\theta_n$ se conoce como **distribución muestral** y la desviación estandar de $\\hat\\theta_n$ se llama **error estándar** y se denota por $\\texttt{se}$\n",
    "\n",
    "$$\\texttt{se} = \\sqrt{V(\\hat\\theta_n)}$$\n",
    "\n",
    "Comunmente, desconocemos la distribución muestral y, por lo tanto, $\\texttt{se}$ es desconocido. Sin embargo, es usual que podamos estimar el error estandar. A esta estimación la denotamos por $\\hat{\\texttt{se}}$\n",
    "\n",
    "Un estimador insesgado $\\hat\\theta_1$ es más **eficiente** que otro estimador insesgado $\\hat\\theta_2$ si\n",
    "\n",
    "$$V(\\hat\\theta_1) < V(\\hat\\theta_2)$$\n",
    "\n",
    "Para evaluar la calidad del una estimación puntual algunas veces usamos el **error cuadrático medio**, o $\\text{MSE}$, que se define como\n",
    "\n",
    "$$\\text{MSE} = E_\\theta (\\hat\\theta_n - \\theta)^2 = \\texttt{bias}^2(\\hat\\theta_n) + V_\\theta(\\hat\\theta_n)$$"
   ]
  },
  {
   "cell_type": "markdown",
   "id": "aa8e8370-1d20-497b-9b2a-c79db1267ec0",
   "metadata": {
    "slideshow": {
     "slide_type": "slide"
    }
   },
   "source": [
    "## Ley de los Grandes Números\n",
    "\n",
    "Una secuencia de variables aleatorias $\\{X_n\\}$ **converge en probabilidad** a una constante $c$ si\n",
    "\n",
    "$$\\lim_{n \\to \\infty} \\mathbb{P}(|X_n - c| > \\epsilon) = 0, \\text{ para } \\epsilon > 0$$\n",
    "\n",
    "Para abreviar decimos que $X_n \\overset{p}{\\to} c$\n",
    "\n",
    "<div class=\"alert alert-block alert-info\">\n",
    "<b>Ley de los Grandes Números:</b>\n",
    "<p>\n",
    "\n",
    "Sea una $\\{X_i\\}_{i = 1}^n$ una secuencia de variables iid tal que $E(X_i) = \\mu < \\infty$, entonces \n",
    "\n",
    "$$ \\frac{1}{n} \\sum_{i = 1}^n X_i = \\bar{X_n} \\overset{p}{\\to} \\mu$$\n",
    "</div>"
   ]
  },
  {
   "cell_type": "markdown",
   "id": "658395aa-6151-4b07-84d3-a3f381b3442a",
   "metadata": {
    "slideshow": {
     "slide_type": "slide"
    }
   },
   "source": [
    "## Teorema del Limite Central\n",
    "\n",
    "El resultado anterior es muy poderoso. Otro resultado fundamental en estadística y en econometría es el teorema del límite central \n",
    "\n",
    "<div class=\"alert alert-block alert-info\">\n",
    "<b>TEOREMA:</b>\n",
    "<p>\n",
    "\n",
    "Sea una $\\{X_i\\}_{i = 1}^n$ una secuencia de variables iid tal que $E(X_i) = \\mu < \\infty$ y $V(X_i) = \\sigma^2 < \\infty$. Definamos \n",
    "\n",
    "$$Z_n = \\frac{\\sum_{i = 1}^n X_i - n\\mu}{\\sigma \\sqrt n} = \\frac{\\bar X - \\mu}{\\sigma/\\sqrt n}$$\n",
    "\n",
    "Entonces la función de distribución de $Z_n$ converge hacia la función de distribución de una variable normal estandar cuando $n \\to \\infty$, es decir, \n",
    "\n",
    "$$\\lim_{n \\to \\infty} P(Z_n \\leq z) = \\Phi(z) = \\int_\\infty^z \\frac{1}{\\sqrt{2\\pi}} e^{-\\frac{x^2}{2}} dx$$\n",
    "\n",
    "</div>"
   ]
  },
  {
   "cell_type": "markdown",
   "id": "f5b4a5df-9b67-428b-8218-6acb07e8899e",
   "metadata": {
    "slideshow": {
     "slide_type": "slide"
    }
   },
   "source": [
    "Decimos entonces que un estimador puntual es **consistente** si \n",
    "\n",
    "$$\\hat\\theta_n \\overset{p}{\\to} \\theta$$\n",
    "\n",
    "Un estimador es **asintóticamente normal** si \n",
    "\n",
    "$$\\frac{\\hat\\theta_n - \\theta}{\\texttt{se}} \\to N(0, 1)$$\n",
    "\n",
    "<div class=\"alert alert-block alert-info\">\n",
    "<b>TEOREMA:</b>\n",
    "<p>\n",
    "\n",
    "Si $\\texttt{bias} \\overset{n \\to \\infty}{\\longrightarrow} 0$ y $\\texttt{se} \\overset{n \\to \\infty}{\\longrightarrow} 0$, entonces $\\hat\\theta_n$ es consistente. Es decir, $\\hat\\theta_n \\overset{p}{\\to} \\theta$\n",
    "</div>"
   ]
  },
  {
   "cell_type": "markdown",
   "id": "d1b3a8a0",
   "metadata": {
    "slideshow": {
     "slide_type": "slide"
    }
   },
   "source": [
    "## Intervalos de Confianza\n",
    "\n",
    "Un **intervalo de confianza** a un nivel del $1 - \\alpha$ para un parámetro $\\theta$ es un conjunto $C_n = (a, b)$ donde $a = a(X_1, ... , X_n)$ y $b = b(X_1, ..., X_n)$ son funciones de los datos tal que\n",
    "\n",
    "$$\\mathbb{P}_\\theta (\\theta \\in C_n) \\geq 1 − \\alpha, \\text{ para todo } \\theta \\in \\Theta$$\n",
    "\n",
    "En otras palabras, $(a, b)$ contiene a $\\theta$ con probabilidad $1 - \\alpha$. La tasa de **convergencia** del intervalo es $1 - \\alpha$.\n",
    "\n",
    "<div class=\"alert alert-block alert-info\">\n",
    "<b>TEOREMA:</b>\n",
    "<p>\n",
    "\n",
    "Suponga que $\\hat\\theta_n \\sim N (\\theta, \\texttt{se}^2)$. Sea $Z \\sim N(0, 1)$, $\\Phi$ su distribución acumulada, y $z_{\\alpha/2} = \\Phi^{-1}\\left(1 - \\frac{\\alpha}{2}\\right)$. De esta manera, $\\mathbb{P}(Z > z_{\\alpha/2}) = \\alpha/2$ y $\\mathbb{P}(-z_{\\alpha/2} < Z < z_{\\alpha/2}) = 1 - \\alpha$.\n",
    "    \n",
    "Sea\n",
    "    \n",
    "$$C_n = (\\hat\\theta_n - z_{\\alpha/2} \\cdot \\texttt{se} \\text{ } , \\text{ } \\hat\\theta_n + z_{\\alpha/2} \\cdot \\texttt{se})$$\n",
    "\n",
    "Entonces, \n",
    "\n",
    "$$\\mathbb{P}_\\theta(\\theta \\in C_n) \\to 1 - \\alpha$$\n",
    "</div>"
   ]
  },
  {
   "cell_type": "markdown",
   "id": "872cd5ad",
   "metadata": {
    "slideshow": {
     "slide_type": "slide"
    }
   },
   "source": [
    "**Demostración**. \n",
    "\n",
    "Sea $Z_n = \\frac{(\\hat\\theta_n - \\theta)}{\\texttt{se}}$, luego $Z_n \\sim N(0, 1)$. \n",
    "\n",
    "De esta manera,\n",
    "\n",
    "\\begin{align*}\n",
    "    \\mathbb{P}_\\theta (\\theta \\in C_n) & = \\mathbb{P} \\left(\\hat\\theta_n - z_{\\alpha/2} \\cdot \\texttt{se} < \\theta < \\hat\\theta_n + z_{\\alpha/2} \\cdot \\texttt{se} \\right) \\\\\n",
    "     & = \\mathbb{P} \\left( - z_{\\alpha/2} < \\frac{(\\hat\\theta_n - \\theta)}{\\texttt{se}} < z_{\\alpha/2} \\right) \\\\\n",
    "     & = \\mathbb{P} \\left( - z_{\\alpha/2} < Z_n < z_{\\alpha/2} \\right) \\to \\mathbb{P} \\left( - z_{\\alpha/2} < Z < z_{\\alpha/2} \\right) = 1 - \\alpha\n",
    "\\end{align*}"
   ]
  },
  {
   "cell_type": "markdown",
   "id": "e986193d-9bca-488a-a3d5-7d1b72b8bed1",
   "metadata": {
    "slideshow": {
     "slide_type": "slide"
    }
   },
   "source": [
    "## Intervalo para Medias\n",
    "\n",
    "Sea una $\\{X_i\\}_{i = 1}^n$ una secuencia de variables iid tal que $E(X_i) = \\mu < \\infty$ y $V(X_i) = \\sigma^2 < \\infty$.\n",
    "\n",
    "Los resultados anteriores nos permiten concluir que $\\bar{X_n} \\sim N(\\mu, \\frac{\\sigma^2}{n})$. Por lo tanto, sabemos que \n",
    "\n",
    "$$Z_n = \\frac{\\bar X_n - \\mu}{\\sigma/\\sqrt n} \\sim N(0, 1)$$\n",
    "\n",
    "$$\\mathbb{P} \\left( - z_{\\alpha/2} < Z_n < z_{\\alpha/2} \\right) = \\mathbb{P} \\left( - z_{\\alpha/2} < \\frac{\\bar X_n - \\mu}{\\sigma/\\sqrt n} < z_{\\alpha/2} \\right) \\to 1 - \\alpha$$\n",
    "\n",
    "Así, podemos concluir que\n",
    "\n",
    "$$ \\mathbb{P} \\left(\\bar X_n - z_{\\alpha/2} \\cdot \\sigma/\\sqrt n < \\mu < \\bar X_n + z_{\\alpha/2} \\cdot \\sigma/\\sqrt n \\right) \\to 1 - \\alpha$$"
   ]
  },
  {
   "cell_type": "markdown",
   "id": "84b51f31-90d3-4ddd-842d-5a537a5e732c",
   "metadata": {
    "slideshow": {
     "slide_type": "slide"
    }
   },
   "source": [
    "El resultado anterior nos dice que a partir de una muestra de tamañano $n$ podemos estimar que el parámetro desconocido $\\mu$ se encuentra en el intervalo $(\\bar X_n - z_{\\alpha/2} \\cdot \\frac{\\sigma}{\\sqrt n}, \\bar X_n + z_{\\alpha/2} \\cdot \\frac{\\sigma}{\\sqrt n})$ con una confianza del $(1 - \\alpha) 100\\%$. Sin embargo, debemos conocer el parámetro $\\sigma$.\n",
    "\n",
    "Si no conocemos $\\sigma$, podemos estimarlo usando $S_n^2$. En este caso, debemos definir\n",
    "\n",
    "$$T_n = \\frac{\\bar X_n - \\mu}{S/\\sqrt n} \\sim t_{n-1}$$\n",
    "\n",
    "Luego, el intervalo de confianza para $\\mu$ está dado por \n",
    "\n",
    "$$\\left(\\bar X_n - t_{\\alpha/2,\\text{ } n-1} \\cdot \\frac{S}{\\sqrt n}, \\bar X_n + t_{\\alpha/2,\\text{ } n-1} \\cdot \\frac{S}{\\sqrt n} \\right)$$"
   ]
  },
  {
   "cell_type": "markdown",
   "id": "6b753c23-13d7-4e5a-9ca2-f4f734e60271",
   "metadata": {
    "slideshow": {
     "slide_type": "slide"
    }
   },
   "source": [
    "## Intervalo para Diferencia de Medias\n",
    "\n",
    "El intervalo de confianza para la diferencia de medias $\\mu_1 - \\mu_2$ para dos poblaciones que se distrubuyen normal con varianzas $\\sigma_1^2$ y $\\sigma_2^2$ usando muestras aleatorias independientes está dado por\n",
    "\n",
    "$$\\left( (\\bar X_1 - \\bar X_2) - z_{\\alpha/2} \\cdot \\sqrt{\\frac{\\sigma_1^2}{n_1} + \\frac{\\sigma_2^2}{n_2}} \\hspace{4pt} , \\hspace{4pt} (\\bar X_1 - \\bar X_2) + z_{\\alpha/2} \\cdot \\sqrt{\\frac{\\sigma_1^2}{n_1} + \\frac{\\sigma_2^2}{n_2}} \\right)$$\n",
    "\n",
    "Si se desconocen los parámetros $\\sigma_1^2$ y $\\sigma_2^2$, el intervalo de confianza está dado por\n",
    "\n",
    "$$\\left( (\\bar X_1 - \\bar X_2) - t_{\\alpha/2, n_1 + n_2 - 2} \\cdot  S_p \\sqrt{\\frac{1}{n_1} + \\frac{1}{n_2}} \\hspace{4pt} , \\hspace{4pt} (\\bar X_1 - \\bar X_2) + t_{\\alpha/2, n_1 + n_2 - 2} \\cdot  S_p \\sqrt{\\frac{1}{n_1} + \\frac{1}{n_2}} \\right)$$\n",
    "\n",
    "donde \n",
    "\n",
    "$$S_p = \\sqrt{\\frac{(n_1-1) S_1^2 + (n_2-1) S_2^2}{n_1 + n_2 - 2}}$$"
   ]
  },
  {
   "cell_type": "markdown",
   "id": "cac21d64-da1b-4142-9f0a-5754811a9181",
   "metadata": {
    "slideshow": {
     "slide_type": "slide"
    }
   },
   "source": [
    "## Prueba de Hipótesis\n",
    "\n",
    "Una **hipótesis estadística** es una afirmación o conjetura acerca de un parámetro poblacional desconocido. \n",
    "\n",
    "Para probar una hipótesis, iniciamos con una teoría o **hipótesis nula** ($H_0$) y nos preguntamos si los datos proveen suficiente evidencia para rechazar dicha teoría. En caso de rechar dicha hipótesis, decimos que se rechaza a favor de una **hipótesis alternativa** ($H_1$). Usalmente, escribimos\n",
    "\n",
    "$$H_0 : \\theta = \\kappa$$\n",
    "$$H_1 : \\theta \\neq \\kappa$$\n",
    "\n",
    "La hipótesis se prueba encontrando una **región de rechazo**, $R$, tal que \n",
    "\n",
    "$$\\text{si } \\hat\\theta_n \\in R \\Rightarrow \\text{ rechace } H_0$$\n",
    "$$\\text{si } \\hat\\theta_n \\not\\in  R \\Rightarrow \\text{ no rechace } H_0$$\n"
   ]
  },
  {
   "cell_type": "markdown",
   "id": "166e6717-0429-4eeb-8ae7-fb0e398675fd",
   "metadata": {
    "slideshow": {
     "slide_type": "slide"
    }
   },
   "source": [
    "Cuando realizamos pruebas de hipótesis podemos caer en dos tipos de errores:\n",
    "\n",
    "|              | Aceptar $H_0$          | Rechazar $H_0$          |\n",
    "|--------------|------------------------|-------------------------|\n",
    "| $H_0$ verdad | Ok                     | Error tipo 1 ($\\alpha$) |\n",
    "| $H_0$ falsa  | Error tipo 2 ($\\beta$) | Ok (poder)              |\n",
    "\n",
    "Es dificil minimizar ambos errores al tiempo, asi que fijamos un nivel bajo para $\\alpha$.\n",
    "\n",
    "El **p-valor** es el nivel de significancia más pequeño al cual podemos rechazar la hypothesis nula."
   ]
  },
  {
   "cell_type": "markdown",
   "id": "571e191e-2e7e-43f5-9f55-6a0532e1446b",
   "metadata": {
    "slideshow": {
     "slide_type": "slide"
    }
   },
   "source": [
    "## Hipotesis para Medias\n",
    "\n",
    "Suponga que $X_i \\sim N(\\mu, \\sigma^2)$ y queremos probar que $H_0 : \\mu = \\mu_0$ versus $H_1 : \\mu \\neq \\mu_0$\n",
    "\n",
    "Asumiendo que $\\sigma$ es desconocido, usaremos el siguiente estadístico de prueba:\n",
    "\n",
    "$$T = \\frac{\\bar X -  \\mu_0}{S/\\sqrt n} \\sim t_{n-1}$$\n",
    "\n",
    "A un nivel $\\alpha$, la región de rechazo de la hipotesis nula está definida por $|T| \\geq t_c$ donde el valor crítico es $t_c = t_{\\alpha/2, \\hspace{3pt} n-1}$ \n",
    "\n",
    "Observe que no rechazamos $H_0$ si\n",
    "\n",
    "$$\\mu_0 \\in \\left(\\bar X_n - t_{\\alpha/2,\\text{ } n-1} \\cdot \\frac{S}{\\sqrt n}, \\bar X_n + t_{\\alpha/2,\\text{ } n-1} \\cdot \\frac{S}{\\sqrt n} \\right)$$\n",
    "\n",
    "<div class=\"alert alert-block alert-warning\"> \n",
    "<b>EJEMPLO:</b>\n",
    "<p>\n",
    "\n",
    "Suponga que $\\bar X = 5$ y $S^2 = 2$. ¿Podemos concluir que $\\mu = 6$ con una muestra de 25 observaciones?\n",
    "\n",
    "</div>"
   ]
  },
  {
   "cell_type": "code",
   "execution_count": 56,
   "id": "a02ba4e6-aaa1-498d-ad44-aab00dae3eea",
   "metadata": {
    "slideshow": {
     "slide_type": "slide"
    }
   },
   "outputs": [
    {
     "name": "stdout",
     "output_type": "stream",
     "text": [
      "[1] \"T =  -1.76776695296637\"\n"
     ]
    },
    {
     "data": {
      "text/html": [
       "<span style=white-space:pre-wrap>'Región de No Rechazo = [ -2.064  ,  2.064 ]'</span>"
      ],
      "text/latex": [
       "'Región de No Rechazo = {[} -2.064  ,  2.064 {]}'"
      ],
      "text/markdown": [
       "<span style=white-space:pre-wrap>'Región de No Rechazo = [ -2.064  ,  2.064 ]'</span>"
      ],
      "text/plain": [
       "[1] \"Región de No Rechazo = [ -2.064  ,  2.064 ]\""
      ]
     },
     "metadata": {},
     "output_type": "display_data"
    },
    {
     "data": {
      "text/html": [
       "0.0898130810840368"
      ],
      "text/latex": [
       "0.0898130810840368"
      ],
      "text/markdown": [
       "0.0898130810840368"
      ],
      "text/plain": [
       "[1] 0.08981308"
      ]
     },
     "metadata": {},
     "output_type": "display_data"
    },
    {
     "data": {
      "text/html": [
       "<span style=white-space:pre-wrap>'Región de p-valor = [ -1.768  ,  1.768 ]'</span>"
      ],
      "text/latex": [
       "'Región de p-valor = {[} -1.768  ,  1.768 {]}'"
      ],
      "text/markdown": [
       "<span style=white-space:pre-wrap>'Región de p-valor = [ -1.768  ,  1.768 ]'</span>"
      ],
      "text/plain": [
       "[1] \"Región de p-valor = [ -1.768  ,  1.768 ]\""
      ]
     },
     "metadata": {},
     "output_type": "display_data"
    }
   ],
   "source": [
    "#Definir un nivel de significancia\n",
    "alpha <- 0.05\n",
    "\n",
    "#Valores dados\n",
    "xbar <- 5.5\n",
    "S <- sqrt(2)\n",
    "n <- 25\n",
    "\n",
    "#Estadístico de Prueba\n",
    "T = (xbar - 6)/(S/sqrt(n)); print(paste(\"T = \", T))\n",
    "\n",
    "#Region de no rechazo\n",
    "tc <- qt(alpha/2, n-1) #Valor crítico\n",
    "paste(\"Región de No Rechazo = [\", round(tc, 3), \" , \", -round(tc, 3), \"]\")\n",
    "\n",
    "#P-valor\n",
    "pval <- 2*pt(T, n-1); pval\n",
    "\n",
    "#Region con p-valor\n",
    "tc <- qt(pval/2, n-1) #Valor crítico\n",
    "paste(\"Región de p-valor = [\", round(tc, 3), \" , \", -round(tc, 3), \"]\")"
   ]
  }
 ],
 "metadata": {
  "celltoolbar": "Slideshow",
  "kernelspec": {
   "display_name": "R",
   "language": "R",
   "name": "ir"
  },
  "language_info": {
   "codemirror_mode": "r",
   "file_extension": ".r",
   "mimetype": "text/x-r-source",
   "name": "R",
   "pygments_lexer": "r",
   "version": "4.3.2"
  }
 },
 "nbformat": 4,
 "nbformat_minor": 5
}
