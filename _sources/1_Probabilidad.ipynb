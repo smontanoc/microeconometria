{
 "cells": [
  {
   "cell_type": "markdown",
   "id": "e0a3b0ae",
   "metadata": {
    "slideshow": {
     "slide_type": "slide"
    }
   },
   "source": [
    "# Fundamentos de Probabilidad\n",
    "\n",
    "La probabilidad es un lenguaje matemático para cuantificar la incertidumbre. En este documento presentamos conceptos básicos de probabilidad que son importantes para nuestro curso."
   ]
  },
  {
   "cell_type": "markdown",
   "id": "0df23da9",
   "metadata": {
    "slideshow": {
     "slide_type": "slide"
    }
   },
   "source": [
    "## Espacio Muestral y Eventos\n",
    "\n",
    "El **espacio muestral** $\\Omega$ es el conjunto de todos los posibles resultados de un experimento aleatorio. \n",
    "\n",
    "Los elementos $\\omega \\in \\Omega$ se concen como **realizaciones** o resultados muestrales. \n",
    "\n",
    "Los subconjuntos de $\\Omega$ se conocen como **eventos**.\n",
    "\n",
    "\n",
    "<div class=\"alert alert-block alert-warning\"> \n",
    "<b>EJEMPLO:</b>\n",
    "<p>\n",
    "\n",
    "Se lanza una moneda justa al aire dos veces. Solo hay dos posibles realizaciones en cada lanzamiento: $C$ ó $S$. En este caso \n",
    "    \n",
    "$$\\Omega = \\{(C,C),(C,S),(S,C),(S,S) \\}$$\n",
    "\n",
    "</div>"
   ]
  },
  {
   "cell_type": "markdown",
   "id": "9b21200c",
   "metadata": {
    "slideshow": {
     "slide_type": "slide"
    }
   },
   "source": [
    "## Medida de Probabilidad\n",
    "\n",
    "Una <b>medida de probabilidad</b> es una función $\\mathbb{P} : \\Omega \\rightarrow [0, 1]$ tal que:\n",
    "\n",
    "1. $\\mathbb{P}(A) \\geq 0$, $\\forall A \\subseteq \\Omega$\n",
    "2. $\\mathbb{P}(\\Omega) = 1$\n",
    "3. Si $A_1$, $A_2$, ... son subconjuntos disjuntos de $\\Omega$, entonces \n",
    "\n",
    "$$\\mathbb{P}\\left(\\bigcup^{\\infty}_{i=1} A_i \\right) = \\sum_{i = 1}^\\infty \\mathbb{P}(A_i)$$\n",
    "\n",
    "\n",
    "En el ejemplo anterior:\n",
    "\n",
    "| $\\omega \\in \\Omega$ | $\\mathbb{P}(\\{\\omega\\})$ |\n",
    "| --- | --- |\n",
    "| (S, S) | 1/4 |\n",
    "| (S, C) | 1/4 |\n",
    "| (C, S) | 1/4 |\n",
    "| (C, C) | 1/4 |"
   ]
  },
  {
   "cell_type": "markdown",
   "id": "7d1d0ce2-ce1b-4bb9-93f5-fb3ec4ccc73c",
   "metadata": {
    "slideshow": {
     "slide_type": "slide"
    }
   },
   "source": [
    "## Propiedades de Probabilidad\n",
    "\n",
    "Muchas propiedades de $\\mathbb{P}$ se pueden derivar a partir de los axiomas. En particular,\n",
    "\n",
    "1. $\\mathbb{P}(\\emptyset) = 0$\n",
    "2. $A \\subset B \\Rightarrow \\mathbb{P}(A) \\leq \\mathbb{P}(B)$\n",
    "3. $0 \\leq \\mathbb{P}(A) \\leq 1$\n",
    "4. $\\mathbb{P}(A^c) = 1 - \\mathbb{P}(A)$\n",
    "\n",
    "Una propiedad menos obvia está dada por el siguiente lema\n",
    "\n",
    "<div class=\"alert alert-block alert-info\">\n",
    "<b>LEMA:</b>\n",
    "<p>\n",
    "    \n",
    "Para todo evento $A$ y $B$, \n",
    "\n",
    "$$\\mathbb{P}\\left(A \\cup B \\right) = \\mathbb{P}(A) + \\mathbb{P}(B) - \\mathbb{P}\\left(A \\cap B \\right)$$\n",
    "</div>"
   ]
  },
  {
   "cell_type": "markdown",
   "id": "4165ce59",
   "metadata": {
    "slideshow": {
     "slide_type": "slide"
    }
   },
   "source": [
    "## Eventos Independientes\n",
    "\n",
    "Dos eventos $A$ y $B$ son independientes si y solo si \n",
    "\n",
    "$$\\mathbb{P}\\left(A \\cap B \\right) = \\mathbb{P}(A) \\cdot \\mathbb{P}(B)$$\n",
    "\n",
    "<div class=\"alert alert-block alert-warning\"> \n",
    "<b>EJEMPLO:</b>\n",
    "<p> \n",
    "    \n",
    "¿Cuál es la probabilidad de obtener $S$ en el primer lanzamiento y $C$ en el segundo lanzamiento de una moneda justa?\n",
    "\n",
    "$$\\mathbb{P}(S \\cap C) = \\mathbb{P}(S) \\cdot \\mathbb{P}(C) = 1/2 \\cdot 1/2 = 1/4$$\n",
    "\n",
    "Los lanzamientos de una moneda justa son independientes\n",
    "\n",
    "</div>\n",
    "\n",
    "Observe que si $A$ y $B$ son eventos disjuntos con probabilidades positivas, estos no son independientes. Note que \n",
    "\n",
    "$$\\mathbb{P}\\left(A \\cap B \\right) = \\mathbb{P}(\\emptyset) = 0$$\n",
    "\n",
    "$$\\mathbb{P}(A) \\cdot \\mathbb{P}(B) > 0$$\n"
   ]
  },
  {
   "cell_type": "markdown",
   "id": "245f1a60",
   "metadata": {
    "slideshow": {
     "slide_type": "slide"
    }
   },
   "source": [
    "## Probabilidad Condicional\n",
    "\n",
    "Si $\\mathbb{P}(B) > 0$ entonces la **probabilidad condicional** de $A$ dado $B$ está dada por \n",
    "\n",
    "$$\\mathbb{P}(A | B) = \\frac{\\mathbb{P}(A \\cap B)}{\\mathbb{P}(B)}$$\n",
    "\n",
    "<div class=\"alert alert-block alert-warning\"> \n",
    "<b>EJEMPLO:</b>\n",
    "<p> \n",
    "    \n",
    "¿Cuál es la probabilidad de obtener $S$ en el segundo lanzamiento de una moneda justa dado que en el primer lanzamiento obtuve $C$?\n",
    "\n",
    "$$\\mathbb{P}(S | C) = \\frac{\\mathbb{P}(S , C)}{\\mathbb{P}(C)} = \\frac{\\mathbb{P}(S) \\cdot \\mathbb{P}(C)}{\\mathbb{P}(C)} = \\frac{1/2 \\cdot 1/2}{1/2} = 1/2 = P(S)$$\n",
    "\n",
    "La realización del primer lanzamiento no ofrece información relevante para el resultado del segundo lanzamiento. Es decir, los eventos son independientes.\n",
    "</div>"
   ]
  },
  {
   "cell_type": "markdown",
   "id": "c9e3a69d",
   "metadata": {
    "slideshow": {
     "slide_type": "slide"
    }
   },
   "source": [
    "<div class=\"alert alert-block alert-info\">\n",
    "<b>LEMA:</b>\n",
    "<p>\n",
    "    \n",
    "Si $A$ y $B$ son independientes, entonces $\\mathbb{P}(A | B) = \\mathbb{P}(A)$. \n",
    "\n",
    "Además, para cualquier pareja de eventos $A$ y $B$ con probabilidad positiva, se tiene que \n",
    "    \n",
    "$$\\mathbb{P}(A \\cap B) = \\mathbb{P}(A | B) \\cdot \\mathbb{P}(B) = \\mathbb{P}(B | A) \\cdot \\mathbb{P}(A)$$\n",
    "</div>"
   ]
  },
  {
   "cell_type": "markdown",
   "id": "325108d0",
   "metadata": {
    "slideshow": {
     "slide_type": "slide"
    }
   },
   "source": [
    "## Teorema de Bayes\n",
    "\n",
    "<div class=\"alert alert-block alert-info\">\n",
    "<b>TEOREMA (Ley de Probabilidad Total):</b>\n",
    "<p>\n",
    "    \n",
    "Sea $A_1, ..., A_k$ una partición de $\\Omega$. Así, para todo evento $B$,\n",
    "\n",
    "$$\\mathbb{P}(B) = \\sum_{i = 1}^k \\mathbb{P}(B|A_i) \\mathbb{P}(A_i)$$\n",
    "</div>\n",
    "\n",
    "<div class=\"alert alert-block alert-info\">\n",
    "<b>TEOREMA (Teorema de Bayes):</b>\n",
    "<p>\n",
    "    \n",
    "Sea $A_1, ..., A_k$ una partición de $\\Omega$ tal que $\\mathbb{P}(A_i) > 0$ para todo $i$. Si $\\mathbb{P}(B) > 0$, entonces para todo $i \\in \\{1, ..., k\\}$\n",
    "\n",
    "$$\\mathbb{P}(A_i | B) = \\frac{\\mathbb{P}(B|A_i)\\cdot \\mathbb{P}(A_i)}{\\sum_j \\mathbb{P}(B|A_j) \\mathbb{P}(A_j)}$$\n",
    "</div>"
   ]
  },
  {
   "cell_type": "markdown",
   "id": "47900170",
   "metadata": {
    "slideshow": {
     "slide_type": "slide"
    }
   },
   "source": [
    "## Variables Aleatorias\n",
    "\n",
    "La econometría hace uso de datos para analizar problemas económicos. Cuál es la relación entre los espacios muestrales y los eventos y los datos? El concepto clave es el de variable aleatoria.\n",
    "\n",
    "Una **variable aleatoria** es un mapeo que asigna un valor real $X(\\omega)$ a cada realización $\\omega$, es decir, \n",
    "\n",
    "$$X : \\Omega \\rightarrow \\mathbb{R}$$\n",
    "\n",
    "<div class=\"alert alert-block alert-warning\"> \n",
    "<b>EJEMPLO:</b>\n",
    "<p>\n",
    "\n",
    "Sea $X$ el número de veces que se obtiene $S$ al lanzar una moneda justa dos veces al aire.\n",
    "</div>"
   ]
  },
  {
   "cell_type": "markdown",
   "id": "e1c60fe7",
   "metadata": {
    "slideshow": {
     "slide_type": "slide"
    }
   },
   "source": [
    "Del ejemplo anterior podemos deducir que\n",
    "\n",
    "| $\\omega \\in \\Omega$ | $X(\\omega)$ | $\\mathbb{P}(\\{\\omega\\})$ |\n",
    "| --- | --- | --- |\n",
    "| (S, S) | 2 | 1/4 |\n",
    "| (S, C) | 1 | 1/4 |\n",
    "| (C, S) | 1 | 1/4 |\n",
    "| (C, C) | 0 | 1/4 |\n",
    "\n",
    "Note que al tomar solo las dos últimas columnas obtenemos la **distribución de probabilidad** de $X$\n",
    "\n",
    "| $x$ | $\\mathbb{P}(X = x)$ |\n",
    "| --- | --- |\n",
    "| 2 | 1/4 |\n",
    "| 1 | 1/2 |\n",
    "| 0 | 1/4 |\n"
   ]
  },
  {
   "cell_type": "markdown",
   "id": "cf691c29",
   "metadata": {
    "slideshow": {
     "slide_type": "slide"
    }
   },
   "source": [
    "## Funciones de Distribución\n",
    "\n",
    "La **función de distribución acumulada** (FDA) es una función $F_X : \\mathbb{R} \\rightarrow [0, 1]$ que se define como \n",
    "\n",
    "$$F_X(x) = P(X \\leq x)$$\n",
    "\n",
    "<div class=\"alert alert-block alert-warning\"> \n",
    "<b>EJEMPLO:</b>\n",
    "<p>\n",
    "\n",
    "Para el ejemplo anterior, la FDA de $X$ esta dada por\n",
    "\n",
    "\\begin{equation*}\n",
    "F_X(x) =\n",
    "    \\left\\{\\begin{array}{lr}\n",
    "    0, & x < 0 \\\\\n",
    "    1/4, & 0 \\le x < 1 \\\\\n",
    "    3/4, & 1 \\le x < 2 \\\\    \n",
    "    1, & x \\geq 2\n",
    "    \\end{array}\\right.\n",
    "\\end{equation*}\n",
    "\n",
    "Note que esta función es continua por derecha, no-decreciente, y está definida para todo $x$ en los reales, a pesar de que la variable solo toma valores 0, 1, y 2. Es por esto que $F_X(1.4) = 3/4$\n",
    "</div>"
   ]
  },
  {
   "cell_type": "markdown",
   "id": "8b8446ec",
   "metadata": {
    "slideshow": {
     "slide_type": "slide"
    }
   },
   "source": [
    "Una variable aleatoria $X$ es **discreta** si toma valores contables $\\{x_1, x_2\\}$. Definimos la distribución de probabilidad de $X$ como \n",
    "\n",
    "$$f_X(x) = P(X = x)$$\n",
    "\n",
    "Dos propiedades de esta función son:\n",
    "\n",
    "$$f_X(x) \\geq 0, \\forall x \\in \\mathbb{R}$$\n",
    "\n",
    "$$\\sum_i f_X(x_i) = 1$$\n",
    "\n",
    "La FDA de $X$ se relaciona con $f_X$ así: \n",
    "\n",
    "$$F_X(x) = P(X \\leq x) = \\sum_{x_i \\leq x} f_X(x_i)$$\n"
   ]
  },
  {
   "cell_type": "markdown",
   "id": "33cb1687",
   "metadata": {
    "slideshow": {
     "slide_type": "slide"
    }
   },
   "source": [
    "<div class=\"alert alert-block alert-warning\"> \n",
    "<b>EJEMPLO:</b>\n",
    "<p>\n",
    "\n",
    "Para nuesto ejemplo, la distribución de probabilidad de $X$ esta dada por\n",
    "\n",
    "\\begin{equation*}\n",
    "f_X(x) =\n",
    "    \\left\\{\\begin{array}{lr}\n",
    "    1/4, & x = 0 \\\\\n",
    "    1/2, & x = 1 \\\\\n",
    "    1/4, & x = 2 \\\\    \n",
    "    0, & \\text{otro caso}\n",
    "    \\end{array}\\right.\n",
    "\\end{equation*}\n",
    "\n",
    "</div>"
   ]
  },
  {
   "cell_type": "markdown",
   "id": "2be00a95",
   "metadata": {
    "slideshow": {
     "slide_type": "slide"
    }
   },
   "source": [
    "Una variable $X$ es **continua** si existe una funcion $f_X$ tal que \n",
    "\n",
    "1. $f_X(x) \\geq 0$ para todo $x \\in \\mathbb{R}$\n",
    "2. $\\int_{-\\infty}^{\\infty} f_X(x) dx = 1$\n",
    "3. Para todo $a \\leq b$ se tiene que \n",
    "\n",
    "$$\\mathbb{P}(a\\leq X \\leq b) = \\int_a^b f_X(x) dx$$\n",
    "\n",
    "$f_X$ se conoce como la **función de densidad** de $X$. Note además que \n",
    "\n",
    "$$F_X(x) = F(X \\leq x) = \\int_{-\\infty}^x f_X(t) dt$$\n",
    "\n",
    "Por lo tanto, \n",
    "\n",
    "$$f_X(x) = F'_X(x) = \\frac{\\partial F_X}{\\partial x}$$"
   ]
  },
  {
   "cell_type": "markdown",
   "id": "a185c987",
   "metadata": {
    "slideshow": {
     "slide_type": "slide"
    }
   },
   "source": [
    "<div class=\"alert alert-block alert-warning\"> \n",
    "<b>EJEMPLO:</b>\n",
    "<p>\n",
    "\n",
    "Suponga que $X$ tiene una función de densidad dada por\n",
    "\n",
    "\\begin{equation*}\n",
    "f_X(x) =\n",
    "    \\left\\{\\begin{array}{lr}\n",
    "    1, & 0 \\leq x \\leq 1 \\\\\n",
    "    0, & \\text{otro caso}\n",
    "    \\end{array}\\right.\n",
    "\\end{equation*}\n",
    "\n",
    "Note que $f_X(x) \\geq 0$ y $\\int_{-\\infty}^{\\infty} f_X(x) dx = 1$. Finalmente observe que\n",
    "\n",
    "\\begin{equation*}\n",
    "F_X(x) =\n",
    "    \\left\\{\\begin{array}{lr}\n",
    "    0, & x < 0 \\\\\n",
    "    x, & 0 \\leq x \\leq 1 \\\\\n",
    "    1, & x > 1\n",
    "    \\end{array}\\right.\n",
    "\\end{equation*}\n",
    "</div>\n"
   ]
  },
  {
   "cell_type": "markdown",
   "id": "f4f83a4a",
   "metadata": {
    "slideshow": {
     "slide_type": "slide"
    }
   },
   "source": [
    "## Propiedades de $F_X$\n",
    "\n",
    "Para una variable aleatoria $X$, algunas propiedades de $F_X$ son:\n",
    "\n",
    "$$\\mathbb{P}(X = x) = F(x) - F(x^-), \\text{ donde } F(x^-) = \\lim_{y\\uparrow x} F(y)$$\n",
    "\n",
    "$$\\mathbb{P}(x < X \\leq y) = F(y) - F(x)$$\n",
    "\n",
    "$$\\mathbb{P}(X > x) = 1 - F(x)$$\n",
    "\n",
    "Si $X$ es continua, entonces \n",
    "   \n",
    "\\begin{align*}\n",
    "    F(b) -  F(a) & = \\mathbb{P}(a < X < b) =  \\mathbb{P}(a \\leq X < b)\\\\\n",
    "     & = \\mathbb{P}(a < X \\leq b) =  \\mathbb{P}(a \\leq X \\leq b)\n",
    "\\end{align*}"
   ]
  },
  {
   "cell_type": "markdown",
   "id": "92ae10b8",
   "metadata": {
    "slideshow": {
     "slide_type": "slide"
    }
   },
   "source": [
    "## Función Inversa (o de Cuantiles) de $F_X$\n",
    "\n",
    "La inversa de $F_X$ está definida por \n",
    "\n",
    "$$F^{-1}(q) = \\inf \\left\\{x : F(x) > q \\right\\}$$\n",
    "\n",
    "para todo $q \\in [0, 1]$. \n",
    "\n",
    "Note que si $F$ es estrictamente creciente y continua, entonces $F^{-1}(q)$ es el unico valor real $x$ tal que $F(x) = q$"
   ]
  },
  {
   "cell_type": "markdown",
   "id": "4626d863",
   "metadata": {
    "slideshow": {
     "slide_type": "slide"
    }
   },
   "source": [
    "## Algunas Variables Discretas Importantes\n",
    "\n",
    "**Bernoulli**. Si $X$ es una variable aleatoria que toma valores binarios tal que $\\mathbb{P}(X = 1) = p$ y $\\mathbb{P}(X = 0) = 1-p$, para algún $p \\in [0, 1]$, decimos que $X \\sim$ Bernoulli($p$). La función de distribución está dada por $f(x) = p^x (1- p)^{1-x}$ para $x \\in \\{0, 1\\}$.\n",
    "\n",
    "\n",
    "<div class=\"alert alert-block alert-warning\"> \n",
    "<b>EJEMPLO:</b>\n",
    "<p>\n",
    "\n",
    "Definamos $X$ como sacar $S$ en el lanzamiento de una moneda justa. Entonces, $X(S) = 1$, $X(C) = 0$ y $p = 1/2$. \n",
    "\n",
    "Note que \n",
    "\n",
    "$$f(X = 1) = \\mathbb{P}(S) = (1/2)^1 (1-1/2)^{1-1} = 1/2$$ \n",
    "\n",
    "$$f(X = 0) = \\mathbb{P}(C) = (1/2)^0 (1-1/2)^{1-0} = 1/2$$\n",
    "    \n",
    "</div>"
   ]
  },
  {
   "cell_type": "markdown",
   "id": "52c4c83c",
   "metadata": {
    "slideshow": {
     "slide_type": "slide"
    }
   },
   "source": [
    "**Binomial**. Suponga que tenemos una moneda con probabilidad $p \\in [0, 1]$ de caer en $S$. Sea $X$ la variable que cuenta el número de veces que la moneda cae en $S$ en $n$ lanzamientos. La función de distribución está dada por \n",
    "\n",
    "\\begin{equation*}\n",
    "f(x) =\n",
    "    \\left\\{\\begin{array}{lr}\n",
    "    {n \\choose x} p^x (1- p)^{1-x} & \\text{ para } x = 0, 1, ..., n \\\\\n",
    "    0 & \\text{en cualquier otro caso}\n",
    "    \\end{array}\\right.\n",
    "\\end{equation*}\n",
    "\n",
    "En este caso decimos que $X \\sim$ Binomial($n, p$). \n",
    "\n",
    "<div class=\"alert alert-block alert-info\">\n",
    "<b>TEOREMA:</b>\n",
    "<p>\n",
    "    \n",
    "si $X_1 \\sim$ Binomial($n_1, p$) y $X_2 \\sim$ Binomial($n_2, p$), entonces \n",
    "\n",
    "$$X_1 + X_2 \\sim \\text{Binomial(} n_1 + n_2, p \\text{)}.$$\n",
    "</div>"
   ]
  },
  {
   "cell_type": "markdown",
   "id": "7877872a",
   "metadata": {
    "slideshow": {
     "slide_type": "slide"
    }
   },
   "source": [
    "**Geométrica**. $X$ tiene una distribución geométrica con parámetro $p$ si \n",
    "\n",
    "$$f(x) = P(X = k) = p(1-p)^{k-1}, \\text{ con } k \\geq 1.$$\n",
    "\n",
    "Se puede pensar en $X$ como el número de veces que se requiren para obtener el primer $S$ cuando se lanza una moneda justa.\n",
    "\n",
    "**Poisson**. $X$ tiene distribución poisson con parámetro $\\lambda$ si \n",
    "\n",
    "$$f(x) = e^{-\\lambda}\\frac{\\lambda^x}{x!}, \\text{ con } x \\geq 0.$$"
   ]
  },
  {
   "cell_type": "markdown",
   "id": "2e33dd80",
   "metadata": {
    "slideshow": {
     "slide_type": "slide"
    }
   },
   "source": [
    "## Algunas Variables Continuas Importantes\n",
    "\n",
    "**Uniforme**. $X$ tiene distribución uniforme con parámetros $a < b$ si\n",
    "\n",
    "\\begin{equation*}\n",
    "f(x) =\n",
    "    \\left\\{\\begin{array}{lr}\n",
    "    \\frac{1}{b-a} & \\text{ para } x \\in [a, b] \\\\\n",
    "    0 & \\text{en cualquier otro caso}\n",
    "    \\end{array}\\right.\n",
    "\\end{equation*}\n",
    "\n",
    "Decimos entonces que $X \\sim U(a, b)$"
   ]
  },
  {
   "cell_type": "markdown",
   "id": "df6655dc",
   "metadata": {
    "slideshow": {
     "slide_type": "slide"
    }
   },
   "source": [
    "**Normal (o Gausiana)**. $X$ tiene distribución normal con parámetros $\\mu \\in \\mathbb{R}$ y $\\sigma > 0$, si \n",
    "\n",
    "$$f(x) = \\frac{1}{\\sigma \\sqrt{2\\pi}} \\exp \\left\\{ - \\frac{1}{2\\sigma^2} (x - \\mu) \\right\\} , \\text{ para } x \\in \\mathbb{R}$$\n",
    "\n",
    "Decimos entonces que $X \\sim N(\\mu, \\sigma^2)$.\n",
    "\n",
    "El parámetro $\\mu$ es el centro (o media) de la distribución y $\\sigma$ es la disperción (o desviación estandar).\n",
    "\n",
    "Decimos que $Z$ se distribuye **normal estandar** si $\\mu = 0$ y $\\sigma = 1$, en cuyo caso la distribución se denota por $\\phi(z)$ y la FDA por $\\Phi(z)$."
   ]
  },
  {
   "cell_type": "markdown",
   "id": "4e92864a",
   "metadata": {
    "slideshow": {
     "slide_type": "slide"
    }
   },
   "source": [
    "Algunas propiedades útiles para variables con distribución normal son:\n",
    "\n",
    "Si $X \\sim N(\\mu, \\sigma^2)$, entonces $Z = \\frac{X - \\mu}{\\sigma} \\sim N(0, 1)$\n",
    "\n",
    "Si $Z \\sim N(0, 1)$, entonces $X = \\mu + \\sigma Z \\sim N(\\mu, \\sigma^2)$\n",
    "\n",
    "Si $X \\sim N(\\mu, \\sigma^2)$, entonces $Y = a X + b \\sim N(a \\mu + b, a^2 \\sigma^2)$\n",
    "\n",
    "Si $X_i \\sim N(\\mu_i, \\sigma_i)$, $i = 1, ..., n$ son variables independientes, entonces \n",
    "\n",
    "$$\\sum_{i=1}^{n} X_i \\sim N\\left(\\sum_{i=1}^{n} \\mu_i, \\sum_{i=1}^{n} \\sigma^2_i \\right)$$\n",
    "\n",
    "Si $X \\sim N(\\mu, \\sigma^2)$, entonces \n",
    "\n",
    "\\begin{align*}\n",
    "    \\mathbb{P}(a < X < b) & = \\mathbb{P} \\left( \\frac{a - \\mu}{\\sigma} < Z < \\frac{b - \\mu}{\\sigma} \\right)\\\\\n",
    "     & = \\Phi \\left(\\frac{b - \\mu}{\\sigma} \\right) - \\Phi \\left(\\frac{a - \\mu}{\\sigma} \\right)\n",
    "\\end{align*}"
   ]
  },
  {
   "cell_type": "markdown",
   "id": "9e6822da",
   "metadata": {
    "slideshow": {
     "slide_type": "slide"
    }
   },
   "source": [
    "Ciertas transformaciones de una variable normal dan como resultado otro tipo de distribuciónes. \n",
    "\n",
    "Decimos que $X \\sim \\chi_n^2$ si \n",
    "\n",
    "$$X = \\sum_{i = 1}^n Z_i^2$$\n",
    "\n",
    "donde $Z_i \\sim N(0, 1)$ son $n$ variables aleatorias independientes$^*$ y $n$ representa los grados de libertad.\n",
    "\n",
    "$^*$veremos el concepto de independencia más adelante\n",
    "\n",
    "Decimos que $X \\sim t_{n}$ si \n",
    "\n",
    "$$X = \\frac{Z}{\\sqrt{\\frac{Y}{n}}}, \\text{ donde } Y \\sim \\chi_n^2$$\n",
    "\n",
    "Decimos que $X \\sim F_{n_1, n_2}$ si\n",
    "\n",
    "$$X = \\frac{Y_1/n_1}{Y_2/n_2}, \\text{ donde } Y_1 \\sim \\chi^2_{n_1} \\text{ y } Y_2 \\sim \\chi^2_{n_2}$$\n"
   ]
  },
  {
   "cell_type": "markdown",
   "id": "71529c99",
   "metadata": {
    "slideshow": {
     "slide_type": "slide"
    }
   },
   "source": [
    "## Distribuciónes Bivariadas\n",
    "\n",
    "Para dos variables aleatorias discretas $X$ y $Y$ la **distribución de probabilidad conjunta** está dada por $f(x, y)= \\mathbb{P}(X = x, Y = y)$ \n",
    "\n",
    "La **distribución marginal** de $X$ está dada por \n",
    "\n",
    "$$\\mathbb{P}(X = x) = \\sum_y \\mathbb{P}(X = x, Y = y)$$\n",
    "\n",
    "Supongan que $X \\in \\{0, 1\\}$ y $Y \\in \\{1, 2, 3\\}$ con probabilidad conjunta dada por la siguiente tabla:\n",
    "\n",
    "| $(X \\backslash Y)$ | 1     | 2     | 3     | $\\mathbb{P}(X = x)$ |\n",
    "|--------------------|-------|-------|-------|-----------|\n",
    "| 0                  | 1/9   | 2/9   | 0     | 3/9       |\n",
    "| 1                  | 2/9   | 3/9   | 1/9   | 6/9       |\n",
    "| $\\mathbb{P}(Y = y)$| 3/9   | 5/9   | 1/9   | 1         |\n",
    "\n",
    "\n",
    "Observe que $\\mathbb{P}(X = 1, Y = 2) = 3/9$"
   ]
  },
  {
   "cell_type": "markdown",
   "id": "3fa8fd8e",
   "metadata": {
    "slideshow": {
     "slide_type": "slide"
    }
   },
   "source": [
    "En el caso continuo, una función $f(x, y)$ es una distribución de densidad si\n",
    "\n",
    "(1) $f(x, y) > 0$ para todo $(x, y)$\n",
    "\n",
    "(2) $\\int_{-\\infty}^{\\infty} \\int_{-\\infty}^{\\infty} f(x, y) dx dy= 1$\n",
    "\n",
    "(3) para todo conjunto $A \\subset \\mathbb{R} \\times \\mathbb{R}$,\n",
    "\n",
    "$$\\mathbb{P}((X, Y) \\in A) = \\int\\int_A f(x, y) dx dy$$\n",
    "\n",
    "La **densidad marginal** $X$ está dada por \n",
    "\n",
    "$$f_X(x) = \\int f(x, y) dy$$\n",
    "\n",
    "En ambos casos definimos la distribución conjunta acumulada como $F_{X, Y}(x, y) = P(X \\leq x, Y \\leq y)$"
   ]
  },
  {
   "cell_type": "markdown",
   "id": "cab4ccdc",
   "metadata": {
    "slideshow": {
     "slide_type": "slide"
    }
   },
   "source": [
    "## Distribución Condicional\n",
    "\n",
    "En el caso discreto, la **distribución condicional** de $X$ dado $Y = y$ está dada por\n",
    "\n",
    "$$\\mathbb{P}(X = x| Y = y) = \\frac{\\mathbb{P}(X = x, Y = y)}{\\mathbb{P}(Y = y)}$$\n",
    "\n",
    "En el caso continuo, la **densidad condicional** de $X$ y $Y$ es una función $f_{X|Y}(x|y)$ tal que\n",
    "\n",
    "$$f_{X|Y}(x|y) = \\frac{f_{X,Y}(x, y)}{f_Y(y)}, \\text{ si } f_Y(y) > 0$$ \n",
    "\n",
    "Además, tenemos que\n",
    "\n",
    "$$\\mathbb{P}(X \\in A | Y = y) = \\int_A f_{X|Y}(x|y) dx$$"
   ]
  },
  {
   "cell_type": "markdown",
   "id": "dfda107b",
   "metadata": {
    "slideshow": {
     "slide_type": "slide"
    }
   },
   "source": [
    "## Distribuciones Multivariadas\n",
    "\n",
    "Sean $X_1, ..., X_n$ variables aleatorias. Definimos el **vector aleatorio** $X = (X_1, ..., X_n)$, cuya distribución o **función de densidad multivariada** está dada por $f(x_1, ..., x_n)$.\n",
    "\n",
    "Decimos que $X_1, ..., X_n$ son independientes si para todo $A_1, ..., A_n$\n",
    "\n",
    "$$P(X_1 \\in A_1, ...,  X_n \\in A_n) = \\prod_{n=1}^{n} P(X_i \\in A_i)$$\n",
    "\n",
    "Sin embargo, es suficiente mostrar que $f(x_1, ..., x_n) = \\prod_{n=1}^{n} f_{X_i}(x_i)$. Donde $f_{X_i}(x_i)$ es la **distribución margina**l de $X_i$\n",
    "\n",
    "Si $X_1, ..., X_n$ son independientes y cada una tiene la misma distribución marginal, entonces decimos que son iid (**independientes e identicamente distribuidas**)"
   ]
  },
  {
   "cell_type": "markdown",
   "id": "cac7cc31",
   "metadata": {
    "slideshow": {
     "slide_type": "slide"
    }
   },
   "source": [
    "## Esperanza Matemática\n",
    "\n",
    "El **valor esperado**, **media**, o **primer momento** de una variable aleatoria $X$ se define como\n",
    "\n",
    "\\begin{equation*}\n",
    "E(X) =\n",
    "    \\left\\{\\begin{array}{lr}\n",
    "    \\sum_x x \\cdot \\mathbb{P}(X = x) & \\text{ si } X \\text{ es discreta } \\\\\n",
    "    \\int x f(x) dx, & \\text{ si } X \\text{ es continua }\n",
    "    \\end{array}\\right.\n",
    "\\end{equation*}\n",
    "\n",
    "Observe que si $X$ y $Y$ son variables aleatorias, entonces para todo $a \\in \\mathbb{R}$ y $b \\in \\mathbb{R}$ se tiene que:\n",
    "\n",
    "$$E(X + Y) = E(X) + E(Y)$$\n",
    "\n",
    "$$E(aX + b) = aE(X) + b$$\n",
    "\n",
    "Más aún, si $X$ y $Y$ son independientes, entonces:\n",
    "\n",
    "$$E \\left(X \\cdot Y \\right) = E(X) \\cdot E(Y)$$"
   ]
  },
  {
   "cell_type": "markdown",
   "id": "e60f7c2e",
   "metadata": {
    "slideshow": {
     "slide_type": "slide"
    }
   },
   "source": [
    "## Varianza\n",
    "\n",
    "Para una variable $X$ con media $\\mu$, su **varianza** se define como:\n",
    "\n",
    "$$V(X) = E(X- \\mu)^2 = \\sigma^2$$\n",
    "\n",
    "La **desviación estandar** de $X$ es $\\sigma = \\sqrt{V(X)}$\n",
    "\n",
    "Observe que:\n",
    "\n",
    "1. $V(X) = E(X^2) - \\mu^2$\n",
    "\n",
    "2. Si $a \\in \\mathbb{R}$ y $b \\in \\mathbb{R}$, entonces $V(aX + b) = a^2 V(X)$\n",
    "\n",
    "3. Si $X$ y $Y$ son independientes, entonces $V(X + Y) = V(X) + V(Y)$"
   ]
  },
  {
   "cell_type": "markdown",
   "id": "ceceb664",
   "metadata": {
    "slideshow": {
     "slide_type": "slide"
    }
   },
   "source": [
    "## Covarianza\n",
    "\n",
    "La **covarianza** entre $X$ y $Y$ se define como\n",
    "\n",
    "$$Cov(X, Y) = E \\left((X - \\mu_X) (Y - \\mu_Y) \\right)$$\n",
    "\n",
    "y el **coeficiente de correlación** está dado por \n",
    "\n",
    "$$\\rho(X, Y) = \\frac{Cov(X , Y)}{\\sigma_X \\cdot \\sigma_Y}$$\n",
    "\n",
    "Observe que \n",
    "\n",
    "$$Cov(X, Y) = E(X \\cdot Y) - E(X) \\cdot E(Y)$$\n",
    "\n",
    "$$-1 \\leq \\rho(X, Y) \\leq 1$$\n",
    "\n",
    "Finalmente, note que\n",
    "\n",
    "$$V(X + Y) = V(X) + V(Y) + 2 \\cdot Cov(X, Y)$$\n",
    "\n",
    "$$V(X - Y) = V(X) + V(Y) - 2 \\cdot Cov(X, Y)$$"
   ]
  },
  {
   "cell_type": "markdown",
   "id": "0aa1a7e2",
   "metadata": {
    "slideshow": {
     "slide_type": "slide"
    }
   },
   "source": [
    "## Esperanza Condicional\n",
    "\n",
    "La **esperanza condicional** de $X$ dado $Y = y$ está dada por\n",
    "\n",
    "\\begin{equation*}\n",
    "E(X | Y = y) =\n",
    "    \\left\\{\\begin{array}{lr}\n",
    "    \\sum_x x \\cdot \\mathbb{P}(X = x | Y = y) & \\text{en el caso discreto} \\\\\n",
    "    \\int x f(x|y) dx, & \\text{en el caso continuo}\n",
    "    \\end{array}\\right.\n",
    "\\end{equation*}\n",
    "\n",
    "<div class=\"alert alert-block alert-info\">\n",
    "<b>TEOREMA (Ley de Esperanzas Iteradas):</b>\n",
    "<p>\n",
    "\n",
    "Para dos variables aleatorias $X$ y $Y$, si existen sus esperanzas, entonces\n",
    "  \n",
    "$$E(E(X | Y)) = E(X)$$\n",
    "</div>"
   ]
  },
  {
   "cell_type": "markdown",
   "id": "566d627a",
   "metadata": {
    "slideshow": {
     "slide_type": "slide"
    }
   },
   "source": [
    "**Demostración**. Usando la definición de esperanza condicional y el hecho que $f(x,y) = f(x|y) f(y)$ tenemos que\n",
    "\n",
    "\\begin{align*}\n",
    "    E(E(X|Y)) & = \\int E(X | Y = y) f_Y(y) dy = \\int\\int x f(x|y) dx f(y) dy \\\\\n",
    "     & = \\int\\int x f(x|y) f(y) dy dx = \\int\\int x f(x,y) dy dx \\\\\n",
    "     & = \\int x \\left( \\int f(x, y) dy \\right) dx = \\int x f(x) dx = E(X)\n",
    "\\end{align*}"
   ]
  }
 ],
 "metadata": {
  "celltoolbar": "Slideshow",
  "kernelspec": {
   "display_name": "R",
   "language": "R",
   "name": "ir"
  },
  "language_info": {
   "codemirror_mode": "r",
   "file_extension": ".r",
   "mimetype": "text/x-r-source",
   "name": "R",
   "pygments_lexer": "r",
   "version": "4.5.1"
  }
 },
 "nbformat": 4,
 "nbformat_minor": 5
}
