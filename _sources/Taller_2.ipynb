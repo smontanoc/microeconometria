{
 "cells": [
  {
   "cell_type": "markdown",
   "id": "4a41363a",
   "metadata": {},
   "source": [
    "# Taller 2\n",
    "\n",
    "**Fecha de entrega:** Sabado 13 de Septiembre\n",
    "\n",
    "**Instrucciones:** Este taller debe ser entregado de manera individual a través de [Bloque Neón](https://tecnologia.uniandes.edu.co/bloqueneon/). A pesar de que la entrega es individual, se promueve el trabajo en grupos."
   ]
  },
  {
   "cell_type": "markdown",
   "id": "1640d019",
   "metadata": {},
   "source": [
    "## Pregunta 1\n",
    "Asuma que usted quiere estimar el modelo $y_i = \\beta_0 + \\beta_1 x_i + \\varepsilon_i$ usando los siguientes datos:\n",
    "\n",
    "| *y*  | *x*   |\n",
    "|----|----|\n",
    "| 10 | -20 |\n",
    "| 12 | -10 |\n",
    "| 15 | -8  |\n",
    "| 16 | -8  |\n",
    "| 20 | 5   |\n",
    "\n",
    "1. Calcule $\\hat{\\beta}_0$ y $\\hat{\\beta}_1$.\n",
    "2. Calcule el error estándar del modelo.\n",
    "3. Evalue si $\\beta_1 = 0$.\n",
    "4. Calcule SST, SSR, y SSE.\n",
    "5. Calcule el $R^2$.\n",
    "6. Usando STATA o R, calcule los $\\hat{y}_i$ y $e_i$.\n",
    "7. Usando STATA o R, haga una tabla pequeña con las estadísticas descriptivas de $\\hat{y}_i$ y $e_i$."
   ]
  },
  {
   "cell_type": "markdown",
   "id": "7830771e",
   "metadata": {},
   "source": [
    "## Pregunta 2\n",
    "Asuma un modelo de regresión con intercepto. Los datos muestran lo siguiente:\n",
    "\n",
    "$$X'X = \\begin{bmatrix} 33 & 0 & 0 \\\\ 0 & 40 & 20 \\\\ 0 & 20 & 60 \\end{bmatrix}, \\quad X'Y = \\begin{bmatrix} 132 \\\\ 24 \\\\ 92 \\end{bmatrix}, \\quad \\sum (y_i - \\bar{y})^2 = 150$$\n",
    "\n",
    "1. ¿Cuál es el tamaño de la muestra?\n",
    "2. Estime los parámetros $\\beta_0, \\beta_1, \\beta_2$.\n",
    "3. Estime el error estándar de $\\hat{\\beta}_2$ y evalúe la significancia de $\\beta_2$ (nivel de significancia 5%).\n",
    "4. Calcule el $R^2$. "
   ]
  },
  {
   "cell_type": "markdown",
   "id": "4649caf2",
   "metadata": {},
   "source": [
    "## Pregunta 3\n",
    "Defina $f_i$ de la siguiente manera:\n",
    "\n",
    "$$f_i = \\begin{cases} 1 & \\text{si el individuo es una mujer} \\\\ 0 & \\text{si el individuo es un hombre} \\end{cases}$$\n",
    "\n",
    "$w_i$ representa el salario de cada individuo. Asuma que tiene una muestra de $n$ individuos, con $n_F$ mujeres y $n_M$ hombres ($n = n_F + n_M$). Considere ahora la siguiente regresión:\n",
    "\n",
    "$$w_i = \\beta_0 + \\beta_1 f_i + \\varepsilon_i$$\n",
    "\n",
    "1. Demuestre que los estimadores de MCO son $\\hat{\\beta}_1 = \\bar{w}_F - \\bar{w}_M$ y $\\hat{\\beta}_0 = \\bar{w}_M$.\n",
    "2. ¿Cómo evaluaría usted si hay discriminación de género en el salario de los individuos?"
   ]
  },
  {
   "cell_type": "markdown",
   "id": "92d7c509",
   "metadata": {},
   "source": [
    "## Pregunta 4\n",
    "La base de datos `hprice.dta` ([Descargar](https://github.com/smontanoc/microeconometria/blob/main/Datos/hprice.dta)) contiene información sobre el precio de viviendas en Estados Unidos y contempla además información a nivel municipal.\n",
    "\n",
    "\n",
    "\n",
    "- `price`: precio en dólares de 506 viviendas reportadas.\n",
    "- `lprice`: logaritmo natural del precio.\n",
    "- `crime`: tasa per cápita de crímenes.\n",
    "- `nox`: número de partículas de óxido nitroso en 100 ppm.\n",
    "- `rooms`: promedio de habitaciones por vivienda.\n",
    "- `dist`: distancia ponderada a los 5 principales centros de empleo.\n",
    "- `radial`: índice de accesibilidad a autopistas.\n",
    "- `proptax`: impuesto de propiedad por cada mil dólares.\n",
    "- `stratio`: valor promedio de estudiantes por docente.\n",
    "- `lowstat`: porcentaje de personas de bajos estratos.\n",
    "\n",
    "1. Cree un do-file documentado y muestre que carga la base de datos `hprice.dta` desde un directorio. Para cada punto en adelante, ponga el código del do-file que utilizó.\n",
    "2. Obtenga y analice los siguientes estadísticos: percentil 25, 50, 75, máximo, mínimo, media y desviación estándar para `price`, `crime`, `lowstat`, y `dist`. Interprete sus resultados.\n",
    "3. Realice una prueba en STATA para determinar si la media de la variable `dist` es menor a 3.8.\n",
    "4. Realice un histograma de `price` y `crime`. Interprete la distribución.\n",
    "5. Realice un análisis de correlación entre `price`, `crime`, `lowstat`, `nox`, `dist`, `proptax`, y `rooms`. Evalúe la significancia de los coeficientes. Plantee la hipótesis nula y alterna para uno de los coeficientes y concluya a partir de los resultados obtenidos, teniendo en cuenta el p-valor y el t-estadístico resultante.\n",
    "6. Haga un gráfico de dispersión entre:\n",
    "   - `price` vs `crime`\n",
    "   - `price` vs `lowstat`\n",
    "   - `price` vs `rooms`\n",
    "\n",
    "¿Las gráficas tienen sentido a la luz de los coeficientes de correlación?"
   ]
  },
  {
   "cell_type": "markdown",
   "id": "b0d18f18-024f-4e6f-84ef-2f8dd5cedbe0",
   "metadata": {},
   "source": [
    "## Pregunta 5\n",
    "\n",
    "En la base de datos `rent.dta` ([Descargar](https://github.com/smontanoc/microeconometria/blob/main/Datos/rent.dta)), ustedes encontrarán información para 300 propiedades en Estados Unidos y sus características. \n",
    "\n",
    "- `rent`: arriendo que se paga por la propiedad\n",
    "- `lavaplatos`: 1 si lavaplatos  \n",
    "- `cancha_tennis`: 1 si cancha de tennis  \n",
    "- `sauna`: 1 si sauna  \n",
    "- `parque_ninos`: 1 si tiene parque de niños  \n",
    "- `mal_barrio`: 1 si está en mal barrio  \n",
    "- `servicios_incluidos`: 1 si tiene servicios incluidos  \n",
    "- `amoblado`: 1 si amoblado  \n",
    "- `prop_no_eficiente`: 1 si es una propiedad no eficiente  \n",
    "- `dos_habitaciones`: 1 si tiene dos habitaciones  \n",
    "- `tres_habitaciones`: 1 si tiene tres habitaciones  \n",
    "- `cuatro_habitaciones`: 1 si tiene cuatro habitaciones  \n",
    "\n",
    "1. Estime por MCO un modelo en que el arriendo sea la variable dependiente y todas las variables categóricas sean las variables independientes. Presente sus resultados.  \n",
    "\n",
    "2. Interprete el coeficiente asociado a `mal_barrio`, `dos_habitaciones`, `tres_habitaciones`, y `cuatro_habitaciones`.  \n",
    "\n",
    "3. Cree una variable identificando las propiedades que tienen una habitación (tenga en cuenta que el máximo número de habitaciones es cuatro y el mínimo es uno). Vuelva y estime el modelo incluyendo esta variable creada. Discuta sus resultados.  \n",
    "\n",
    "4. Realice una prueba F-parcial para determinar si las variables que no son significativas (al 10 %) en la regresión del punto 1 deben ser o no incluidas en el modelo.  "
   ]
  }
 ],
 "metadata": {
  "kernelspec": {
   "display_name": "R",
   "language": "R",
   "name": "ir"
  },
  "language_info": {
   "codemirror_mode": "r",
   "file_extension": ".r",
   "mimetype": "text/x-r-source",
   "name": "R",
   "pygments_lexer": "r",
   "version": "4.5.1"
  }
 },
 "nbformat": 4,
 "nbformat_minor": 5
}
