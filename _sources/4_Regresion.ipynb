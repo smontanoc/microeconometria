{
 "cells": [
  {
   "cell_type": "markdown",
   "id": "1fdcc1de",
   "metadata": {
    "slideshow": {
     "slide_type": "slide"
    }
   },
   "source": [
    "# Modelo de Regresión Multiple\n",
    "\n",
    "Un modelo de regresión con múltiples covariables o predictores se puede escribir de la siguiente manera:\n",
    "\n",
    "$$y_i = \\beta_0 + \\beta_1 x_{1,i} + ... + \\beta_{k-1} x_{k-1, i} + \\varepsilon_i$$\n",
    "\n",
    "Observe que queremos estimar $k$ parámetros (incluyendo a $\\beta_0$), usando $k-1$ covariables a partir de una base de datos con $n$ observaciones \n",
    "\n",
    "$$\\{y_i, x_{1,i}, x_{2,i}, ..., x_{k-1,i}\\}_{i=1}^n$$\n",
    "\n",
    "Pero antes de derivar los estimadores de los parámetros $\\beta_j$, veamos una aplicación:"
   ]
  },
  {
   "cell_type": "markdown",
   "id": "96169ef0",
   "metadata": {
    "slideshow": {
     "slide_type": "slide"
    }
   },
   "source": [
    "## Aplicación: Retornos a la Educación, Experiencia, y Gaps\n",
    "\n",
    "Consideremos ahora la siguiente extensión del modelo minceriano:\n",
    "\n",
    "$$\\log(w_i) = \\beta_0 + \\beta_1 s_i + \\beta_2 x_i + \\beta_3 x_i^2 + \\beta_4 f_i + \\varepsilon_i$$\n",
    "\n",
    "donde:\n",
    "\n",
    "- $w_i$ representa el ingreso laboral del individuo $i$, \n",
    "- $s_i$ sus años de educación, $x_i$ la experiencia laboral, y \n",
    "- $f_i$ es una variable binaria que toma el valor de 1 si $i$ es mujer y $0$ si no."
   ]
  },
  {
   "cell_type": "code",
   "execution_count": 21,
   "id": "a1ed0e65",
   "metadata": {
    "slideshow": {
     "slide_type": "slide"
    }
   },
   "outputs": [
    {
     "name": "stderr",
     "output_type": "stream",
     "text": [
      "Warning message:\n",
      "\"package 'wooldridge' is in use and will not be installed\"\n"
     ]
    },
    {
     "data": {
      "text/html": [
       "<style>\n",
       ".list-inline {list-style: none; margin:0; padding: 0}\n",
       ".list-inline>li {display: inline-block}\n",
       ".list-inline>li:not(:last-child)::after {content: \"\\00b7\"; padding: 0 .5ex}\n",
       "</style>\n",
       "<ol class=list-inline><li>'wage'</li><li>'educ'</li><li>'exper'</li><li>'tenure'</li><li>'nonwhite'</li><li>'female'</li><li>'married'</li><li>'numdep'</li><li>'smsa'</li><li>'northcen'</li><li>'south'</li><li>'west'</li><li>'construc'</li><li>'ndurman'</li><li>'trcommpu'</li><li>'trade'</li><li>'services'</li><li>'profserv'</li><li>'profocc'</li><li>'clerocc'</li><li>'servocc'</li><li>'lwage'</li><li>'expersq'</li><li>'tenursq'</li></ol>\n"
      ],
      "text/latex": [
       "\\begin{enumerate*}\n",
       "\\item 'wage'\n",
       "\\item 'educ'\n",
       "\\item 'exper'\n",
       "\\item 'tenure'\n",
       "\\item 'nonwhite'\n",
       "\\item 'female'\n",
       "\\item 'married'\n",
       "\\item 'numdep'\n",
       "\\item 'smsa'\n",
       "\\item 'northcen'\n",
       "\\item 'south'\n",
       "\\item 'west'\n",
       "\\item 'construc'\n",
       "\\item 'ndurman'\n",
       "\\item 'trcommpu'\n",
       "\\item 'trade'\n",
       "\\item 'services'\n",
       "\\item 'profserv'\n",
       "\\item 'profocc'\n",
       "\\item 'clerocc'\n",
       "\\item 'servocc'\n",
       "\\item 'lwage'\n",
       "\\item 'expersq'\n",
       "\\item 'tenursq'\n",
       "\\end{enumerate*}\n"
      ],
      "text/markdown": [
       "1. 'wage'\n",
       "2. 'educ'\n",
       "3. 'exper'\n",
       "4. 'tenure'\n",
       "5. 'nonwhite'\n",
       "6. 'female'\n",
       "7. 'married'\n",
       "8. 'numdep'\n",
       "9. 'smsa'\n",
       "10. 'northcen'\n",
       "11. 'south'\n",
       "12. 'west'\n",
       "13. 'construc'\n",
       "14. 'ndurman'\n",
       "15. 'trcommpu'\n",
       "16. 'trade'\n",
       "17. 'services'\n",
       "18. 'profserv'\n",
       "19. 'profocc'\n",
       "20. 'clerocc'\n",
       "21. 'servocc'\n",
       "22. 'lwage'\n",
       "23. 'expersq'\n",
       "24. 'tenursq'\n",
       "\n",
       "\n"
      ],
      "text/plain": [
       " [1] \"wage\"     \"educ\"     \"exper\"    \"tenure\"   \"nonwhite\" \"female\"  \n",
       " [7] \"married\"  \"numdep\"   \"smsa\"     \"northcen\" \"south\"    \"west\"    \n",
       "[13] \"construc\" \"ndurman\"  \"trcommpu\" \"trade\"    \"services\" \"profserv\"\n",
       "[19] \"profocc\"  \"clerocc\"  \"servocc\"  \"lwage\"    \"expersq\"  \"tenursq\" "
      ]
     },
     "metadata": {},
     "output_type": "display_data"
    }
   ],
   "source": [
    "install.packages(\"wooldridge\"); library(wooldridge)\n",
    "data('wage1'); names(wage1) #Cargar datos\n",
    "wage1$ln_wage <- log(wage1$wage) #Limpiar Datos\n",
    "wage1 <- wage1[wage1$ln_wage > 0, ]\n",
    "wage1 <- wage1[wage1$educ > 5, ]"
   ]
  },
  {
   "cell_type": "code",
   "execution_count": 23,
   "id": "ada5a2fc-d54e-488f-8b11-c0d5154a7b2e",
   "metadata": {
    "slideshow": {
     "slide_type": "slide"
    }
   },
   "outputs": [
    {
     "data": {
      "text/plain": [
       "\n",
       "Call:\n",
       "lm(formula = log(wage) ~ educ + exper + expersq + female, data = wage1)\n",
       "\n",
       "Residuals:\n",
       "    Min      1Q  Median      3Q     Max \n",
       "-1.1629 -0.2765 -0.0211  0.2546  1.1970 \n",
       "\n",
       "Coefficients:\n",
       "              Estimate Std. Error t value Pr(>|t|)    \n",
       "(Intercept)  0.3096151  0.1087687   2.847   0.0046 ** \n",
       "educ         0.0910553  0.0074975  12.145  < 2e-16 ***\n",
       "exper        0.0377801  0.0048163   7.844 2.56e-14 ***\n",
       "expersq     -0.0006676  0.0001079  -6.186 1.26e-09 ***\n",
       "female      -0.3310652  0.0360205  -9.191  < 2e-16 ***\n",
       "---\n",
       "Signif. codes:  0 '***' 0.001 '**' 0.01 '*' 0.05 '.' 0.1 ' ' 1\n",
       "\n",
       "Residual standard error: 0.4059 on 512 degrees of freedom\n",
       "Multiple R-squared:  0.4034,\tAdjusted R-squared:  0.3987 \n",
       "F-statistic: 86.54 on 4 and 512 DF,  p-value: < 2.2e-16\n"
      ]
     },
     "metadata": {},
     "output_type": "display_data"
    }
   ],
   "source": [
    "full_model <- lm(log(wage) ~ educ + exper + expersq + female, data = wage1) #Correr modelo\n",
    "summary(full_model) #Presentar resultados"
   ]
  },
  {
   "cell_type": "markdown",
   "id": "fc875ae4",
   "metadata": {
    "slideshow": {
     "slide_type": "slide"
    }
   },
   "source": [
    "## Covariables No-lineales\n",
    "\n",
    "Observe que para interpretar el **efecto de la experiencia** en el salario, debemos suponer que las otras variables permanenen constantes:\n",
    "\n",
    "$$\\frac{\\partial \\log(w_i)}{\\partial x_i} = \\beta_2 + 2 \\cdot \\beta_3 x_i$$\n",
    "\n",
    "Así, *ceteris paribus* (todo lo demás constante), un incremento en un año de experiencia, aumenta el salario en $(\\beta_2 + 2 \\cdot x_i \\cdot \\beta_3)100\\%$. Note que para una persona que pasa de 1 a 2 años, el salario aumenta en $(3.8\\% - 2\\cdot2\\cdot(0.06\\%)) \\approx 3.51\\%$. Para una pesona que pasa de 2 a 3 años, el salario aumenta en $(3.8\\% - 2\\cdot3\\cdot(0.06\\%)) \\approx 3.37\\%$.\n",
    "\n",
    "A continuación estimamos el modelo (restringido) $\\log(w_i) = \\beta_0 + \\beta_2 x_i + \\beta_3 x_i^2$, que nos permite observar la **no linealidad** del efecto de la experiencia en el salario."
   ]
  },
  {
   "cell_type": "code",
   "execution_count": 24,
   "id": "0bb1c999",
   "metadata": {
    "slideshow": {
     "slide_type": "slide"
    }
   },
   "outputs": [
    {
     "data": {
      "image/png": "[encoded data removed]",
      "text/plain": [
       "Plot with title \"Relación Salarios y Experiencia\""
      ]
     },
     "metadata": {
      "image/png": {
       "height": 420,
       "width": 420
      }
     },
     "output_type": "display_data"
    }
   ],
   "source": [
    "model <- lm(log(wage) ~ exper + expersq, data = wage1)\n",
    "model_fit <- as.data.frame(predict(model, se.fit = TRUE, , interval = \"confidence\",  data = datos, level = 0.99))\n",
    "names(model_fit) <- c('yhat', 'lwr', 'upr', 'se', 'df', 'residuals')\n",
    "\n",
    "plot(wage1$exper, log(wage1$wage), pch = 19, cex = 0.6, frame = FALSE, main = \"Relación Salarios y Experiencia\", xlab = 'Experiencia', ylab = 'Log(Wage)')\n",
    "lines(sort(wage1$exper), model_fit$yhat[order(wage1$exper)], col = \"blue\", lwd=2, lty = 1)\n",
    "lines(sort(wage1$exper), model_fit$lwr[order(wage1$exper)], col = \"blue\", lwd=2, lty = 2)\n",
    "lines(sort(wage1$exper), model_fit$upr[order(wage1$exper)], col = \"blue\", lwd=2, lty = 2)"
   ]
  },
  {
   "cell_type": "markdown",
   "id": "f51f740a",
   "metadata": {
    "slideshow": {
     "slide_type": "slide"
    }
   },
   "source": [
    "## Covariables Binarias\n",
    "\n",
    "Cómo interpretamos el efecto de ser mujer en los salarios? Note que no podemos tomar derivadas porque $f_i$ no es una variable continua.\n",
    "\n",
    "Sin embargo observe que:\n",
    "\n",
    "$$E\\left(\\log(w_i) | f_i = 0 \\right) = \\beta_0 + \\beta_1 s_i + \\beta_2 x_i + \\beta_3 x_i^2$$\n",
    "\n",
    "$$E\\left(\\log(w_i) | f_i = 1 \\right) = \\beta_0 + \\beta_1 s_i + \\beta_2 x_i + \\beta_3 x_i^2 + \\beta_4$$\n",
    "\n",
    "Es facil ver que:\n",
    "\n",
    "$$E\\left(\\log(w_i) | f_i = 1 \\right) - E\\left(\\log(w_i) | f_i = 0 \\right) = \\beta_4$$\n",
    "\n",
    "Es decir, $\\beta_4$ es el cambio promedio en el salario por ser mujer. \n",
    "\n",
    "A partir de nuestras estimaciones, ser mujer reduce el salario en 33\\%, *ceteris paribus*.\n",
    "\n",
    "A continuación mostramos que nuestro modelo nos permite ajustar una línea (plano) para hombres y mujeres. Para ello usarémos el modelo (restringido) $\\log(w_i) = \\beta_0 + \\beta_1 s_i + \\beta_4 f_i$."
   ]
  },
  {
   "cell_type": "code",
   "execution_count": 25,
   "id": "fb024251",
   "metadata": {
    "slideshow": {
     "slide_type": "slide"
    }
   },
   "outputs": [
    {
     "data": {
      "image/png": "[encoded data removed]",
      "text/plain": [
       "Plot with title \"Relación Salarios y Educación\""
      ]
     },
     "metadata": {
      "image/png": {
       "height": 420,
       "width": 420
      }
     },
     "output_type": "display_data"
    }
   ],
   "source": [
    "model <- lm(log(wage) ~ educ + female, data = wage1)\n",
    "males <- model$coefficients[1] + model$coefficients[2]*wage1$educ\n",
    "females <- (model$coefficients[1] + model$coefficients[3]) + model$coefficients[2]*wage1$educ\n",
    "\n",
    "colors <- c(\"#FDAE61\", \"#66BD63\"); markers <- c(2, 19)\n",
    "plot(wage1$educ, log(wage1$wage), pch = markers[factor(wage1$female)], cex = 0.8, frame = FALSE, col = colors[factor(wage1$female)], main = \"Relación Salarios y Educación\", xlab = 'Años de Educación', ylab = 'Log(Wage)')\n",
    "lines(sort(wage1$educ), males[order(wage1$educ)], col = \"#FDAE61\", lwd=2, lty = 1)\n",
    "lines(sort(wage1$educ), females[order(wage1$educ)], col = \"#66BD63\", lwd=2, lty = 1)"
   ]
  },
  {
   "cell_type": "markdown",
   "id": "e8a58b1f-f3af-4af5-aaf0-e174778ac730",
   "metadata": {
    "slideshow": {
     "slide_type": "slide"
    }
   },
   "source": [
    "## Modelo de Regresión en Forma Matricial\n",
    "\n",
    "En forma matricial, nuestro modelo de regresión se ve de la siguiente forma:\n",
    "\n",
    "$$Y = X\\beta + \\varepsilon$$\n",
    "\n",
    "Observe que tenemos cuatro matrices:\n",
    "\n",
    "$$\n",
    "Y_{[n \\times 1]} = X_{[n \\times k]} \\, \\beta_{[k \\times 1]} + \\varepsilon_{[n \\times 1]}\n",
    "$$ \n",
    "\n",
    "$$\n",
    "\\begin{bmatrix}\n",
    "y_1 \\\\\n",
    "y_2 \\\\\n",
    "\\vdots \\\\\n",
    "y_n\n",
    "\\end{bmatrix}\n",
    "=\n",
    "\\begin{bmatrix}\n",
    "1 & x_{11} & x_{21} & \\dots & x_{k-1,1} \\\\\n",
    "1 & x_{12} & x_{22} & \\dots & x_{k-1,2} \\\\\n",
    "\\vdots & \\vdots & \\vdots & \\ddots & \\vdots \\\\\n",
    "1 & x_{1n} & x_{2n} & \\dots & x_{k-1,n}\n",
    "\\end{bmatrix}\n",
    "\\begin{bmatrix}\n",
    "\\beta_0 \\\\\n",
    "\\beta_1 \\\\\n",
    "\\vdots \\\\\n",
    "\\beta_{k-1}\n",
    "\\end{bmatrix}\n",
    "+\n",
    "\\begin{bmatrix}\n",
    "\\varepsilon_1 \\\\\n",
    "\\varepsilon_2 \\\\\n",
    "\\vdots \\\\\n",
    "\\varepsilon_n\n",
    "\\end{bmatrix}\n",
    "$$\n",
    "\n",
    "La forma matricial es una manera útil de presentar $n$ **ecuaciones**, ya que:\n",
    "\n",
    "$$\n",
    "\\begin{bmatrix}\n",
    "y_1 \\\\\n",
    "y_2 \\\\\n",
    "\\vdots \\\\\n",
    "y_n\n",
    "\\end{bmatrix}\n",
    "=\n",
    "\\begin{bmatrix}\n",
    "\\beta_0 + \\sum_j^{k-1} \\beta_j x_{j1} + \\varepsilon_1 \\\\\n",
    "\\beta_0 + \\sum_j^{k-1} \\beta_j x_{j2} + \\varepsilon_2 \\\\\n",
    "\\vdots \\\\\n",
    "\\beta_0 + \\sum_j^{k-1} \\beta_j x_{jn} + \\varepsilon_n\n",
    "\\end{bmatrix}\n",
    "$$\n"
   ]
  },
  {
   "cell_type": "markdown",
   "id": "8058694b-bc3d-428f-9efa-a2b9160aa32a",
   "metadata": {
    "slideshow": {
     "slide_type": "slide"
    }
   },
   "source": [
    "## Supuestos en forma Matricial\n",
    "\n",
    "¿Cómo se ven los supuestos sobre el error cuando tenemos matrices?\n",
    "\n",
    "$$\n",
    "\\varepsilon \\varepsilon' =\n",
    "\\begin{bmatrix}\n",
    "\\varepsilon_1 \\\\\n",
    "\\varepsilon_2 \\\\\n",
    "\\vdots \\\\\n",
    "\\varepsilon_n\n",
    "\\end{bmatrix}\n",
    "\\begin{bmatrix}\n",
    "\\varepsilon_1 & \\varepsilon_2 & \\dots & \\varepsilon_n\n",
    "\\end{bmatrix}\n",
    "=\n",
    "\\begin{bmatrix}\n",
    "\\varepsilon_1^2 & \\varepsilon_1\\varepsilon_2 & \\dots & \\varepsilon_1\\varepsilon_n \\\\\n",
    "\\varepsilon_2\\varepsilon_1 & \\varepsilon_2^2 & \\dots & \\varepsilon_2\\varepsilon_n \\\\\n",
    "\\vdots & \\vdots & \\ddots & \\vdots \\\\\n",
    "\\varepsilon_n\\varepsilon_1 & \\varepsilon_n\\varepsilon_2 & \\dots & \\varepsilon_n^2\n",
    "\\end{bmatrix}\n",
    "$$\n",
    "\n",
    "Observe que bajo homoscedasticidad y no autocorrelación:\n",
    "\n",
    "$$\n",
    "E[\\varepsilon \\varepsilon'] =\n",
    "\\begin{bmatrix}\n",
    "\\sigma^2 & 0 & \\dots & 0 \\\\\n",
    "0 & \\sigma^2 & \\dots & 0 \\\\\n",
    "\\vdots & \\vdots & \\ddots & \\vdots \\\\\n",
    "0 & 0 & \\dots & \\sigma^2\n",
    "\\end{bmatrix}\n",
    "= \\sigma^2 I_n\n",
    "$$\n",
    "\n",
    "Si asumimos independencia condicional y además que los errores son normales, entonces:\n",
    "\n",
    "$$E(\\varepsilon | x_1, ...., x_{k-1}) = E(\\varepsilon | X) = 0$$\n",
    "\n",
    "$$\\varepsilon \\sim N(0, \\sigma^2 I_n)$$\n",
    "\n"
   ]
  },
  {
   "cell_type": "markdown",
   "id": "5d7fae7e",
   "metadata": {
    "slideshow": {
     "slide_type": "slide"
    }
   },
   "source": [
    "## Mínimos Cuadrados Ordinarios\n",
    "\n",
    "Antes de derivar nuestros estimadores de mínimos cuadrados usando matrices, veremos que es posible encontrar los estimadores de manera similar que en el caso de regresión simple. Nuestro modelo está dado por:\n",
    "\n",
    "$$y_i = \\beta_0 + \\sum_{j = 1}^{k-1} \\beta_j x_{j,i} + \\varepsilon_i$$\n",
    "\n",
    "Así, definimos la función de perdida cómo:\n",
    "\n",
    "$$\\mathcal{L}(\\beta_0, ..., \\beta_{k-1}) = \\sum_i^n \\varepsilon_i^2 = \\sum_i^n \\left(y_i - \\beta_0 - \\sum_{j = 1}^{k-1} \\beta_j x_{j,i} \\right)^2$$\n",
    "\n",
    "Para encontrar los estimadores de MCO para $\\beta_0, ..., \\beta_{k-1}$ debemos resolver el siguiente problema:\n",
    "\n",
    "$$\\min_{\\beta_0, ..., \\beta_{k-1}} \\mathcal{L}(\\beta_0, ..., \\beta_{k-1}) = \\sum_i^n \\varepsilon_i^2$$"
   ]
  },
  {
   "cell_type": "markdown",
   "id": "d67116b9",
   "metadata": {
    "slideshow": {
     "slide_type": "slide"
    }
   },
   "source": [
    "Las condiciones de primer orden para este problema están dadas por:\n",
    "\n",
    "$$\\frac{\\partial\\mathcal{L}}{\\partial\\beta_0} \\bigg|_{\\hat\\beta} = \\sum_i (-2) \\cdot ({y_i} - \\beta_0 - \\sum_{j = 1}^{k-1} \\beta_j x_{j,i}) \\bigg|_{\\hat\\beta} = 0$$\n",
    "\n",
    "$$\\frac{\\partial\\mathcal{L}}{\\partial\\beta_1} \\bigg|_{\\hat\\beta} = \\sum_i (-2 x_{1,i}) \\cdot ({y_i} - \\beta_0 \\sum_{j = 1}^{k-1} \\beta_j x_{j,i}) \\bigg|_{\\hat\\beta} = 0$$\n",
    "\n",
    "$$\\vdots$$\n",
    "\n",
    "$$\\frac{\\partial\\mathcal{L}}{\\partial\\beta_{k-1}} \\bigg|_{\\hat\\beta} = \\sum_i (-2 x_{k-1,i}) \\cdot ({y_i} - \\beta_0 - \\sum_{j = 1}^{k-1} \\beta_j x_{j,i}) \\bigg|_{\\hat\\beta} = 0$$\n",
    "\n",
    "Observe que tenemos $k$ ecuaciones para estimar $k$ parámetros. \n",
    "\n",
    "Lo anterior nos permite concluir que este sistema de ecuaciones tiene solución. Sin embargo, solucionarlo alegabraicamente puede ser bastante tedioso. Por esta razón usaremos matrices. "
   ]
  },
  {
   "cell_type": "markdown",
   "id": "5a96176a",
   "metadata": {
    "slideshow": {
     "slide_type": "slide"
    }
   },
   "source": [
    "## Mínimos Cuadrados Ordinarios\n",
    "\n",
    "Observe que matricialmente\n",
    "\n",
    "$$\n",
    "\\varepsilon' \\varepsilon =\n",
    "\\begin{bmatrix}\n",
    "\\varepsilon_1 & \\varepsilon_2 & \\dots & \\varepsilon_n\n",
    "\\end{bmatrix}_{1 \\times n}\n",
    "\\begin{bmatrix}\n",
    "\\varepsilon_1 \\\\\n",
    "\\varepsilon_2 \\\\\n",
    "\\vdots \\\\\n",
    "\\varepsilon_n\n",
    "\\end{bmatrix}_{\\hspace{2pt} n \\times 1} = \n",
    "\\varepsilon_1^2 + \\varepsilon_2^2 + ... + \\varepsilon_n^2 =\n",
    "\\sum_{i = 1}^n \\varepsilon_i^2\n",
    "$$\n",
    "\n",
    "Luego nuestro problema de minimización se puede reescribir de la siguiente manera:\n",
    "\n",
    "$$\\min_\\beta \\varepsilon'\\varepsilon = \\min_\\beta (Y - X\\beta)'(Y - X\\beta) = \\min_\\beta Y'Y - 2\\beta'X'Y + \\beta' X'X\\beta$$\n",
    "\n",
    "Nota: $Y'X\\beta = \\beta'X'Y$ ya que son escalares."
   ]
  },
  {
   "cell_type": "markdown",
   "id": "f1d72dbb",
   "metadata": {
    "slideshow": {
     "slide_type": "slide"
    }
   },
   "source": [
    "## Estimadores de $\\beta$\n",
    "\n",
    "Las condiciones de primer orden están dadas por \n",
    "\n",
    "$$\\frac{\\partial\\mathcal{(\\varepsilon'\\varepsilon)}}{\\partial\\beta} \\bigg|_{\\beta = \\hat \\beta} = -2 X'Y + 2 X'X\\hat\\beta = 0$$\n",
    "\n",
    "Esto es así porque $\\frac{\\partial(X'Y)'\\beta}{\\partial\\beta} = X'Y$, $\\frac{\\partial \\beta' X'X\\beta}{\\partial\\beta} = (X'X + (X'X)')\\beta = 2X'X\\beta$\n",
    "\n",
    "De esta manera, el estimador de MCO para $\\beta$ es \n",
    "\n",
    "$$\\hat\\beta = (X'X)^{-1}(X'Y)$$\n",
    "\n",
    "Observe que a partir de las condiciones de primer orden podemos determinar que\n",
    "\n",
    "$$0 = X'Y - X'X\\hat\\beta = X'(Y - X'X\\hat\\beta) = X'e$$"
   ]
  },
  {
   "cell_type": "markdown",
   "id": "f62c7fe6",
   "metadata": {
    "slideshow": {
     "slide_type": "slide"
    }
   },
   "source": [
    "## Matrices y Sumatorias\n",
    "\n",
    "La matriz $(X'X)^{-1}$ es conocida usalmente como **matriz de información**. Observe que\n",
    "\n",
    "$$\n",
    "X'X =\n",
    "\\begin{bmatrix}\n",
    "n & \\sum_i x_{1i} & \\sum_i x_{2i} & \\sum_i x_{3i} & \\cdots & \\sum_i x_{k-1, i} \\\\\n",
    "\\sum_i x_{1i} & \\sum_i x_{1i}^2 & \\sum_i x_{1i}x_{2i} & \\sum_i x_{1i}x_{3i} & \\cdots & \\sum_i x_{1i}x_{k-1,i} \\\\\n",
    "\\sum_i x_{2i} & \\sum_i x_{2i}x_{1i} & \\sum_i x_{2i}^2 & \\sum_i x_{2i}x_{3i} & \\cdots & \\sum_i x_{2i}x_{k-1,i} \\\\\n",
    "\\vdots & \\vdots & \\vdots & \\vdots & \\ddots & \\vdots \\\\\n",
    "\\sum_i x_{k-1,i} & \\sum_i x_{k-1,i}x_{1i} & \\sum_i x_{k-1,i}x_{2i} & \\sum_i x_{k-1,i}x_{3i} & \\cdots & \\sum_i x_{k-1,i}^2\n",
    "\\end{bmatrix} \\hspace{5pt},\\hspace{5pt} X'Y =\n",
    "\\begin{bmatrix}\n",
    "\\sum_i y_i \\\\\n",
    "\\sum_i x_{1i}y_i \\\\\n",
    "\\sum_i x_{2i}y_i \\\\\n",
    "\\vdots \\\\\n",
    "\\sum_i x_{k-1,i}y_i\n",
    "\\end{bmatrix}\n",
    "$$\n",
    "\n"
   ]
  },
  {
   "cell_type": "markdown",
   "id": "7f1ef406",
   "metadata": {
    "slideshow": {
     "slide_type": "slide"
    }
   },
   "source": [
    "## Ejemplo\n",
    "\n",
    "Usando los siguientes datos queremos estimar el modelo $Y = X\\beta + \\varepsilon$, donde $\\beta = [\\beta_0,  \\beta_1]'$ :\n",
    "\n",
    "$$\n",
    "Y =\n",
    "\\begin{bmatrix}\n",
    "8 \\\\\n",
    "9 \\\\\n",
    "4 \\\\\n",
    "2 \\\\\n",
    "7 \\\\\n",
    "3 \\\\\n",
    "\\end{bmatrix} \\hspace{2pt},\\hspace{2pt} X =\n",
    "\\begin{bmatrix}\n",
    "1 & 4 \\\\\n",
    "1 & 3 \\\\\n",
    "1 & 10 \\\\\n",
    "1 & 11 \\\\\n",
    "1 & 6 \\\\\n",
    "1 & 9 \\\\\n",
    "\\end{bmatrix}\n",
    "$$\n",
    "\n",
    "A partir de esta información debemos calcular las siguientes matrices:\n",
    "\n",
    "$$\n",
    "X'X =\n",
    "\\begin{bmatrix}\n",
    "6 & 43 \\\\\n",
    "43 & 363 \\\\\n",
    "\\end{bmatrix} \\hspace{2pt},\\hspace{2pt} (X'X)^{-1} = \\frac{1}{329} \\cdot\n",
    "\\begin{bmatrix}\n",
    "363 & -43 \\\\\n",
    "-43 & 6 \\\\\n",
    "\\end{bmatrix} \\hspace{2pt},\\hspace{2pt} X'Y =\n",
    "\\begin{bmatrix}\n",
    "33 \\\\\n",
    "190 \\\\\n",
    "\\end{bmatrix}\n",
    "$$\n",
    "\n",
    "Recuerde que nuestro estimador de $\\beta$ es $\\hat \\beta = (X'X)^{-1}X'Y$. Así,\n",
    "\n",
    "$$\n",
    "\\hat\\beta = \\frac{1}{329} \\cdot\n",
    "\\begin{bmatrix}\n",
    "363 & -43 \\\\\n",
    "-43 & 6 \\\\\n",
    "\\end{bmatrix} \\cdot\n",
    "\\begin{bmatrix}\n",
    "33 \\\\\n",
    "190 \\\\\n",
    "\\end{bmatrix} =\n",
    "\\begin{bmatrix}\n",
    "11.5775076 \\\\\n",
    "-0.8480243 \\\\\n",
    "\\end{bmatrix}\n",
    "$$"
   ]
  },
  {
   "cell_type": "code",
   "execution_count": 26,
   "id": "7c9bae48",
   "metadata": {
    "slideshow": {
     "slide_type": "slide"
    }
   },
   "outputs": [
    {
     "data": {
      "text/html": [
       "<table class=\"dataframe\">\n",
       "<caption>A matrix: 2 × 1 of type dbl</caption>\n",
       "<tbody>\n",
       "\t<tr><th scope=row>x1</th><td>11.5775076</td></tr>\n",
       "\t<tr><th scope=row>x2</th><td>-0.8480243</td></tr>\n",
       "</tbody>\n",
       "</table>\n"
      ],
      "text/latex": [
       "A matrix: 2 × 1 of type dbl\n",
       "\\begin{tabular}{r|l}\n",
       "\tx1 & 11.5775076\\\\\n",
       "\tx2 & -0.8480243\\\\\n",
       "\\end{tabular}\n"
      ],
      "text/markdown": [
       "\n",
       "A matrix: 2 × 1 of type dbl\n",
       "\n",
       "| x1 | 11.5775076 |\n",
       "| x2 | -0.8480243 |\n",
       "\n"
      ],
      "text/plain": [
       "   [,1]      \n",
       "x1 11.5775076\n",
       "x2 -0.8480243"
      ]
     },
     "metadata": {},
     "output_type": "display_data"
    }
   ],
   "source": [
    "Y <- c(8, 9, 4, 2, 7, 3)\n",
    "x1 <- c(1, 1, 1, 1, 1, 1)\n",
    "x2 <- c(4, 3, 10, 11, 6, 9)\n",
    "X <- cbind(x1, x2)\n",
    "\n",
    "XX <- t(X)%*%X\n",
    "XX1 = solve(XX)\n",
    "XY <- t(X)%*%Y\n",
    "\n",
    "b = XX1%*%XY; b"
   ]
  },
  {
   "cell_type": "code",
   "execution_count": 27,
   "id": "4beedc1f-29ad-4ac3-aad5-6e768ae16dc1",
   "metadata": {
    "slideshow": {
     "slide_type": "slide"
    }
   },
   "outputs": [
    {
     "data": {
      "text/plain": [
       "\n",
       "Call:\n",
       "lm(formula = Y ~ x2)\n",
       "\n",
       "Residuals:\n",
       "       1        2        3        4        5        6 \n",
       "-0.18541 -0.03343  0.90274 -0.24924  0.51064 -0.94529 \n",
       "\n",
       "Coefficients:\n",
       "            Estimate Std. Error t value Pr(>|t|)    \n",
       "(Intercept) 11.57751    0.75506  15.333 0.000106 ***\n",
       "x2          -0.84802    0.09707  -8.736 0.000946 ***\n",
       "---\n",
       "Signif. codes:  0 '***' 0.001 '**' 0.01 '*' 0.05 '.' 0.1 ' ' 1\n",
       "\n",
       "Residual standard error: 0.7188 on 4 degrees of freedom\n",
       "Multiple R-squared:  0.9502,\tAdjusted R-squared:  0.9377 \n",
       "F-statistic: 76.31 on 1 and 4 DF,  p-value: 0.0009461\n"
      ]
     },
     "metadata": {},
     "output_type": "display_data"
    }
   ],
   "source": [
    "summary(lm(Y ~ x2))"
   ]
  },
  {
   "cell_type": "markdown",
   "id": "0a3e1fa7",
   "metadata": {
    "slideshow": {
     "slide_type": "slide"
    }
   },
   "source": [
    "## Matrices $M$ y $P$\n",
    "\n",
    "Las siguientes matrices tienen propiedades importantes:\n",
    "\n",
    "La **matriz proyección**, $P$\n",
    "\n",
    "\\begin{align*}\n",
    "\\hat Y &= X\\hat\\beta \\\\\n",
    "&= \\underbrace{X(X'X)^{-1}X'}_PY \\\\\n",
    "&= PY\n",
    "\\end{align*}\n",
    "\n",
    "La **matriz generadora de residuos**, $M$\n",
    "\n",
    "\\begin{align*}\n",
    "e &= Y - X\\hat\\beta \\\\\n",
    "&= Y - X(X'X)^{-1}X'Y \\\\\n",
    "&= (I - X(X'X)^{-1}X') Y \\\\\n",
    "&= \\underbrace{(I - P)}_M Y \\\\\n",
    "&= MY\n",
    "\\end{align*}\n"
   ]
  },
  {
   "cell_type": "markdown",
   "id": "67312d35",
   "metadata": {
    "slideshow": {
     "slide_type": "slide"
    }
   },
   "source": [
    "## Propiedades de $P$ y $M$\n",
    "\n",
    "$P$ y $M$ son simétricas e idempotentes, es decir,\n",
    "\n",
    "1. $P = P'$\n",
    "2. $M = M'$ \n",
    "3. $P'P = P$ \n",
    "4. $M'M = M$\n",
    "\n",
    "Por otro lado, \n",
    "\n",
    "5. $PX = X$\n",
    "6. $MX = 0$\n",
    "7. $PM = 0$\n",
    "8. $Y = PY + MY$\n",
    "9. $e = M\\varepsilon$\n",
    "\n",
    "**Demuestren** 5, 6, 8, y 9."
   ]
  },
  {
   "cell_type": "markdown",
   "id": "ad4eda4b",
   "metadata": {
    "slideshow": {
     "slide_type": "slide"
    }
   },
   "source": [
    "## Propiedades de $\\hat\\beta$\n",
    "\n",
    "Mostremos ahora $E(\\hat\\beta) = \\beta$. Observe que\n",
    "\n",
    "\\begin{align*}\n",
    "\\hat\\beta &= (X'X)^{-1}X'Y \\\\\n",
    "&= (X'X)^{-1}X'(X\\beta + \\varepsilon) \\\\\n",
    "&= (X'X)^{-1}X'X\\beta + (X'X)^{-1}X'\\varepsilon) \\\\\n",
    "&= \\beta + (X'X)^{-1}X'\\varepsilon \\\\\n",
    "\\end{align*}\n",
    "\n",
    "Luego, es fácil ver que \n",
    "\n",
    "$$E(\\hat\\beta | X) = \\beta + (X'X)^{-1}X'E(\\varepsilon | X)$$\n",
    "\n",
    "Por el supuesto de independencia condicional $E(\\varepsilon | X) = 0$. Lo que implica que $E(\\hat\\beta | X) = \\beta$\n",
    "\n",
    "Por la ley de esperanzas iteradas podemos demostrar que\n",
    "\n",
    "$$E[E(\\hat\\beta | X)] = E[\\hat\\beta] = \\beta$$\n"
   ]
  },
  {
   "cell_type": "markdown",
   "id": "a460ff88",
   "metadata": {
    "slideshow": {
     "slide_type": "slide"
    }
   },
   "source": [
    "## Relación entre $\\hat\\beta$ y $e = Y - \\hat Y$\n",
    "\n",
    "Usando las propiedes vistas anteriormente, mostremos que la covarianza entre $\\hat\\beta$ y $e$ es 0.\n",
    "\n",
    "\\begin{align*}\n",
    "Cov(\\hat\\beta, e) &= E[(\\hat\\beta - E(\\hat\\beta))(e - E(e))'] \\\\\n",
    "&= E[(\\hat\\beta - \\beta)(M\\varepsilon - E(M\\varepsilon))'] \\\\\n",
    "&= E[(\\hat\\beta - \\beta)\\varepsilon'M'] \\\\\n",
    "&= E[\\hat\\beta\\varepsilon'M'] - \\beta E[\\varepsilon'M'] \\\\\n",
    "&= E[(X'X)^{-1}X'Y\\varepsilon'M'] \\\\\n",
    "&= E[(X'X)^{-1}X'(X\\beta + \\varepsilon)\\varepsilon'M'] \\\\\n",
    "&= E[(X'X)^{-1}X'\\varepsilon\\varepsilon'M'] \\\\\n",
    "&= (X'X)^{-1}X'E[\\varepsilon\\varepsilon']M' \\\\\n",
    "&= \\sigma^2(X'X)^{-1}X'M' \\\\\n",
    "&= \\sigma^2(X'X)^{-1}(MX)' = 0 \\\\\n",
    "\\end{align*}\n"
   ]
  },
  {
   "cell_type": "markdown",
   "id": "e9524a51",
   "metadata": {
    "slideshow": {
     "slide_type": "slide"
    }
   },
   "source": [
    "## Matriz de Varianza y Covarianza\n",
    "\n",
    "Ahora queremos determinar la varianza de $\\hat\\beta$, en forma matricial procedemos de la siguiente manera:\n",
    "\n",
    "\\begin{align*}\n",
    "V(\\hat{\\beta}|X ) &= E \\big[(\\hat{\\beta} - E[\\hat{\\beta}])(\\hat{\\beta} - E[\\hat{\\beta}])' \\,|\\, X \\big] \\\\\n",
    "&= E \\big[(\\beta + (X'X)^{-1}X'\\varepsilon - \\beta])(\\beta + (X'X)^{-1}X'\\varepsilon - \\beta])' \\,|\\, X \\big] \\\\\n",
    "&= E \\big[((X'X)^{-1}X'\\varepsilon)((X'X)^{-1}X'\\varepsilon)' \\,|\\, X \\big] \\\\\n",
    "&= E \\big[(X'X)^{-1}X'\\varepsilon\\varepsilon'X(X'X)^{-1} \\,|\\, X \\big] \\\\\n",
    "&= (X'X)^{-1}X' E[\\varepsilon\\varepsilon'|X] X (X'X)^{-1} \\\\\n",
    "&= (X'X)^{-1}X' \\sigma^2 I X (X'X)^{-1} \\\\\n",
    "&=\\sigma^2 (X'X)^{-1}X'X (X'X)^{-1} \\\\\n",
    "&= \\sigma^2 (X'X)^{-1}\n",
    "\\end{align*}"
   ]
  },
  {
   "cell_type": "markdown",
   "id": "103b4ae4",
   "metadata": {
    "slideshow": {
     "slide_type": "slide"
    }
   },
   "source": [
    "Observe que la solución anterior no solo nos permite encontrar las varianzas para cada $\\hat\\beta_j$, $j \\in \\{0, 1, ..., k-1\\}$, sino también la covarianza entre $\\hat\\beta_j$ y $\\hat\\beta_l$ para todo $j \\neq l$. Es decir,\n",
    "\n",
    "$$\n",
    "V(\\hat{\\beta} | X) =\n",
    "\\begin{bmatrix}\n",
    "Var(\\hat{\\beta}_0) & Cov(\\hat{\\beta}_0, \\hat{\\beta}_1) & \\dots & Cov(\\hat{\\beta}_0, \\hat{\\beta}_K) \\\\\n",
    "Cov(\\hat{\\beta}_1, \\hat{\\beta}_0) & Var(\\hat{\\beta}_1) & \\dots & Cov(\\hat{\\beta}_1, \\hat{\\beta}_K) \\\\\n",
    "\\vdots & \\vdots & \\ddots & \\vdots \\\\\n",
    "Cov(\\hat{\\beta}_K, \\hat{\\beta}_0) & Cov(\\hat{\\beta}_K, \\hat{\\beta}_1) & \\dots & Var(\\hat{\\beta}_K)\n",
    "\\end{bmatrix} = \\sigma^2 (X'X)^{-1}\n",
    "$$\n",
    "\n",
    "Recuerde que un estimador para $\\sigma^2$ es:\n",
    "\n",
    "$$\\hat\\sigma^2 = \\frac{\\sum_i e_i^2}{n-k} = \\frac{e'e}{n-k}$$\n",
    "\n",
    "Entonces,\n",
    "\n",
    "$$\\widehat{V(\\hat{\\beta} | X)} = \\frac{e'e}{n-k}(X'X)^{-1}$$"
   ]
  },
  {
   "cell_type": "markdown",
   "id": "216030b5",
   "metadata": {
    "slideshow": {
     "slide_type": "slide"
    }
   },
   "source": [
    "## Pruebas de Significancia Individual\n",
    "\n",
    "Para evaluar nuestro modelo, podemos considerar pruebas de hipótesis individuales para cada uno de los parámetros desconocidos $\\beta_j$. Es decir, para todo $j \\in \\{0, ..., k-1\\}$ evaluamos:\n",
    "\n",
    "$$H_0 : \\beta_j = 0$$\n",
    "$$H_1 : \\beta_j \\neq 0$$\n",
    "\n",
    "Ya que asumimos que $\\varepsilon  \\sim N\\left(0, \\sigma^2 I\\right)$, nuestros estimadores $\\hat\\beta \\sim N\\left(\\beta, \\sigma^2(X'X)^{-1}\\right)$. Así, para evaluar nuestra hipótesis podemos usar el estadístico de prueba:\n",
    "\n",
    "$$T = \\frac{\\hat\\beta_j}{\\text{ee}(\\hat\\beta_j)} \\sim t_{n-k}$$\n",
    "\n",
    "Observe que $\\text{ee}(\\hat\\beta_j)$ se puede computar a partir de la matriz $\\hat\\sigma^2 (X'X)^{-1}$."
   ]
  },
  {
   "cell_type": "markdown",
   "id": "0282e89f",
   "metadata": {
    "slideshow": {
     "slide_type": "slide"
    }
   },
   "source": [
    "## Ejemplo (Continuación)\n",
    "\n",
    "En nuestro ejemplo\n",
    "\n",
    "$$\n",
    "Y = [8, 9, 4, 2, 7, 3]' \\hspace{5pt},\\hspace{5pt}\n",
    "(X'X)^{-1} = \\frac{1}{329} \\cdot\n",
    "\\begin{bmatrix}\n",
    "363 & -43 \\\\\n",
    "-43 & 6 \\\\\n",
    "\\end{bmatrix} \\hspace{5pt},\\hspace{5pt} \\hat\\beta =\n",
    "\\begin{bmatrix}\n",
    "11.58 \\\\\n",
    "-0.85 \\\\\n",
    "\\end{bmatrix}\n",
    "$$\n",
    "\n",
    "Usando esta información podemos calcular:\n",
    "\n",
    "$$\\hat Y = X\\hat\\beta = [8.18, 9.03, 3.10, 2.25, 6.49, 3.94]$$\n",
    "\n",
    "$$e = Y - \\hat Y = [-0.18, -0.03, 0.90, -0.25, 0.51, -0.94]$$\n",
    "\n",
    "$$\\hat\\sigma^2=\\frac{e'e}{6-2} = 0.516 \\hspace{5pt},\\hspace{5pt} \\widehat{V(\\hat\\beta)} = \\hat\\sigma^2 \\cdot (X'X)^{-1} = \\frac{1}{329} \\cdot\n",
    "\\begin{bmatrix}\n",
    "363 & -43 \\\\\n",
    "-43 & 6 \\\\\n",
    "\\end{bmatrix} =\n",
    "\\begin{bmatrix}\n",
    "0.570 & -0.0675 \\\\\n",
    "-0.0675 & 0.009 \\\\\n",
    "\\end{bmatrix}$$\n",
    "\n",
    "Luego, ee$(\\beta_0) = \\sqrt{0.570} = 0.7551$, ee$(\\beta_1) = \\sqrt{0.009} = 0.0971$, $Cov(\\beta_0, \\beta_1) = -0.0675$"
   ]
  },
  {
   "cell_type": "markdown",
   "id": "8338c6c8",
   "metadata": {
    "slideshow": {
     "slide_type": "slide"
    }
   },
   "source": [
    "## Bondad de Ajuste: $R^2$ y $R^2$-Ajustado\n",
    "\n",
    "Al igual que en el caso de regresión simple, definimos \n",
    "\n",
    "\\begin{align*}\n",
    "R^2 &= \\frac{\\sum_i (\\hat y_i -\\bar{y})^2}{\\sum_i (y_i -\\bar{y})^2} = 1 - \\frac{\\sum_i (y_i - \\hat y_i)^2}{\\sum_i (y_i -\\bar{y})^2} \\\\\n",
    "&= \\frac{SSR}{SST} = 1 - \\frac{SSE}{SST} \n",
    "\\end{align*}\n",
    "\n",
    "Sin embargo, $R^2$ **aumentará siempre que incluyamos una covariable adicional**. Incluso si dicha covariable es 'ruido'.\n",
    "\n",
    "En el caso de regresión múltiple definimos un coeficiente 'penaliza' el poder predictivo del modelo cuando incluimos variables irrelevantes:\n",
    "\n",
    "$$R^2\\text{- ajustado} = 1 - \\frac{SSE\\hspace{2pt}/\\hspace{2pt}(n-k)}{SST\\hspace{2pt}/\\hspace{2pt}(n-1)}$$\n",
    "\n",
    "Observe que al incluir una variable irrelevante, los residuales de nuestro modelo $e_i = y_i - \\hat y_i$ no cambiarán de manera considerable (con respecto al modelo que no incluye ruido). Sin embargo, ahora estamos dividiendo $SSE$ por $n-k$ (que penaliza el número de parámetros que queremos estimar). \n",
    "\n",
    "Así, mientras $R^2$ aumenta con el número de variables, $R^2$-ajustado puede disminuir. Veamos un ejemplo:"
   ]
  },
  {
   "cell_type": "code",
   "execution_count": 28,
   "id": "9be222a5",
   "metadata": {
    "slideshow": {
     "slide_type": "slide"
    }
   },
   "outputs": [
    {
     "data": {
      "text/plain": [
       "\n",
       "Call:\n",
       "lm(formula = log(wage) ~ educ + exper + expersq + female, data = wage1)\n",
       "\n",
       "Residuals:\n",
       "    Min      1Q  Median      3Q     Max \n",
       "-1.1629 -0.2765 -0.0211  0.2546  1.1970 \n",
       "\n",
       "Coefficients:\n",
       "              Estimate Std. Error t value Pr(>|t|)    \n",
       "(Intercept)  0.3096151  0.1087687   2.847   0.0046 ** \n",
       "educ         0.0910553  0.0074975  12.145  < 2e-16 ***\n",
       "exper        0.0377801  0.0048163   7.844 2.56e-14 ***\n",
       "expersq     -0.0006676  0.0001079  -6.186 1.26e-09 ***\n",
       "female      -0.3310652  0.0360205  -9.191  < 2e-16 ***\n",
       "---\n",
       "Signif. codes:  0 '***' 0.001 '**' 0.01 '*' 0.05 '.' 0.1 ' ' 1\n",
       "\n",
       "Residual standard error: 0.4059 on 512 degrees of freedom\n",
       "Multiple R-squared:  0.4034,\tAdjusted R-squared:  0.3987 \n",
       "F-statistic: 86.54 on 4 and 512 DF,  p-value: < 2.2e-16\n"
      ]
     },
     "metadata": {},
     "output_type": "display_data"
    }
   ],
   "source": [
    "summary(lm(log(wage) ~ educ + exper + expersq + female, data = wage1))"
   ]
  },
  {
   "cell_type": "code",
   "execution_count": 29,
   "id": "0104919d",
   "metadata": {
    "slideshow": {
     "slide_type": "slide"
    }
   },
   "outputs": [
    {
     "data": {
      "text/plain": [
       "\n",
       "Call:\n",
       "lm(formula = log(wage) ~ educ + exper + expersq + female + noise, \n",
       "    data = wage1)\n",
       "\n",
       "Residuals:\n",
       "     Min       1Q   Median       3Q      Max \n",
       "-1.16545 -0.27525 -0.02122  0.25640  1.19204 \n",
       "\n",
       "Coefficients:\n",
       "              Estimate Std. Error t value Pr(>|t|)    \n",
       "(Intercept)  0.3037966  0.1115740   2.723  0.00669 ** \n",
       "educ         0.0909906  0.0075093  12.117  < 2e-16 ***\n",
       "exper        0.0376774  0.0048400   7.785 3.91e-14 ***\n",
       "expersq     -0.0006654  0.0001084  -6.139 1.67e-09 ***\n",
       "female      -0.3307009  0.0360861  -9.164  < 2e-16 ***\n",
       "noise        0.0146087  0.0613108   0.238  0.81176    \n",
       "---\n",
       "Signif. codes:  0 '***' 0.001 '**' 0.01 '*' 0.05 '.' 0.1 ' ' 1\n",
       "\n",
       "Residual standard error: 0.4063 on 511 degrees of freedom\n",
       "Multiple R-squared:  0.4034,\tAdjusted R-squared:  0.3976 \n",
       "F-statistic: 69.12 on 5 and 511 DF,  p-value: < 2.2e-16\n"
      ]
     },
     "metadata": {},
     "output_type": "display_data"
    }
   ],
   "source": [
    "n <- length(wage1$wage)\n",
    "wage1$noise <- runif(n, 0, 1)\n",
    "summary(lm(log(wage) ~ educ + exper + expersq + female + noise, data = wage1))"
   ]
  },
  {
   "cell_type": "markdown",
   "id": "a307ea0c",
   "metadata": {
    "slideshow": {
     "slide_type": "slide"
    }
   },
   "source": [
    "## Prueba de Signifiancia Global\n",
    "\n",
    "Al igual que en el caso de regresión simple, queremos evaluar el modelo de manera conjunta. Para ello consideramos la siguiente prueba de hipótesis:\n",
    "\n",
    "$$H_0: \\beta_1 = \\beta_2 = ... = \\beta_{k-1}$$\n",
    "$$H_1: \\beta_j \\neq 0 \\text{ para cualquier } j \\in \\{1, ..., k-1\\}$$\n",
    "\n",
    "Nuestro estadístico de prueba para evaluar esta hipótesis es:\n",
    "\n",
    "$$F = \\frac{MSR}{MSE} = \\frac{SSR/(k-1)}{SSE/(n-k)} = \\frac{\\sum_i(\\hat y_i - \\bar{y})^2/(k-1)}{\\sum_i(y_i - \\hat y_i)^2/(n-k)} \\sim F_{k-1,n-k}$$\n",
    "\n"
   ]
  },
  {
   "cell_type": "markdown",
   "id": "3673cad1",
   "metadata": {
    "slideshow": {
     "slide_type": "slide"
    }
   },
   "source": [
    "## Otras Pruebas de Hipotesis\n",
    "\n",
    "En el modelo multivariado podemos evaluar hipótesis para cuaquier (sub-)conjunto de parámetros. Algunos ejemplos son:\n",
    "\n",
    "Sean $j, l, t \\in \\{0, 1, ..., k-1\\}$ y $c_1, c_2, c_3 \\in \\mathbb{R}$, \n",
    "\n",
    "$$H_0: \\beta_j = \\beta_{l} + c_1$$\n",
    "$$H_0: \\beta_j + \\beta_{l} = \\beta_{t}$$\n",
    "$$H_0: \\beta_j = c_1\\beta_l + c_2 \\beta_t + c_3$$\n",
    "\n",
    "A continuación presentamos dos estadísticos de prueba con los cuales podemos evaluar nuestras hipótesis."
   ]
  },
  {
   "cell_type": "markdown",
   "id": "859baf4b-d6e9-4223-a392-d0b9a9493383",
   "metadata": {
    "slideshow": {
     "slide_type": "slide"
    }
   },
   "source": [
    "## Estadístico T\n",
    "\n",
    "Para la prueba \n",
    "\n",
    "$$H_0: \\beta_j = \\beta_{l} + c_1$$\n",
    "$$H_1: \\beta_j \\neq \\beta_{l} + c_1$$\n",
    "\n",
    "Podemos usar el estadístico \n",
    "\n",
    "$$T = \\frac{\\hat\\beta_j - \\hat\\beta_l - c_1}{\\text{ee}(\\hat\\beta_j - \\hat\\beta_l - c_1)} = \\frac{\\hat\\beta_j - \\hat\\beta_l - c_1}{\\sqrt{Var(\\hat\\beta_j) + Var(\\hat\\beta_l) - 2Cov(\\hat\\beta_j, \\hat\\beta_l)}} \\sim t_{n-k}$$\n",
    "\n",
    "Observe que el error estandar de esta prueba lo podemos calcular a partir de la matrix de varianza-covarianza: $V(\\hat\\beta)$."
   ]
  },
  {
   "cell_type": "markdown",
   "id": "5ccd16ca-239b-408f-9982-ec7ec088d0a6",
   "metadata": {
    "slideshow": {
     "slide_type": "slide"
    }
   },
   "source": [
    "## Estadístico F\n",
    "\n",
    "Para cualquier prueba que involucre combinaciones lineales de parámetros (i.e., pruebas similares a los ejemplos anteriores) podemos usar el siguiente estadístico:\n",
    "\n",
    "$$F = \\frac{(R\\hat\\beta - r)'[R(X'X)^{-1}R']^{-1}(R\\hat\\beta - r)}{JS^2} \\sim F_{J, n-k}$$\n",
    "\n",
    "Donde \n",
    "\n",
    "- $J$ es el número de restricciones.\n",
    "- $R$ es una **matriz de restricciones** cuya dimensión es $J \\times k$\n",
    "- $r$ es una **matriz de constantes** o valores hipoteticos, y que tiene dimensión $J \\times 1$. Note que esta puede ser una matriz de ceros.\n",
    "- $S^2$ es la varianza del modelo   "
   ]
  },
  {
   "cell_type": "markdown",
   "id": "2e1d18a7-46a4-4212-87b6-2e895dfdbf81",
   "metadata": {
    "slideshow": {
     "slide_type": "slide"
    }
   },
   "source": [
    "Considere la siguiente hipótesis:\n",
    "\n",
    "$$H_0: \\beta_j = c$$\n",
    "$$H_1: \\beta_j \\neq c$$\n",
    "\n",
    "Entonces,\n",
    "\n",
    "$$\n",
    "R\\beta - r = [0 ... 0 \\hspace{4pt} 1 \\hspace{4pt} 0 ... 0] \n",
    "\\begin{bmatrix}\n",
    "\\hat\\beta_0 \\\\\n",
    "\\vdots \\\\\n",
    "\\hat\\beta_{j-1} \\\\\n",
    "\\hat\\beta_j \\\\\n",
    "\\hat\\beta_{j+1} \\\\\n",
    "\\vdots \\\\\n",
    "\\hat\\beta_{k-1} \\\\\n",
    "\\end{bmatrix} - c\n",
    "$$"
   ]
  },
  {
   "cell_type": "markdown",
   "id": "4851a60d-98be-417c-a9d1-6a30b313702a",
   "metadata": {
    "slideshow": {
     "slide_type": "slide"
    }
   },
   "source": [
    "Considere la siguiente hipótesis:\n",
    "\n",
    "$$H_0: \\beta_j = \\beta_l$$\n",
    "$$H_1: \\beta_j \\neq \\beta_l$$\n",
    "\n",
    "Entonces,\n",
    "\n",
    "$$\n",
    "R\\beta - r = [0 ... 1 ... 1 ... 0] \\begin{bmatrix}\n",
    "\\hat\\beta_0 \\\\\n",
    "\\vdots \\\\\n",
    "\\hat\\beta_j \\\\\n",
    "\\vdots \\\\\n",
    "\\hat\\beta_l \\\\\n",
    "\\vdots \\\\\n",
    "\\hat\\beta_{k-1} \\\\\n",
    "\\end{bmatrix} - 0\n",
    "$$"
   ]
  },
  {
   "cell_type": "markdown",
   "id": "97f6fe97-175c-4531-85b7-633225d5885e",
   "metadata": {
    "slideshow": {
     "slide_type": "slide"
    }
   },
   "source": [
    "## Ejemplo\n",
    "\n",
    "Consideremos el modelo $Y = X\\beta + \\varepsilon$ donde:\n",
    "\n",
    "$$\n",
    "Y =\n",
    "\\begin{bmatrix}\n",
    "8 \\\\\n",
    "9 \\\\\n",
    "4 \\\\\n",
    "2 \\\\\n",
    "7 \\\\\n",
    "3 \\\\\n",
    "\\end{bmatrix} \\hspace{2pt},\\hspace{2pt} X =\n",
    "\\begin{bmatrix}\n",
    "1 & 4 & 0.401 \\\\\n",
    "1 & 3 & 0.764 \\\\\n",
    "1 & 10 & 0.889 \\\\\n",
    "1 & 11 & 0.430 \\\\\n",
    "1 & 6 & 0.076 \\\\\n",
    "1 & 9 & 0.883 \\\\\n",
    "\\end{bmatrix}\n",
    "$$\n",
    "\n",
    "Entonces\n",
    "\n",
    "$$\n",
    "(X'X)^{-1} = \n",
    "\\begin{bmatrix}\n",
    "1.4407 & -0.1120 & -0.8204 \\\\\n",
    "-0.1120 & 0.0192 & -0.0452 \\\\\n",
    "-0.8204 & -0.0452 & 1.9950 \\\\\n",
    "\\end{bmatrix} \\hspace{5pt},\\hspace{5pt} \\hat\\beta =\n",
    "\\begin{bmatrix}\n",
    "11.741 \\\\\n",
    "-0.838 \\\\\n",
    "-0.399 \\\\\n",
    "\\end{bmatrix} \\hspace{5pt},\\hspace{5pt} \n",
    "\\sqrt{MSE} = \\sqrt{S^2} = 0.814\n",
    "$$"
   ]
  },
  {
   "cell_type": "markdown",
   "id": "74481bf3-7424-46fa-8791-df6bfdee22b7",
   "metadata": {
    "slideshow": {
     "slide_type": "slide"
    }
   },
   "source": [
    "Consideremos la prueba de hipótesis $H_0: \\beta_2 = 0$. En este caso,\n",
    "\n",
    "1. $(R\\hat\\beta - r) = \\hat\\beta_2$\n",
    "2. $R(X'X)^{-1}R' = 1.9950$\n",
    "\n",
    "Entonces,\n",
    "\n",
    "$$F = \\frac{(R\\hat\\beta - r)'[R(X'X)^{-1}R']^{-1}(R\\hat\\beta - r)}{JS^2} = \\frac{\\hat\\beta_2\\cdot\\hat\\beta_2}{1.9950 \\cdot 0.814^2} \\approx 0.12 \\sim F_{1, 3}$$"
   ]
  },
  {
   "cell_type": "code",
   "execution_count": 31,
   "id": "eea2b32f-3519-4728-838e-981f860ebe53",
   "metadata": {
    "slideshow": {
     "slide_type": "slide"
    }
   },
   "outputs": [
    {
     "name": "stderr",
     "output_type": "stream",
     "text": [
      "Warning message:\n",
      "\"package 'car' is in use and will not be installed\"\n"
     ]
    },
    {
     "data": {
      "text/plain": [
       "\n",
       "Call:\n",
       "lm(formula = Y ~ x2 + x3)\n",
       "\n",
       "Residuals:\n",
       "      1       2       3       4       5       6 \n",
       "-0.2258  0.0804  1.0030 -0.3415  0.3222 -0.8383 \n",
       "\n",
       "Coefficients:\n",
       "            Estimate Std. Error t value Pr(>|t|)   \n",
       "(Intercept)  11.7419     0.9768  12.021  0.00124 **\n",
       "x2           -0.8390     0.1129  -7.428  0.00505 **\n",
       "x3           -0.3998     1.1494  -0.348  0.75093   \n",
       "---\n",
       "Signif. codes:  0 '***' 0.001 '**' 0.01 '*' 0.05 '.' 0.1 ' ' 1\n",
       "\n",
       "Residual standard error: 0.8138 on 3 degrees of freedom\n",
       "Multiple R-squared:  0.9521,\tAdjusted R-squared:  0.9202 \n",
       "F-statistic: 29.83 on 2 and 3 DF,  p-value: 0.01047\n"
      ]
     },
     "metadata": {},
     "output_type": "display_data"
    }
   ],
   "source": [
    "install.packages('car'); library('car')\n",
    "x3 <- c(0.401, 0.764, 0.889, 0.430, 0.076, 0.883)\n",
    "model <- lm(Y ~ x2 + x3); summary(model)"
   ]
  },
  {
   "cell_type": "code",
   "execution_count": 32,
   "id": "241a3b62-6029-4e7f-8592-bf6a4957c59c",
   "metadata": {
    "slideshow": {
     "slide_type": "slide"
    }
   },
   "outputs": [
    {
     "data": {
      "text/html": [
       "<table class=\"dataframe\">\n",
       "<caption>A anova: 2 × 6</caption>\n",
       "<thead>\n",
       "\t<tr><th></th><th scope=col>Res.Df</th><th scope=col>RSS</th><th scope=col>Df</th><th scope=col>Sum of Sq</th><th scope=col>F</th><th scope=col>Pr(&gt;F)</th></tr>\n",
       "\t<tr><th></th><th scope=col>&lt;dbl&gt;</th><th scope=col>&lt;dbl&gt;</th><th scope=col>&lt;dbl&gt;</th><th scope=col>&lt;dbl&gt;</th><th scope=col>&lt;dbl&gt;</th><th scope=col>&lt;dbl&gt;</th></tr>\n",
       "</thead>\n",
       "<tbody>\n",
       "\t<tr><th scope=row>1</th><td>4</td><td>2.066869</td><td>NA</td><td>        NA</td><td>       NA</td><td>       NA</td></tr>\n",
       "\t<tr><th scope=row>2</th><td>3</td><td>1.986735</td><td> 1</td><td>0.08013399</td><td>0.1210035</td><td>0.7509251</td></tr>\n",
       "</tbody>\n",
       "</table>\n"
      ],
      "text/latex": [
       "A anova: 2 × 6\n",
       "\\begin{tabular}{r|llllll}\n",
       "  & Res.Df & RSS & Df & Sum of Sq & F & Pr(>F)\\\\\n",
       "  & <dbl> & <dbl> & <dbl> & <dbl> & <dbl> & <dbl>\\\\\n",
       "\\hline\n",
       "\t1 & 4 & 2.066869 & NA &         NA &        NA &        NA\\\\\n",
       "\t2 & 3 & 1.986735 &  1 & 0.08013399 & 0.1210035 & 0.7509251\\\\\n",
       "\\end{tabular}\n"
      ],
      "text/markdown": [
       "\n",
       "A anova: 2 × 6\n",
       "\n",
       "| <!--/--> | Res.Df &lt;dbl&gt; | RSS &lt;dbl&gt; | Df &lt;dbl&gt; | Sum of Sq &lt;dbl&gt; | F &lt;dbl&gt; | Pr(&gt;F) &lt;dbl&gt; |\n",
       "|---|---|---|---|---|---|---|\n",
       "| 1 | 4 | 2.066869 | NA |         NA |        NA |        NA |\n",
       "| 2 | 3 | 1.986735 |  1 | 0.08013399 | 0.1210035 | 0.7509251 |\n",
       "\n"
      ],
      "text/plain": [
       "  Res.Df RSS      Df Sum of Sq  F         Pr(>F)   \n",
       "1 4      2.066869 NA         NA        NA        NA\n",
       "2 3      1.986735  1 0.08013399 0.1210035 0.7509251"
      ]
     },
     "metadata": {},
     "output_type": "display_data"
    }
   ],
   "source": [
    "linearHypothesis(model, hypothesis.matrix = c(0, 0, 1), rhs=0)"
   ]
  },
  {
   "cell_type": "markdown",
   "id": "9c48ac5d-09df-4900-995e-2f48ca0f51cb",
   "metadata": {
    "slideshow": {
     "slide_type": "slide"
    }
   },
   "source": [
    "## Varias Restricciones\n",
    "\n",
    "Suponga que tenemos un modelo con 4 covariables y queremos evaluar la hipótesis:\n",
    "\n",
    "$$H_0 : \\beta_1 = \\beta_2 = \\beta_4 = 0$$\n",
    "\n",
    "En este caso tenemos 3 restricciones, luego $J = 3$. Además,\n",
    "\n",
    "$$\n",
    "R = \n",
    "\\begin{bmatrix}\n",
    "0 & 1 & 0 & 0 & 0 \\\\\n",
    "0 & 0 & 1 & 0 & 0 \\\\\n",
    "0 & 0 & 0 & 0 & 1 \\\\\n",
    "\\end{bmatrix}\n",
    "$$\n",
    "\n",
    "<div class=\"alert alert-block alert-warning\"> \n",
    "<b>Ejercicio:</b>\n",
    "<p>\n",
    "\n",
    "¿Cuál es la matriz R si queremos evaluar $H_0: \\beta_2 = \\beta_3$ , $3\\beta_1 - 5\\beta_2 = \\beta_4$\n",
    "\n",
    "</div>"
   ]
  },
  {
   "cell_type": "markdown",
   "id": "e8765684",
   "metadata": {
    "slideshow": {
     "slide_type": "slide"
    }
   },
   "source": [
    "## Minimos Cuadrados Restringidos\n",
    "\n",
    "Este tipo de pruebas también se pueden hacer usando una regresión auxiliar a la cual se aplica la restricción.  \n",
    "\n",
    "Suponga que tenemos el siguiente modelo:\n",
    "\n",
    "$$\n",
    "y_i = \\beta_0 + \\beta_1 x_{1i} + \\beta_2 x_{2i} + \\beta_3 x_{3i} + \\beta_4 x_{4i} + \\varepsilon_i\n",
    "$$\n",
    "\n",
    "Nos interesa evaluar:\n",
    "\n",
    "$$\n",
    "H_0 : \\beta_1 = \\beta_3 = 0\n",
    "$$\n",
    "\n",
    "Entonces el modelo restringido sería:\n",
    "\n",
    "$$\n",
    "y_i = \\beta_0 + \\beta_2 x_{2i} + \\beta_4 x_{4i} + \\varepsilon_i\n",
    "$$"
   ]
  },
  {
   "cell_type": "markdown",
   "id": "37217ff9-a377-4dcf-ac94-f47335af95ec",
   "metadata": {
    "slideshow": {
     "slide_type": "slide"
    }
   },
   "source": [
    "Hay varias formas de evaluar estas pruebas sin usar la matriz $R$.\n",
    "\n",
    "Sin embargo, todas requieren de una regresión auxiliar donde usemos la restricción.  \n",
    "\n",
    "Los estadísticos que podemos usar son:\n",
    "\n",
    "\\begin{align*}\n",
    "F_{J,n-K} &= \\frac{R^2_{NR} - R^2_{R}}{J} \\Big/ \\frac{(1 - R^2_{NR})}{n-k} \\\\\n",
    "&= \\frac{SSE_{R} - SSE_{NR}}{J} \\Big/ \\frac{SSE_{NR}}{n-k} \\\\\n",
    "&= \\frac{e'_{R}e_{R} - e'_{NR}e_{NR}}{J} \\Big/ \\frac{e'_{NR}e_{NR}}{n-k} \\\\\n",
    "\\end{align*}\n",
    "\n",
    "Todas estas son fórmulas equivalentes."
   ]
  },
  {
   "cell_type": "code",
   "execution_count": 33,
   "id": "b29505a1-22e3-4afb-a043-99cdfbaa88e8",
   "metadata": {
    "slideshow": {
     "slide_type": "slide"
    }
   },
   "outputs": [
    {
     "data": {
      "text/plain": [
       "\n",
       "Call:\n",
       "lm(formula = Y ~ x2 + x3)\n",
       "\n",
       "Residuals:\n",
       "      1       2       3       4       5       6 \n",
       "-0.2258  0.0804  1.0030 -0.3415  0.3222 -0.8383 \n",
       "\n",
       "Coefficients:\n",
       "            Estimate Std. Error t value Pr(>|t|)   \n",
       "(Intercept)  11.7419     0.9768  12.021  0.00124 **\n",
       "x2           -0.8390     0.1129  -7.428  0.00505 **\n",
       "x3           -0.3998     1.1494  -0.348  0.75093   \n",
       "---\n",
       "Signif. codes:  0 '***' 0.001 '**' 0.01 '*' 0.05 '.' 0.1 ' ' 1\n",
       "\n",
       "Residual standard error: 0.8138 on 3 degrees of freedom\n",
       "Multiple R-squared:  0.9521,\tAdjusted R-squared:  0.9202 \n",
       "F-statistic: 29.83 on 2 and 3 DF,  p-value: 0.01047\n"
      ]
     },
     "metadata": {},
     "output_type": "display_data"
    }
   ],
   "source": [
    "#Modelo No Restringido\n",
    "summary(lm(Y ~ x2 + x3))"
   ]
  },
  {
   "cell_type": "code",
   "execution_count": 34,
   "id": "ba120346-562a-4230-81b9-f7ef1ba9bbb7",
   "metadata": {
    "slideshow": {
     "slide_type": "slide"
    }
   },
   "outputs": [
    {
     "data": {
      "text/plain": [
       "\n",
       "Call:\n",
       "lm(formula = Y ~ x2)\n",
       "\n",
       "Residuals:\n",
       "       1        2        3        4        5        6 \n",
       "-0.18541 -0.03343  0.90274 -0.24924  0.51064 -0.94529 \n",
       "\n",
       "Coefficients:\n",
       "            Estimate Std. Error t value Pr(>|t|)    \n",
       "(Intercept) 11.57751    0.75506  15.333 0.000106 ***\n",
       "x2          -0.84802    0.09707  -8.736 0.000946 ***\n",
       "---\n",
       "Signif. codes:  0 '***' 0.001 '**' 0.01 '*' 0.05 '.' 0.1 ' ' 1\n",
       "\n",
       "Residual standard error: 0.7188 on 4 degrees of freedom\n",
       "Multiple R-squared:  0.9502,\tAdjusted R-squared:  0.9377 \n",
       "F-statistic: 76.31 on 1 and 4 DF,  p-value: 0.0009461\n"
      ]
     },
     "metadata": {},
     "output_type": "display_data"
    }
   ],
   "source": [
    "#Modelo Restringido\n",
    "summary(lm(Y ~ x2))"
   ]
  },
  {
   "cell_type": "markdown",
   "id": "7efd772e-e89a-4b5c-b681-2a2d1faee3a8",
   "metadata": {
    "slideshow": {
     "slide_type": "slide"
    }
   },
   "source": [
    "## Ejemplo\n",
    "\n",
    "Calculemos el estadístico F asociado a la prueba $H_0: \\beta_2 = 0$\n",
    "\n",
    "\\begin{align*}\n",
    "F_{J,n-K} &= \\frac{R^2_{NR} - R^2_{R}}{J} \\Big/ \\frac{(1 - R^2_{NR})}{n-k} \\\\\n",
    "&= \\frac{0.9521 - 0.9502}{1} \\Big/ \\frac{(1 - 0.9521)}{3} \\approx 0.12\n",
    "\\end{align*}\n",
    "\n",
    "Tambien lo podemos calcular de la siguiente manera:\n",
    "\n",
    "\\begin{align*}\n",
    "F_{J,n-K} &= \\frac{SSE_{R} - SSE_{NR}}{J} \\Big/ \\frac{SSE_{NR}}{n-k} \\\\ \\\\\n",
    "&= \\frac{2.067 - 1.987}{1} \\Big/ \\frac{(1.987)}{3} \\approx 0.12\n",
    "\\end{align*}\n",
    "\n",
    "Observe que: \n",
    "\n",
    "$$SSE_{NR} = MSE_{NR}*(n-k) = 0.8138^2 * (6-3) = 1.987$$ \n",
    "$$SSE_{R} = MSE_{R}*(n-k) = 0.7188^2 * (6-2) = 2.067$$"
   ]
  },
  {
   "cell_type": "markdown",
   "id": "d5e9c285",
   "metadata": {
    "slideshow": {
     "slide_type": "slide"
    }
   },
   "source": [
    "## Selección de Variables\n",
    "\n",
    "Este método es útil para saber qué variables deben entrar y cuáles no en un modelo.\n",
    "\n",
    "1. Corremos el modelo completo.  \n",
    "2. Identificamos las variables que no son significativas o que tienen coeficientes raros.  \n",
    "3. Excluimos esas variables, y corremos el modelo sin ellas.  \n",
    "4. Hacemos una prueba F tal que:  \n",
    "\n",
    "$$\n",
    "H_0 : \\beta_{exc} = 0\n",
    "$$\n",
    "\n",
    "$\\hspace{15pt}$ donde $\\beta_{exc}$ son los betas excluidos.  \n",
    "\n",
    "5. Si se rechaza $H_0$, entonces ese grupo de variables se debe dejar.  \n",
    "6. De lo contrario, las podemos sacar del modelo.  "
   ]
  },
  {
   "cell_type": "markdown",
   "id": "698e96dd",
   "metadata": {
    "slideshow": {
     "slide_type": "slide"
    }
   },
   "source": [
    "## Variables Binarias y Categoricas\n",
    "\n",
    "Hay muchas variables que no podemos incluir linealmente a un modelo porque son cualitativas. Sin embargo, podemos incluir variables categóricas.  \n",
    "\n",
    "Ejemplos: género, recibe subsidio o no, máximo nivel educativo, etc.  \n",
    "\n",
    "Para ello creamos variables binarias (tambien conocidas como variables *dummy*):\n",
    "\n",
    "$$\n",
    "D_i = 1(\\text{Genero}_i = \\text{mujer}) = \n",
    "\\begin{cases} \n",
    "1 & \\text{si mujer} \\\\ \n",
    "0 & \\text{si hombre} \n",
    "\\end{cases}\n",
    "$$\n",
    "\n",
    "En nuestra matrix $X$ estas variables se representan a traves de vectores de 1 y 0. Por ejemplo:\n",
    "\n",
    "$$\n",
    "X =\n",
    "\\begin{bmatrix}\n",
    "1 & 0 & 4 \\\\\n",
    "1 & 1 & 5.6 \\\\\n",
    "1 & 0 & 8.9 \\\\\n",
    "1 & 1 & 3.2 \\\\\n",
    "\\end{bmatrix}\n",
    "$$"
   ]
  },
  {
   "cell_type": "markdown",
   "id": "887f6e84",
   "metadata": {
    "slideshow": {
     "slide_type": "slide"
    }
   },
   "source": [
    "Las variables categóricas son fáciles de incluir en un modelo.  \n",
    "\n",
    "Para interpretar estas variables debemos considerar la **categoría excluida**.\n",
    "\n",
    "- Si hay $m$ categorías, entonces podemos incluir solo $m - 1$ variables binarias.\n",
    "\n",
    "- De lo contrario, habría **colinealidad perfecta** (con el vector de 1s asociado al intercepto del modelo) y el modelo no se podría estimar."
   ]
  },
  {
   "cell_type": "markdown",
   "id": "d2037fd9-bd42-4b1e-8c7d-b6dff37088a2",
   "metadata": {
    "slideshow": {
     "slide_type": "slide"
    }
   },
   "source": [
    "## Aplicación\n",
    "\n",
    "Consideremos la siguiente extensión del modelo minceriano:\n",
    "\n",
    "$$\\log(w_i) = \\beta_0 + \\beta_1 s_i + \\beta_2 x_i + \\beta_3 x_i^2 + \\beta_4 f_i + \\sum_{j=2}^4 \\mu_j 1(\\text{Occup}_i = j) + \\varepsilon_i$$\n",
    "\n",
    "Donde $\\text{Occup}_i$ es la ocupacion del individuo $i$. \n",
    "\n",
    "Observe que la sumatoria no inicia en la categoria 1 porque debemos fijar una **grupo de comparación**."
   ]
  },
  {
   "cell_type": "code",
   "execution_count": 35,
   "id": "79ae7847-7e32-4592-8302-fd24db258673",
   "metadata": {
    "slideshow": {
     "slide_type": "slide"
    }
   },
   "outputs": [
    {
     "data": {
      "text/plain": [
       "\n",
       "Call:\n",
       "lm(formula = log(wage) ~ educ + exper + expersq + female + I(occup == \n",
       "    2) + I(occup == 3) + I(occup == 4) + I(occup == 1), data = wage1)\n",
       "\n",
       "Residuals:\n",
       "     Min       1Q   Median       3Q      Max \n",
       "-1.17295 -0.25694 -0.01026  0.24168  1.16078 \n",
       "\n",
       "Coefficients: (1 not defined because of singularities)\n",
       "                    Estimate Std. Error t value Pr(>|t|)    \n",
       "(Intercept)        0.5734513  0.1150516   4.984 8.54e-07 ***\n",
       "educ               0.0675872  0.0086602   7.804 3.42e-14 ***\n",
       "exper              0.0338830  0.0047376   7.152 2.99e-12 ***\n",
       "expersq           -0.0006099  0.0001056  -5.775 1.34e-08 ***\n",
       "female            -0.3063134  0.0386295  -7.930 1.40e-14 ***\n",
       "I(occup == 2)TRUE  0.1975666  0.0491984   4.016 6.82e-05 ***\n",
       "I(occup == 3)TRUE  0.0465311  0.0574950   0.809    0.419    \n",
       "I(occup == 4)TRUE -0.1473799  0.0584312  -2.522    0.012 *  \n",
       "I(occup == 1)TRUE         NA         NA      NA       NA    \n",
       "---\n",
       "Signif. codes:  0 '***' 0.001 '**' 0.01 '*' 0.05 '.' 0.1 ' ' 1\n",
       "\n",
       "Residual standard error: 0.394 on 509 degrees of freedom\n",
       "Multiple R-squared:  0.4411,\tAdjusted R-squared:  0.4335 \n",
       "F-statistic:  57.4 on 7 and 509 DF,  p-value: < 2.2e-16\n"
      ]
     },
     "metadata": {},
     "output_type": "display_data"
    }
   ],
   "source": [
    "wage1$occup <- 1; wage1$occup[wage1$profocc==1] <- 2; wage1$occup[wage1$clerocc==1] <- 3; wage1$occup[wage1$servocc==1] <- 4\n",
    "summary(lm(log(wage) ~ educ + exper + expersq + female + I(occup==2) + I(occup==3) + I(occup==4) + I(occup==1), data = wage1))"
   ]
  },
  {
   "cell_type": "code",
   "execution_count": 36,
   "id": "8f54de17",
   "metadata": {
    "slideshow": {
     "slide_type": "slide"
    }
   },
   "outputs": [
    {
     "data": {
      "text/plain": [
       "\n",
       "Call:\n",
       "lm(formula = log(wage) ~ educ + exper + expersq + female + factor(occup), \n",
       "    data = wage1)\n",
       "\n",
       "Residuals:\n",
       "     Min       1Q   Median       3Q      Max \n",
       "-1.17295 -0.25694 -0.01026  0.24168  1.16078 \n",
       "\n",
       "Coefficients:\n",
       "                 Estimate Std. Error t value Pr(>|t|)    \n",
       "(Intercept)     0.5734513  0.1150516   4.984 8.54e-07 ***\n",
       "educ            0.0675872  0.0086602   7.804 3.42e-14 ***\n",
       "exper           0.0338830  0.0047376   7.152 2.99e-12 ***\n",
       "expersq        -0.0006099  0.0001056  -5.775 1.34e-08 ***\n",
       "female         -0.3063134  0.0386295  -7.930 1.40e-14 ***\n",
       "factor(occup)2  0.1975666  0.0491984   4.016 6.82e-05 ***\n",
       "factor(occup)3  0.0465311  0.0574950   0.809    0.419    \n",
       "factor(occup)4 -0.1473799  0.0584312  -2.522    0.012 *  \n",
       "---\n",
       "Signif. codes:  0 '***' 0.001 '**' 0.01 '*' 0.05 '.' 0.1 ' ' 1\n",
       "\n",
       "Residual standard error: 0.394 on 509 degrees of freedom\n",
       "Multiple R-squared:  0.4411,\tAdjusted R-squared:  0.4335 \n",
       "F-statistic:  57.4 on 7 and 509 DF,  p-value: < 2.2e-16\n"
      ]
     },
     "metadata": {},
     "output_type": "display_data"
    }
   ],
   "source": [
    "summary(lm(log(wage) ~ educ + exper + expersq + female + factor(occup), data = wage1))"
   ]
  },
  {
   "cell_type": "markdown",
   "id": "fc2d1920",
   "metadata": {
    "slideshow": {
     "slide_type": "slide"
    }
   },
   "source": [
    "## Interacciones\n",
    "\n",
    "Las variables binarias son una muy buena herramienta.\n",
    "\n",
    "- Una aplicación muy útil son las **interacciones**.\n",
    "\n",
    "- Una interacción es simplemente el **producto de una variable** (categórica o no) con una variable categórica.\n",
    "\n",
    "- Las interacciones permiten medir **cambios en pendiente** y diferenciar grupos por varias características.\n",
    "\n",
    "Considere el siguiente modelo:\n",
    "\n",
    "$$\\log(w_i) = \\beta_0 + \\beta_1 f_i + \\beta_2 c_i + \\beta_3 s_i + \\varepsilon_i$$\n",
    "\n",
    "Donde \n",
    "\n",
    "- $w_i$ es el salario del individuo $i$, $s_i$ los años de educación\n",
    "\n",
    "- $f_i$ toma el valor de 1 si es mujer, y $c_i$ toma el valor de 1 si está casado (o casada)."
   ]
  },
  {
   "cell_type": "markdown",
   "id": "b548b250",
   "metadata": {
    "slideshow": {
     "slide_type": "slide"
    }
   },
   "source": [
    "## Interacción entre Variables Binarias\n",
    "\n",
    "La interacción entre $f_i$ y $c_i$ nos permitirá diferenciar las **mujeres casadas**.\n",
    "\n",
    "$$\\log(w_i) = \\beta_0 + \\beta_1 f_i + \\beta_2 c_i + \\beta_3 s_i + \\delta (f_i \\times c_i) + \\varepsilon_i$$\n",
    "\n",
    "Observe que:\n",
    "\n",
    "$$\\Delta_{f_i=0}(c_i)  = E[\\log(w_i) \\mid f_i = 0, c_i = 1] - E[\\log(w_i) \\mid f_i = 0, c_i = 0] = \\beta_2$$\n",
    "\n",
    "$$\\Delta_{f_i=1}(c_i) = E[\\log(w_i) \\mid f_i = 1, c_i = 1] - E[\\log(w_i) \\mid f_i = 1, c_i = 0] = \\beta_2 + \\delta$$\n",
    "\n",
    "Entonces,\n",
    "\n",
    "$$\\delta = \\Delta_{f_i=1}(c_i) - \\Delta_{f_i=0}(c_i)$$\n",
    "\n",
    "- $\\beta_2$: cambio en el salario para hombres casados (vs hombres solteros)\n",
    "- $\\beta_2$ + $\\delta$: cambio en el salario para mujeres casadas (vs mujeres solteras)\n",
    "- $\\delta$: cambio diferencial en el salario para mujeres casadas (vs al cambio para hombres casados)\n"
   ]
  },
  {
   "cell_type": "code",
   "execution_count": 37,
   "id": "cd0c7ba7",
   "metadata": {
    "slideshow": {
     "slide_type": "slide"
    }
   },
   "outputs": [
    {
     "data": {
      "text/plain": [
       "\n",
       "Call:\n",
       "lm(formula = log(wage) ~ female + married + educ + female * married, \n",
       "    data = wage1)\n",
       "\n",
       "Residuals:\n",
       "     Min       1Q   Median       3Q      Max \n",
       "-1.03967 -0.28527 -0.04102  0.24971  1.22614 \n",
       "\n",
       "Coefficients:\n",
       "                Estimate Std. Error t value Pr(>|t|)    \n",
       "(Intercept)     0.494205   0.103971   4.753 2.60e-06 ***\n",
       "female         -0.088502   0.059281  -1.493    0.136    \n",
       "married         0.401559   0.054683   7.343 8.25e-13 ***\n",
       "educ            0.081515   0.007399  11.018  < 2e-16 ***\n",
       "female:married -0.388100   0.076030  -5.105 4.68e-07 ***\n",
       "---\n",
       "Signif. codes:  0 '***' 0.001 '**' 0.01 '*' 0.05 '.' 0.1 ' ' 1\n",
       "\n",
       "Residual standard error: 0.4162 on 512 degrees of freedom\n",
       "Multiple R-squared:  0.3728,\tAdjusted R-squared:  0.3679 \n",
       "F-statistic: 76.09 on 4 and 512 DF,  p-value: < 2.2e-16\n"
      ]
     },
     "metadata": {},
     "output_type": "display_data"
    }
   ],
   "source": [
    "summary(lm(log(wage) ~ female + married + educ + female*married, data = wage1))"
   ]
  },
  {
   "cell_type": "markdown",
   "id": "b386d6b5",
   "metadata": {
    "slideshow": {
     "slide_type": "slide"
    }
   },
   "source": [
    "## Interacción entre una Variable Binaria y una Continua\n",
    "\n",
    "Considere ahora la interacción entre una variable categórica y una variable continua.\n",
    "\n",
    "Esto identifica **cambios en pendientes** o efectos diferenciados.  \n",
    "\n",
    "$$\\log(w_i) = \\beta_0 + \\beta_1 f_i + \\beta_2 s_i + \\beta_3 (f_i \\times s_i) + \\varepsilon_i$$\n",
    "\n",
    "Podemos calcular la derivada:\n",
    "\n",
    "$$\n",
    "\\frac{\\partial \\log(w_i)}{\\partial s_i} = \\beta_2 + \\beta_3 f_i\n",
    "$$\n",
    "\n",
    "- $\\beta_2$: efecto de la educación en el salario de los **hombres**.  \n",
    "- $\\beta_2 + \\beta_3$: efecto de la educación en el salario promedio de las **mujeres**.  "
   ]
  },
  {
   "cell_type": "code",
   "execution_count": 38,
   "id": "073eed50",
   "metadata": {
    "slideshow": {
     "slide_type": "slide"
    }
   },
   "outputs": [
    {
     "data": {
      "text/plain": [
       "\n",
       "Call:\n",
       "lm(formula = log(wage) ~ female + educ + female * educ, data = wage1)\n",
       "\n",
       "Residuals:\n",
       "     Min       1Q   Median       3Q      Max \n",
       "-1.11013 -0.28558 -0.03855  0.25787  1.35097 \n",
       "\n",
       "Coefficients:\n",
       "             Estimate Std. Error t value Pr(>|t|)    \n",
       "(Intercept)  0.796631   0.129084   6.171 1.38e-09 ***\n",
       "female      -0.542574   0.206464  -2.628  0.00885 ** \n",
       "educ         0.079374   0.009744   8.146 2.88e-15 ***\n",
       "female:educ  0.014891   0.016048   0.928  0.35392    \n",
       "---\n",
       "Signif. codes:  0 '***' 0.001 '**' 0.01 '*' 0.05 '.' 0.1 ' ' 1\n",
       "\n",
       "Residual standard error: 0.4368 on 513 degrees of freedom\n",
       "Multiple R-squared:  0.3079,\tAdjusted R-squared:  0.3038 \n",
       "F-statistic: 76.07 on 3 and 513 DF,  p-value: < 2.2e-16\n"
      ]
     },
     "metadata": {},
     "output_type": "display_data"
    }
   ],
   "source": [
    "summary(lm(log(wage) ~ female + educ + female*educ, data = wage1))"
   ]
  },
  {
   "cell_type": "markdown",
   "id": "680e5912",
   "metadata": {
    "slideshow": {
     "slide_type": "slide"
    }
   },
   "source": [
    "## Teorema de Gauss-Markov\n",
    "\n",
    "<div class=\"alert alert-block alert-info\">\n",
    "<b>TEOREMA:</b>\n",
    "<p>\n",
    "\n",
    "El estimador de Mínimos Cuadrados Ordinarios $\\hat{\\beta} = (X'X)^{-1}X'Y$ es el **mejor estimador lineal insesgado (MELI)**.  \n",
    "\n",
    "</div>\n",
    "\n",
    "- Esto significa que es el estimador lineal más **eficiente** o con menor varianza\n",
    "- Esto ocurre **si y solo si** se cumplen los supuestos del modelo lineal"
   ]
  },
  {
   "cell_type": "markdown",
   "id": "057e3ebb-9f97-4ea9-9e44-3f700af3301e",
   "metadata": {
    "slideshow": {
     "slide_type": "slide"
    }
   },
   "source": [
    "## Demostación del Teorema de Gauss-Markov\n",
    "\n",
    "Considere un estimador lineal insesgado $b$, tal que:\n",
    "\n",
    "$$b = CY \\quad \\text{y} \\quad C \\neq (X'X)^{-1}X'$$\n",
    "\n",
    "De forma genérica podemos definir:\n",
    "\n",
    "$$\n",
    "C = (D + A) \\quad \\text{tal que} \\quad A = (X'X)^{-1}X'\n",
    "$$\n",
    "\n",
    "Entonces:\n",
    "\n",
    "\\begin{align*}\n",
    "b &= CY = DY + AY \\\\\n",
    "&= D(X\\beta + \\varepsilon) + \\hat{\\beta}\n",
    "\\end{align*}\n",
    "\n",
    "Como $b$ es insesgado:\n",
    "\n",
    "$$\n",
    "E[b|X] = \\beta\n",
    "$$\n",
    "\n",
    "$$\n",
    "E[b|X] = DX\\beta + D \\cdot E[\\varepsilon|X] + E[\\hat{\\beta}|X]\n",
    "$$\n",
    "\n",
    "Entonces debe cumplirse que:\n",
    "\n",
    "$$\n",
    "DX = 0\n",
    "$$"
   ]
  },
  {
   "cell_type": "markdown",
   "id": "70f8f877-27e7-4c36-977d-5dd55e884700",
   "metadata": {
    "slideshow": {
     "slide_type": "slide"
    }
   },
   "source": [
    "## Demostración del Teorema de Gauss-Markov\n",
    "\n",
    "Podemos entonces escribir lo siguiente:\n",
    "\n",
    "\\begin{align*}\n",
    "b &= DX\\beta + D\\varepsilon + \\hat{\\beta} \\\\\n",
    "&= D\\varepsilon + \\beta + A\\varepsilon \\\\\n",
    "&= \\beta + (D + A)\\varepsilon\n",
    "\\end{align*}\n",
    "\n",
    "Ahora saquemos la varianza de este estimador:\n",
    "\n",
    "\\begin{align*}\n",
    "Var(b) = (D + A)Var(\\varepsilon)(D + A)' \\\\\n",
    "&= \\sigma^2 (D + A)(D + A)' \\\\\n",
    "&= \\sigma^2[DD' + DA' + AD' + AA'] \\\\\n",
    "&= \\sigma^2DD' + \\sigma^2(X'X)^{-1}\\\\\n",
    "\\end{align*}\n",
    "\n",
    "Noten que $DD'$ es un valor positivo.  \n",
    "\n",
    "Por lo tanto:\n",
    "\n",
    "$$\n",
    "Var(b) \\geq Var(\\hat{\\beta}) = \\sigma^2 (X'X)^{-1}\n",
    "$$"
   ]
  },
  {
   "cell_type": "markdown",
   "id": "a41fea59",
   "metadata": {
    "slideshow": {
     "slide_type": "slide"
    }
   },
   "source": [
    "## Violación de Supuestos\n",
    "\n",
    "Debido al **Teorema de Gauss-Markov**, queremos que los supuestos del modelo se cumplan.  \n",
    "\n",
    "En las siguintes clases consideraremos las implicaciones de la **violación de supuestos**:\n",
    "\n",
    "- ¿Cómo identificamos si se está violando un supuesto?  \n",
    "- ¿Qué debemos hacer cuando no se cumple alguno de los supuestos?  \n",
    "- ¿Cómo solucionamos el problema?  "
   ]
  },
  {
   "cell_type": "markdown",
   "id": "ecfb114a-736e-4313-a055-9e7540156bda",
   "metadata": {
    "slideshow": {
     "slide_type": "slide"
    }
   },
   "source": [
    "## Multicolinealidad\n",
    "\n",
    "Si se presenta una fuerte correlación entre dos o más variables de la matrix $X$, es posible que se viole el supuesto de **no multicolinealidad**. \n",
    "\n",
    "Suponga que queremos estimar el modelo: \n",
    "\n",
    "$$y_i = \\beta_0 + \\beta_1 x_{1i} + \\beta_2 x_{2i} + \\varepsilon_i$$\n",
    "\n",
    "Si $x_2$ se puede escribir como una **combinación lineal** de la variable $x_1$, entonces la multicolinealidad es **perfecta** y el modelo **no es estimable**. Ejemplo:\n",
    "\n",
    "$$x_{2i} = c_1 + c_2 x_{1i}, \\hspace{5pt}\\text{con}\\hspace{5pt} c_1, c_2 \\in \\mathbb{R}$$\n",
    "\n",
    "Si existe una **correlación fuerte** (pero no perfecta) entre $x_1$ y $x_2$, la multicolinealidad es **imperfecta**. En este caso, el modelo es **estimable**, pero la precisión de nuestros estimadores se ve comprometida. Esto afecta los intervalos de confianza y las pruebas de hipótesis (o significancia estadística). "
   ]
  },
  {
   "cell_type": "markdown",
   "id": "bf21f463-8fc0-4644-a779-e4b19b69cadb",
   "metadata": {
    "slideshow": {
     "slide_type": "slide"
    }
   },
   "source": [
    "## ¿Cómo identificar multicolinealidad?\n",
    "\n",
    "En nuestro modelo con 2 variables independientes, se puede mostrar que \n",
    "\n",
    "$$V(\\hat\\beta_1) = \\frac{\\sigma^2}{\\sum_{i = 1}^n x^2_{1i} (1 - \\rho_{1, 2})}$$\n",
    "\n",
    "donde $\\rho_{1, 2}$ es el coeficiente de correlación entre $x_1$ y $x_2$. \n",
    "\n",
    "Observe que si la correlación entre ambas variables es cercana a 1, $V(\\hat\\beta_1)$ es muy grande y, por lo tanto, es difícil rechazar la hipotesis nula $H_0: \\beta_1 = 0$.\n",
    "\n",
    "Podemos sospechar que existe multicolinealidad cuando tenemos **pruebas individuales no significativas**, pero el estadístico $F$ y coeficiente de determinacion $R^2$ son muy grandes. \n",
    "\n",
    "También podemos calcular $|\\rho_{1, 2}|$ y determinar si este valor es cercano a 1.\n",
    "\n",
    "**Solución**: excluir una de las variables!"
   ]
  },
  {
   "cell_type": "code",
   "execution_count": 20,
   "id": "4093f9e6-ab80-4741-b1da-6a81f1117e51",
   "metadata": {
    "slideshow": {
     "slide_type": "slide"
    }
   },
   "outputs": [
    {
     "data": {
      "text/plain": [
       "\n",
       "Call:\n",
       "lm(formula = w ~ s)\n",
       "\n",
       "Residuals:\n",
       "    Min      1Q  Median      3Q     Max \n",
       "-0.4350 -0.1113  0.0150  0.1163  0.3100 \n",
       "\n",
       "Coefficients:\n",
       "            Estimate Std. Error t value Pr(>|t|)    \n",
       "(Intercept)  0.41500    0.16490   2.517    0.036 *  \n",
       "s            0.45500    0.04972   9.152 1.64e-05 ***\n",
       "---\n",
       "Signif. codes:  0 '***' 0.001 '**' 0.01 '*' 0.05 '.' 0.1 ' ' 1\n",
       "\n",
       "Residual standard error: 0.2223 on 8 degrees of freedom\n",
       "Multiple R-squared:  0.9128,\tAdjusted R-squared:  0.9019 \n",
       "F-statistic: 83.75 on 1 and 8 DF,  p-value: 1.639e-05\n"
      ]
     },
     "metadata": {},
     "output_type": "display_data"
    }
   ],
   "source": [
    "w <- c(0.8, 1, 1.4, 1.2, 1.8, 2, 1.8, 2.1, 2.7, 3.0) #Salarios\n",
    "s <- c(1, 1, 2, 2, 3, 3, 4, 4, 5, 5) #educacion\n",
    "f <- c(1, 0, 1, 0, 1, 0, 1, 0, 1, 0) #mujer=1, hombre=0\n",
    "s_mp <- 1 + 2*s\n",
    "s_imp <- c(1, 1, 2, 1, 3, 3, 4, 4, 5, 5)\n",
    "\n",
    "summary(lm(w ~ s))"
   ]
  },
  {
   "cell_type": "code",
   "execution_count": 27,
   "id": "8ebd3073-07a6-4f83-b841-48a5583c0c0c",
   "metadata": {
    "slideshow": {
     "slide_type": "slide"
    }
   },
   "outputs": [
    {
     "name": "stdout",
     "output_type": "stream",
     "text": [
      "[1] \"Correlacion entre s y s_mp = 1\"\n"
     ]
    },
    {
     "data": {
      "text/plain": [
       "\n",
       "Call:\n",
       "lm(formula = w ~ s + s_mp)\n",
       "\n",
       "Residuals:\n",
       "    Min      1Q  Median      3Q     Max \n",
       "-0.4350 -0.1113  0.0150  0.1163  0.3100 \n",
       "\n",
       "Coefficients: (1 not defined because of singularities)\n",
       "            Estimate Std. Error t value Pr(>|t|)    \n",
       "(Intercept)  0.41500    0.16490   2.517    0.036 *  \n",
       "s            0.45500    0.04972   9.152 1.64e-05 ***\n",
       "s_mp              NA         NA      NA       NA    \n",
       "---\n",
       "Signif. codes:  0 '***' 0.001 '**' 0.01 '*' 0.05 '.' 0.1 ' ' 1\n",
       "\n",
       "Residual standard error: 0.2223 on 8 degrees of freedom\n",
       "Multiple R-squared:  0.9128,\tAdjusted R-squared:  0.9019 \n",
       "F-statistic: 83.75 on 1 and 8 DF,  p-value: 1.639e-05\n"
      ]
     },
     "metadata": {},
     "output_type": "display_data"
    }
   ],
   "source": [
    "rho <- cor(s, s_mp); print(paste0('Correlacion entre s y s_mp = ', rho))\n",
    "summary(lm(w ~ s + s_mp))"
   ]
  },
  {
   "cell_type": "code",
   "execution_count": 28,
   "id": "d61892dd-a7f1-4404-8102-33d5a4a637bd",
   "metadata": {
    "slideshow": {
     "slide_type": "slide"
    }
   },
   "outputs": [
    {
     "name": "stdout",
     "output_type": "stream",
     "text": [
      "[1] \"Correlacion entre s y s_imp = 0.981265558383595\"\n"
     ]
    },
    {
     "data": {
      "text/plain": [
       "\n",
       "Call:\n",
       "lm(formula = w ~ s + s_imp)\n",
       "\n",
       "Residuals:\n",
       "     Min       1Q   Median       3Q      Max \n",
       "-0.44235 -0.07456  0.00765  0.08868  0.31000 \n",
       "\n",
       "Coefficients:\n",
       "            Estimate Std. Error t value Pr(>|t|)  \n",
       "(Intercept)   0.4518     0.1833   2.465   0.0432 *\n",
       "s             0.3006     0.2694   1.116   0.3013  \n",
       "s_imp         0.1471     0.2518   0.584   0.5775  \n",
       "---\n",
       "Signif. codes:  0 '***' 0.001 '**' 0.01 '*' 0.05 '.' 0.1 ' ' 1\n",
       "\n",
       "Residual standard error: 0.2321 on 7 degrees of freedom\n",
       "Multiple R-squared:  0.9169,\tAdjusted R-squared:  0.8931 \n",
       "F-statistic:  38.6 on 2 and 7 DF,  p-value: 0.0001657\n"
      ]
     },
     "metadata": {},
     "output_type": "display_data"
    }
   ],
   "source": [
    "rho <- cor(s, s_imp); print(paste0('Correlacion entre s y s_imp = ', rho))\n",
    "summary(lm(w ~ s + s_imp))"
   ]
  },
  {
   "cell_type": "markdown",
   "id": "2dea0989",
   "metadata": {
    "slideshow": {
     "slide_type": "slide"
    }
   },
   "source": [
    "## No-normalidad de Errores\n",
    "\n",
    "Nuestro modelo asume que los errores se distribuyen normales, es decir\n",
    "\n",
    "$$\n",
    "\\varepsilon \\sim N(0, \\sigma^2 I)\n",
    "$$\n",
    "\n",
    "- Debido al **Teorema del Límite Central** es un supuesto muy razonable.  \n",
    "- No tiene implicaciones graves.  \n",
    "- No es necesario en la demostración de **Gauss-Markov**.\n",
    "- Sin embargo, es útil para determinar la distribución de los **estadísticos** usados en las pruebas de significancia."
   ]
  },
  {
   "cell_type": "markdown",
   "id": "97d70b0e-694f-4fae-ba28-a6a1dcfa9530",
   "metadata": {
    "slideshow": {
     "slide_type": "slide"
    }
   },
   "source": [
    "## No-normalidad de Errores\n",
    "\n",
    "Para evaluar si el supuesto se cumple o no se puede hacer un procedimiento muy sencillo.\n",
    "\n",
    "- Computamos los residuales y los graficamos.\n",
    "- Generalmente, estos residuales van a tener una distribución muy parecida a la normal.\n",
    "- Debido a que incluimos una constante en nuestra regresión, los residuales casi siempre tienen media cero. \n",
    "\n",
    "Adicionalmente, se puede hacer un test para evaluar la normalidad de la variable.\n",
    "\n",
    "Este supuesto se cumplir a a medida que aumentemos el tamaño de muestra."
   ]
  },
  {
   "cell_type": "code",
   "execution_count": 39,
   "id": "34568ac5-2834-445b-962d-126b297f3457",
   "metadata": {
    "slideshow": {
     "slide_type": "slide"
    }
   },
   "outputs": [
    {
     "data": {
      "image/png": "[encoded data removed]",
      "text/plain": [
       "Plot with title \"Normal Q-Q Plot\""
      ]
     },
     "metadata": {
      "image/png": {
       "height": 420,
       "width": 420
      }
     },
     "output_type": "display_data"
    }
   ],
   "source": [
    "model <- lm(log(wage) ~ educ + exper + expersq + female, data = wage1)\n",
    "e <- model$residuals\n",
    "\n",
    "par(mfrow=c(1,2))\n",
    "hist(e, xlab = \"Residuals\", probability = T, ylim = c(0, 1)) #Histograma de esiduales\n",
    "lines(density(e, na.rm=T), lwd = 2, col = \"red\") # Densidad estimada de los residuales\n",
    "curve(dnorm(x, mean = mean(e, na.rm=T), sd = sd(e, na.rm=T)), lty = 2, lwd = 2, add = TRUE, col = \"blue\") #Distribucion normal\n",
    "qqnorm(rstandard(model), col=\"red\", pch=20) ##Q-Q plot\n",
    "abline(a=0, b=1, col=\"blue\", lty=2, lwd=2)"
   ]
  },
  {
   "cell_type": "markdown",
   "id": "e2e1abf2-b8b5-4847-9639-d8c67b9aef48",
   "metadata": {
    "slideshow": {
     "slide_type": "slide"
    }
   },
   "source": [
    "## Pruebas de Normalidad\n",
    "\n",
    "Algunas pruebas estadísticas nos permiten evaluar si una variable se distribuye normal o no. En general, bajo la hipotesis nula se asume que la variable se distribuye normal, es decir:\n",
    "\n",
    "$$H_0: X \\sim N(\\mu_X, \\sigma_X^2)$$\n",
    "$$H_1: X \\text{ no se distribuye normal }$$\n",
    "\n",
    "Ejemplo de pruebas:\n",
    "\n",
    "1. Shapiro-Wilk (recomendada): Prueba paramétrica que compara la densidad estimada y la densidad teorica\n",
    "2. Kolmogorov-Smirnov: Compara la distribución acumulada de los datos y la distribución teorica\n",
    "3. Jarque-Bera\n",
    "4. Anderson-Darling"
   ]
  },
  {
   "cell_type": "code",
   "execution_count": 40,
   "id": "5d23a815-239b-403c-a2c0-d58f092f06f4",
   "metadata": {
    "slideshow": {
     "slide_type": "slide"
    }
   },
   "outputs": [
    {
     "data": {
      "text/plain": [
       "\n",
       "\tShapiro-Wilk normality test\n",
       "\n",
       "data:  e\n",
       "W = 0.99396, p-value = 0.03765\n"
      ]
     },
     "metadata": {},
     "output_type": "display_data"
    },
    {
     "name": "stderr",
     "output_type": "stream",
     "text": [
      "Warning message in ks.test.default(e, \"pnorm\", mean = mean(e), sd = sd(e)):\n",
      "\"ties should not be present for the one-sample Kolmogorov-Smirnov test\"\n"
     ]
    },
    {
     "data": {
      "text/plain": [
       "\n",
       "\tAsymptotic one-sample Kolmogorov-Smirnov test\n",
       "\n",
       "data:  e\n",
       "D = 0.033669, p-value = 0.6011\n",
       "alternative hypothesis: two-sided\n"
      ]
     },
     "metadata": {},
     "output_type": "display_data"
    }
   ],
   "source": [
    "shapiro.test(e)\n",
    "ks.test(e, \"pnorm\", mean = mean(e), sd = sd(e))"
   ]
  },
  {
   "cell_type": "markdown",
   "id": "8992d3cc-54f7-480d-bb2f-8f6e9892f3b9",
   "metadata": {
    "slideshow": {
     "slide_type": "slide"
    }
   },
   "source": [
    "## Heteroscedasticidad \n",
    "\n",
    "Uno de los supuestos de nuestro modelo es que la varianza de los errores es constante. Es decir,\n",
    "\n",
    "$$V(\\varepsilon_i) = \\sigma^2$$\n",
    "\n",
    "En un modelo **heteroscedastico**, \n",
    "\n",
    "$$V(\\varepsilon_i) = \\sigma_{i}^2 \\hspace{5pt}\\text{donde}\\hspace{5pt} \\sigma_{i}^2 \\neq \\sigma_{j}^2 \\hspace{5pt}\\text{para algún}\\hspace{5pt} i \\neq j$$\n",
    "\n",
    "En la práctica es común que nuestros errores no tengan varianza constante."
   ]
  },
  {
   "cell_type": "code",
   "execution_count": 111,
   "id": "98ade487-e0d9-44c1-bc60-5b93acd1f82b",
   "metadata": {
    "slideshow": {
     "slide_type": "slide"
    }
   },
   "outputs": [
    {
     "data": {
      "image/png": "[encoded data removed]",
      "text/plain": [
       "plot without title"
      ]
     },
     "metadata": {
      "image/png": {
       "height": 420,
       "width": 420
      }
     },
     "output_type": "display_data"
    }
   ],
   "source": [
    "install.packages(\"scales\"); library(scales)\n",
    "set.seed(080925)\n",
    "x <- abs(rnorm(1000, 0, 3))\n",
    "e <- rnorm(1000, 0, 1)*x\n",
    "plot(x, e, ylim = c(-20, 20), xlim = c(0, 10), xlab = \"Variable x\", ylab = expression(paste(\"Errores (\", epsilon, \")\")), cex = 1.5, pch = 19, col = alpha(\"red\", 0.5), frame = F)"
   ]
  },
  {
   "cell_type": "code",
   "execution_count": 112,
   "id": "742bb93c-9267-4f2c-b013-5f399a8576b0",
   "metadata": {
    "slideshow": {
     "slide_type": "slide"
    }
   },
   "outputs": [
    {
     "data": {
      "image/png": "[encoded data removed]",
      "text/plain": [
       "plot without title"
      ]
     },
     "metadata": {
      "image/png": {
       "height": 420,
       "width": 420
      }
     },
     "output_type": "display_data"
    }
   ],
   "source": [
    "x <- rnorm(1000, 0, 3)\n",
    "e <- rnorm(1000, 0, 1)*x\n",
    "plot(x, e, ylim = c(-20, 20), xlim = c(-10, 10), xlab = \"Variable x\", ylab = expression(paste(\"Errores (\", epsilon, \")\")), cex = 1.5, pch = 19, col = alpha(\"blue\", 0.5), frame = F)"
   ]
  },
  {
   "cell_type": "code",
   "execution_count": 113,
   "id": "1b1ccdf0-3fdd-4c11-be0f-9b5bb63a72cc",
   "metadata": {
    "slideshow": {
     "slide_type": "slide"
    }
   },
   "outputs": [
    {
     "data": {
      "image/png": "[encoded data removed]",
      "text/plain": [
       "plot without title"
      ]
     },
     "metadata": {
      "image/png": {
       "height": 420,
       "width": 420
      }
     },
     "output_type": "display_data"
    }
   ],
   "source": [
    "e <- c(rnorm(500, 0, 1), rnorm(500, 0, 5)) \n",
    "f <- c(rep(1, 500), rep(0, 500))\n",
    "\n",
    "markers <- c(19, 17)\n",
    "colors <- c(\"#66BD63\", \"#FDAE61\")\n",
    "plot(x, e, ylim = c(-20, 20), xlim = c(0, 10), xlab = \"Variable x\", ylab = expression(paste(\"Errores (\", epsilon, \")\")), cex = 1.5, pch = markers[factor(f)], col = alpha(colors[factor(f)], 0.5), frame = F)"
   ]
  },
  {
   "cell_type": "markdown",
   "id": "536e5d61-9505-4f62-a419-d1cabd64c605",
   "metadata": {
    "slideshow": {
     "slide_type": "slide"
    }
   },
   "source": [
    "## ¿Por qué nos interesa la heteroscedasticidad?\n",
    "\n",
    "Recordemos que en regresión simple encontramos que: \n",
    "\n",
    "\\begin{align*}\n",
    "    \\hat\\beta_1 & = \\frac{\\widehat{Cov(x, y)}}{\\widehat{V(x)}} = \\frac{\\sum_i (X_i - \\overline X)(Y_i - \\overline Y)}{\\sum_i (X_i - \\overline X)^2}\\\\\n",
    "    & = \\beta_1 + \\frac{\\sum_i (X_i - \\overline X) \\cdot \\varepsilon_i}{\\sum_i (X_i - \\overline X)^2} \\\\     \n",
    "\\end{align*}\n",
    "\n",
    "Si asumimos que $E(\\varepsilon_i | X) = 0$, podemos concluir que $E(\\hat\\beta_1) = \\beta_1$. Es decir, **nuestros estimadores seguirán siendo insesgados** a pesar de que la varianza de los errores no es constante.\n",
    "\n",
    "Si asumimos que $Cov(\\varepsilon_i, \\varepsilon_j) = 0$, podemos mostrar que: \n",
    "\n",
    "$$ee(\\hat\\beta_1) = \\sqrt{V(\\hat\\beta_1)} = \\sqrt{\\frac{\\sigma_i^2}{\\sum_i (X_i - \\overline X)^2}}$$\n",
    "\n",
    "La **heteroscedasticidad** afecta los errores estándar de nuestros estimadores."
   ]
  },
  {
   "cell_type": "markdown",
   "id": "e35209f4-ae13-42ce-965a-63ebb76db610",
   "metadata": {
    "slideshow": {
     "slide_type": "slide"
    }
   },
   "source": [
    "**En presencia de heteroscedasticidad**, asumir que la varianza de los errores es constantes implica que nuestros **errores estandar** están **sesgados**.\n",
    "\n",
    "Por lo tanto,\n",
    "\n",
    "- los intervalos de confianza son incorrectos, y\n",
    "- las pruebas de significancia ($t$ y $F$) no son validas\n",
    "\n",
    "**Solución**:\n",
    "\n",
    "1. **Probar** que hay presencia de heteroscedasticidad\n",
    "\n",
    "- Prueba de Goldfeld-Quandt\n",
    "- Prueba de Breusch-Pagan\n",
    "- Prueba de White\n",
    "   \n",
    "2. **Corrección** de los estimadores de la varianza\n",
    "\n",
    "- Evitar error de especificación\n",
    "- Mínimos Cuadrados Ponderados\n",
    "- Erorres estándar robustos"
   ]
  }
 ],
 "metadata": {
  "celltoolbar": "Slideshow",
  "kernelspec": {
   "display_name": "R",
   "language": "R",
   "name": "ir"
  },
  "language_info": {
   "codemirror_mode": "r",
   "file_extension": ".r",
   "mimetype": "text/x-r-source",
   "name": "R",
   "pygments_lexer": "r",
   "version": "4.5.1"
  }
 },
 "nbformat": 4,
 "nbformat_minor": 5
}
