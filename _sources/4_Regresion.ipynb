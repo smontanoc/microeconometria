{
 "cells": [
  {
   "cell_type": "markdown",
   "id": "1fdcc1de",
   "metadata": {
    "slideshow": {
     "slide_type": "slide"
    }
   },
   "source": [
    "# Modelo de Regresión Multiple\n",
    "\n",
    "Ahora consideramos una regresión con múltiples covariables o predictores:\n",
    "\n",
    "$$y_i = \\beta_0 + \\beta_1 x_{1,i} + ... + \\beta_{k-1} x_{k-1, i}$$\n",
    "\n",
    "Observe que queremos estimar $k$ parámetros ($\\beta_0$ incluido)\n",
    "\n",
    "Para esto debemos (re)-escribir la ecuación anterior en forma matricial, así:\n",
    "\n",
    "$$Y = X\\beta + \\varepsilon$$\n",
    "\n",
    "El modelo coonsta de $N$ observaciones, $k$ parámetros, y $k-1$ variables"
   ]
  },
  {
   "cell_type": "markdown",
   "id": "e8a58b1f-f3af-4af5-aaf0-e174778ac730",
   "metadata": {
    "slideshow": {
     "slide_type": "slide"
    }
   },
   "source": [
    "Entonces definimos cuatro matrices de la forma:\n",
    "\n",
    "$$\n",
    "Y_{[N \\times 1]} = X_{[N \\times K]} \\, \\beta_{[K \\times 1]} + \\varepsilon_{[N \\times 1]}\n",
    "$$ \n",
    "\n",
    "$$\n",
    "\\begin{bmatrix}\n",
    "y_1 \\\\\n",
    "y_2 \\\\\n",
    "\\vdots \\\\\n",
    "y_n\n",
    "\\end{bmatrix}\n",
    "=\n",
    "\\begin{bmatrix}\n",
    "1 & x_{11} & x_{21} & \\dots & x_{k-1,1} \\\\\n",
    "1 & x_{12} & x_{22} & \\dots & x_{k-1,2} \\\\\n",
    "\\vdots & \\vdots & \\vdots & \\ddots & \\vdots \\\\\n",
    "1 & x_{1N} & x_{2N} & \\dots & x_{k-1,N}\n",
    "\\end{bmatrix}\n",
    "\\cdot\n",
    "\\begin{bmatrix}\n",
    "\\beta_0 \\\\\n",
    "\\beta_1 \\\\\n",
    "\\vdots \\\\\n",
    "\\beta_K\n",
    "\\end{bmatrix}\n",
    "+\n",
    "\\begin{bmatrix}\n",
    "\\varepsilon_1 \\\\\n",
    "\\varepsilon_2 \\\\\n",
    "\\vdots \\\\\n",
    "\\varepsilon_n\n",
    "\\end{bmatrix}\n",
    "$$\n",
    "\n",
    "Tenemos de esta manera $n$ **ecuaciones**"
   ]
  },
  {
   "cell_type": "markdown",
   "id": "8058694b-bc3d-428f-9efa-a2b9160aa32a",
   "metadata": {
    "slideshow": {
     "slide_type": "slide"
    }
   },
   "source": [
    "## Supuestos de Regresión en forma Matricial\n",
    "\n",
    "¿Cómo se ven los supuestos sobre el error cuando tenemos matrices?\n",
    "\n",
    "$$\n",
    "\\varepsilon \\varepsilon' =\n",
    "\\begin{bmatrix}\n",
    "\\varepsilon_1 \\\\\n",
    "\\varepsilon_2 \\\\\n",
    "\\vdots \\\\\n",
    "\\varepsilon_n\n",
    "\\end{bmatrix}\n",
    "\\begin{bmatrix}\n",
    "\\varepsilon_1 & \\varepsilon_2 & \\dots & \\varepsilon_n\n",
    "\\end{bmatrix}\n",
    "$$\n",
    "\n",
    "$$\n",
    "=\n",
    "\\begin{bmatrix}\n",
    "\\varepsilon_1^2 & \\varepsilon_1\\varepsilon_2 & \\dots & \\varepsilon_1\\varepsilon_n \\\\\n",
    "\\varepsilon_2\\varepsilon_1 & \\varepsilon_2^2 & \\dots & \\varepsilon_2\\varepsilon_n \\\\\n",
    "\\vdots & \\vdots & \\ddots & \\vdots \\\\\n",
    "\\varepsilon_n\\varepsilon_1 & \\varepsilon_n\\varepsilon_2 & \\dots & \\varepsilon_n^2\n",
    "\\end{bmatrix}\n",
    "$$\n",
    "\n",
    "$$\n",
    "\\Rightarrow \\; E[\\varepsilon \\varepsilon'] = ??\n",
    "$$"
   ]
  },
  {
   "cell_type": "markdown",
   "id": "0c869d1b-4e9c-45be-8a6d-80f80204f59c",
   "metadata": {
    "slideshow": {
     "slide_type": "subslide"
    }
   },
   "source": [
    "Observe que bajo homoscedasticidad y no autocorrelación:\n",
    "\n",
    "$$\n",
    "E[\\varepsilon \\varepsilon'] =\n",
    "\\begin{bmatrix}\n",
    "\\sigma^2 & 0 & \\dots & 0 \\\\\n",
    "0 & \\sigma^2 & \\dots & 0 \\\\\n",
    "\\vdots & \\vdots & \\ddots & \\vdots \\\\\n",
    "0 & 0 & \\dots & \\sigma^2\n",
    "\\end{bmatrix}\n",
    "= \\sigma^2 I_n\n",
    "$$"
   ]
  }
 ],
 "metadata": {
  "celltoolbar": "Slideshow",
  "kernelspec": {
   "display_name": "R",
   "language": "R",
   "name": "ir"
  },
  "language_info": {
   "codemirror_mode": "r",
   "file_extension": ".r",
   "mimetype": "text/x-r-source",
   "name": "R",
   "pygments_lexer": "r",
   "version": "4.3.1"
  }
 },
 "nbformat": 4,
 "nbformat_minor": 5
}
