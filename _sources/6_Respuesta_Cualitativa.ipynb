{
 "cells": [
  {
   "cell_type": "markdown",
   "id": "cc2025e4-dcd3-4091-bc0c-ea3f8b49c317",
   "metadata": {
    "slideshow": {
     "slide_type": "slide"
    }
   },
   "source": [
    "# Variables de Respuesta Cualitativa\n",
    "\n",
    "Hasta ahora hemos cubierto modelos de regresión cuya variable dependiente $y_i$ es continua. \n",
    "\n",
    "Sin embargo, es posible que estemos interesados en estudiar la relación entre una variable cualitativa $y_i$ y un conjunto de $k$ variables explicativas $x_{ji}$, $j \\in \\{1, ..., k\\}$.\n",
    "\n",
    "Inicialmente consideraremos el caso en que la variable es binaria, es decir, $y_i \\in \\{0, 1\\}$."
   ]
  },
  {
   "cell_type": "markdown",
   "id": "a05d6485-af75-4543-8d5d-a585e886d15b",
   "metadata": {
    "slideshow": {
     "slide_type": "slide"
    }
   },
   "source": [
    "## Aplicación: Empleabilidad y Género\n",
    "\n",
    "Claudia Goldin (Harvard) ganó el Premio Nobel en 2023 por su investigación sobre las brechas de género en el mercado laboral. Las conclusiones de su trabajo señalan que estas brechas no se deben exclusivamente a discriminación. Sus resultados indican, por ejemplo, que las decisiones de fertilidad pueden generar disrupciones en las carreras de las mujeres, reducción en el número de horas de trabajo, y mayor preferencia por flexibilidad laboral.\n",
    "\n",
    "Suponga que nos interesa estudiar la **participación de las mujeres en el mercado laboral**. Para ello utilizaremos un modelo de la forma:\n",
    "\n",
    "$$P(Ocupado_i = 1) = F(\\alpha + \\beta \\text{ } Genero_i + X_i'\\gamma)$$\n",
    "\n",
    "donde \n",
    "\n",
    "\\begin{equation*}\n",
    "Ocupado_i =\n",
    "    \\left\\{\\begin{array}{lr}\n",
    "    1, \\text{si $i$ trabajó al menos una hora} \\\\\n",
    "    1, \\text{si $i$ no trabajó pero tenía trabajo} \\\\\n",
    "    0, \\text{de lo contrario}\n",
    "    \\end{array}\\right.\n",
    "\\end{equation*}"
   ]
  },
  {
   "cell_type": "markdown",
   "id": "6bc9a5db-060b-4135-8808-b2fe85d6db8c",
   "metadata": {
    "slideshow": {
     "slide_type": "slide"
    }
   },
   "source": [
    "Para las 13 ciudades principales de Colombia, según el DANE, la tasa de ocupación por género se veía de la siguiente manera en 2018: \n",
    "\n",
    "| Ciudad        | Mujeres | Hombres | Brecha |   | Ciudad        | Mujeres | Hombres | Brecha |\n",
    "|---------------|---------|---------|--------|---|---------------|---------|---------|--------|\n",
    "| Barranquilla  | 0.489   | 0.694   | -0.205 |   | Manizales     | 0.427   | 0.618   | -0.190 |\n",
    "| Bogotá        | 0.545   | 0.686   | -0.141 |   | Medellín      | 0.486   | 0.664   | -0.178 |\n",
    "| Bucaramanga   | 0.545   | 0.673   | -0.128 |   | Montería      | 0.488   | 0.663   | -0.175 |\n",
    "| Cali          | 0.514   | 0.674   | -0.161 |   | Pasto         | 0.514   | 0.649   | -0.136 |\n",
    "| Cartagena     | 0.416   | 0.636   | -0.220 |   | Pereira       | 0.487   | 0.696   | -0.209 |\n",
    "| Cúcuta        | 0.427   | 0.601   | -0.174 |   | Villavicencio | 0.495   | 0.655   | -0.160 |\n",
    "| Ibagué        | 0.492   | 0.627   | -0.135 |   |               |         |         |        |\n",
    "\n",
    "Hoy trabajarémos con informacipon de la Gran Encuesta de Hogares (GEIH), que se usa para medir diferentes estadísticas del mercado laboral."
   ]
  },
  {
   "cell_type": "markdown",
   "id": "36b161a0-ec16-4fa9-8084-e6ddc1335874",
   "metadata": {
    "slideshow": {
     "slide_type": "slide"
    }
   },
   "source": [
    "## Modelo de Probabilidad Lineal\n",
    "\n",
    "Para modelar de manera sencilla variables dependientes binarias podemos imponer una forma funcional lineal. Considere $y_i \\in \\{0,1\\}$ tal que \n",
    "\n",
    "\\begin{align*}\n",
    "y_i &= E[y_i | X]  + \\varepsilon_i \\\\\n",
    "    &= X_i'\\beta + \\varepsilon_i \\\\\n",
    "\\end{align*}\n",
    "\n",
    "Note que este modelo se basa en los supuestos clásicos de una regresión lineal. Sin embargo, observe que $y_i$ es una variable binaria y por lo tanto la esperanza condicional se lee como un porcentaje o **probabilidad**. Es decir,\n",
    "\n",
    "$$ E[y_i| X] = P[y_i = 1 | X] = p_i $$\n",
    "\n",
    "De esta manera, por los axiomas de probabilidad se tiene que:\n",
    "\n",
    "$$0 \\leq E[y_i | X] \\leq 1$$"
   ]
  },
  {
   "cell_type": "markdown",
   "id": "b8dfdc65-e326-4464-ad9f-9cc56bfccbe8",
   "metadata": {
    "slideshow": {
     "slide_type": "slide"
    }
   },
   "source": [
    "Una ventaja de este modelo es que podemos interpretar los coeficientes $\\beta_j$ como efectos marginales de manera directa. Es decir,\n",
    "\n",
    "$$\\frac{\\partial E[y_i | X]}{\\partial x_{ji}} = \\beta_j$$\n",
    "\n",
    "Así, $\\beta_j$ es el cambio (o efecto) de $x_j$ en la probabilidad que $y_i = 1$, manteniendo constante los demás regresores.\n",
    "\n",
    "Sin embargo, algunos de los supuestos del modelo de regresión no se cumplen. En particular, los errores no se distribuyen normal y el modelo es mecánicamente heteroscedastico. Note que:\n",
    "\n",
    "| $y_i$ | $\\varepsilon_i$ |\n",
    "|-------|-----------------|\n",
    "|  1    | 1 - $X_i'\\beta$ |\n",
    "|  0    | - $X_i'\\beta$   |\n",
    "\n",
    "Esto nos permite concluir que los errores se distribuyen Bernoulli."
   ]
  },
  {
   "cell_type": "markdown",
   "id": "d5c41c11-5e6f-499e-bb64-60c7649acf6a",
   "metadata": {
    "slideshow": {
     "slide_type": "slide"
    }
   },
   "source": [
    "Mostremos ahora que el modelo es heteroscedastico. Recuerde que \n",
    "\n",
    "$$V(\\varepsilon_i) = E(\\varepsilon_i^2) - E(\\varepsilon_i)^2$$\n",
    "\n",
    "1. Note que $E(\\varepsilon_i) = 0$.\n",
    "\\begin{align*}\n",
    "E(\\varepsilon_i) &= (1- X_i'\\beta)p_i + (- X_i'\\beta)(1 - p_i) \\\\\n",
    "&= (1- p_i)p_i - (p_i)(1 - p_i) = 0 \\\\\n",
    "\\end{align*}\n",
    "\n",
    "2. Note que $E(\\varepsilon_i^2)$\n",
    "\\begin{align*}\n",
    "E(\\varepsilon_i^2) &= (1- X_i'\\beta)^2p_i + (- X_i'\\beta)^2(1 - p_i) \\\\\n",
    "&= (1- p_i)^2p_i + p_i^2(1 - p_i) \\\\\n",
    "&= p_i - 2p_i^2 + p_i^3 + p_i^2 - p_i^3\\\\\n",
    "&= p_i - p_i^2 = p_i(1 - p_i)\\\\\n",
    "\\end{align*}"
   ]
  },
  {
   "cell_type": "markdown",
   "id": "cfc34c7c-ea89-4652-8586-98f33d6519fa",
   "metadata": {
    "slideshow": {
     "slide_type": "slide"
    }
   },
   "source": [
    "Ya que \n",
    "\n",
    "$$V(\\varepsilon_i) = p_i(1 - p_i) = X_i'\\beta(1 - X_i'\\beta)$$\n",
    "\n",
    "podemos concluir que el modelo es heteroscedastico, es decir, la varianza depende de las variables $X_i$.\n",
    "\n",
    "Esto nos indica que si estimamos el modelo por MCO, debemos corregir nuestros errores estándar usando el método de White (**errores robustos**)."
   ]
  },
  {
   "cell_type": "markdown",
   "id": "562d6d64-57c8-452d-a814-db3b01c2b8e5",
   "metadata": {
    "slideshow": {
     "slide_type": "slide"
    }
   },
   "source": [
    "## Ventajas y Limitaciones\n",
    "\n",
    "**Ventajas**\n",
    "\n",
    "- Sencillo de estimar con MCO.\n",
    "- Interpretación directa:  \n",
    "  - $\\beta_j$ indica el **cambio en la probabilidad** de $y_i = 1$ ante un cambio unitario en $x_j$.\n",
    "\n",
    "**Limitaciones**\n",
    "\n",
    "- La predicción $\\hat{P}(y_i =1 \\mid X)$ puede estar **fuera del intervalo [0,1]**.\n",
    "- Supone una relación estrictamente lineal.\n",
    "- Heterocedasticidad de los errores."
   ]
  },
  {
   "cell_type": "markdown",
   "id": "5c086891-255d-4f5a-9827-54c4b3e36e0f",
   "metadata": {
    "slideshow": {
     "slide_type": "slide"
    }
   },
   "source": [
    "## Modelos de Probabilidad No-lineales\n",
    "\n",
    "Debido a las desventajas de MPL, se consideran alternativas de estimación. Estos modelos alternativos son más flexibles (no-lineales), aunque imponen cierta estructura a la distribución de los errores.\n",
    "\n",
    "Recuerde que nuestro interés es estimar la probabilidad que la variable binaria $y_i$ tome el valor de 1. \n",
    "\n",
    "$$P[y_i = 1 | X] = F(X_i'\\beta)$$\n",
    "\n",
    "La función $F(\\cdot)$ transforma $X_i'\\beta$ para garantizar que $P[y_i = 1 | X]$ estés entre 0 y 1."
   ]
  },
  {
   "cell_type": "markdown",
   "id": "ecea9fee-af81-4aa5-8e84-7144eadf8cb5",
   "metadata": {
    "slideshow": {
     "slide_type": "slide"
    }
   },
   "source": [
    "## Modelo Logit\n",
    "\n",
    "- El modelo logit utiliza la función logística:\n",
    "\n",
    "$$\n",
    "P(y_i=1) = F(X_i'\\beta) = \\frac{\\exp(X_i'\\beta)}{1+\\exp(X_i'\\beta)} = \\frac{e^{X_i'\\beta}}{1+e^{X_i'\\beta}}\n",
    "$$\n",
    "\n",
    "- Como $\\exp(X_i'\\beta)$ es siempre positiva, $P(y_i=1)$ estará entre 0 y 1.\n",
    "\n",
    "- La probabilidad de que $y_i=0$ es:\n",
    "\n",
    "$$\n",
    "P(y_i=0) = 1 - P(y_i=1) = \\frac{1}{1+\\exp(X_i'\\beta)}\n",
    "$$"
   ]
  },
  {
   "cell_type": "markdown",
   "id": "6427b9b0-f4cf-415d-85e2-aa3a9751ba29",
   "metadata": {
    "slideshow": {
     "slide_type": "slide"
    }
   },
   "source": [
    "## Modelo Probit\n",
    "\n",
    "- El modelo probit utiliza la función de distribución acumulada (cdf) de la distribución normal $\\Phi$.\n",
    "\n",
    "$$\n",
    "P(y_i=1) = \\Phi(X_i'\\beta) = \\int_{-\\infty}^{X_i'\\beta} \\phi(z) \\, dz \\hspace{10pt}\\text{ donde }\\hspace{10pt} \\phi(z) = \\frac{1}{\\sqrt{2\\pi}} \\exp(- z^2)\n",
    "$$\n",
    "\n",
    "- $P(y_i=1)$ será un número entre 0 y 1 porque la cdf de la normal toma valores en ese rango."
   ]
  },
  {
   "cell_type": "markdown",
   "id": "64fd59c7-d3f3-4481-b690-3b37995ccf98",
   "metadata": {
    "slideshow": {
     "slide_type": "slide"
    }
   },
   "source": [
    "## Función de Verosimilitud\n",
    "\n",
    "- La verosimilitud es la probabilidad de que el resultado de la observación $i$ sea $y_i$.\n",
    "\n",
    "- Si $y_i = 1$, la verosimilitud es $P(y_i=1)$.  \n",
    "- Si $y_i = 0$, la verosimilitud es $P(y_i=0)$.  \n",
    "\n",
    "- La función de verosimilitud es:\n",
    "\n",
    "$$\n",
    "L = P(y_i=1)^{y_i} \\, P(y_i=0)^{1-y_i}\n",
    "$$\n",
    "\n",
    "- Observe que:  \n",
    "  - Si $y_i=1$: $L = P(y_i=1)$\n",
    "  - Si $y_i=0$: $L = P(y_i=0)$"
   ]
  },
  {
   "cell_type": "markdown",
   "id": "a5d3e170-4456-4ba2-9c4b-18152d0b66e1",
   "metadata": {
    "slideshow": {
     "slide_type": "slide"
    }
   },
   "source": [
    "## Estimación de Máxima Verosimilitud\n",
    "\n",
    "- Los coeficientes en los modelos probit y logit se obtienen maximizando la log-verosimilitud:\n",
    "\n",
    "$$\n",
    "\\max \\sum_{i=1}^n \\Big[ y_i \\cdot \\ln P(y_i=1) + (1-y_i) \\cdot \\ln P(y_i=0) \\Big]\n",
    "$$\n",
    "\n",
    "- Si el resultado es $y_i = 1$, se maximiza la probabilidad predicha $P(y_i=1)$ (por ejemplo, 0.8 o 0.9).\n",
    "\n",
    "- Si el resultado es $y_i = 0$, se maximiza $P(y_i=0)$ o, de forma equivalente, se minimiza $P(y_i=1)$ (por ejemplo, 0.1 o 0.2).  \n",
    "\n",
    "- Los estimadores de máxima verosimilitud son:  \n",
    "  - Consistentes  \n",
    "  - Asintóticamente normales  \n",
    "  - Asintóticamente eficientes (si se cumplen los supuestos)."
   ]
  },
  {
   "cell_type": "markdown",
   "id": "daa7d027-e646-4f0a-b74d-8255c8a8a8d1",
   "metadata": {
    "slideshow": {
     "slide_type": "slide"
    }
   },
   "source": [
    "# Estimación de Máxima Verosimilitud versus MCO\n",
    "\n",
    "- Los coeficientes en los modelos probit y logit se obtienen maximizando la función de log-verosimilitud  \n",
    "  (si el resultado $y = 1$, se maximiza la probabilidad predicha $P(y=1)$)\n",
    "\n",
    "$$\n",
    "\\max \\sum_{i=1}^{n} \\Big( y_i \\cdot \\ln P(y_i=1) + (1-y_i) \\cdot \\ln P(y_i=0) \\Big)\n",
    "$$\n",
    "\n",
    "- Los coeficientes OLS se obtienen minimizando la suma de los residuos al cuadrado  \n",
    "  (diferencia entre el valor real $y$ y el valor predicho $\\hat{y}$)  \n",
    "\n",
    "$$\n",
    "\\min \\sum_{i=1}^{n} \\hat{u}^2 = \\sum_{i=1}^{n} (y - \\hat{y})^2 = \\sum_{i=1}^{n} (y - x \\hat{\\beta})^2\n",
    "$$"
   ]
  },
  {
   "cell_type": "markdown",
   "id": "204b4395-2001-46f2-896b-9aaf8821bc35",
   "metadata": {
    "jp-MarkdownHeadingCollapsed": true,
    "slideshow": {
     "slide_type": "slide"
    }
   },
   "source": [
    "## Efectos Marginales\n",
    "\n",
    "Note que para los modelos logit y probit, los coeficientes $\\beta_j$ no representan el efecto marginal de la variable independiente $x_{ji}$\n",
    "\n",
    "Esto se debe a que:\n",
    "$$\\frac{\\partial P[y_i = 1 | X]}{\\partial x_{ij}} = \\frac{\\partial F(X_i'\\beta)}{\\partial x_{ij}} = F'(X_i'\\beta) \\beta_j$$\n",
    "\n",
    "Este cambio marginal se interpreta como el efecto de la variable independiente en la probabilidad que $y_i = 1$.\n",
    "\n",
    "- Para el modelo probit:\n",
    "$$\\frac{\\partial P[y_i = 1 | X]}{\\partial x_{ij}} = \\phi(X_i'\\beta) \\beta_j$$\n",
    "\n",
    "- Para el modelo logit:\n",
    "$$\\frac{\\partial P[y_i = 1 | X]}{\\partial x_{ij}} = \\frac{\\exp(X_i'\\beta)}{[1+\\exp(X_i'\\beta)]^2} \\beta_j$$\n"
   ]
  },
  {
   "cell_type": "markdown",
   "id": "8fb23a0b-b89a-48b3-9169-c2cbcf893db6",
   "metadata": {
    "slideshow": {
     "slide_type": "slide"
    }
   },
   "source": [
    "## Efecto en la Media y Efecto Promedio\n",
    "\n",
    "Observe que el efecto marginal depende de $X_i$. Luego, debemos fijar valores para realizar interpretaciones.\n",
    "\n",
    "1. Efecto en la media\n",
    "\n",
    "$$\\frac{\\partial P[y_i = 1 | X]}{\\partial x_{ij}} = \\frac{\\partial F(X_i'\\beta)}{\\partial x_{ij}} \\bigg|_{X_i = \\bar X} = F'(\\bar X'\\beta) \\beta_j$$\n",
    "\n",
    "2. Efecto promedio\n",
    "\n",
    "$$\\frac{\\partial P[y_i = 1 | X]}{\\partial x_{ij}} = \\frac{1}{n} \\sum _{i = 1}^n \\frac{\\partial F(X_i'\\beta)}{\\partial x_{ij}} = \\beta_j \\frac{1}{n} \\sum _{i = 1}^n F'(X_i'\\beta)$$"
   ]
  },
  {
   "cell_type": "markdown",
   "id": "f9493ae3-551b-4531-91d6-a8eb21a63c23",
   "metadata": {
    "slideshow": {
     "slide_type": "slide"
    }
   },
   "source": [
    "## Pseudo R-cuadrado\n",
    "\n",
    "- El **Pseudo R-cuadrado**, también llamado **McFadden R-squared**, mide el ajuste de un modelo probit o logit.  \n",
    "- Compara la log-verosimilitud de un modelo completo con la de un modelo que solo tiene una constante.  \n",
    "\n",
    "$$\n",
    "Pseudo \\; R^2 = 1 - \\frac{LL_{nr}}{LL_{0}}\n",
    "$$\n",
    "\n",
    "- $LL_{nr}$: log-verosimilitud del modelo no restringido (con todas las variables independientes).  \n",
    "- $LL_{0}$: log-verosimilitud del modelo restringido (solo con constante).  \n",
    "\n",
    "- Interpretación:  \n",
    "  - Si las variables independientes no explican nada → $LL_{0} \\approx LL_{nr}$ → $Pseudo \\; R^2 = 0$.  \n",
    "  - Si las variables independientes explican muy bien → $LL_{ur}$ aumenta (se acerca a 0, pues es negativo) → $Pseudo \\; R^2  \\to 1$.  \n",
    "\n",
    "- El **Pseudo R-cuadrado** indica:  \n",
    "  - Qué tan bien predice el modelo el resultado.  \n",
    "  - Qué tanto mejora respecto a un modelo nulo (solo intercepto).  \n",
    "  - **Ojo:** su magnitud **no se interpreta como en OLS**.  \n",
    "\n",
    "- Comparar dos modelos: uno con mayor $Pseudo \\; R^2  = 0$ predice mejor el resultado."
   ]
  },
  {
   "cell_type": "markdown",
   "id": "4c7db90f-a6db-4d65-880f-7d9f34f5fb95",
   "metadata": {
    "slideshow": {
     "slide_type": "slide"
    }
   },
   "source": [
    "## Porcentaje de predicciones correctas\n",
    "\n",
    "- El **porcentaje de predicciones correctas** es una medida de ajuste del modelo.  \n",
    "- Mide el porcentaje de predicciones correctas sobre el total de predicciones para una variable binaria.  \n",
    "\n",
    "**Procedimiento**:\n",
    "- El resultado real $y_i$ solo puede ser 0 o 1.  \n",
    "- La probabilidad predicha $P(y_i=1)$ es un número entre 0 y 1.  \n",
    "  - Si $P(y_i=1) > 0.5 \\implies \\hat{y_i}=1$.  \n",
    "  - Si $P(y_i=1) \\leq 0.5 \\implies \\hat{y_i}=0$.  \n",
    "\n",
    "**Casos posibles:**\n",
    "1. $y_i=1$ y $\\hat{y_i}=1$ → **predicción correcta**.  \n",
    "2. $y_i=1$ y $\\hat{y_i}=0$ → **predicción incorrecta**.  \n",
    "3. $y_i=0$ y $\\hat{y_i}=0$ → **predicción correcta**.  \n",
    "4. $y_i=0$ y $\\hat{y_i}=1$ → **predicción incorrecta**.  \n"
   ]
  }
 ],
 "metadata": {
  "celltoolbar": "Slideshow",
  "kernelspec": {
   "display_name": "R",
   "language": "R",
   "name": "ir"
  },
  "language_info": {
   "codemirror_mode": "r",
   "file_extension": ".r",
   "mimetype": "text/x-r-source",
   "name": "R",
   "pygments_lexer": "r",
   "version": "4.3.1"
  }
 },
 "nbformat": 4,
 "nbformat_minor": 5
}
