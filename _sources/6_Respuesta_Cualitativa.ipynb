{
 "cells": [
  {
   "cell_type": "markdown",
   "id": "cc2025e4-dcd3-4091-bc0c-ea3f8b49c317",
   "metadata": {
    "slideshow": {
     "slide_type": "slide"
    }
   },
   "source": [
    "# Variables de Respuesta Cualitativa\n",
    "\n",
    "Hasta ahora hemos considerado modelos de regresión cuya variable dependiente $y_i$ es continua. \n",
    "\n",
    "Sin embargo, es posible que estemos interesados en estudiar la relación de un conjunto de regresores $x_j$ y una variable cualitativa $y_i$.\n",
    "\n",
    "Inicialmente consideraremos el caso en que esta variable es binaria, es decir, $y_i \\in \\{0, 1\\}$."
   ]
  },
  {
   "cell_type": "markdown",
   "id": "36b161a0-ec16-4fa9-8084-e6ddc1335874",
   "metadata": {
    "slideshow": {
     "slide_type": "slide"
    }
   },
   "source": [
    "## Modelo de Probabilidad Lineal\n",
    "\n",
    "El **Modelo de Probabilidad Lineal (MPL)** es una forma sencilla de modelar variables dependientes binarias.\n",
    "\n",
    "Considere $y_i \\in \\{0,1\\}$ tal que \n",
    "\n",
    "\\begin{align*}\n",
    "y_i &= E[y_i | X]  + \\varepsilon_i \\\\\n",
    "    &= \\beta_0 + \\beta_1 x_{i1} + \\beta_2 x_{i2} + \\cdots + \\beta_k x_{ik} + \\varepsilon_i \\\\\n",
    "\\end{align*}\n",
    "\n",
    "Observe que \n",
    "\n",
    "$$ E[y_i | X] = P[y_i = 1 | X] = p_i $$\n",
    "\n",
    "De esta manera, $\\beta_j$ es el cambio (o efecto) de $x_j$ en la probabilidad que $y_i = 1$, manteniendo constante los demás regresores."
   ]
  },
  {
   "cell_type": "markdown",
   "id": "d5c41c11-5e6f-499e-bb64-60c7649acf6a",
   "metadata": {
    "slideshow": {
     "slide_type": "slide"
    }
   },
   "source": [
    "Para estimar este modelo usarémos el método MCO y **errores estándar robustos**. La razón por la que usamos errores robustos es que el modelo de probabilidad es heteroscedastico por definición. Veamos:\n",
    "\n",
    "Observe que $\\varepsilon_i = y_i - p_i$, luego\n",
    "\n",
    "$$V(\\varepsilon_i | X) = V( y_i - p_i | X) = V(y_i | X)$$ \n",
    "\n",
    "Ya que $y_i$ es una variable binaria (o Bernoulli), sabemos que \n",
    "\n",
    "$$V(y_i | X) = p_i (1 - p_i)$$\n",
    "\n",
    "Ya que *(i)* $V(y_i | X) = V(\\varepsilon_i | X)$ y *(ii)* $p_i = E[y_i | X]$ depende de las variables independientes, nuestro modelo MPL es heteroscedastico."
   ]
  },
  {
   "cell_type": "markdown",
   "id": "562d6d64-57c8-452d-a814-db3b01c2b8e5",
   "metadata": {
    "slideshow": {
     "slide_type": "slide"
    }
   },
   "source": [
    "## Ventajas y Limitaciones\n",
    "\n",
    "**Ventajas**\n",
    "\n",
    "- Sencillo de estimar con MCO.\n",
    "- Interpretación directa:  \n",
    "  - $\\beta_j$ indica el **cambio en la probabilidad** de $y_i = 1$ ante un cambio unitario en $x_j$.\n",
    "\n",
    "**Limitaciones**\n",
    "\n",
    "- La predicción $\\hat{P}(y_i =1 \\mid X)$ puede quedar **fuera del intervalo [0,1]**.\n",
    "- Supone una relación estrictamente lineal.\n",
    "- Heterocedasticidad en el error:\n",
    "$$\n",
    "V(u_i \\mid X_i) = P(y_i=1 \\mid X_i) \\cdot [1 - P(y_i=1 \\mid X_i)]\n",
    "$$\n"
   ]
  }
 ],
 "metadata": {
  "celltoolbar": "Slideshow",
  "kernelspec": {
   "display_name": "R",
   "language": "R",
   "name": "ir"
  },
  "language_info": {
   "codemirror_mode": "r",
   "file_extension": ".r",
   "mimetype": "text/x-r-source",
   "name": "R",
   "pygments_lexer": "r",
   "version": "4.3.1"
  }
 },
 "nbformat": 4,
 "nbformat_minor": 5
}
