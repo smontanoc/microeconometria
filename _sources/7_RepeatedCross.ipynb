{
 "cells": [
  {
   "cell_type": "markdown",
   "id": "79d2bdf7-05e7-4209-ba15-e68f23a545c9",
   "metadata": {
    "slideshow": {
     "slide_type": "slide"
    }
   },
   "source": [
    "# Modelo de Cortes Transversales Repetidos\n",
    "\n",
    "Un **corte transversal** es una “fotografía” de individuos (seleccionados aleatoriamente) en un solo punto en el tiempo. Este es el tipo de datos del que hemos hablado hasta ahora. Observe que usamos $i$ para `indexar` individuos:\n",
    "\n",
    "$$\n",
    "Salario_i = \\beta_0 + \\beta_1 educ_i + \\beta_2 exper_i + \\beta_3 mujer_i + u_i\n",
    "$$\n",
    "\n",
    "Esta regresión la podemos estimar usando datos que se ven de la siguiente manera:\n",
    "\n",
    "| $i$ | salario | educ | exper | mujer |\n",
    "|-----------|------|-----|-------|--------|\n",
    "| 1         | 3.10 | 11  | 2     | 1      |\n",
    "| 2         | 3.24 | 12  | 22    | 1      |\n",
    "| ...       | ...  | ... | ...   | ...    |\n",
    "| 100       | 5.30 | 12  | 7     | 0      |"
   ]
  },
  {
   "cell_type": "markdown",
   "id": "28c394ff-5a57-4af0-92af-24ad777c1a49",
   "metadata": {
    "slideshow": {
     "slide_type": "slide"
    }
   },
   "source": [
    "## Cortes Transversales Agrupados\n",
    "\n",
    "Los **“cortes transversal repetidos”** son múltiples “fotografías” de diferentes grupos de individuos (seleccionados aleatoriamente) en varios puntos en el tiempo.\n",
    "\n",
    "$$\n",
    "Salario_i = \\beta_0 + \\beta_1 educ_i + \\beta_2 exper_i + \\beta_3 mujer_i + {\\color{red}\\mu_t} + u_i\n",
    "$$\n",
    "\n",
    "Observe que aún podemos controlar el hecho de que las observaciones provienen de distintos años utilizando variables binarias, representadas por $\\mu_t$.\n",
    "\n",
    "| $i$ | $t$ | salario | educ | exper | mujer |\n",
    "|-----------|------|------|-----|-------|--------|\n",
    "| 1         |1| 3.10 | 11  | 2     | 1      |\n",
    "| ...       |1| ...  | ... | ...   | ...    |\n",
    "| 100       |1| 5.30 | 12  | 7     | 0      |\n",
    "| 101       |2| 1.20 | 9  | 1     | 0      |\n",
    "| ...       |2| ...  | ... | ...   | ...    |\n",
    "| 200       |2| 2.60 | 10  | 3     | 1      |"
   ]
  },
  {
   "cell_type": "markdown",
   "id": "9732383a-85e0-4d9c-b1d3-f92473311b60",
   "metadata": {
    "slideshow": {
     "slide_type": "slide"
    }
   },
   "source": [
    "## Características clave de los datos transversales repetidos\n",
    "\n",
    "- **Muestra nueva en cada periodo de tiempo** ($t$)\n",
    "  - Cada encuesta representa una sección transversal independiente.\n",
    "  - No se siguen los mismos individuos a lo largo de las distintas oleadas.\n",
    "\n",
    "- **Tendencias a nivel poblacional a lo largo del tiempo**\n",
    "  - Permite estudiar cómo cambia la distribución de características como ingresos, actitudes o comportamientos en la población.\n",
    "  - No posibilita observar trayectorias individuales.\n",
    "\n",
    "- **Consistencia en el diseño de la muestra**\n",
    "  - Para que las comparaciones entre oleadas sean válidas, se deben mantener constantes varios aspectos\n",
    "    1. Métodos de muestreo. \n",
    "    2. Diseño del cuestionario.\n",
    "    3. Definiciones de las variables clave. "
   ]
  }
 ],
 "metadata": {
  "celltoolbar": "Slideshow",
  "kernelspec": {
   "display_name": "R",
   "language": "R",
   "name": "ir"
  },
  "language_info": {
   "codemirror_mode": "r",
   "file_extension": ".r",
   "mimetype": "text/x-r-source",
   "name": "R",
   "pygments_lexer": "r",
   "version": "4.3.1"
  }
 },
 "nbformat": 4,
 "nbformat_minor": 5
}
