{
 "cells": [
  {
   "cell_type": "markdown",
   "id": "7b8dd83e-9a96-4e8f-b25a-1d837b7dae12",
   "metadata": {},
   "source": [
    "# Recursos"
   ]
  },
  {
   "cell_type": "markdown",
   "id": "ba003314-b10a-45c8-839e-0a374cbe35dd",
   "metadata": {},
   "source": [
    "## Probabilidad y Estadística\n",
    "\n",
    "- [Probability Course](https://www.probabilitycourse.com/) by Pishro-Nik (UMass)\n",
    "- [Statistics and Probability](https://daviddalpiaz.github.io/stat400sp18/) by David Dalpiaz (UIUC)\n",
    "- [Elementary Statistics](https://www.r-tutor.com/elementary-statistics) at R Tutorial\n",
    "- [Applied Statistics](https://online.stat.psu.edu/stat500/) at Penn State"
   ]
  },
  {
   "cell_type": "markdown",
   "id": "2e2bfb2e-9aba-4817-a6ab-c06e6170d754",
   "metadata": {},
   "source": [
    "## Econometría\n",
    "\n",
    "- [Introduction to Econometrics](https://github.com/edrubin/EC421S25) by Ed Rubin (U of Oregon)\n",
    "- [Introduction to Econometrics with R](https://www.econometrics-with-r.org/) by Hanck, Arnold, Gerber y Schmelzer\n",
    "- [Advanced Econometrics](https://sites.northwestern.edu/iac879/teaching/e-lectures-econ480/) by Ivan Canay (Northwestern)\n",
    "- [Topics in Econometrics](https://sites.northwestern.edu/iac879/teaching/e-lectures-econ481/) by Ivan Canay (Northwestern)\n",
    "- [Multiple Equation Estimation](https://edrub.in/ARE212/notes.html) by Ed Rubin (Berkeley)\n",
    "- [Applied Time Series](https://online.stat.psu.edu/stat510/Lesson01) at Penn State\n",
    "- [Regression Methods](https://online.stat.psu.edu/stat501/lesson/2) at Penn State"
   ]
  },
  {
   "cell_type": "markdown",
   "id": "6c0d3186-a806-4e82-9249-a0b3d1488ce3",
   "metadata": {},
   "source": [
    "## Inferencia Causal\n",
    "\n",
    "- [Econometrics III](https://github.com/edrubin/EC607S25) by Ed Rubin (U of Oregon)\n",
    "- [Applied Methods](https://github.com/paulgp/applied-methods-phd) by Paul Goldsmith-Pinkham (Yale-SOM)\n"
   ]
  },
  {
   "cell_type": "markdown",
   "id": "ba57c639-917f-4ea7-85f6-e7db95e67e7a",
   "metadata": {},
   "source": [
    "## Aprendizaje Estadístico\n",
    "\n",
    "- [R for Statistical Learning](https://daviddalpiaz.github.io/r4sl/) by David Dalpiaz (UIUC)\n",
    "- [Statistical Programming Methods](https://stat385.org/) by David Dalpiaz (UIUC)\n",
    "- [Econometrics - Machine Learning](https://github.com/edrubin/EC524W25) by Ed Rubin (U of Oregon)\n"
   ]
  }
 ],
 "metadata": {
  "kernelspec": {
   "display_name": "R",
   "language": "R",
   "name": "ir"
  },
  "language_info": {
   "codemirror_mode": "r",
   "file_extension": ".r",
   "mimetype": "text/x-r-source",
   "name": "R",
   "pygments_lexer": "r",
   "version": "4.5.1"
  }
 },
 "nbformat": 4,
 "nbformat_minor": 5
}
