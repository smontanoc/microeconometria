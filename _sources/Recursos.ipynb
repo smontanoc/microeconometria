{
 "cells": [
  {
   "cell_type": "markdown",
   "id": "7b8dd83e-9a96-4e8f-b25a-1d837b7dae12",
   "metadata": {},
   "source": [
    "## Recursos\n",
    "\n",
    "Aqui hay algunas páginas web que he encontrado útiles:\n",
    "\n",
    "- https://daviddalpiaz.github.io/r4sl/hypothesis-tests-in-r.html\n",
    "- https://www.probabilitycourse.com/\n",
    "- https://www.r-tutor.com/\n",
    "- https://www.r-tutor.com/elementary-statistics\n",
    "- Regression Methods: https://online.stat.psu.edu/stat501/lesson/2\n",
    "- https://online.stat.psu.edu/stat500/\n",
    "- Applied Time Series: https://online.stat.psu.edu/stat510/Lesson01"
   ]
  }
 ],
 "metadata": {
  "kernelspec": {
   "display_name": "R",
   "language": "R",
   "name": "ir"
  },
  "language_info": {
   "codemirror_mode": "r",
   "file_extension": ".r",
   "mimetype": "text/x-r-source",
   "name": "R",
   "pygments_lexer": "r",
   "version": "4.5.1"
  }
 },
 "nbformat": 4,
 "nbformat_minor": 5
}
