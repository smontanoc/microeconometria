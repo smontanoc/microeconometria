{
 "cells": [
  {
   "cell_type": "markdown",
   "id": "2b4077af",
   "metadata": {
    "slideshow": {
     "slide_type": "slide"
    }
   },
   "source": [
    "# Modelo de Regresión Lineal\n",
    "\n",
    "La regresion es un método que nos permite estudiar la relación entre una variable de resultado $Y$ y una covariable o predictor $X$.\n",
    "\n",
    "La función de regresión, $r(X)$, resume la relación entre $X$ y $Y$: \n",
    "\n",
    "$$\n",
    "r(x) = \\mathbb{E}(Y | X = x) = \\int y f(y|x) dy.\n",
    "$$ \n",
    "\n",
    "Nuestro objetivo es estimar $r(x)$ usando datos de la forma \n",
    "\n",
    "$$\\{Y_i , X_i\\}_{i = 1}^n$$\n",
    "\n",
    "Definamos el error $\\varepsilon = Y - r(x)$. De esta manera, podemos escribir: \n",
    "\n",
    "$$\n",
    "Y = r(x) + \\varepsilon\n",
    "$$"
   ]
  },
  {
   "cell_type": "markdown",
   "id": "ee2c567e",
   "metadata": {
    "slideshow": {
     "slide_type": "slide"
    }
   },
   "source": [
    "## Regresión Simple o Univariada\n",
    "\n",
    "En su versión más simple, $X$ es unidimensional y asumimos que $r(x)$ es lineal. Así, \n",
    "\n",
    "$$r(x) = \\beta_0 + \\beta_1 x.$$\n",
    "\n",
    "El modelo regresión lineal simple se define como: \n",
    "\n",
    "$$\n",
    "Y_i = r(x) + \\varepsilon_i = \\beta_0 + \\beta_1 X_i + \\varepsilon_i\n",
    "$$ \n",
    "\n",
    "Observe que los parámetros desconocidos en este modelo son el intercepto $\\beta_0$ y la pendiente $\\beta_1$.\n",
    "\n",
    "<div class=\"alert alert-block alert-warning\"> \n",
    "<b>EJEMPLO:</b>\n",
    "<p>\n",
    "\n",
    "La función de demanda inversa establece la relación entre precios $P_i$ y cantidades $Q_i$. Esta relación la podemos estimar a partir de una modelo de la forma: \n",
    "    \n",
    "$$P_i = \\alpha + \\beta \\cdot Q_i + u_i$$\n",
    "\n",
    "Quisieramos probar la siguiente hipótesis:\n",
    "    \n",
    "$$H_0: \\beta < 0$$\n",
    "    \n",
    "$$H_1: \\beta \\geq 0$$\n",
    "\n",
    "</div>"
   ]
  },
  {
   "cell_type": "markdown",
   "id": "ee598d55-45f0-48d6-a97d-76d45003fa36",
   "metadata": {
    "slideshow": {
     "slide_type": "slide"
    }
   },
   "source": [
    "## Supuestos del Modelo\n",
    "\n",
    "Para estimar el modelo de regresión suponemos:\n",
    "\n",
    "- Linealidad en los parámetros\n",
    "- No multicolinealidad o Rango Completo\n",
    "- Homoscedasticidad\n",
    "- No autocorrelación\n",
    "- Distribución Normal de los Errores\n",
    "- Independencia Condicional o Exogenidad\n",
    "\n",
    "Algunos de estos supuestos hace que el modelo sea **estimable**, otros nos permiten hacer **inferencia** sobre los parámetros"
   ]
  },
  {
   "cell_type": "markdown",
   "id": "34764dd6-6c98-487c-a915-9d72c6d625ca",
   "metadata": {
    "slideshow": {
     "slide_type": "subslide"
    }
   },
   "source": [
    "## Linealidad en Parámetros\n",
    "\n",
    "Este supuesto es necesario para que el modelo sea **estimable**.\n",
    "\n",
    "Se refiere a la forma funcional de la función de regresión $r(x) = \\beta_0 + \\beta_1 X_i$.\n",
    "\n",
    "Note que nos interesa estimar $\\beta_k$, no $\\beta_k^2$, $\\ln(\\beta_k)$, o cualquier otra función $g(\\beta_k)$.\n",
    "\n",
    "<div class=\"alert alert-block alert-warning\"> \n",
    "<b>EJEMPLO:</b>\n",
    "<p>\n",
    "\n",
    "Suponga queremos estimar el parámetro $\\beta$ de la función $y = A X^\\beta e^\\varepsilon$. ¿Podemos usar el modelo de regresión lineal?\n",
    "\n",
    "Sí, note que podemos utilizar la siguiente transformación:\n",
    "\n",
    "$$\\ln y_i = \\alpha + \\beta \\cdot X_i + \\varepsilon_i, \\text{ con } \\alpha = \\ln A$$\n",
    "\n",
    "¿Qué pasa si $y = A X^\\beta e^\\varepsilon + u$ ?\n",
    "</div>"
   ]
  },
  {
   "cell_type": "markdown",
   "id": "090267e7-9f40-4e2d-8927-c1d4ce78edff",
   "metadata": {
    "slideshow": {
     "slide_type": "subslide"
    }
   },
   "source": [
    "## No Multicolinealidad o Rango Completo\n",
    "\n",
    "Este supuesto es necesario para que el modelo sea **estimable**.\n",
    "\n",
    "El supuesto hace referencia a la información que aportan diferentes covariables. En primer lugar, este supuesto señala que:\n",
    "\n",
    "$$|\\rho(X_{1i}, X_{2i})| \\neq 1$$\n",
    "\n",
    "Donde $\\rho$ es el coeficiente de correlación. Este supuesto será más relevante cuando estudiemos el modelo de regresión múltiple.\n",
    "\n",
    "Adicionalmente, es necesario que el número de observaciones en los datos $n$ sea mayor al número de parámetros $k$ que queremos estimar. Es decir\n",
    "\n",
    "$$n \\geq k$$"
   ]
  },
  {
   "cell_type": "markdown",
   "id": "9662a0f5-46b4-4dc6-81a5-b3849acea2e5",
   "metadata": {
    "slideshow": {
     "slide_type": "subslide"
    }
   },
   "source": [
    "## Homoscedasticidad\n",
    "\n",
    "Este supuesto es sobre la varianza y nos facilita realizar pruebas de hipótesis\n",
    "\n",
    "El supuesto establece que:\n",
    "\n",
    "$$V(\\varepsilon_i | X) = \\sigma^2$$\n",
    "\n",
    "La violación de este supuesto se conoce como **heteroscedasticidad**. En un modelo **heteroscedástico** \n",
    "\n",
    "$$V(\\varepsilon_i | X) = \\sigma_i^2$$\n",
    "\n",
    "## No Autocorrelación\n",
    "\n",
    "Este supuesto establece que:\n",
    "\n",
    "$$Cov(\\varepsilon_i, \\varepsilon_j | X) = 0 \\text{ para todo } i \\neq j$$\n",
    "\n",
    "La violación de este supuesto se conoce como **autocorrelación**."
   ]
  },
  {
   "cell_type": "markdown",
   "id": "ce40c906-e2d7-4097-ba54-592c02a867aa",
   "metadata": {
    "slideshow": {
     "slide_type": "subslide"
    }
   },
   "source": [
    "## Distribución Normal de los Errores\n",
    "\n",
    "Este supuesto se hace sobre los errores entonces también afecta las pruebas de hipótesis.\n",
    "\n",
    "El supuesto señala que:\n",
    "\n",
    "$$\\varepsilon_i | X \\sim N(0, \\sigma^2)$$\n",
    "\n",
    "Observe que por el teorema del límite central este supuesto no es tan fuerte, y si muy útil para determinar cómo se distribuyen ciertos estadísticos."
   ]
  },
  {
   "cell_type": "markdown",
   "id": "3e2a1ab9-9990-4ca3-94ef-eff2c9f7d932",
   "metadata": {
    "slideshow": {
     "slide_type": "subslide"
    }
   },
   "source": [
    "## Independencia Condicional o Exogenidad\n",
    "\n",
    "Para que los estimadores de $\\beta_k$ sean insesgados y consistentes suponemos que\n",
    "\n",
    "$$E(\\varepsilon_i | X) = E(\\varepsilon_i)$$\n",
    "\n",
    "Observe que combinado con el supuesto anterior tenemos que: \n",
    "\n",
    "$$E(\\varepsilon_i | X) = 0$$\n",
    "\n",
    "Según este supuesto $\\varepsilon$ es indepente de $X$. En otras palabras $X$ es una variable exogena. \n",
    "\n",
    "Este supuesto garantiza que los efectos encontrados pueden se interpretados como estimaciones **causales**."
   ]
  },
  {
   "cell_type": "markdown",
   "id": "5fd39140",
   "metadata": {
    "slideshow": {
     "slide_type": "slide"
    }
   },
   "source": [
    "## Mínimos Cuadrados Ordinarios (MCO)\n",
    "\n",
    "Para estimar $\\beta_0$ y $\\beta_1$ podemos usar el método MCO, de manera formal: \n",
    "\n",
    "$$\\{\\hat\\beta_0, \\hat\\beta_1\\} = \\operatorname*{arg\\,min} \\mathcal{L}(\\beta_0, \\beta_1)$$\n",
    "\n",
    "donde $\\mathcal{L}(\\beta_0, \\beta_1) = \\sum_i {\\varepsilon_i}^2 = \\sum_i ({Y_i} - \\beta_0 - \\beta_1 X_i)^2$\n",
    "\n",
    "Las condiciones de primer orden (CPO) de este problema estan dadas por: \n",
    "\n",
    "$$\\frac{\\partial\\mathcal{L}}{\\partial\\beta_0} \\bigg|_{(\\hat\\beta_0, \\hat\\beta_1)} = \\sum_i (-2) \\cdot ({Y_i} - \\beta_0 - \\beta_1 X_i) \\bigg|_{(\\hat\\beta_0, \\hat\\beta_1)} = 0$$\n",
    "\n",
    "$$\\frac{\\partial\\mathcal{L}}{\\partial\\beta_1} \\bigg|_{(\\hat\\beta_0, \\hat\\beta_1)} = \\sum_i (-2 X_i) \\cdot ({Y_i} - \\beta_0 - \\beta_1 X_i) \\bigg|_{(\\hat\\beta_0, \\hat\\beta_1)} = 0$$\n",
    "\n",
    "Estas ecuaciones se conocen como **ecuaciones normales**."
   ]
  },
  {
   "cell_type": "markdown",
   "id": "e8001c4f",
   "metadata": {
    "slideshow": {
     "slide_type": "subslide"
    }
   },
   "source": [
    "A partir de estas condiciones obtenemos los siguientes **estimadores**:\n",
    "\n",
    "$$\\hat\\beta_0 = \\overline Y - \\hat\\beta_1 \\overline X$$\n",
    "\n",
    "$$\\hat\\beta_1 = \\frac{\\sum_i (X_i - \\overline X)(Y_i - \\overline Y)}{\\sum_i (X_i - \\overline X)^2} = \\frac{\\mathbb{\\hat Cov}(X, Y)}{\\mathbb{\\hat V}(X)}$$ \n",
    "\n",
    "De esta manera, la **linea ajustada** está dada por $\\hat r(x) = \\hat\\beta_0 + \\hat\\beta_1 x$, y los **valores predichos** se definen como $\\hat Y_i = \\hat r(X_i)$\n",
    "\n",
    "Definimos además el **residual** como $$e_i = Y_i - \\hat Y_i = Y_i - \\left(\\hat\\beta_0 + \\hat\\beta_1 X_i \\right)$$"
   ]
  },
  {
   "cell_type": "markdown",
   "id": "39a920ea-d0b7-469e-a668-4e3ed55864c4",
   "metadata": {
    "slideshow": {
     "slide_type": "slide"
    }
   },
   "source": [
    "## Aplicacion : Relación entre Aprendizaje y Recursos Económicos\n",
    "\n",
    "Vamos a usar datos de las pruebas PISA, que toman estudiantes de 15 años de diversos paises, para estudiar la relación entre aprendizaje y recursos económicos"
   ]
  },
  {
   "cell_type": "code",
   "execution_count": 8,
   "id": "904b7c4c-b305-4dd5-9eed-7b5c64dad1a5",
   "metadata": {
    "slideshow": {
     "slide_type": "subslide"
    }
   },
   "outputs": [
    {
     "data": {
      "image/png": "[encoded data removed]",
      "text/plain": [
       "plot without title"
      ]
     },
     "metadata": {
      "image/png": {
       "height": 420,
       "width": 420
      }
     },
     "output_type": "display_data"
    }
   ],
   "source": [
    "datos <- data.frame(\n",
    "  cnt = c(\"ALB\",\"ARE\",\"ARG\",\"AUS\",\"AUT\",\"BEL\",\"BGR\",\"BRA\",\"BRN\",\"CAN\",\"CHE\",\"CHL\",\"COL\",\"CRI\",\"CZE\",\"DEU\",\"DNK\",\"DOM\",\"ESP\",\"EST\",\"FIN\",\"FRA\",\"GBR\",\"GEO\",\"GRC\",\"GTM\",\"HKG\",\"HRV\",\"HUN\",\"IDN\",\"IRL\",\"ISL\",\"ISR\",\"ITA\",\"JAM\",\"JOR\",\"JPN\",\"KAZ\",\"KHM\",\"KOR\",\"KSV\",\"LTU\",\"LVA\",\"MAC\",\"MAR\",\"MDA\",\"MEX\",\"MKD\",\"MLT\",\"MNE\",\"MNG\",\"MYS\",\"NLD\",\"NOR\",\"NZL\",\"PAN\",\"PER\",\"PHL\",\"POL\",\"PRT\",\"PRY\",\"PSE\",\"QAT\",\"QAZ\",\"QUR\",\"ROU\",\"SAU\",\"SGP\",\"SLV\",\"SRB\",\"SVK\",\"SVN\",\"SWE\",\"TAP\",\"THA\",\"TUR\",\"URY\",\"USA\",\"UZB\",\"VNM\"),\n",
    "  math = c(368.25405,433.82986,388.54898,487.16594,490.87702,494.01554,418.33838,381.13655,440.66541,484.52203,506.45947,428.55602,390.80082,384.34594,499.37027,477.74352,478.7986,339.82878,481.86548,512.71336,475.32395,468.24401,481.82223,390.46145,433.54079,345.55713,546.03005,462.98476,479.72656,379.03128,492.17959,459.27331,457.12382,474.03372,371.40991,360.30719,534.92948,446.01273,327.40929,531.09303,352.41048,471.54378,482.58027,552.05427,363.36233,415.52394,395.40581,390.49863,468.9976,406.00521,423.92532,409.49151,491.04093,468.47831,478.87437,353.49833,394.15257,354.16683,494.4546,475.57748,340.78028,364.66173,411.98931,398.33636,444.34014,435.55027,389.20505,573.98391,345.12158,439.81693,468.62039,471.70524,482.4206,533.87613,414.58713,451.8851,409.28728,462.80969,363.90947,468.83368),\n",
    "  read = c(358.8281,419.71994,412.83373,498.79545,484.0255,481.7429,405.41276,413.32812,427.66587,490.52696,481.54308,465.12644,419.17929,415.22553,500.25072,483.0404,477.21655,353.15524,480.86845,513.84343,477.53438,467.01198,490.44853,375.03115,442.52392,375.55029,504.42272,475.74213,479.98543,372.90122,516.88935,436.02972,473.09826,480.65205,400.32092,341.46512,515.07793,404.15901,321.2015,517.97604,338.17407,466.72213,474.2778,510.36214,337.91559,412.49955,415.23693,360.23238,448.79677,405.80333,377.88235,389.52229,456.80425,476.63287,500.62093,387.40349,411.3118,345.80676,495.10716,480.06531,376.70185,348.16283,414.6251,366.71778,431.63915,436.35943,383.16603,542.47853,367.1504,440.34278,450.99055,455.30676,487.52261,504.32483,396.81118,454.84742,430.33206,501.33838,335.69292,461.27979),\n",
    "  scie = c(376.45612,434.89017,416.65516,507.91081,494.86606,494.80982,421.72777,405.9808,444.34865,500.98817,500.80958,461.86337,420.46238,410.20256,510.04275,495.53081,481.59372,361.725,491.143,528.51191,498.51606,481.40229,492.73984,385.03211,445.14657,374.28158,524.42376,482.90977,492.44187,395.31191,504.3107,447.24463,464.2001,480.90591,394.72014,373.75317,546.25504,440.96584,341.14726,531.3388,353.75366,479.50271,493.00024,543.14931,364.28557,418.00956,410.76032,381.67947,468.78635,404.08089,411.62124,417.15835,486.63188,478.18198,503.74646,383.48177,410.52702,355.28466,504.86972,487.69184,371.42047,367.63747,428.26692,381.6494,453.79679,436.78672,390.96302,560.97909,374.21203,447.30452,467.28861,486.88349,494.4219,526.40753,429.0165,475.16645,435.88107,497.41058,355.05556,472.23249),\n",
    "  econ_index = c(-.74391004,.32525118,-.67148081,.39335586,.09302247,.1154232,-.27047491,-.97523877,-.27116078,.3339245,.1809795,-.24284266,-.96515588,NA,-.01307006,-.12423293,.34054443,-.71082132,.02354851,.18467558,.19358048,-.05861012,.11972009,-.44695238,-.13303286,-1.4975343,-.45290783,-.1523256,.06026681,-1.4481847,.34413547,.38376268,.25381603,-.09725531,-.57839371,-.80391485,-.02354713,-.26977891,-2.0669077,.23721704,-.3564011,.03484754,-.00981672,-.44904569,-1.8117468,-.50431186,-.92555928,-.26902116,.04917327,-.1922437,-.73720841,-.66233746,.23876144,.52544167,.22389294,-.96079427,-1.1207972,-1.3333803,-.06879525,-.2048969,-1.2130009,-.91617362,.11453604,-.46005621,-.29700884,-.28406969,-.27803347,.29037254,-1.3106626,-.20093189,-.25804407,.15198116,.33239471,-.28002015,-.96258429,-1.2274957,-.81679644,.04198107,-.68010732,-1.3159208)\n",
    ")\n",
    "datos <- na.omit(datos)\n",
    "plot(datos$econ_index, datos$read, xlab  = \"Economic Index\", ylab = \"Reading Test Scores - PISA 2022\")"
   ]
  },
  {
   "cell_type": "code",
   "execution_count": 9,
   "id": "a3b1419f-7759-4dc2-8581-38c74b306688",
   "metadata": {
    "slideshow": {
     "slide_type": "subslide"
    }
   },
   "outputs": [
    {
     "data": {
      "text/plain": [
       "\n",
       "Call:\n",
       "lm(formula = read ~ econ_index, data = datos)\n",
       "\n",
       "Residuals:\n",
       "    Min      1Q  Median      3Q     Max \n",
       "-98.150 -20.616   3.319  24.557  91.063 \n",
       "\n",
       "Coefficients:\n",
       "            Estimate Std. Error t value Pr(>|t|)    \n",
       "(Intercept)  460.878      5.218  88.331  < 2e-16 ***\n",
       "econ_index    68.896      7.821   8.809  2.8e-13 ***\n",
       "---\n",
       "Signif. codes:  0 ‘***’ 0.001 ‘**’ 0.01 ‘*’ 0.05 ‘.’ 0.1 ‘ ’ 1\n",
       "\n",
       "Residual standard error: 39.54 on 77 degrees of freedom\n",
       "Multiple R-squared:  0.5019,\tAdjusted R-squared:  0.4955 \n",
       "F-statistic:  77.6 on 1 and 77 DF,  p-value: 2.797e-13\n"
      ]
     },
     "metadata": {},
     "output_type": "display_data"
    }
   ],
   "source": [
    "model <- lm(read ~ econ_index, data = datos)\n",
    "summary(model)"
   ]
  },
  {
   "cell_type": "code",
   "execution_count": 10,
   "id": "3b928462-5b16-4283-b57f-6d006e85190f",
   "metadata": {
    "slideshow": {
     "slide_type": "subslide"
    }
   },
   "outputs": [
    {
     "data": {
      "text/html": [
       "<table class=\"dataframe\">\n",
       "<caption>A data.frame: 5 × 6</caption>\n",
       "<thead>\n",
       "\t<tr><th></th><th scope=col>yhat</th><th scope=col>lwr</th><th scope=col>upr</th><th scope=col>se</th><th scope=col>df</th><th scope=col>residuals</th></tr>\n",
       "\t<tr><th></th><th scope=col>&lt;dbl&gt;</th><th scope=col>&lt;dbl&gt;</th><th scope=col>&lt;dbl&gt;</th><th scope=col>&lt;dbl&gt;</th><th scope=col>&lt;int&gt;</th><th scope=col>&lt;dbl&gt;</th></tr>\n",
       "</thead>\n",
       "<tbody>\n",
       "\t<tr><th scope=row>1</th><td>409.6258</td><td>395.3168</td><td>423.9347</td><td>5.417594</td><td>77</td><td>39.54123</td></tr>\n",
       "\t<tr><th scope=row>2</th><td>483.2867</td><td>465.0712</td><td>501.5022</td><td>6.896686</td><td>77</td><td>39.54123</td></tr>\n",
       "\t<tr><th scope=row>3</th><td>414.6158</td><td>401.1048</td><td>428.1269</td><td>5.115512</td><td>77</td><td>39.54123</td></tr>\n",
       "\t<tr><th scope=row>4</th><td>487.9789</td><td>468.6670</td><td>507.2907</td><td>7.311772</td><td>77</td><td>39.54123</td></tr>\n",
       "\t<tr><th scope=row>5</th><td>467.2871</td><td>452.4118</td><td>482.1624</td><td>5.632037</td><td>77</td><td>39.54123</td></tr>\n",
       "</tbody>\n",
       "</table>\n"
      ],
      "text/latex": [
       "A data.frame: 5 × 6\n",
       "\\begin{tabular}{r|llllll}\n",
       "  & yhat & lwr & upr & se & df & residuals\\\\\n",
       "  & <dbl> & <dbl> & <dbl> & <dbl> & <int> & <dbl>\\\\\n",
       "\\hline\n",
       "\t1 & 409.6258 & 395.3168 & 423.9347 & 5.417594 & 77 & 39.54123\\\\\n",
       "\t2 & 483.2867 & 465.0712 & 501.5022 & 6.896686 & 77 & 39.54123\\\\\n",
       "\t3 & 414.6158 & 401.1048 & 428.1269 & 5.115512 & 77 & 39.54123\\\\\n",
       "\t4 & 487.9789 & 468.6670 & 507.2907 & 7.311772 & 77 & 39.54123\\\\\n",
       "\t5 & 467.2871 & 452.4118 & 482.1624 & 5.632037 & 77 & 39.54123\\\\\n",
       "\\end{tabular}\n"
      ],
      "text/markdown": [
       "\n",
       "A data.frame: 5 × 6\n",
       "\n",
       "| <!--/--> | yhat &lt;dbl&gt; | lwr &lt;dbl&gt; | upr &lt;dbl&gt; | se &lt;dbl&gt; | df &lt;int&gt; | residuals &lt;dbl&gt; |\n",
       "|---|---|---|---|---|---|---|\n",
       "| 1 | 409.6258 | 395.3168 | 423.9347 | 5.417594 | 77 | 39.54123 |\n",
       "| 2 | 483.2867 | 465.0712 | 501.5022 | 6.896686 | 77 | 39.54123 |\n",
       "| 3 | 414.6158 | 401.1048 | 428.1269 | 5.115512 | 77 | 39.54123 |\n",
       "| 4 | 487.9789 | 468.6670 | 507.2907 | 7.311772 | 77 | 39.54123 |\n",
       "| 5 | 467.2871 | 452.4118 | 482.1624 | 5.632037 | 77 | 39.54123 |\n",
       "\n"
      ],
      "text/plain": [
       "  yhat     lwr      upr      se       df residuals\n",
       "1 409.6258 395.3168 423.9347 5.417594 77 39.54123 \n",
       "2 483.2867 465.0712 501.5022 6.896686 77 39.54123 \n",
       "3 414.6158 401.1048 428.1269 5.115512 77 39.54123 \n",
       "4 487.9789 468.6670 507.2907 7.311772 77 39.54123 \n",
       "5 467.2871 452.4118 482.1624 5.632037 77 39.54123 "
      ]
     },
     "metadata": {},
     "output_type": "display_data"
    }
   ],
   "source": [
    "#Prediccion\n",
    "model_fit <- as.data.frame(predict(model, se.fit = TRUE, , interval = \"confidence\",  data = datos, level = 0.99))\n",
    "names(model_fit) <- c('yhat', 'lwr', 'upr', 'se', 'df', 'residuals')\n",
    "head(model_fit, 5)"
   ]
  },
  {
   "cell_type": "code",
   "execution_count": 11,
   "id": "c8fd7b62",
   "metadata": {
    "slideshow": {
     "slide_type": "subslide"
    }
   },
   "outputs": [
    {
     "data": {
      "image/png": "[encoded data removed]",
      "text/plain": [
       "plot without title"
      ]
     },
     "metadata": {
      "image/png": {
       "height": 420,
       "width": 420
      }
     },
     "output_type": "display_data"
    }
   ],
   "source": [
    "plot(datos$econ_index, datos$read, xlab  = \"Economic Index\", ylab = \"Reading Test Scores - PISA 2022\")\n",
    "lines(datos$econ_index, model_fit$yhat, col = \"blue\", lwd=2, lty = 1)"
   ]
  },
  {
   "cell_type": "code",
   "execution_count": 20,
   "id": "f40475a1-8f73-4490-b51d-eba670f4d8d1",
   "metadata": {
    "slideshow": {
     "slide_type": "subslide"
    }
   },
   "outputs": [
    {
     "data": {
      "image/png": "[encoded data removed]",
      "text/plain": [
       "Plot with title “Histogram of e”"
      ]
     },
     "metadata": {
      "image/png": {
       "height": 420,
       "width": 420
      }
     },
     "output_type": "display_data"
    }
   ],
   "source": [
    "#Predecir los errores\n",
    "e <- datos$read - model_fit$yhat\n",
    "\n",
    "#Estimacion de la función de densidad\n",
    "hist(e, prob = T)\n",
    "lines(density(e), lty = 2, lw = 2, col = \"red\")"
   ]
  },
  {
   "cell_type": "markdown",
   "id": "8accf660-e75e-4f2d-9f67-fe9b6d7f072e",
   "metadata": {
    "slideshow": {
     "slide_type": "slide"
    }
   },
   "source": [
    "## Residuales de la Regresión: $e_i = Y_i - \\hat Y_i$\n",
    "Observe que a partir de las ecuaciones normales tenemos que \n",
    "\n",
    "$$\\sum_i ({Y_i} - \\hat\\beta_0 - \\hat\\beta_1 X_i) = \\sum_i e_i = 0$$\n",
    "\n",
    "$$\\sum_i (X_i) \\cdot ({Y_i} - \\hat\\beta_0 - \\hat\\beta_1 X_i) = \\sum_i e_i \\cdot X_i = 0$$\n",
    "\n",
    "Lo anterior indica que:\n",
    "\n",
    "$$\\frac{\\sum_i e_i}{n} = \\bar e = 0 \\hspace{5pt} \\Rightarrow \\hspace{5pt} \\bar Y = \\bar{\\hat Y}$$\n",
    "\n",
    "$$\\sum_i e_i \\cdot X_i = 0 \\hspace{5pt} \\Rightarrow \\hspace{5pt} \\mathbb{\\hat Cov}(e_i, X_i) = \\sum_i (e_i - \\bar e) \\cdot (X_i - \\bar X) = 0$$\n"
   ]
  },
  {
   "cell_type": "markdown",
   "id": "704bd3c5-d620-48dd-a438-3d5abf8713de",
   "metadata": {
    "slideshow": {
     "slide_type": "slide"
    }
   },
   "source": [
    "## Propiedades de los estimadores $\\hat\\beta_k$\n",
    "\n",
    "Queremos evaluar si $\\hat\\beta_1$ es un buen estimador de $\\beta_1$. \n",
    "\n",
    "La primera pregunta que nos hacemos es ¿$E(\\hat\\beta_1) = \\beta_1$? Es decir, queremos ver si $\\hat\\beta_1$ es un estimador insesgado.\n",
    "\n",
    "Note que \n",
    "\n",
    "\\begin{align*}\n",
    "    \\hat\\beta_1 & = \\frac{\\sum_i (X_i - \\overline X)(Y_i - \\overline Y)}{\\sum_i (X_i - \\overline X)^2}\\\\\n",
    "     & = \\frac{\\sum_i (X_i - \\overline X)(\\beta_0 + \\beta_1 X_i + \\varepsilon_i - \\beta_0 - \\beta_1 \\bar X - \\bar \\varepsilon)}{\\sum_i (X_i - \\overline X)^2}\\\\\n",
    "    & = \\beta_1 + \\frac{\\sum_i (X_i - \\overline X)(\\varepsilon_i - \\overline \\varepsilon)}{\\sum_i (X_i - \\overline X)^2}\\\\\n",
    "    & = \\beta_1 + \\frac{\\sum_i (X_i - \\overline X) \\cdot \\varepsilon_i}{\\sum_i (X_i - \\overline X)^2} \\\\     \n",
    "\\end{align*}"
   ]
  },
  {
   "cell_type": "markdown",
   "id": "350bf85b",
   "metadata": {
    "slideshow": {
     "slide_type": "subslide"
    }
   },
   "source": [
    "Si tomamos la esperanza de esta exprensión tenemos:\n",
    "\n",
    "\\begin{align*}\n",
    "    E(\\hat\\beta_1) & = \\beta_1 + E \\left(\\frac{\\sum_i (X_i - \\overline X) \\cdot \\varepsilon_i}{\\sum_i (X_i - \\overline X)^2}\\right) \\\\    \n",
    "\\end{align*}\n",
    "\n",
    "A partir del supuesto de **independencia condicional**, para todo $i$ y $j$, $\\varepsilon_i$ y $X_j$ son independientes. Es decir,\n",
    "\n",
    "$$E(\\varepsilon_i \\cdot X_j) = E(\\varepsilon_i) \\cdot E(X_j) = 0$$\n",
    "\n",
    "Debido a esto:\n",
    "\n",
    "$$E\\left(\\sum_i (X_i - \\overline X) \\cdot \\varepsilon_i\\right) = \\sum_i E(X_i \\varepsilon_i) - \\sum_i E(\\overline X \\varepsilon_i) = \\sum_i E(X_i) E(\\varepsilon_i) - \\sum_i E(\\overline X) E(\\varepsilon_i) = 0$$\n",
    "\n",
    "De esta manera, el estimador $\\hat\\beta_1$, que obtuvimos por el método MCO, es insesgado. Así,\n",
    "\n",
    "$$E(\\hat\\beta_1) = \\beta_1$$"
   ]
  },
  {
   "cell_type": "markdown",
   "id": "6dcb6cd2",
   "metadata": {
    "slideshow": {
     "slide_type": "subslide"
    }
   },
   "source": [
    "Es $\\beta_0$ un estimador insesgado?\n",
    "\n",
    "\\begin{align*}\n",
    "    E(\\hat\\beta_0) & =E \\left(\\overline Y - \\hat\\beta_1 \\overline X \\right)\\\\\n",
    "     & = E\\left(\\beta_0 + \\beta_1 \\overline X + \\overline\\varepsilon - \\hat\\beta_1 \\overline X\\right)\\\\\n",
    "     & = \\beta_0 + \\beta_1 E(\\overline X) + E(\\overline\\varepsilon) - \\beta_1 E(\\overline X)\\\\\n",
    "     & = \\beta_0 \\\\\n",
    "\\end{align*}"
   ]
  },
  {
   "cell_type": "markdown",
   "id": "b3705a4a",
   "metadata": {
    "slideshow": {
     "slide_type": "slide"
    }
   },
   "source": [
    "## Inferencia en Regresión Simple\n",
    "\n",
    "Luego de estimar el modelo, y saber que en promedio nuestros estimadores de MCO encuentran los verdaderos parámetros que se desconocen, queremos determinar si \n",
    "\n",
    "1. existe una relación **estádisticamente significativa** entre $Y$ y $X$ \n",
    "2. nuestro modelo tiene un buen ajuste (o poder predictivo)\n",
    "\n",
    "Con este objetivo en mente, \n",
    "\n",
    "1. realizaremos pruebas de hipotesis individuales y conjuntas\n",
    "2. computaremos el coeficiente de determinación $R^2$."
   ]
  },
  {
   "cell_type": "markdown",
   "id": "0667a9d2",
   "metadata": {
    "slideshow": {
     "slide_type": "subslide"
    }
   },
   "source": [
    "## Pruebas de Hipótesis sobre $\\hat\\beta_k$\n",
    "\n",
    "Debido al supuesto de **normalidad de los errores**, $\\varepsilon_i | X \\sim N(0, \\sigma^2)$, es posible probar que \n",
    "\n",
    "$$\\hat\\beta_k | X \\sim N(\\beta_k, \\sigma^2_\\beta)$$\n",
    "\n",
    "Sin entrar en detalles, recuerde que la suma de variables normales da como resultado una variable que se distribuye normal. Esta es la idea fundamental detrás de la demostración de que nuestros estimadores de MCO son normales.\n",
    "\n",
    "La hipotesis que queremos considerar en general toma la siguiente forma:\n",
    "\n",
    "$$H_0 : \\beta_k = 0$$\n",
    "$$H_1 : \\beta_k \\neq 0$$\n"
   ]
  },
  {
   "cell_type": "markdown",
   "id": "f845d18f",
   "metadata": {
    "slideshow": {
     "slide_type": "subslide"
    }
   },
   "source": [
    "Note que bajo la hipótesis nula ($H_0$) el parámetro $\\beta_k$ es cero, y queremos saber si podemos rechazar dicha hipotesis con un nivel de significancia $\\alpha \\in \\{0.1, 0.05, 0.01\\}$.\n",
    "\n",
    "Para probar esta hipótesis podemoslos usar el siguiente estadístico:\n",
    "\n",
    "$$\\frac{\\hat\\beta_k - \\beta_k}{\\sigma_\\beta}$$\n",
    "\n",
    "Sin embargo, desconocemos $\\sigma_\\beta$. Esto implica que debemos estimarlo."
   ]
  },
  {
   "cell_type": "markdown",
   "id": "9957bc01",
   "metadata": {
    "slideshow": {
     "slide_type": "subslide"
    }
   },
   "source": [
    "## Varianza de $\\hat\\beta_k$\n",
    "\n",
    "Recuerde $\\hat\\beta_1 = \\frac{\\mathbb{\\hat Cov}(X, Y)}{\\mathbb{\\hat V}(X)} = \\beta_1 + \\frac{\\sum_i (X_i - \\overline X) \\cdot \\varepsilon_i}{\\sum_i (X_i - \\overline X)^2}$. De esta manera,\n",
    "\n",
    "\\begin{align*}\n",
    "    V(\\hat\\beta_1 | X) & = E \\left(\\hat\\beta_1 - E(\\hat\\beta_1) | X \\right)^2 = E \\left(\\hat\\beta_1 - \\beta_1 | X \\right)^2 = E \\left(\\frac{\\sum_i (X_i - \\overline X) \\cdot \\varepsilon_i}{\\sum_i (X_i - \\overline X)^2} | X \\right)^2 \\\\ \n",
    "    & = \\left(\\frac{1}{\\sum_i (X_i - \\overline X)^2}\\right)^2 E \\left(\\sum_i (X_i - \\overline X) \\cdot \\varepsilon_i | X \\right)^2 \\\\\n",
    "    & = \\left(\\frac{1}{\\sum_i (X_i - \\overline X)^2}\\right)^2 E \\left(\\sum_i (X_i - \\overline X)^2 \\cdot \\varepsilon_i^2 + 2 \\sum_{i < j} (X_i - \\overline X) (X_j - \\overline X) \\varepsilon_i \\varepsilon_j | X \\right) \\\\\n",
    "    & = \\left(\\frac{1}{\\sum_i (X_i - \\overline X)^2}\\right)^2 \\left(\\sum_i (X_i - \\overline X)^2 \\cdot E(\\varepsilon_i^2 | X) \\right) \\\\ \n",
    "    & = \\frac{\\sigma^2}{\\sum_i (X_i - \\overline X)^2} = \\frac{\\sigma^2}{S^2_X (n-1)} \\\\\n",
    "\\end{align*}\n",
    "\n",
    "Note que para estimar esta varianza debemos encontrar un estimador para $\\sigma^2$ "
   ]
  },
  {
   "cell_type": "markdown",
   "id": "3e04fe84",
   "metadata": {
    "slideshow": {
     "slide_type": "subslide"
    }
   },
   "source": [
    "## Varianza de los Errores\n",
    "\n",
    "Antes de encontrar un estimador para $\\sigma^2$, note que\n",
    "\n",
    "\\begin{align*}\n",
    "    V(Y_i | X_i) & = V(\\beta_0 + \\beta_1 X_i + \\varepsilon_i | X) \\\\\n",
    "    & = V(\\beta_0 + \\beta_1 X_i | X) + V(\\varepsilon_i | X) + 2 \\cdot Cov(\\beta_0 + \\beta_1 X_i, \\varepsilon_i | X) \\\\\n",
    "    & = V(\\varepsilon_i | X) = \\sigma^2 \\\\\n",
    "\\end{align*}\n",
    "\n",
    "Más aún, observe que \n",
    "\n",
    "$$Y_i | X \\sim N(\\beta_0 + \\beta_1 X_i, \\sigma^2)$$\n",
    "\n",
    "Ahora, ya que $E(\\varepsilon_i) = 0$, podemos mostrar que \n",
    "\n",
    "$$V(\\varepsilon_i | X) = E(\\varepsilon_i^2)$$\n",
    "\n",
    "Un estimador para $\\sigma^2$ es:\n",
    "\n",
    "$$\\hat\\sigma^2 = \\frac{\\sum_i e_i^2}{n-K} = \\frac{\\sum_i (Y_i - \\hat Y_i)^2}{n-K} = \\frac{\\sum_i (Y_i - \\hat\\beta_0 - \\hat\\beta_1 X_i)^2}{n-K} $$\n",
    "\n",
    "Donde $K$ es el número de parámetros que debemos estimar. En este caso $K = 2$.\n"
   ]
  },
  {
   "cell_type": "markdown",
   "id": "57bf166a",
   "metadata": {
    "slideshow": {
     "slide_type": "slide"
    }
   },
   "source": [
    "## Pruebas de Hipótesis Individuales\n",
    "\n",
    "Para nuestra prueba de hipótesis \n",
    "\n",
    "$$H_0 : \\beta_1 = 0$$\n",
    "$$H_1 : \\beta_1 \\neq 0$$\n",
    "\n",
    "Usaremos el siguiente estadístico de prueba\n",
    "\n",
    "$$T = \\frac{\\hat\\beta_1 - \\beta_1}{\\text{ee}(\\hat\\beta_1)}$$\n",
    "\n",
    "Donde el error estandar de $\\hat\\beta_1$ se define como:\n",
    "\n",
    "$$\\text{ee}(\\hat\\beta_1) = \\sqrt{ \\frac{\\sum_i e_i^2/n-K}{\\sum_i (X_i - \\overline X)^2}}$$\n",
    "\n",
    "Observe que nuestro estadístico $T \\sim t_{n-K}$. Esto se debe a que $\\hat\\beta_1 \\sim N(\\beta_1, \\sigma_{\\beta_1})$ y $\\sum_i e_i^2 \\sim \\chi^2_{n-K}$"
   ]
  },
  {
   "cell_type": "markdown",
   "id": "07523498",
   "metadata": {
    "slideshow": {
     "slide_type": "slide"
    }
   },
   "source": [
    "## Intervalo de confianza para $\\beta_k$\n",
    "\n",
    "Nuestro intervalo de confianza para el parámetro desconocido $\\beta_k$ está dado por \n",
    "\n",
    "\\begin{align*}\n",
    "    IC & = \\left(\\beta_k - t_{\\alpha/2 \\hspace{2pt},\\hspace{2pt} n-K}\\cdot\\sqrt{ \\frac{\\sum_i e_i^2/n-K}{\\sum_i (X_i - \\overline X)^2}} \\hspace{5pt} , \\hspace{5pt} \\beta_k + t_{\\alpha/2 \\hspace{2pt},\\hspace{2pt} n - K}\\cdot\\sqrt{ \\frac{\\sum_i e_i^2/n-K}{\\sum_i (X_i - \\overline X)^2}} \\right)\n",
    "\\end{align*}\n",
    "\n",
    "Cuando $n$ es grande, si $\\alpha = 0.05$, entonces $|t_{\\alpha/2 \\hspace{2pt},\\hspace{2pt} n-K}| \\approx 1.96$\n"
   ]
  },
  {
   "cell_type": "code",
   "execution_count": 21,
   "id": "e38d2c5a",
   "metadata": {
    "slideshow": {
     "slide_type": "slide"
    }
   },
   "outputs": [
    {
     "name": "stdout",
     "output_type": "stream",
     "text": [
      "[1] \"Beta 0 = 11.57751 Beta 1 = -0.84802\"\n",
      "[1] \"Yhat :\"\n"
     ]
    },
    {
     "data": {
      "text/html": [
       "<style>\n",
       ".list-inline {list-style: none; margin:0; padding: 0}\n",
       ".list-inline>li {display: inline-block}\n",
       ".list-inline>li:not(:last-child)::after {content: \"\\00b7\"; padding: 0 .5ex}\n",
       "</style>\n",
       "<ol class=list-inline><li>8.1854103343465</li><li>9.03343465045593</li><li>3.09726443768997</li><li>2.24924012158055</li><li>6.48936170212766</li><li>3.94528875379939</li></ol>\n"
      ],
      "text/latex": [
       "\\begin{enumerate*}\n",
       "\\item 8.1854103343465\n",
       "\\item 9.03343465045593\n",
       "\\item 3.09726443768997\n",
       "\\item 2.24924012158055\n",
       "\\item 6.48936170212766\n",
       "\\item 3.94528875379939\n",
       "\\end{enumerate*}\n"
      ],
      "text/markdown": [
       "1. 8.1854103343465\n",
       "2. 9.03343465045593\n",
       "3. 3.09726443768997\n",
       "4. 2.24924012158055\n",
       "5. 6.48936170212766\n",
       "6. 3.94528875379939\n",
       "\n",
       "\n"
      ],
      "text/plain": [
       "[1] 8.185410 9.033435 3.097264 2.249240 6.489362 3.945289"
      ]
     },
     "metadata": {},
     "output_type": "display_data"
    },
    {
     "name": "stdout",
     "output_type": "stream",
     "text": [
      "[1] \"Residuales :\"\n"
     ]
    },
    {
     "data": {
      "text/html": [
       "<style>\n",
       ".list-inline {list-style: none; margin:0; padding: 0}\n",
       ".list-inline>li {display: inline-block}\n",
       ".list-inline>li:not(:last-child)::after {content: \"\\00b7\"; padding: 0 .5ex}\n",
       "</style>\n",
       "<ol class=list-inline><li>-0.185410334346503</li><li>-0.0334346504559271</li><li>0.902735562310031</li><li>-0.249240121580547</li><li>0.51063829787234</li><li>-0.945288753799391</li></ol>\n"
      ],
      "text/latex": [
       "\\begin{enumerate*}\n",
       "\\item -0.185410334346503\n",
       "\\item -0.0334346504559271\n",
       "\\item 0.902735562310031\n",
       "\\item -0.249240121580547\n",
       "\\item 0.51063829787234\n",
       "\\item -0.945288753799391\n",
       "\\end{enumerate*}\n"
      ],
      "text/markdown": [
       "1. -0.185410334346503\n",
       "2. -0.0334346504559271\n",
       "3. 0.902735562310031\n",
       "4. -0.249240121580547\n",
       "5. 0.51063829787234\n",
       "6. -0.945288753799391\n",
       "\n",
       "\n"
      ],
      "text/plain": [
       "[1] -0.18541033 -0.03343465  0.90273556 -0.24924012  0.51063830 -0.94528875"
      ]
     },
     "metadata": {},
     "output_type": "display_data"
    },
    {
     "name": "stdout",
     "output_type": "stream",
     "text": [
      "[1] \"Error Estandar B1 = 0.09707\"\n"
     ]
    }
   ],
   "source": [
    "y <- c(8, 9, 4, 2, 7, 3) #Precio\n",
    "x <- c(4, 3, 10, 11, 6, 9) #Cantidades\n",
    "n <- length(x)\n",
    "\n",
    "#b0 y b1\n",
    "b1 <- cov(y, x)/var(x)\n",
    "b0 <- mean(y) - b1*mean(x)\n",
    "print(paste0('Beta 0 = ', round(b0, 5), ' Beta 1 = ', round(b1, 5)))\n",
    "\n",
    "#Errores estandar de b1\n",
    "print('Yhat :')\n",
    "yhat <- (b0 + b1 * x); yhat\n",
    "print('Residuales :')\n",
    "e <- y - yhat; e\n",
    "var_b1 <- (sum(e^2)/(n-2))/(var(x)*(n-1))\n",
    "ee_b1 <- sqrt(var_b1); print(paste0('Error Estandar B1 = ', round(ee_b1, 5)))"
   ]
  },
  {
   "cell_type": "code",
   "execution_count": 22,
   "id": "73b57e42",
   "metadata": {
    "slideshow": {
     "slide_type": "subslide"
    }
   },
   "outputs": [
    {
     "name": "stdout",
     "output_type": "stream",
     "text": [
      "[1] \"Estadistico T = \"\n"
     ]
    },
    {
     "data": {
      "text/html": [
       "-8.73583"
      ],
      "text/latex": [
       "-8.73583"
      ],
      "text/markdown": [
       "-8.73583"
      ],
      "text/plain": [
       "[1] -8.73583"
      ]
     },
     "metadata": {},
     "output_type": "display_data"
    },
    {
     "name": "stdout",
     "output_type": "stream",
     "text": [
      "[1] \"IC = (-1.11755 , -0.5785)\"\n",
      "[1] \"P-valor =\"\n"
     ]
    },
    {
     "data": {
      "text/html": [
       "0.000946"
      ],
      "text/latex": [
       "0.000946"
      ],
      "text/markdown": [
       "0.000946"
      ],
      "text/plain": [
       "[1] 0.000946"
      ]
     },
     "metadata": {},
     "output_type": "display_data"
    }
   ],
   "source": [
    "#Estadistico T\n",
    "print('Estadistico T = ')\n",
    "T <- b1/ee_b1; round(T, 5)\n",
    "\n",
    "#Intervalo de Confianza\n",
    "alpha <- 0.05\n",
    "low <- b1 - abs(qt(alpha/2, n-2))*ee_b1\n",
    "up <- b1 + abs(qt(alpha/2, n-2))*ee_b1\n",
    "\n",
    "print(paste0('IC = (', round(low, 5) , ' , ', round(up, 5), ')'))\n",
    "\n",
    "#P-valor\n",
    "print('P-valor =')\n",
    "round((1 - pt(abs(T), n-2))*2, 6)"
   ]
  },
  {
   "cell_type": "code",
   "execution_count": 23,
   "id": "bc5f4f61",
   "metadata": {
    "slideshow": {
     "slide_type": "subslide"
    }
   },
   "outputs": [
    {
     "data": {
      "text/plain": [
       "\n",
       "Call:\n",
       "lm(formula = y ~ x)\n",
       "\n",
       "Residuals:\n",
       "       1        2        3        4        5        6 \n",
       "-0.18541 -0.03343  0.90274 -0.24924  0.51064 -0.94529 \n",
       "\n",
       "Coefficients:\n",
       "            Estimate Std. Error t value Pr(>|t|)    \n",
       "(Intercept) 11.57751    0.75506  15.333 0.000106 ***\n",
       "x           -0.84802    0.09707  -8.736 0.000946 ***\n",
       "---\n",
       "Signif. codes:  0 ‘***’ 0.001 ‘**’ 0.01 ‘*’ 0.05 ‘.’ 0.1 ‘ ’ 1\n",
       "\n",
       "Residual standard error: 0.7188 on 4 degrees of freedom\n",
       "Multiple R-squared:  0.9502,\tAdjusted R-squared:  0.9377 \n",
       "F-statistic: 76.31 on 1 and 4 DF,  p-value: 0.0009461\n"
      ]
     },
     "metadata": {},
     "output_type": "display_data"
    }
   ],
   "source": [
    "summary(lm(y ~ x))"
   ]
  },
  {
   "cell_type": "markdown",
   "id": "2a186eaa",
   "metadata": {
    "slideshow": {
     "slide_type": "slide"
    }
   },
   "source": [
    "## Coeficiente de Determinación: $R^2$\n",
    "\n",
    "Una segunda forma de evaluar nuestro modelo es sabiendo qué tanto de $\\boldsymbol{Y}$ puede $\\boldsymbol{X}$ explicar.\n",
    "\n",
    "Para saber esto debemos hacer lo siguiente:\n",
    "\\begin{align*}\n",
    "Y_i  &= \\hat Y_i + e_i \\\\\n",
    "Y_i -\\bar{Y} &= \\hat Y_i -\\bar{Y} + e_i \\\\\n",
    "\\sum_i (Y_i -\\bar{Y})^2 &= \\sum_i (\\hat Y_i -\\bar{Y} + e_i)^2 \\\\\n",
    "\\sum_i (Y_i -\\bar{Y})^2 &= \\sum_i (\\hat Y_i -\\bar{Y})^2 + \\sum_i e_i^2 + 2 \\sum_i e_i (\\hat Y_i -\\bar{Y}) \\\\\n",
    "\\sum_i (Y_i -\\bar{Y})^2 &= \\sum_i (\\hat Y_i -\\bar{Y})^2 + \\sum_i e_i^2\n",
    "\\end{align*}\n",
    "    \n",
    "Esto es así porque\n",
    "\n",
    "\\begin{align*}\n",
    "\\sum_i e_i (\\hat Y_i -\\bar{Y}) &= \\sum_i e_i \\hat Y_i - \\bar{Y}\\sum e_i \\\\\n",
    "&= \\sum_i e_i(\\hat \\beta_0 + \\hat \\beta_1 X_i) - \\bar{Y}\\sum e_i = 0\n",
    "\\end{align*}"
   ]
  },
  {
   "cell_type": "markdown",
   "id": "f3776757",
   "metadata": {
    "slideshow": {
     "slide_type": "subslide"
    }
   },
   "source": [
    "Es decir, a partir de nuestros estimadores de MCO\n",
    "\n",
    "\\begin{align*}\n",
    "\\underbrace{\\sum_i (Y_i -\\bar{Y})^2}_{\\text{Varianza Total } (SST)} &= \\sum_i (\\hat Y_i -\\bar{Y})^2 + \\sum_i e_i^2 \\\\\n",
    "&= \\underbrace{\\sum_i (\\hat Y_i -\\bar{Y})^2}_{\\text{Varianza Explicada } (SSR)} + \\underbrace{\\sum_i (Y_i - \\hat Y_i)^2}_{\\text{Varianza No Explicada } (SSE)}\n",
    "\\end{align*}\n",
    "\n",
    "Luego podemos definir:\n",
    "\n",
    "\\begin{align*}\n",
    "R^2 &= \\frac{SSR}{SST} = 1 - \\frac{SSE}{SST} \\\\\n",
    "&= \\frac{\\sum_i (\\hat Y_i -\\bar{Y})^2}{\\sum_i (Y_i -\\bar{Y})^2} = 1 - \\frac{\\sum_i (Y_i - \\hat Y_i)^2}{\\sum_i (Y_i -\\bar{Y})^2}\n",
    "\\end{align*}\n"
   ]
  },
  {
   "cell_type": "markdown",
   "id": "807c24d4",
   "metadata": {
    "slideshow": {
     "slide_type": "subslide"
    }
   },
   "source": [
    "Observe que el coeficiente de determinación está acodato, es decir,\n",
    "\n",
    "$$0 \\leq R^2 \\leq 1$$\n",
    "\n",
    "Este estadístico **mide qué tanto de la varianza de $Y$ es explicada por la covariable $X$** \n",
    "\n",
    "<div class=\"alert alert-block alert-danger\"> \n",
    "<b>Nota:</b>\n",
    "<p>\n",
    "\n",
    "En el modelo de regresión lineal, el coeficiente de determinación crece a medida que se incluyen más variables explicativas o covariables.\n",
    "</div>\n",
    "\n",
    "Para el modelo de regresión simple podemos demostar que \n",
    "\n",
    "$$\\rho_{Y,X}^2 = R^2$$\n",
    "\n",
    "donde $\\rho_{Y,X}$ es el coeficiente de correlación entre $X$ y $Y$."
   ]
  },
  {
   "cell_type": "code",
   "execution_count": 24,
   "id": "ac1f08e3",
   "metadata": {
    "slideshow": {
     "slide_type": "subslide"
    }
   },
   "outputs": [
    {
     "name": "stdout",
     "output_type": "stream",
     "text": [
      "[1] \"R-cuadrado = 0.9502\"\n",
      "[1] \"Coeficiente de Correlacion = 0.9502\"\n"
     ]
    }
   ],
   "source": [
    "#Coeficiente de Determinación, R2\n",
    "SST <- sum((y - mean(y))^2)\n",
    "SSR <- sum((yhat - mean(y))^2)\n",
    "SSE <- sum((y - yhat)^2)\n",
    "\n",
    "R2 <- SSR/SST\n",
    "\n",
    "print(paste0('R-cuadrado = ', round(R2, 5)))\n",
    "\n",
    "#Coficiente de Correlacion entre X y Y\n",
    "rho <- cov(y, x)/(sd(x)*sd(y))\n",
    "\n",
    "print(paste0('Coeficiente de Correlacion = ', round(rho^2, 5)))"
   ]
  },
  {
   "cell_type": "code",
   "execution_count": 25,
   "id": "21e4182f",
   "metadata": {
    "slideshow": {
     "slide_type": "subslide"
    }
   },
   "outputs": [
    {
     "data": {
      "text/plain": [
       "\n",
       "Call:\n",
       "lm(formula = y ~ x)\n",
       "\n",
       "Residuals:\n",
       "       1        2        3        4        5        6 \n",
       "-0.18541 -0.03343  0.90274 -0.24924  0.51064 -0.94529 \n",
       "\n",
       "Coefficients:\n",
       "            Estimate Std. Error t value Pr(>|t|)    \n",
       "(Intercept) 11.57751    0.75506  15.333 0.000106 ***\n",
       "x           -0.84802    0.09707  -8.736 0.000946 ***\n",
       "---\n",
       "Signif. codes:  0 ‘***’ 0.001 ‘**’ 0.01 ‘*’ 0.05 ‘.’ 0.1 ‘ ’ 1\n",
       "\n",
       "Residual standard error: 0.7188 on 4 degrees of freedom\n",
       "Multiple R-squared:  0.9502,\tAdjusted R-squared:  0.9377 \n",
       "F-statistic: 76.31 on 1 and 4 DF,  p-value: 0.0009461\n"
      ]
     },
     "metadata": {},
     "output_type": "display_data"
    }
   ],
   "source": [
    "summary(lm(y ~ x))"
   ]
  },
  {
   "cell_type": "markdown",
   "id": "464115c3",
   "metadata": {
    "slideshow": {
     "slide_type": "slide"
    }
   },
   "source": [
    "## Prueba de Significancia Global\n",
    "\n",
    "La idea de esta prueba es evaluar si todas las covariables que incluimos en el modelo pueden explicar conjuntamente la variable $Y$\n",
    "\n",
    "La prueba de signifiancia global se define como:\n",
    "\n",
    "$$H_0 : \\beta_1 = \\beta_2 = ... = \\beta_K = 0$$\n",
    "$$H_1 : \\text{ al menos un } \\beta_k \\text{ es diferente de 0}$$\n",
    "\n",
    "Esta es una prueba de 'cola derecha,' por lo tanto la zona de rechazo siempre va a ser a la derecha e igual a $\\alpha$.\n",
    "\n",
    "Observe que en el modelo de regresión univariada (o simple), esta prueba es equivalente a:\n",
    "\n",
    "$$H_0 : \\beta_1 = 0$$\n",
    "$$H_1 : \\beta_1 \\neq 0$$\n"
   ]
  },
  {
   "cell_type": "markdown",
   "id": "6ddb17c3",
   "metadata": {
    "slideshow": {
     "slide_type": "subslide"
    }
   },
   "source": [
    "Para evaluar esta prueba de hipótesis debemos plantear un nuevo estadístico. \n",
    "\n",
    "Antes de plantear el estadístico de prueba debemos construir los **cuadrados medios**.\n",
    "\n",
    "Los cuadrados medios se definen **como la correspondiente suma de cuadrados dividido por sus grados de libertad**.\n",
    "\n",
    "\n",
    "|             | Suma de Cuadrados                        | G.L.   | Cuadrados Medios                                         |\n",
    "|-------------|-------------------------------------------|--------|----------------------------------------------------------|\n",
    "| **Modelo**  | $$\\sum(\\hat{Y}_i - \\bar{Y})^2$$             | $$K-1$$  | $$\\dfrac{\\sum(\\hat{Y}_i - \\bar{Y})^2}{K-1}$$               |\n",
    "| **Residuales** | $$\\sum(Y_i - \\hat Y_i)^2$$                | $$N-K$$  | $$\\dfrac{\\sum(Y_i - \\hat Y_i)^2}{N-K}$$                   |\n",
    "| **Total**      | $$\\sum(Y_i - \\bar{Y})^2$$                  | $$N-1$$  | $$\\dfrac{\\sum(Y_i - \\bar{Y})^2}{N-1}$$                     |"
   ]
  },
  {
   "cell_type": "markdown",
   "id": "c0407cda",
   "metadata": {
    "slideshow": {
     "slide_type": "subslide"
    }
   },
   "source": [
    "Vamos a llamar los cuadrados medios como:\n",
    "\n",
    "$$MSR = SSR/K-1$$\n",
    "\n",
    "$$MSE = SSE/N-K$$\n",
    "\n",
    "$$MST = SST/N-1$$\n",
    "\n",
    "Con base en estos estadísticos podemos calcular nuestro estadístico de prueba:\n",
    "\t\n",
    "\\begin{align*}\n",
    "F_{K-1,N-K} &= \\frac{MSR}{MSE} \\\\\n",
    "&= \\frac{\\frac{\\sum(\\hat Y_i - \\bar{Y})^2}{K-1}}{\\frac{\\sum(Y_i - \\hat Y_i)^2}{N-K}}\n",
    "\\end{align*}"
   ]
  },
  {
   "cell_type": "markdown",
   "id": "3a5a613b",
   "metadata": {
    "slideshow": {
     "slide_type": "subslide"
    }
   },
   "source": [
    "Observe que \n",
    "\n",
    "$$MSE = \\frac{\\sum(Y_i - \\hat Y_i)^2}{N-K} = \\hat{\\sigma}^2$$\n",
    "\n",
    "$MSE$ es lo mismo que el estimador de la varianza de los errores. Entonces el **error estándar del modelo** es igual a:\n",
    "\n",
    "$$\\hat{\\sigma} = \\sqrt{MSE} = \\sqrt{\\frac{\\sum(y_i - \\hat{y}_i)^2}{N-K}}$$\n",
    "\n",
    "También en regresión simple:\n",
    "\n",
    "$$T^2 = F$$"
   ]
  },
  {
   "cell_type": "code",
   "execution_count": 26,
   "id": "d4e3b20f",
   "metadata": {
    "slideshow": {
     "slide_type": "subslide"
    }
   },
   "outputs": [
    {
     "name": "stdout",
     "output_type": "stream",
     "text": [
      "[1] \"Estadistico F = 76.3147\"\n",
      "[1] \"T-cuadrado = 76.3147\"\n"
     ]
    }
   ],
   "source": [
    "#Estadistico F\n",
    "MSR <- SSR/(2-1)\n",
    "MSE <- SSE/(n - 2)\n",
    "\n",
    "F = MSR/MSE; \n",
    "\n",
    "print(paste0('Estadistico F = ', round(F, 4)))\n",
    "\n",
    "#T al cuadrado\n",
    "T <- b1/ee_b1\n",
    "print(paste0('T-cuadrado = ', round(T^2, 4)))"
   ]
  },
  {
   "cell_type": "code",
   "execution_count": 27,
   "id": "2adbbccc",
   "metadata": {
    "slideshow": {
     "slide_type": "subslide"
    }
   },
   "outputs": [
    {
     "data": {
      "text/plain": [
       "\n",
       "Call:\n",
       "lm(formula = y ~ x)\n",
       "\n",
       "Residuals:\n",
       "       1        2        3        4        5        6 \n",
       "-0.18541 -0.03343  0.90274 -0.24924  0.51064 -0.94529 \n",
       "\n",
       "Coefficients:\n",
       "            Estimate Std. Error t value Pr(>|t|)    \n",
       "(Intercept) 11.57751    0.75506  15.333 0.000106 ***\n",
       "x           -0.84802    0.09707  -8.736 0.000946 ***\n",
       "---\n",
       "Signif. codes:  0 ‘***’ 0.001 ‘**’ 0.01 ‘*’ 0.05 ‘.’ 0.1 ‘ ’ 1\n",
       "\n",
       "Residual standard error: 0.7188 on 4 degrees of freedom\n",
       "Multiple R-squared:  0.9502,\tAdjusted R-squared:  0.9377 \n",
       "F-statistic: 76.31 on 1 and 4 DF,  p-value: 0.0009461\n"
      ]
     },
     "metadata": {},
     "output_type": "display_data"
    }
   ],
   "source": [
    "summary(lm(y ~ x))"
   ]
  },
  {
   "cell_type": "markdown",
   "id": "ae70d6b0",
   "metadata": {
    "slideshow": {
     "slide_type": "slide"
    }
   },
   "source": [
    "## Predicción e Inferencia para $\\hat Y_i$\n",
    "\n",
    "Después de evaluar nuestro modelo podemos usarlo y hacer predicciones:\n",
    "\n",
    "$$\\hat Y_i = \\hat\\beta_0 + \\hat\\beta_1 X_i$$\n",
    "\n",
    "Es decir, a partir de las observaciones $X_i$ podemos intentar predecir el valor $Y_i$.\n",
    "\n",
    "Observe que $\\hat Y_i$ es una variable aleatoria y debemos hacer inferencia sobre este resultado.\n",
    "\n",
    "Se pueden computar dos tipos de intervalos de confianza:\n",
    "\n",
    "1. Un intervalo sobre la predicción media o $E(Y|X)$\n",
    "\n",
    "2. Un intervalo para hacer predicción sobre un valor individual $\\hat Y_i$ "
   ]
  },
  {
   "cell_type": "markdown",
   "id": "9e695f56",
   "metadata": {
    "slideshow": {
     "slide_type": "subslide"
    }
   },
   "source": [
    "## Predicción Media\n",
    "\n",
    "Cuando hacemos predicción sobre la media estamos interesados en sacar un intervalo para el $E[Y_0|X_0] = \\beta_0 + \\beta_1 X_0 $.\n",
    "\n",
    "Para esto recordemos primero que $\\hat{y}_i$ es un estimador de $E[Y|X]$.\n",
    "\n",
    "Necesitamos entonces la distribución de $\\hat{y}_i$. Podemos demostrar que:\n",
    "\n",
    "$$\\hat{y}_0 \\sim N(\\beta_0 + \\beta_1 x_0,Var(\\hat{y}_0))$$\n",
    "\n",
    "Donde \n",
    "\n",
    "$$Var(\\hat{y}_0) = \\sigma^2 \\left[ \\frac{1}{n} + \\frac{ (x_0 - \\bar{x})^2}{\\sum x_i^2}\\right]$$\n",
    "\n",
    "Entonces reemplazando con $s^2$, podemos construir un estimador $t$ tal que:\n",
    "\n",
    "$$t_{n-K} = \\frac{\\hat{y}_0 - (\\beta_0 + \\beta_1 x_0)}{ee(\\hat{y}_0)}$$\n",
    "\n",
    "Podemos también sacar un IC:\n",
    "\n",
    "$$\\hat{y} \\pm t_{\\alpha/2} ee(\\hat{y}_0)$$"
   ]
  },
  {
   "cell_type": "markdown",
   "id": "5b775e16",
   "metadata": {
    "slideshow": {
     "slide_type": "subslide"
    }
   },
   "source": [
    "## Predicción Individual\n",
    "\n",
    "Queremos sacar un intervalo para un punto en particular $y_0 = \\beta_1 + \\beta_2 x_0 + \\epsilon_0$\n",
    "\n",
    "**Este intervalo va a ser más grande!**\n",
    "\n",
    "En este caso, $\\hat{y}_0$ será de nuevo nuestro estimador, pero la varianza va a estar dada por la varianza del error de predicción:\n",
    "\n",
    "$$Var(y_0 - \\hat{y}_0) = \\sigma^2 \\left[ 1 + \\frac{1}{n} + \\frac{ (x_0 - \\bar{x})^2}{\\sum x_i^2}\\right]$$\n",
    "\n",
    "Y el estadístico de prueba estará dado por:\n",
    "\n",
    "$$t = \\frac{y_0 - \\hat{y}_0}{ee(y_0 - \\hat{y}_0)}$$"
   ]
  },
  {
   "cell_type": "markdown",
   "id": "b91eaf79",
   "metadata": {
    "slideshow": {
     "slide_type": "subslide"
    }
   },
   "source": [
    "## Aplicación:\n",
    "\n",
    "Considere la siguiente regresión sobre el precio de un vehículo usado, y una predicción de un vehículo con 40,000 Km:\n",
    "\n",
    "\\begin{align*}\n",
    "\\hat{p} = 6533 - 0.0312(Kilometraje) & \\hspace{25pt} \\bar{x} = 36,009 \\\\\n",
    "S^2 = 22983 \\hspace{76pt}  & \\hspace{25pt} n = 100 \\\\\n",
    "\\sum x_i^2 =  4,309,340,160 \\hspace{34pt} & \\hspace{25pt} t_{0.025} = -1.984\\\\\n",
    "\\end{align*}\n",
    "\n",
    "- Calcule un intervalo de confianza (al 95\\%) sobre la predicción del precio de **un** vehículo con 40,000 km. \n",
    "\n",
    "\\begin{align*}\n",
    "\t&\\hat{y} \\pm t_{\\alpha/2} S \\sqrt{ 1 + \\frac{1}{n} + \\frac{ (x_0 - \\bar{x})^2}{\\sum x_i^2}} \\\\\n",
    "\t&5,285 \\pm 1.984 (151.6) \\sqrt{ 1 + \\frac{1}{100} + \\frac{ (40000 - 36009)^2}{4,309,340,160}} \\\\\n",
    "\t&5,285 \\pm 303\n",
    "\\end{align*}"
   ]
  },
  {
   "cell_type": "markdown",
   "id": "9df13e91",
   "metadata": {
    "slideshow": {
     "slide_type": "subslide"
    }
   },
   "source": [
    "- Calcule un intervalo de confianza (al 95\\%) sobre la predicción \\textbf{de un lote} de vehículos con 40,000 km cada uno. \n",
    "\n",
    "\\begin{align*}\n",
    "&\\hat{p} \\pm t_{\\alpha/2} S \\sqrt{ \\frac{1}{n} + \\frac{ (x_0 - \\bar{x})^2}{\\sum x_i^2}} \\\\\n",
    "&5,285 \\pm 1.984 (151.6) \\sqrt{ \\frac{1}{100} + \\frac{ (40000 - 36009)^2}{4,309,340,160}} \\\\\n",
    "&5,285 \\pm 35\n",
    "\\end{align*}\t"
   ]
  },
  {
   "cell_type": "markdown",
   "id": "bc199cfc",
   "metadata": {
    "slideshow": {
     "slide_type": "slide"
    }
   },
   "source": [
    "## Interpretación de Coeficientes\n",
    "\n",
    "Uno de los supuestos del modelo de regresión lineal es que es lineal en los parámetros. \n",
    "\n",
    "**Pero los modelos de regresión sí pueden ser no lineales en las variables**.\n",
    "\n",
    "La forma funcional de las variables determinará la **interpretación de los parámetros**.\n",
    "\n",
    "Vamos a ver cuatro tipos de modelos:\n",
    "\n",
    "- Lin-Lin\n",
    "- Log-Lin\n",
    "- Lin-log\n",
    "- Log-Log\n"
   ]
  },
  {
   "cell_type": "markdown",
   "id": "771fce72",
   "metadata": {
    "slideshow": {
     "slide_type": "subslide"
    }
   },
   "source": [
    "## Lin-Lin\n",
    "\n",
    "Un modelo Lin-Lin es de la forma:\n",
    "\n",
    "$$X_i = \\beta_0 + \\beta_1 X_i + \\varepsilon$$\n",
    "\n",
    "Observe que si diferenciamos $Y_i$ con respecto a $X_i$ obtenemos\n",
    "\n",
    "$$\\frac{d Y_i}{d X_i} = \\beta_1$$\n",
    "\n",
    "**Interpretación**: Si $X$ aumenta en 1 unidad, entonces $Y$ cambia en $\\beta_1$ unidades.\n",
    "\n",
    "Los modelos Lin-Lin son los más fáciles de interpretar"
   ]
  },
  {
   "cell_type": "markdown",
   "id": "b315c561",
   "metadata": {
    "slideshow": {
     "slide_type": "subslide"
    }
   },
   "source": [
    "## Log-Lin\n",
    "\n",
    "Los modelos Log -Lin son de la forma:\n",
    "\n",
    "\\begin{align*}\n",
    "\\ln(Y_i) &= \\beta_0 + \\beta_1 X_i + \\varepsilon_i \\\\\n",
    "\\frac{1}{Y_i}\\frac{d Y_i}{d X_i} &= \\beta_1 \\\\\n",
    "\\frac{d Y_i/y_i}{d X_i} &= \\beta_1 \\\\\t\t \n",
    "\\frac{\\Delta Y_i/Y_i}{\\Delta X_i} &= \\beta_1 \\\\\n",
    "\\end{align*}\n",
    "\n",
    "Otra forma de decir esto es:\n",
    "\n",
    "$$\\frac{\\text{Cambio relativo en Y}}{\\text{Cambio absoluto en X}} = \\beta_1$$\n",
    "\n",
    "Note que $100*\\frac{\\Delta Y}{Y}$ es un cambio porcentual! Entonces:\n",
    "\n",
    "$$\\frac{\\Delta Y_i/Y_i}{\\Delta X_i} *100 = \\beta_1 *100$$\n",
    "\n",
    "**Interpretación**: Ante un incremento de una unidad en X, Y cambia en $100*\\beta_1\\%$ (**semielasticidad**)"
   ]
  },
  {
   "cell_type": "markdown",
   "id": "96e0848a",
   "metadata": {
    "slideshow": {
     "slide_type": "subslide"
    }
   },
   "source": [
    "## Lin-Log\n",
    "\n",
    "Los modelos Lin-Log son de la forma:\n",
    "\n",
    "\\begin{align*}\n",
    "Y_i &= \\beta_0 + \\beta_1 \\ln(X_i) + \\varepsilon_i \\\\\n",
    "\\frac{d Y_i}{d X_i} &= \\beta_1 \\frac{1}{X_i}\\\\\n",
    "\\frac{d Y_i}{d X_i/X_i} &= \\beta_1 \\\\\t\t \n",
    "\\frac{\\Delta Y_i}{\\Delta X_i/X_i} &= \\beta_1 \\\\\n",
    "\\end{align*}\n",
    "\n",
    "Otra forma de decir esto es: \n",
    "\n",
    "$$\\frac{\\text{Cambio absoluto en y}}{\\text{Cambio relativo en x}} = \\beta_1$$\n",
    "\n",
    "Noten que $100*\\frac{\\Delta X}{X}$ es un cambio porcentual! Entonces:\n",
    "\n",
    "$$\\frac{\\Delta y_i}{\\Delta x_i/x_i} \\frac{1}{100} = \\beta_1 \\frac{1}{100}$$\n",
    "\n",
    "**Interpretación** : Ante un incremento del 1\\% en X, Y cambia en $\\frac{1}{100}*\\beta_1$ unidades"
   ]
  },
  {
   "cell_type": "markdown",
   "id": "b1b31643",
   "metadata": {
    "slideshow": {
     "slide_type": "subslide"
    }
   },
   "source": [
    "## Log-Log\n",
    "\n",
    "El modelo Log-Log se presenta de esta forma:\n",
    "\n",
    "\\begin{align*}\n",
    "\\ln(y_i) &= \\beta_0 + \\beta_1 \\ln(x_i) + \\epsilon_i \\\\\n",
    "\\frac{d y_i}{d x_i} \\frac{1}{y_i} &= \\beta_1 \\frac{1}{x_i} \\\\\n",
    "\\frac{d y_i}{d x_i} \\frac{x_i}{y_i} &= \\beta_1  \\text{ ¿Qué es esto?} \t\n",
    "\\end{align*}\n",
    "\n",
    "**Interpretación**: Ante un aumento en 1\\% en X, Y cambia en $\\beta_1\\%$"
   ]
  },
  {
   "cell_type": "markdown",
   "id": "3e163cec-555c-4bc1-8fc6-a328727a5568",
   "metadata": {
    "slideshow": {
     "slide_type": "slide"
    }
   },
   "source": [
    "## Estimación por Máxima Verosimilitud\n",
    "\n",
    "Para estimar los coeficientes $\\beta_k$ también podemos usar el método de máxima verosimilitud.\n",
    "\n",
    "Recuerde que asumimos que $\\varepsilon_i | X \\sim N(0, \\sigma^2)$. Est que implica que \n",
    "\n",
    "$$Y_i | X \\sim N(\\mu_i, \\sigma^2)$$\n",
    "\n",
    "Donde $\\mu_i = \\beta_0 + \\beta_1 X_i$. Ya que asumimos que $\\varepsilon_i$ y $\\varepsilon_j$ son independientes para todo $i$ y $j$, la función de verosimilitud está dada por \n",
    "\n",
    "$$\\mathcal{L}(\\beta_0, \\beta_1, \\sigma^2) = f(Y_1, Y_2,..., Y_n) = \\prod_{i = 1}^n \\frac{1}{\\sqrt{2\\pi\\sigma^2}} \\exp \\left\\{ - \\frac{1}{2\\sigma^2} (Y_i - \\beta_0 - \\beta_1 X_i)^2 \\right\\}$$"
   ]
  },
  {
   "cell_type": "markdown",
   "id": "811f666d-924b-4fd5-a787-d3db5448a6a0",
   "metadata": {
    "slideshow": {
     "slide_type": "subslide"
    }
   },
   "source": [
    "Si tomamos el logaritmo de la función de verosimilitud obtenemos:\n",
    "\n",
    "$$\\mathcal{l}(\\beta_0, \\beta_1, \\sigma^2) =  - \\frac{n}{2} \\ln(2\\pi\\sigma^2) - \\frac{1}{2\\sigma^2} \\sum_{i = 1}^n (Y_i - \\beta_0 - \\beta_1 X_i)^2$$\n",
    "\n",
    "Maximizando $\\mathcal{l}(\\beta_0, \\beta_1, \\sigma^2)$ respecto a $\\beta_0$ y $\\beta_1$, encontramos que\n",
    "\n",
    "$$\\hat\\beta_0 = \\overline Y - \\hat\\beta_1 \\overline X$$\n",
    "\n",
    "$$\\hat\\beta_1 = \\frac{\\sum_i (X_i - \\overline X)(Y_i - \\overline Y)}{\\sum_i (X_i - \\overline X)^2} = \\frac{\\mathbb{\\hat Cov}(X, Y)}{\\mathbb{\\hat V}(X)}$$ \n",
    "\n",
    "Observe que estos son precisamente los estimadores que obtuvimos a través de MCO, y ya conocemos las propiedades de estos estimadores."
   ]
  }
 ],
 "metadata": {
  "celltoolbar": "Slideshow",
  "kernelspec": {
   "display_name": "R",
   "language": "R",
   "name": "ir"
  },
  "language_info": {
   "codemirror_mode": "r",
   "file_extension": ".r",
   "mimetype": "text/x-r-source",
   "name": "R",
   "pygments_lexer": "r",
   "version": "4.5.1"
  }
 },
 "nbformat": 4,
 "nbformat_minor": 5
}
