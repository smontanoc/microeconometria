{
 "cells": [
  {
   "cell_type": "markdown",
   "id": "2b4077af",
   "metadata": {
    "slideshow": {
     "slide_type": "slide"
    }
   },
   "source": [
    "# Modelo de Regresión Lineal\n",
    "\n",
    "La regresion es un método que nos permite estudiar la relación entre una variable de resultado $Y$ y una covariable o predictor $X$.\n",
    "\n",
    "La función de regresión, $r(X)$, resume la relación entre $X$ y $Y$: \n",
    "\n",
    "$$\n",
    "r(x) = \\mathbb{E}(Y | X = x) = \\int y f(y|x) dy.\n",
    "$$ \n",
    "\n",
    "Nuestro objetivo es estimar $r(x)$ usando datos de la forma: \n",
    "\n",
    "$$\n",
    "(Y_1, X_1), ..., (Y_n, X_n) \\sim F_{X, Y}.\n",
    "$$\n",
    "\n",
    "Definamos el error $\\varepsilon = Y - r(x)$. De esta manera, podemos escribir: \n",
    "\n",
    "$$\n",
    "Y = r(x) + \\varepsilon\n",
    "$$"
   ]
  },
  {
   "cell_type": "markdown",
   "id": "ee2c567e",
   "metadata": {
    "slideshow": {
     "slide_type": "slide"
    }
   },
   "source": [
    "## Regresión Simple o Univariada\n",
    "\n",
    "En su versión más simple, $X$ es unidimensional y asumimos que $r(x)$ es lineal. Así, \n",
    "\n",
    "$$r(x) = \\beta_0 + \\beta_1 x.$$\n",
    "\n",
    "El modelo regresión lineal simple se define como: \n",
    "\n",
    "$$\n",
    "Y_i = r(x) + \\varepsilon_i = \\beta_0 + \\beta_1 X_i + \\varepsilon_i\n",
    "$$ \n",
    "\n",
    "Observe que los parámetros desconocidos en este modelo son el intercepto $\\beta_0$ y la pendiente $\\beta_1$.\n",
    "\n",
    "<div class=\"alert alert-block alert-warning\"> \n",
    "<b>EJEMPLO:</b>\n",
    "<p>\n",
    "\n",
    "La función de demanda inversa establece la relación entre precios $P_i$ y cantidades $Q_i$. Esta relación la podemos estimar a partir de una modelo de la forma: \n",
    "    \n",
    "$$P_i = \\alpha + \\beta \\cdot Q_i + u_i$$\n",
    "\n",
    "Quisieramos probar la siguiente hipótesis:\n",
    "    \n",
    "$$H_0: \\beta < 0$$\n",
    "    \n",
    "$$H_1: \\beta \\geq 0$$\n",
    "\n",
    "</div>"
   ]
  },
  {
   "cell_type": "markdown",
   "id": "ee598d55-45f0-48d6-a97d-76d45003fa36",
   "metadata": {
    "slideshow": {
     "slide_type": "slide"
    }
   },
   "source": [
    "## Supuestos del Modelo\n",
    "\n",
    "Para estimar el modelo de regresión suponemos:\n",
    "\n",
    "- Linealidad en los parámetros\n",
    "- No multicolinealidad o Rango Completo\n",
    "- Homoscedasticidad\n",
    "- No autocorrelación\n",
    "- Distribución Normal de los Errores\n",
    "- Independencia Condicional o Exogenidad\n",
    "\n",
    "Algunos de estos supuestos hace que el modelo sea **estimable**, otros nos permiten hacer **inferencia** sobre los parámetros"
   ]
  },
  {
   "cell_type": "markdown",
   "id": "34764dd6-6c98-487c-a915-9d72c6d625ca",
   "metadata": {
    "slideshow": {
     "slide_type": "subslide"
    }
   },
   "source": [
    "## Linealidad en Parámetros\n",
    "\n",
    "Este supuesto es necesario para que el modelo sea **estimable**.\n",
    "\n",
    "Se refiere a la forma funcional de la función de regresión $r(x) = \\beta_0 + \\beta_1 X_i$.\n",
    "\n",
    "Note que nos interesa estimar $\\beta_k$, no $\\beta_k^2$, o $\\ln(\\beta_k)$, o cualquier otra función $g(\\beta_k)$.\n",
    "\n",
    "Finalmente, el modelo debe ser lineal en sus variables originales o después de alguna transformación.\n",
    "\n",
    "<div class=\"alert alert-block alert-warning\"> \n",
    "<b>EJEMPLO:</b>\n",
    "<p>\n",
    "\n",
    "Suponga queremos estimar el parámetro $\\beta$ de la función $y = A X^\\beta e^\\varepsilon$. ¿Podemos usar el modelo de regresión lineal?\n",
    "\n",
    "Sí, note que podemos utilizar la siguiente transformación:\n",
    "\n",
    "$$\\ln y_i = \\alpha + \\beta \\cdot X_i + \\varepsilon_i, \\text{ con } \\alpha = \\ln A$$\n",
    "\n",
    "¿Qué pasa si $y = A X^\\beta e^\\varepsilon + u$ ?\n",
    "</div>"
   ]
  },
  {
   "cell_type": "markdown",
   "id": "090267e7-9f40-4e2d-8927-c1d4ce78edff",
   "metadata": {
    "slideshow": {
     "slide_type": "subslide"
    }
   },
   "source": [
    "## No Multicolinealidad o Rango Completo\n",
    "\n",
    "Este supuesto es necesario para que el modelo sea **estimable**.\n",
    "\n",
    "El supuesto hace referencia a la información que aportan diferentes covariables. En primer lugar, este supuesto señala que:\n",
    "\n",
    "$$|\\rho(X_{1i}, X_{2i})| \\neq 1$$\n",
    "\n",
    "Adicionalmente, es necesario que el número de observaciones en los datos $n$ sea mayor al número de parámetros $k$ que queremos estimar.\n",
    "\n",
    "Este supuesto será más relevante cuando estudiemos el modelo de regresión múltiple."
   ]
  },
  {
   "cell_type": "markdown",
   "id": "9662a0f5-46b4-4dc6-81a5-b3849acea2e5",
   "metadata": {
    "slideshow": {
     "slide_type": "subslide"
    }
   },
   "source": [
    "## Homoscedasticidad\n",
    "\n",
    "Este supuesto es sobre la varianza y nos facilita realizar pruebas de hipótesis\n",
    "\n",
    "El supuesto establece que:\n",
    "\n",
    "$$V(\\varepsilon_i | X_i) = \\sigma^2$$\n",
    "\n",
    "La violación de este supuesto se conoce como **heteroscedasticidad**. En un modelo **heteroscedástico**  $$V(\\varepsilon_i | X_i) = \\sigma_i^2$$.\n",
    "\n",
    "## No Autocorrelación\n",
    "\n",
    "Este supuesto establece que:\n",
    "\n",
    "$$Cov(\\varepsilon_i, \\varepsilon_j | X) = 0 \\text{ para todo } i \\neq j$$\n",
    "\n",
    "La violación de este supuesto se conoce como **autocorrelación**."
   ]
  },
  {
   "cell_type": "markdown",
   "id": "ce40c906-e2d7-4097-ba54-592c02a867aa",
   "metadata": {
    "slideshow": {
     "slide_type": "subslide"
    }
   },
   "source": [
    "## Distribución Normal de los Errores\n",
    "\n",
    "Este supuesto se hace sobre los errores entonces también afecta las pruebas de hipótesis.\n",
    "\n",
    "El supuesto señala que:\n",
    "\n",
    "$$\\varepsilon_i | X_i \\sim N(0, \\sigma^2)$$\n",
    "\n",
    "Observe que por el teorema del límite central este supuesto no es tan fuerte, y si muy útil para determinar ciertos estadísticos."
   ]
  },
  {
   "cell_type": "markdown",
   "id": "3e2a1ab9-9990-4ca3-94ef-eff2c9f7d932",
   "metadata": {
    "slideshow": {
     "slide_type": "subslide"
    }
   },
   "source": [
    "## Independencia Condicional o Exogenidad\n",
    "\n",
    "Este supuesto es necesario para tener consistencia e insesgamiento en los estimadores de $\\beta_k$.\n",
    "\n",
    "El supuesto dice que:\n",
    "\n",
    "$$E(\\varepsilon_i | X_i) = 0$$\n",
    "\n",
    "Es decir, $X_i$ es una variable exogena. Observe que cuando este supuesto se cumple también podemos decir que $\\varepsilon_i$ y $X_i$ son independientes.\n",
    "\n",
    "Este supuesto garantiza que los efectos encontrados se puedan se interpretados como estimaciones **causales**."
   ]
  },
  {
   "cell_type": "markdown",
   "id": "5fd39140",
   "metadata": {
    "slideshow": {
     "slide_type": "slide"
    }
   },
   "source": [
    "## Mínimos Cuadrados Ordinarios (MCO)\n",
    "\n",
    "Para estimar $\\beta_0$ y $\\beta_1$ podemos usar el método MCO, de manera formal: \n",
    "\n",
    "$$\\{\\hat\\beta_0, \\hat\\beta_1\\} = \\operatorname*{arg\\,min} \\mathcal{L}(\\beta_0, \\beta_1)$$\n",
    "\n",
    "donde $\\mathcal{L}(\\beta_0, \\beta_1) = \\sum_i {\\varepsilon_i}^2 = \\sum_i ({Y_i} - \\beta_0 - \\beta_1 X_i)^2$\n",
    "\n",
    "Las condiciones de primer orden (CPO) de este problema estan dadas por: \n",
    "\n",
    "$$\\frac{\\partial\\mathcal{L}}{\\partial\\beta_0} =  \\sum_i (-2) \\cdot ({Y_i} - \\beta_0 - \\beta_1 X_i) = 0$$\n",
    "\n",
    "$$\\frac{\\partial\\mathcal{L}}{\\partial\\beta_1} =  \\sum_i (-2 X_i) \\cdot ({Y_i} - \\beta_0 - \\beta_1 X_i) = 0$$\n",
    "\n",
    "Estas ecuaciones se conocen como **ecuaciones normales**."
   ]
  },
  {
   "cell_type": "markdown",
   "id": "e8001c4f",
   "metadata": {
    "slideshow": {
     "slide_type": "subslide"
    }
   },
   "source": [
    "A partir de estas condiciones obtenemos los siguientes **estimadores**:\n",
    "\n",
    "$$\\hat\\beta_0 = \\overline Y - \\hat\\beta_1 \\overline X$$\n",
    "\n",
    "$$\\hat\\beta_1 = \\frac{\\sum_i (X_i - \\overline X)(Y_i - \\overline Y)}{\\sum_i (X_i - \\overline X)^2} = \\frac{\\mathbb{\\hat Cov}(X, Y)}{\\mathbb{\\hat V}(X)}$$ \n",
    "\n",
    "De esta manera, la **linea ajustada** está dada por $\\hat r(x) = \\hat\\beta_0 + \\hat\\beta_1 x$, y los **valores predichos** se definen como $\\hat Y_i = \\hat r(X_i)$\n",
    "\n",
    "Definimos además el **residual** como $$e_i = Y_i - \\hat Y_i = Y_i - \\left(\\hat\\beta_0 + \\hat\\beta_1 X_i \\right)$$"
   ]
  },
  {
   "cell_type": "markdown",
   "id": "39a920ea-d0b7-469e-a668-4e3ed55864c4",
   "metadata": {
    "slideshow": {
     "slide_type": "slide"
    }
   },
   "source": [
    "## Aplicacion : Relación entre Aprendizaje y Recursos Económicos\n",
    "\n",
    "Vamos a usar datos de las pruebas PISA, que toman estudiantes de 15 años de diversos paises, para estudiar la relación entre aprendizaje y recursos económicos"
   ]
  },
  {
   "cell_type": "code",
   "execution_count": 2,
   "id": "904b7c4c-b305-4dd5-9eed-7b5c64dad1a5",
   "metadata": {
    "slideshow": {
     "slide_type": "subslide"
    }
   },
   "outputs": [
    {
     "data": {
      "image/png": "[encoded data removed]",
      "text/plain": [
       "plot without title"
      ]
     },
     "metadata": {
      "image/png": {
       "height": 420,
       "width": 420
      }
     },
     "output_type": "display_data"
    }
   ],
   "source": [
    "datos <- data.frame(\n",
    "  cnt = c(\"ALB\",\"ARE\",\"ARG\",\"AUS\",\"AUT\",\"BEL\",\"BGR\",\"BRA\",\"BRN\",\"CAN\",\"CHE\",\"CHL\",\"COL\",\"CRI\",\"CZE\",\"DEU\",\"DNK\",\"DOM\",\"ESP\",\"EST\",\"FIN\",\"FRA\",\"GBR\",\"GEO\",\"GRC\",\"GTM\",\"HKG\",\"HRV\",\"HUN\",\"IDN\",\"IRL\",\"ISL\",\"ISR\",\"ITA\",\"JAM\",\"JOR\",\"JPN\",\"KAZ\",\"KHM\",\"KOR\",\"KSV\",\"LTU\",\"LVA\",\"MAC\",\"MAR\",\"MDA\",\"MEX\",\"MKD\",\"MLT\",\"MNE\",\"MNG\",\"MYS\",\"NLD\",\"NOR\",\"NZL\",\"PAN\",\"PER\",\"PHL\",\"POL\",\"PRT\",\"PRY\",\"PSE\",\"QAT\",\"QAZ\",\"QUR\",\"ROU\",\"SAU\",\"SGP\",\"SLV\",\"SRB\",\"SVK\",\"SVN\",\"SWE\",\"TAP\",\"THA\",\"TUR\",\"URY\",\"USA\",\"UZB\",\"VNM\"),\n",
    "  math = c(368.25405,433.82986,388.54898,487.16594,490.87702,494.01554,418.33838,381.13655,440.66541,484.52203,506.45947,428.55602,390.80082,384.34594,499.37027,477.74352,478.7986,339.82878,481.86548,512.71336,475.32395,468.24401,481.82223,390.46145,433.54079,345.55713,546.03005,462.98476,479.72656,379.03128,492.17959,459.27331,457.12382,474.03372,371.40991,360.30719,534.92948,446.01273,327.40929,531.09303,352.41048,471.54378,482.58027,552.05427,363.36233,415.52394,395.40581,390.49863,468.9976,406.00521,423.92532,409.49151,491.04093,468.47831,478.87437,353.49833,394.15257,354.16683,494.4546,475.57748,340.78028,364.66173,411.98931,398.33636,444.34014,435.55027,389.20505,573.98391,345.12158,439.81693,468.62039,471.70524,482.4206,533.87613,414.58713,451.8851,409.28728,462.80969,363.90947,468.83368),\n",
    "  read = c(358.8281,419.71994,412.83373,498.79545,484.0255,481.7429,405.41276,413.32812,427.66587,490.52696,481.54308,465.12644,419.17929,415.22553,500.25072,483.0404,477.21655,353.15524,480.86845,513.84343,477.53438,467.01198,490.44853,375.03115,442.52392,375.55029,504.42272,475.74213,479.98543,372.90122,516.88935,436.02972,473.09826,480.65205,400.32092,341.46512,515.07793,404.15901,321.2015,517.97604,338.17407,466.72213,474.2778,510.36214,337.91559,412.49955,415.23693,360.23238,448.79677,405.80333,377.88235,389.52229,456.80425,476.63287,500.62093,387.40349,411.3118,345.80676,495.10716,480.06531,376.70185,348.16283,414.6251,366.71778,431.63915,436.35943,383.16603,542.47853,367.1504,440.34278,450.99055,455.30676,487.52261,504.32483,396.81118,454.84742,430.33206,501.33838,335.69292,461.27979),\n",
    "  scie = c(376.45612,434.89017,416.65516,507.91081,494.86606,494.80982,421.72777,405.9808,444.34865,500.98817,500.80958,461.86337,420.46238,410.20256,510.04275,495.53081,481.59372,361.725,491.143,528.51191,498.51606,481.40229,492.73984,385.03211,445.14657,374.28158,524.42376,482.90977,492.44187,395.31191,504.3107,447.24463,464.2001,480.90591,394.72014,373.75317,546.25504,440.96584,341.14726,531.3388,353.75366,479.50271,493.00024,543.14931,364.28557,418.00956,410.76032,381.67947,468.78635,404.08089,411.62124,417.15835,486.63188,478.18198,503.74646,383.48177,410.52702,355.28466,504.86972,487.69184,371.42047,367.63747,428.26692,381.6494,453.79679,436.78672,390.96302,560.97909,374.21203,447.30452,467.28861,486.88349,494.4219,526.40753,429.0165,475.16645,435.88107,497.41058,355.05556,472.23249),\n",
    "  econ_index = c(-.74391004,.32525118,-.67148081,.39335586,.09302247,.1154232,-.27047491,-.97523877,-.27116078,.3339245,.1809795,-.24284266,-.96515588,NA,-.01307006,-.12423293,.34054443,-.71082132,.02354851,.18467558,.19358048,-.05861012,.11972009,-.44695238,-.13303286,-1.4975343,-.45290783,-.1523256,.06026681,-1.4481847,.34413547,.38376268,.25381603,-.09725531,-.57839371,-.80391485,-.02354713,-.26977891,-2.0669077,.23721704,-.3564011,.03484754,-.00981672,-.44904569,-1.8117468,-.50431186,-.92555928,-.26902116,.04917327,-.1922437,-.73720841,-.66233746,.23876144,.52544167,.22389294,-.96079427,-1.1207972,-1.3333803,-.06879525,-.2048969,-1.2130009,-.91617362,.11453604,-.46005621,-.29700884,-.28406969,-.27803347,.29037254,-1.3106626,-.20093189,-.25804407,.15198116,.33239471,-.28002015,-.96258429,-1.2274957,-.81679644,.04198107,-.68010732,-1.3159208)\n",
    ")\n",
    "datos <- na.omit(datos)\n",
    "plot(datos$econ_index, datos$read, xlab  = \"Economic Index\", ylab = \"Reading Test Scores - PISA 2022\")"
   ]
  },
  {
   "cell_type": "code",
   "execution_count": 3,
   "id": "a3b1419f-7759-4dc2-8581-38c74b306688",
   "metadata": {
    "slideshow": {
     "slide_type": "subslide"
    }
   },
   "outputs": [
    {
     "data": {
      "text/plain": [
       "\n",
       "Call:\n",
       "lm(formula = read ~ econ_index, data = datos)\n",
       "\n",
       "Residuals:\n",
       "    Min      1Q  Median      3Q     Max \n",
       "-98.150 -20.616   3.319  24.557  91.063 \n",
       "\n",
       "Coefficients:\n",
       "            Estimate Std. Error t value Pr(>|t|)    \n",
       "(Intercept)  460.878      5.218  88.331  < 2e-16 ***\n",
       "econ_index    68.896      7.821   8.809  2.8e-13 ***\n",
       "---\n",
       "Signif. codes:  0 '***' 0.001 '**' 0.01 '*' 0.05 '.' 0.1 ' ' 1\n",
       "\n",
       "Residual standard error: 39.54 on 77 degrees of freedom\n",
       "Multiple R-squared:  0.5019,\tAdjusted R-squared:  0.4955 \n",
       "F-statistic:  77.6 on 1 and 77 DF,  p-value: 2.797e-13\n"
      ]
     },
     "metadata": {},
     "output_type": "display_data"
    }
   ],
   "source": [
    "model <- lm(read ~ econ_index, data = datos)\n",
    "summary(model)"
   ]
  },
  {
   "cell_type": "code",
   "execution_count": 4,
   "id": "3b928462-5b16-4283-b57f-6d006e85190f",
   "metadata": {
    "slideshow": {
     "slide_type": "subslide"
    }
   },
   "outputs": [
    {
     "data": {
      "text/html": [
       "<table class=\"dataframe\">\n",
       "<caption>A data.frame: 5 × 6</caption>\n",
       "<thead>\n",
       "\t<tr><th></th><th scope=col>yhat</th><th scope=col>lwr</th><th scope=col>upr</th><th scope=col>se</th><th scope=col>df</th><th scope=col>residuals</th></tr>\n",
       "\t<tr><th></th><th scope=col>&lt;dbl&gt;</th><th scope=col>&lt;dbl&gt;</th><th scope=col>&lt;dbl&gt;</th><th scope=col>&lt;dbl&gt;</th><th scope=col>&lt;int&gt;</th><th scope=col>&lt;dbl&gt;</th></tr>\n",
       "</thead>\n",
       "<tbody>\n",
       "\t<tr><th scope=row>1</th><td>409.6258</td><td>395.3168</td><td>423.9347</td><td>5.417594</td><td>77</td><td>39.54123</td></tr>\n",
       "\t<tr><th scope=row>2</th><td>483.2867</td><td>465.0712</td><td>501.5022</td><td>6.896686</td><td>77</td><td>39.54123</td></tr>\n",
       "\t<tr><th scope=row>3</th><td>414.6158</td><td>401.1048</td><td>428.1269</td><td>5.115512</td><td>77</td><td>39.54123</td></tr>\n",
       "\t<tr><th scope=row>4</th><td>487.9789</td><td>468.6670</td><td>507.2907</td><td>7.311772</td><td>77</td><td>39.54123</td></tr>\n",
       "\t<tr><th scope=row>5</th><td>467.2871</td><td>452.4118</td><td>482.1624</td><td>5.632037</td><td>77</td><td>39.54123</td></tr>\n",
       "</tbody>\n",
       "</table>\n"
      ],
      "text/latex": [
       "A data.frame: 5 × 6\n",
       "\\begin{tabular}{r|llllll}\n",
       "  & yhat & lwr & upr & se & df & residuals\\\\\n",
       "  & <dbl> & <dbl> & <dbl> & <dbl> & <int> & <dbl>\\\\\n",
       "\\hline\n",
       "\t1 & 409.6258 & 395.3168 & 423.9347 & 5.417594 & 77 & 39.54123\\\\\n",
       "\t2 & 483.2867 & 465.0712 & 501.5022 & 6.896686 & 77 & 39.54123\\\\\n",
       "\t3 & 414.6158 & 401.1048 & 428.1269 & 5.115512 & 77 & 39.54123\\\\\n",
       "\t4 & 487.9789 & 468.6670 & 507.2907 & 7.311772 & 77 & 39.54123\\\\\n",
       "\t5 & 467.2871 & 452.4118 & 482.1624 & 5.632037 & 77 & 39.54123\\\\\n",
       "\\end{tabular}\n"
      ],
      "text/markdown": [
       "\n",
       "A data.frame: 5 × 6\n",
       "\n",
       "| <!--/--> | yhat &lt;dbl&gt; | lwr &lt;dbl&gt; | upr &lt;dbl&gt; | se &lt;dbl&gt; | df &lt;int&gt; | residuals &lt;dbl&gt; |\n",
       "|---|---|---|---|---|---|---|\n",
       "| 1 | 409.6258 | 395.3168 | 423.9347 | 5.417594 | 77 | 39.54123 |\n",
       "| 2 | 483.2867 | 465.0712 | 501.5022 | 6.896686 | 77 | 39.54123 |\n",
       "| 3 | 414.6158 | 401.1048 | 428.1269 | 5.115512 | 77 | 39.54123 |\n",
       "| 4 | 487.9789 | 468.6670 | 507.2907 | 7.311772 | 77 | 39.54123 |\n",
       "| 5 | 467.2871 | 452.4118 | 482.1624 | 5.632037 | 77 | 39.54123 |\n",
       "\n"
      ],
      "text/plain": [
       "  yhat     lwr      upr      se       df residuals\n",
       "1 409.6258 395.3168 423.9347 5.417594 77 39.54123 \n",
       "2 483.2867 465.0712 501.5022 6.896686 77 39.54123 \n",
       "3 414.6158 401.1048 428.1269 5.115512 77 39.54123 \n",
       "4 487.9789 468.6670 507.2907 7.311772 77 39.54123 \n",
       "5 467.2871 452.4118 482.1624 5.632037 77 39.54123 "
      ]
     },
     "metadata": {},
     "output_type": "display_data"
    }
   ],
   "source": [
    "#Prediccion\n",
    "model_fit <- as.data.frame(predict(model, se.fit = TRUE, , interval = \"confidence\",  data = datos, level = 0.99))\n",
    "names(model_fit) <- c('yhat', 'lwr', 'upr', 'se', 'df', 'residuals')\n",
    "head(model_fit, 5)"
   ]
  },
  {
   "cell_type": "code",
   "execution_count": 5,
   "id": "c8fd7b62",
   "metadata": {
    "slideshow": {
     "slide_type": "subslide"
    }
   },
   "outputs": [
    {
     "data": {
      "image/png": "[encoded data removed]",
      "text/plain": [
       "plot without title"
      ]
     },
     "metadata": {
      "image/png": {
       "height": 420,
       "width": 420
      }
     },
     "output_type": "display_data"
    }
   ],
   "source": [
    "plot(datos$econ_index, datos$read, xlab  = \"Economic Index\", ylab = \"Reading Test Scores - PISA 2022\")\n",
    "lines(datos$econ_index, model_fit$yhat, col = \"blue\", lwd=2, lty = 1)"
   ]
  }
 ],
 "metadata": {
  "celltoolbar": "Slideshow",
  "kernelspec": {
   "display_name": "R",
   "language": "R",
   "name": "ir"
  },
  "language_info": {
   "codemirror_mode": "r",
   "file_extension": ".r",
   "mimetype": "text/x-r-source",
   "name": "R",
   "pygments_lexer": "r",
   "version": "4.5.1"
  }
 },
 "nbformat": 4,
 "nbformat_minor": 5
}
