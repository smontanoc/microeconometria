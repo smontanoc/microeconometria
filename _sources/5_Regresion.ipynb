{
 "cells": [
  {
   "cell_type": "markdown",
   "id": "20f1999f-c95d-460d-ac6e-2509b736302e",
   "metadata": {
    "slideshow": {
     "slide_type": "slide"
    }
   },
   "source": [
    "## Ejemplo Regresión\n",
    "\n",
    "¿**Qué factores** afectan el **salario** ($w_i$) de una persona?\n",
    "\n",
    "$$w_i = g(?)$$"
   ]
  },
  {
   "cell_type": "markdown",
   "id": "8657fd03-b618-4ed8-97ae-caa69de577ce",
   "metadata": {
    "slideshow": {
     "slide_type": "slide"
    }
   },
   "source": [
    "Inicialmente estudiaremos la relación entre el **salario** y los **años de educación** usando una base datos que construiremos juntos.\n",
    "\n",
    "El modelo de regresión que queremos estimar es:\n",
    "\n",
    "$$w_i = \\beta_0 + \\beta_1 s_i + \\varepsilon_i$$\n",
    "\n",
    "Note que estamos modelando $g(\\cdot)$ como una función lineal que tiene dos componentes:\n",
    "\n",
    "$$g(\\cdot) = \\underbrace{\\beta_0 + \\beta_1 s_i}_{\\text{parte observada}} + \\underbrace{\\varepsilon_i}_{\\text{no observada}}$$\n",
    "\n",
    "**Estimemos este modelo juntos (a mano)**. Posteriormente verificaremos los resultados y extenderemos el modelo usando R."
   ]
  },
  {
   "cell_type": "markdown",
   "id": "47b1c46e-74e8-448d-85ac-7ff5a726b342",
   "metadata": {
    "slideshow": {
     "slide_type": "slide"
    }
   },
   "source": [
    "## Resultados de Regresión Simple\n",
    "\n",
    "Para estimar nuestros coeficientes $\\beta_0$ y $\\beta_1$ usaremos las siguientes formulas (**estimadores**):\n",
    "\n",
    "$$\\hat\\beta_0 = \\bar w - \\hat\\beta_1 \\bar s$$\n",
    "$$\\hat\\beta_1 = \\frac{\\widehat{Cov(w, s)}}{\\widehat{Var(s)}} = \\frac{\\sum_{i = 1}^n (w_i - \\bar w) (s_i - \\bar s)}{\\sum_{i = 1}^n (s_i - \\bar s)^2}$$\n",
    "\n",
    "Nuestro objetivo es concluir (usando datos) si la educación afecta (o no) el salario de un individuo. Nuestra hipótesis es:\n",
    "\n",
    "$$H_0 : \\beta_1 = 0$$\n",
    "$$H_1 : \\beta_1 \\neq 0$$\n",
    "\n",
    "Si $H_0$ es cierta, concluimos que la educación no afecta los salarios. Para evaluar esta hipótesis usamos el **estadístico**:\n",
    "\n",
    "$$T = \\frac{\\hat\\beta_1}{ee(\\hat\\beta_1)} \\sim t_{n-k} \\hspace{5pt}\\text{ , donde } \\hspace{5pt} ee(\\hat\\beta_1) = \\sqrt{ \\frac{\\sum_i e_i^2/n-k}{\\sum_i (s_i - \\overline s)^2}}$$\n",
    "\n",
    "Con $k = 2$ (dos parámetros), $n = 6$ (seis observaciones) y $e_i = w_i - \\hat w_i = w_i - (\\hat\\beta_0 + \\hat\\beta_1 s_i)$ \n"
   ]
  }
 ],
 "metadata": {
  "celltoolbar": "Slideshow",
  "kernelspec": {
   "display_name": "R",
   "language": "R",
   "name": "ir"
  },
  "language_info": {
   "codemirror_mode": "r",
   "file_extension": ".r",
   "mimetype": "text/x-r-source",
   "name": "R",
   "pygments_lexer": "r",
   "version": "4.3.1"
  }
 },
 "nbformat": 4,
 "nbformat_minor": 5
}
